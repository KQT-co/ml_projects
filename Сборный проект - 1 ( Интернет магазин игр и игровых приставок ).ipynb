{
 "cells": [
  {
   "cell_type": "markdown",
   "metadata": {},
   "source": [
    "# Интернет-магазин «Стримчик»"
   ]
  },
  {
   "cell_type": "markdown",
   "metadata": {},
   "source": [
    "## Вводная часть\n",
    "\n",
    "<a id='1-topoc'></a>\n",
    "\n",
    "### Описание проекта\n",
    "\n",
    "В проекте проекте изучаются данные о продажах игр, оценки пользователей и экспертов, жанры и платформы (например, Xbox или PlayStation). Цль проекта заключается в выявлении определяющих успешность игры закономерностей. Это позволит сделать ставку на потенциально популярный продукт и спланировать рекламные кампании.\n",
    "\n",
    "Изучаются данные до 2016 года. В наборе данных попадается аббревиатура ESRB (Entertainment Software Rating Board) — это ассоциация, определяющая возрастной рейтинг компьютерных игр. ESRB оценивает игровой контент и присваивает ему подходящую возрастную категорию, например, «Для взрослых», «Для детей младшего возраста» или «Для подростков».\n",
    "\n",
    "____ \n",
    "\n",
    "### Цель исследования\n",
    "\n",
    "Провести анализ данных при помощи которых интернет магазин сможет правильно распорядиться бюджетом на закупку игр, выявить целевую аудиторию по регионам и получить прогноз на следующий период.\n",
    "\n",
    "____ \n",
    "\n",
    "### Задачи исследования\n",
    "\n",
    "Для достижения поставленных целей необходимо произвести прдеобработку данных, провести исследовательский анализ и проверить некоторые гепотезы.\n",
    "\n",
    "____ \n",
    "\n",
    "### Исходные данные\n",
    "\n",
    "Для проведения исследования был получен датасет содержащий следующую информацию:\n",
    "\n",
    "Name — название игры\n",
    "\n",
    "Platform — платформа\n",
    "\n",
    "Year_of_Release — год выпуска\n",
    "\n",
    "Genre — жанр игры\n",
    "\n",
    "NA_sales — продажи в Северной Америке (миллионы проданных копий)\n",
    "\n",
    "EU_sales — продажи в Европе (миллионы проданных копий)\n",
    "\n",
    "JP_sales — продажи в Японии (миллионы проданных копий)\n",
    "\n",
    "Other_sales — продажи в других странах (миллионы проданных копий)\n",
    "\n",
    "Critic_Score — оценка критиков (максимум 100)\n",
    "\n",
    "User_Score — оценка пользователей (максимум 10)\n",
    "\n",
    "Rating — рейтинг от организации ESRB (возрастная категория)\n",
    "\n",
    "____ \n",
    "\n",
    "### Ход исследования\n",
    "\n",
    "1) [Вводная часть](#1-topoc)\n",
    "\n",
    "2) [Загрузка данных, предварительное ознакомление](#2-topoc)\n",
    "\n",
    "3) [Предобработка данных](#3-topoc)\n",
    "\n",
    "4) [Исследовательский анализ](#4-topoc)\n",
    "\n",
    "5) [Составление портрета пользователя каждого региона](#5-topoc)\n",
    "\n",
    "6) [Проверка гипотез](#6-topoc)\n",
    "\n",
    "7) [Вывод](#7-topoc)"
   ]
  },
  {
   "cell_type": "markdown",
   "metadata": {},
   "source": [
    "## Загрузка данных\n",
    "<a id='2-topoc'></a>"
   ]
  },
  {
   "cell_type": "code",
   "execution_count": 43,
   "metadata": {},
   "outputs": [],
   "source": [
    "import seaborn as sb\n",
    "import pandas as pd\n",
    "import matplotlib as mp\n",
    "import matplotlib.pyplot as plt\n",
    "from scipy import stats as st\n",
    "import numpy as np"
   ]
  },
  {
   "cell_type": "code",
   "execution_count": 44,
   "metadata": {},
   "outputs": [],
   "source": [
    "games = pd.read_csv('/datasets/games.csv')"
   ]
  },
  {
   "cell_type": "code",
   "execution_count": 45,
   "metadata": {
    "scrolled": true
   },
   "outputs": [
    {
     "name": "stdout",
     "output_type": "stream",
     "text": [
      "<class 'pandas.core.frame.DataFrame'>\n",
      "RangeIndex: 16715 entries, 0 to 16714\n",
      "Data columns (total 11 columns):\n",
      " #   Column           Non-Null Count  Dtype  \n",
      "---  ------           --------------  -----  \n",
      " 0   Name             16713 non-null  object \n",
      " 1   Platform         16715 non-null  object \n",
      " 2   Year_of_Release  16446 non-null  float64\n",
      " 3   Genre            16713 non-null  object \n",
      " 4   NA_sales         16715 non-null  float64\n",
      " 5   EU_sales         16715 non-null  float64\n",
      " 6   JP_sales         16715 non-null  float64\n",
      " 7   Other_sales      16715 non-null  float64\n",
      " 8   Critic_Score     8137 non-null   float64\n",
      " 9   User_Score       10014 non-null  object \n",
      " 10  Rating           9949 non-null   object \n",
      "dtypes: float64(6), object(5)\n",
      "memory usage: 1.4+ MB\n"
     ]
    }
   ],
   "source": [
    "games.info()"
   ]
  },
  {
   "cell_type": "code",
   "execution_count": 46,
   "metadata": {},
   "outputs": [
    {
     "data": {
      "text/html": [
       "<div>\n",
       "<style scoped>\n",
       "    .dataframe tbody tr th:only-of-type {\n",
       "        vertical-align: middle;\n",
       "    }\n",
       "\n",
       "    .dataframe tbody tr th {\n",
       "        vertical-align: top;\n",
       "    }\n",
       "\n",
       "    .dataframe thead th {\n",
       "        text-align: right;\n",
       "    }\n",
       "</style>\n",
       "<table border=\"1\" class=\"dataframe\">\n",
       "  <thead>\n",
       "    <tr style=\"text-align: right;\">\n",
       "      <th></th>\n",
       "      <th>Name</th>\n",
       "      <th>Platform</th>\n",
       "      <th>Year_of_Release</th>\n",
       "      <th>Genre</th>\n",
       "      <th>NA_sales</th>\n",
       "      <th>EU_sales</th>\n",
       "      <th>JP_sales</th>\n",
       "      <th>Other_sales</th>\n",
       "      <th>Critic_Score</th>\n",
       "      <th>User_Score</th>\n",
       "      <th>Rating</th>\n",
       "    </tr>\n",
       "  </thead>\n",
       "  <tbody>\n",
       "    <tr>\n",
       "      <th>0</th>\n",
       "      <td>Wii Sports</td>\n",
       "      <td>Wii</td>\n",
       "      <td>2006.0</td>\n",
       "      <td>Sports</td>\n",
       "      <td>41.36</td>\n",
       "      <td>28.96</td>\n",
       "      <td>3.77</td>\n",
       "      <td>8.45</td>\n",
       "      <td>76.0</td>\n",
       "      <td>8</td>\n",
       "      <td>E</td>\n",
       "    </tr>\n",
       "    <tr>\n",
       "      <th>1</th>\n",
       "      <td>Super Mario Bros.</td>\n",
       "      <td>NES</td>\n",
       "      <td>1985.0</td>\n",
       "      <td>Platform</td>\n",
       "      <td>29.08</td>\n",
       "      <td>3.58</td>\n",
       "      <td>6.81</td>\n",
       "      <td>0.77</td>\n",
       "      <td>NaN</td>\n",
       "      <td>NaN</td>\n",
       "      <td>NaN</td>\n",
       "    </tr>\n",
       "    <tr>\n",
       "      <th>2</th>\n",
       "      <td>Mario Kart Wii</td>\n",
       "      <td>Wii</td>\n",
       "      <td>2008.0</td>\n",
       "      <td>Racing</td>\n",
       "      <td>15.68</td>\n",
       "      <td>12.76</td>\n",
       "      <td>3.79</td>\n",
       "      <td>3.29</td>\n",
       "      <td>82.0</td>\n",
       "      <td>8.3</td>\n",
       "      <td>E</td>\n",
       "    </tr>\n",
       "    <tr>\n",
       "      <th>3</th>\n",
       "      <td>Wii Sports Resort</td>\n",
       "      <td>Wii</td>\n",
       "      <td>2009.0</td>\n",
       "      <td>Sports</td>\n",
       "      <td>15.61</td>\n",
       "      <td>10.93</td>\n",
       "      <td>3.28</td>\n",
       "      <td>2.95</td>\n",
       "      <td>80.0</td>\n",
       "      <td>8</td>\n",
       "      <td>E</td>\n",
       "    </tr>\n",
       "    <tr>\n",
       "      <th>4</th>\n",
       "      <td>Pokemon Red/Pokemon Blue</td>\n",
       "      <td>GB</td>\n",
       "      <td>1996.0</td>\n",
       "      <td>Role-Playing</td>\n",
       "      <td>11.27</td>\n",
       "      <td>8.89</td>\n",
       "      <td>10.22</td>\n",
       "      <td>1.00</td>\n",
       "      <td>NaN</td>\n",
       "      <td>NaN</td>\n",
       "      <td>NaN</td>\n",
       "    </tr>\n",
       "    <tr>\n",
       "      <th>5</th>\n",
       "      <td>Tetris</td>\n",
       "      <td>GB</td>\n",
       "      <td>1989.0</td>\n",
       "      <td>Puzzle</td>\n",
       "      <td>23.20</td>\n",
       "      <td>2.26</td>\n",
       "      <td>4.22</td>\n",
       "      <td>0.58</td>\n",
       "      <td>NaN</td>\n",
       "      <td>NaN</td>\n",
       "      <td>NaN</td>\n",
       "    </tr>\n",
       "    <tr>\n",
       "      <th>6</th>\n",
       "      <td>New Super Mario Bros.</td>\n",
       "      <td>DS</td>\n",
       "      <td>2006.0</td>\n",
       "      <td>Platform</td>\n",
       "      <td>11.28</td>\n",
       "      <td>9.14</td>\n",
       "      <td>6.50</td>\n",
       "      <td>2.88</td>\n",
       "      <td>89.0</td>\n",
       "      <td>8.5</td>\n",
       "      <td>E</td>\n",
       "    </tr>\n",
       "    <tr>\n",
       "      <th>7</th>\n",
       "      <td>Wii Play</td>\n",
       "      <td>Wii</td>\n",
       "      <td>2006.0</td>\n",
       "      <td>Misc</td>\n",
       "      <td>13.96</td>\n",
       "      <td>9.18</td>\n",
       "      <td>2.93</td>\n",
       "      <td>2.84</td>\n",
       "      <td>58.0</td>\n",
       "      <td>6.6</td>\n",
       "      <td>E</td>\n",
       "    </tr>\n",
       "    <tr>\n",
       "      <th>8</th>\n",
       "      <td>New Super Mario Bros. Wii</td>\n",
       "      <td>Wii</td>\n",
       "      <td>2009.0</td>\n",
       "      <td>Platform</td>\n",
       "      <td>14.44</td>\n",
       "      <td>6.94</td>\n",
       "      <td>4.70</td>\n",
       "      <td>2.24</td>\n",
       "      <td>87.0</td>\n",
       "      <td>8.4</td>\n",
       "      <td>E</td>\n",
       "    </tr>\n",
       "    <tr>\n",
       "      <th>9</th>\n",
       "      <td>Duck Hunt</td>\n",
       "      <td>NES</td>\n",
       "      <td>1984.0</td>\n",
       "      <td>Shooter</td>\n",
       "      <td>26.93</td>\n",
       "      <td>0.63</td>\n",
       "      <td>0.28</td>\n",
       "      <td>0.47</td>\n",
       "      <td>NaN</td>\n",
       "      <td>NaN</td>\n",
       "      <td>NaN</td>\n",
       "    </tr>\n",
       "  </tbody>\n",
       "</table>\n",
       "</div>"
      ],
      "text/plain": [
       "                        Name Platform  Year_of_Release         Genre  \\\n",
       "0                 Wii Sports      Wii           2006.0        Sports   \n",
       "1          Super Mario Bros.      NES           1985.0      Platform   \n",
       "2             Mario Kart Wii      Wii           2008.0        Racing   \n",
       "3          Wii Sports Resort      Wii           2009.0        Sports   \n",
       "4   Pokemon Red/Pokemon Blue       GB           1996.0  Role-Playing   \n",
       "5                     Tetris       GB           1989.0        Puzzle   \n",
       "6      New Super Mario Bros.       DS           2006.0      Platform   \n",
       "7                   Wii Play      Wii           2006.0          Misc   \n",
       "8  New Super Mario Bros. Wii      Wii           2009.0      Platform   \n",
       "9                  Duck Hunt      NES           1984.0       Shooter   \n",
       "\n",
       "   NA_sales  EU_sales  JP_sales  Other_sales  Critic_Score User_Score Rating  \n",
       "0     41.36     28.96      3.77         8.45          76.0          8      E  \n",
       "1     29.08      3.58      6.81         0.77           NaN        NaN    NaN  \n",
       "2     15.68     12.76      3.79         3.29          82.0        8.3      E  \n",
       "3     15.61     10.93      3.28         2.95          80.0          8      E  \n",
       "4     11.27      8.89     10.22         1.00           NaN        NaN    NaN  \n",
       "5     23.20      2.26      4.22         0.58           NaN        NaN    NaN  \n",
       "6     11.28      9.14      6.50         2.88          89.0        8.5      E  \n",
       "7     13.96      9.18      2.93         2.84          58.0        6.6      E  \n",
       "8     14.44      6.94      4.70         2.24          87.0        8.4      E  \n",
       "9     26.93      0.63      0.28         0.47           NaN        NaN    NaN  "
      ]
     },
     "execution_count": 46,
     "metadata": {},
     "output_type": "execute_result"
    }
   ],
   "source": [
    "games.head(10)"
   ]
  },
  {
   "cell_type": "markdown",
   "metadata": {},
   "source": [
    "### Вывод"
   ]
  },
  {
   "cell_type": "markdown",
   "metadata": {},
   "source": [
    "Для анализа был получен датасет из 11 колонок и 16714 строк. В данных наблюдаются пропуски, также требуется упорядочивание названий столбцов. Наблюдаются ошибка форматов данных и прочие сложности. Приступим к предобработке"
   ]
  },
  {
   "cell_type": "markdown",
   "metadata": {},
   "source": [
    "## Предобработка данных\n",
    "<a id='3-topoc'></a>"
   ]
  },
  {
   "cell_type": "markdown",
   "metadata": {},
   "source": [
    "### Упорядочим названий столбцов"
   ]
  },
  {
   "cell_type": "code",
   "execution_count": 47,
   "metadata": {
    "scrolled": false
   },
   "outputs": [
    {
     "data": {
      "text/html": [
       "<div>\n",
       "<style scoped>\n",
       "    .dataframe tbody tr th:only-of-type {\n",
       "        vertical-align: middle;\n",
       "    }\n",
       "\n",
       "    .dataframe tbody tr th {\n",
       "        vertical-align: top;\n",
       "    }\n",
       "\n",
       "    .dataframe thead th {\n",
       "        text-align: right;\n",
       "    }\n",
       "</style>\n",
       "<table border=\"1\" class=\"dataframe\">\n",
       "  <thead>\n",
       "    <tr style=\"text-align: right;\">\n",
       "      <th></th>\n",
       "      <th>name</th>\n",
       "      <th>platform</th>\n",
       "      <th>year_of_release</th>\n",
       "      <th>genre</th>\n",
       "      <th>na_sales</th>\n",
       "      <th>eu_sales</th>\n",
       "      <th>jp_sales</th>\n",
       "      <th>other_sales</th>\n",
       "      <th>critic_score</th>\n",
       "      <th>user_score</th>\n",
       "      <th>rating</th>\n",
       "    </tr>\n",
       "  </thead>\n",
       "  <tbody>\n",
       "    <tr>\n",
       "      <th>0</th>\n",
       "      <td>Wii Sports</td>\n",
       "      <td>Wii</td>\n",
       "      <td>2006.0</td>\n",
       "      <td>Sports</td>\n",
       "      <td>41.36</td>\n",
       "      <td>28.96</td>\n",
       "      <td>3.77</td>\n",
       "      <td>8.45</td>\n",
       "      <td>76.0</td>\n",
       "      <td>8</td>\n",
       "      <td>E</td>\n",
       "    </tr>\n",
       "    <tr>\n",
       "      <th>1</th>\n",
       "      <td>Super Mario Bros.</td>\n",
       "      <td>NES</td>\n",
       "      <td>1985.0</td>\n",
       "      <td>Platform</td>\n",
       "      <td>29.08</td>\n",
       "      <td>3.58</td>\n",
       "      <td>6.81</td>\n",
       "      <td>0.77</td>\n",
       "      <td>NaN</td>\n",
       "      <td>NaN</td>\n",
       "      <td>NaN</td>\n",
       "    </tr>\n",
       "    <tr>\n",
       "      <th>2</th>\n",
       "      <td>Mario Kart Wii</td>\n",
       "      <td>Wii</td>\n",
       "      <td>2008.0</td>\n",
       "      <td>Racing</td>\n",
       "      <td>15.68</td>\n",
       "      <td>12.76</td>\n",
       "      <td>3.79</td>\n",
       "      <td>3.29</td>\n",
       "      <td>82.0</td>\n",
       "      <td>8.3</td>\n",
       "      <td>E</td>\n",
       "    </tr>\n",
       "    <tr>\n",
       "      <th>3</th>\n",
       "      <td>Wii Sports Resort</td>\n",
       "      <td>Wii</td>\n",
       "      <td>2009.0</td>\n",
       "      <td>Sports</td>\n",
       "      <td>15.61</td>\n",
       "      <td>10.93</td>\n",
       "      <td>3.28</td>\n",
       "      <td>2.95</td>\n",
       "      <td>80.0</td>\n",
       "      <td>8</td>\n",
       "      <td>E</td>\n",
       "    </tr>\n",
       "    <tr>\n",
       "      <th>4</th>\n",
       "      <td>Pokemon Red/Pokemon Blue</td>\n",
       "      <td>GB</td>\n",
       "      <td>1996.0</td>\n",
       "      <td>Role-Playing</td>\n",
       "      <td>11.27</td>\n",
       "      <td>8.89</td>\n",
       "      <td>10.22</td>\n",
       "      <td>1.00</td>\n",
       "      <td>NaN</td>\n",
       "      <td>NaN</td>\n",
       "      <td>NaN</td>\n",
       "    </tr>\n",
       "  </tbody>\n",
       "</table>\n",
       "</div>"
      ],
      "text/plain": [
       "                       name platform  year_of_release         genre  na_sales  \\\n",
       "0                Wii Sports      Wii           2006.0        Sports     41.36   \n",
       "1         Super Mario Bros.      NES           1985.0      Platform     29.08   \n",
       "2            Mario Kart Wii      Wii           2008.0        Racing     15.68   \n",
       "3         Wii Sports Resort      Wii           2009.0        Sports     15.61   \n",
       "4  Pokemon Red/Pokemon Blue       GB           1996.0  Role-Playing     11.27   \n",
       "\n",
       "   eu_sales  jp_sales  other_sales  critic_score user_score rating  \n",
       "0     28.96      3.77         8.45          76.0          8      E  \n",
       "1      3.58      6.81         0.77           NaN        NaN    NaN  \n",
       "2     12.76      3.79         3.29          82.0        8.3      E  \n",
       "3     10.93      3.28         2.95          80.0          8      E  \n",
       "4      8.89     10.22         1.00           NaN        NaN    NaN  "
      ]
     },
     "execution_count": 47,
     "metadata": {},
     "output_type": "execute_result"
    }
   ],
   "source": [
    "games = games.rename(columns = {'Name':'name', \n",
    "                        'Platform':'platform', \n",
    "                        'Year_of_Release':'year_of_release', \n",
    "                        'Genre':'genre', \n",
    "                        'NA_sales': 'na_sales',\n",
    "                        'EU_sales':'eu_sales',\n",
    "                        'JP_sales':'jp_sales',\n",
    "                        'Other_sales':'other_sales',\n",
    "                        'Critic_Score':'critic_score',\n",
    "                        'User_Score':'user_score',\n",
    "                        'Rating':'rating'\n",
    "                       })\n",
    "\n",
    "\n",
    "games.head(5)"
   ]
  },
  {
   "cell_type": "markdown",
   "metadata": {},
   "source": [
    "### Обработка пропусков\n",
    "<a id='1-tabel'></a>"
   ]
  },
  {
   "cell_type": "code",
   "execution_count": 48,
   "metadata": {
    "scrolled": false
   },
   "outputs": [
    {
     "data": {
      "text/plain": [
       "Text(33.0, 0.5, 'Строка')"
      ]
     },
     "execution_count": 48,
     "metadata": {},
     "output_type": "execute_result"
    },
    {
     "data": {
      "image/png": "[encoded data removed]",
      "text/plain": [
       "<Figure size 432x288 with 2 Axes>"
      ]
     },
     "metadata": {
      "needs_background": "light"
     },
     "output_type": "display_data"
    }
   ],
   "source": [
    "colours = ['#000099', '#ffff00'] \n",
    "tb_isna = sb.heatmap(games.isnull(), cmap=sb.color_palette(colours))\n",
    "tb_isna.set_title('Тепловая карта пропущенных значений',fontsize=20)\n",
    "tb_isna.set_xlabel('Столбец',fontsize=10)\n",
    "tb_isna.set_ylabel('Строка',fontsize=10)\n"
   ]
  },
  {
   "cell_type": "markdown",
   "metadata": {},
   "source": [
    "~Наблюдаются пропуски в столбце с годом релиза игры, оценках критиков и пользователей, рейтинге. Пропуски в году выпуска и рейтингу заменим самымми повторяющимися значениями датасета. По остальным пропускам, проверим есть ли у них взаимосвязь с другими данными.~"
   ]
  },
  {
   "cell_type": "markdown",
   "metadata": {},
   "source": [
    " Наблюдаются пропуски в столбце с годом релиза игры, оценках критиков и пользователей, рейтинге. \n",
    " \n",
    "1) В столбце с годом релиза пропусков очень небольшое количество, вероятно это человеческий фактор при сборе данных послужил причиной. Пропуски наблюдаются менее чем в 2% данных, поэтому их можно вполне безболезненно удалить.\n",
    "\n",
    "2) В [таблице пропущенных значений](#1-tabel) видно, что пропуски в оценках пользователей, критиков и рейтинге зачастую наблюдаюстя в одних и тех же строках, что подсказывает нам - природа у пропусков одинаковая. Вероятно в нашем исследовании присутствуют игры от инди разработчиков или \"пиратские\" версии. Такие игры не оцениваются рейтинговыми агенствами и не получают официальных оценок от критиков или пользователей. \n",
    "<a id='как_же_мне_нравятся_эти_ссылки'></a>\n",
    "\n",
    "Тем не менее пропущенных значений слишком много, чтобы их можно было заменить или восполнить без потери актуальности, поэтому оставим значения как есть.\n",
    "\n",
    "3) По tbd раскрыла [ниже](#1-Просто_было_интересно_работает_ли_кириллицей) \n",
    "\n",
    "4) Примем к сведению рассуждения выше и приступим к предобработке\n"
   ]
  },
  {
   "cell_type": "code",
   "execution_count": 49,
   "metadata": {
    "scrolled": true
   },
   "outputs": [],
   "source": [
    "games = games.dropna(subset=['year_of_release'])"
   ]
  },
  {
   "cell_type": "code",
   "execution_count": 52,
   "metadata": {},
   "outputs": [
    {
     "data": {
      "text/plain": [
       "array(['E', 0, 'M', 'T', 'E10+', 'K-A', 'AO', 'EC', 'RP'], dtype=object)"
      ]
     },
     "execution_count": 52,
     "metadata": {},
     "output_type": "execute_result"
    }
   ],
   "source": [
    "games['rating'] = games['rating'].fillna(0)\n",
    "games['rating'].unique()"
   ]
  },
  {
   "cell_type": "markdown",
   "metadata": {},
   "source": [
    "Взаимосвязь с другими данными не обнаружена, так как пропуски в колонках рейтинга занимают более 50% любая подстановка приведет к сильному искажению данных. Поэтому пропущенные значения оставляем."
   ]
  },
  {
   "cell_type": "markdown",
   "metadata": {},
   "source": [
    "### Упорядочивание типов данных"
   ]
  },
  {
   "cell_type": "markdown",
   "metadata": {},
   "source": [
    "По уникальным значениям оценок критиков можно увидеть, что значения необходимо привести в десятичную систему исчисления как и оценки пользователей, для этого поделим значения на 10."
   ]
  },
  {
   "cell_type": "code",
   "execution_count": 54,
   "metadata": {},
   "outputs": [],
   "source": [
    "games['critic_score'] = games['critic_score']/10"
   ]
  },
  {
   "cell_type": "markdown",
   "metadata": {},
   "source": [
    "Год выпуска - это целочисленное значение"
   ]
  },
  {
   "cell_type": "code",
   "execution_count": 55,
   "metadata": {
    "scrolled": true
   },
   "outputs": [],
   "source": [
    "games['year_of_release'] = games['year_of_release'].astype('int64')"
   ]
  },
  {
   "cell_type": "code",
   "execution_count": 56,
   "metadata": {},
   "outputs": [
    {
     "data": {
      "text/plain": [
       "array(['8', nan, '8.3', '8.5', '6.6', '8.4', '8.6', '7.7', '6.3', '7.4',\n",
       "       '8.2', '9', '7.9', '8.1', '8.7', '7.1', '3.4', '5.3', '4.8', '3.2',\n",
       "       '8.9', '6.4', '7.8', '7.5', '2.6', '7.2', '9.2', '7', '7.3', '4.3',\n",
       "       '7.6', '5.7', '5', '9.1', '6.5', 'tbd', '8.8', '6.9', '9.4', '6.8',\n",
       "       '6.1', '6.7', '5.4', '4', '4.9', '4.5', '9.3', '6.2', '4.2', '6',\n",
       "       '3.7', '4.1', '5.8', '5.6', '5.5', '4.4', '4.6', '5.9', '3.9',\n",
       "       '3.1', '2.9', '5.2', '3.3', '4.7', '5.1', '3.5', '2.5', '1.9', '3',\n",
       "       '2.7', '2.2', '2', '9.5', '2.1', '3.6', '2.8', '1.8', '3.8', '0',\n",
       "       '1.6', '9.6', '2.4', '1.7', '1.1', '0.3', '1.5', '0.7', '1.2',\n",
       "       '2.3', '0.5', '1.3', '0.2', '0.6', '1.4', '0.9', '1', '9.7'],\n",
       "      dtype=object)"
      ]
     },
     "execution_count": 56,
     "metadata": {},
     "output_type": "execute_result"
    }
   ],
   "source": [
    "games['user_score'].unique()"
   ]
  },
  {
   "cell_type": "markdown",
   "metadata": {},
   "source": [
    "<a id='1-Просто_было_интересно_работает_ли_кириллицей'></a>\n",
    "В оценках пользователей присутствует строковое значение tbd - To Be Determined. Выходит, эти оценки еще не опубликованы - заменим их на нули и преобразуем тип данных в дробный. \n"
   ]
  },
  {
   "cell_type": "code",
   "execution_count": 57,
   "metadata": {
    "scrolled": true
   },
   "outputs": [],
   "source": [
    "games.loc[games['user_score'] == 'tbd', 'user_score'] = np.nan\n",
    "games['user_score'] = games['user_score'].astype('float')"
   ]
  },
  {
   "cell_type": "code",
   "execution_count": 58,
   "metadata": {},
   "outputs": [
    {
     "data": {
      "text/plain": [
       "array([8. , nan, 8.3, 8.5, 6.6, 8.4, 8.6, 7.7, 6.3, 7.4, 8.2, 9. , 7.9,\n",
       "       8.1, 8.7, 7.1, 3.4, 5.3, 4.8, 3.2, 8.9, 6.4, 7.8, 7.5, 2.6, 7.2,\n",
       "       9.2, 7. , 7.3, 4.3, 7.6, 5.7, 5. , 9.1, 6.5, 8.8, 6.9, 9.4, 6.8,\n",
       "       6.1, 6.7, 5.4, 4. , 4.9, 4.5, 9.3, 6.2, 4.2, 6. , 3.7, 4.1, 5.8,\n",
       "       5.6, 5.5, 4.4, 4.6, 5.9, 3.9, 3.1, 2.9, 5.2, 3.3, 4.7, 5.1, 3.5,\n",
       "       2.5, 1.9, 3. , 2.7, 2.2, 2. , 9.5, 2.1, 3.6, 2.8, 1.8, 3.8, 0. ,\n",
       "       1.6, 9.6, 2.4, 1.7, 1.1, 0.3, 1.5, 0.7, 1.2, 2.3, 0.5, 1.3, 0.2,\n",
       "       0.6, 1.4, 0.9, 1. , 9.7])"
      ]
     },
     "execution_count": 58,
     "metadata": {},
     "output_type": "execute_result"
    }
   ],
   "source": [
    "games['user_score'].unique()"
   ]
  },
  {
   "cell_type": "markdown",
   "metadata": {},
   "source": [
    "### Обработка дубликатов"
   ]
  },
  {
   "cell_type": "code",
   "execution_count": 59,
   "metadata": {
    "scrolled": false
   },
   "outputs": [
    {
     "data": {
      "text/plain": [
       "4"
      ]
     },
     "execution_count": 59,
     "metadata": {},
     "output_type": "execute_result"
    }
   ],
   "source": [
    "games.duplicated(subset=['name','platform']).sum()"
   ]
  },
  {
   "cell_type": "code",
   "execution_count": 60,
   "metadata": {
    "scrolled": false
   },
   "outputs": [
    {
     "data": {
      "text/plain": [
       "4250"
      ]
     },
     "execution_count": 60,
     "metadata": {},
     "output_type": "execute_result"
    }
   ],
   "source": [
    "games.duplicated(subset=['name','year_of_release']).sum()"
   ]
  },
  {
   "cell_type": "markdown",
   "metadata": {},
   "source": [
    "При проверке на дубликаты пары \"Имя - Игровая консоль\" обнаружено четыре дубликата, количество относительно маленькое - удалим найденые дубликаты. При проверке на дубликаты пары \"Имя - Год выпуска\" обнаружено 4984 дублей - это почти треть датасета, удалять дубликаты нельзя, но при анализе года выпуска примем к сведению наличие дубликатов."
   ]
  },
  {
   "cell_type": "code",
   "execution_count": 61,
   "metadata": {},
   "outputs": [
    {
     "name": "stdout",
     "output_type": "stream",
     "text": [
      "<class 'pandas.core.frame.DataFrame'>\n",
      "Int64Index: 16446 entries, 0 to 16714\n",
      "Data columns (total 11 columns):\n",
      " #   Column           Non-Null Count  Dtype  \n",
      "---  ------           --------------  -----  \n",
      " 0   name             16444 non-null  object \n",
      " 1   platform         16446 non-null  object \n",
      " 2   year_of_release  16446 non-null  int64  \n",
      " 3   genre            16444 non-null  object \n",
      " 4   na_sales         16446 non-null  float64\n",
      " 5   eu_sales         16446 non-null  float64\n",
      " 6   jp_sales         16446 non-null  float64\n",
      " 7   other_sales      16446 non-null  float64\n",
      " 8   critic_score     7983 non-null   float64\n",
      " 9   user_score       7463 non-null   float64\n",
      " 10  rating           16446 non-null  object \n",
      "dtypes: float64(6), int64(1), object(4)\n",
      "memory usage: 1.5+ MB\n"
     ]
    }
   ],
   "source": [
    "games.drop_duplicates(subset=['name','platform'])\n",
    "games.info()"
   ]
  },
  {
   "cell_type": "markdown",
   "metadata": {},
   "source": [
    "### Вывод"
   ]
  },
  {
   "cell_type": "markdown",
   "metadata": {},
   "source": [
    "В процессе предобработки данных были упорядочены названия столбцов датафрейма, типы данных, обработаны пропуски и проведена проверка на дубликаты. Данные для исследования были получены не очень хорошего качества, но после предобработки могут быть использованы для дальнейшего исследования."
   ]
  },
  {
   "cell_type": "markdown",
   "metadata": {},
   "source": [
    "## Исследовательский анализ\n",
    "<a id='4-topoc'></a>"
   ]
  },
  {
   "cell_type": "markdown",
   "metadata": {},
   "source": [
    " ### Сколько игр выпускалось в разные годы"
   ]
  },
  {
   "cell_type": "code",
   "execution_count": 62,
   "metadata": {
    "scrolled": false
   },
   "outputs": [
    {
     "data": {
      "text/plain": [
       "Text(0, 0.5, 'Сумма продаж, млн копий')"
      ]
     },
     "execution_count": 62,
     "metadata": {},
     "output_type": "execute_result"
    },
    {
     "data": {
      "image/png": "[encoded data removed]",
      "text/plain": [
       "<Figure size 1440x720 with 1 Axes>"
      ]
     },
     "metadata": {
      "needs_background": "light"
     },
     "output_type": "display_data"
    }
   ],
   "source": [
    "s_games = games.groupby('year_of_release')['name'].count().plot.bar(figsize = (20,10))\n",
    "\n",
    "s_games.set_title('Диаграмма объема продаж по годам',fontsize=20)\n",
    "s_games.set_xlabel('Год',fontsize=15)\n",
    "s_games.set_ylabel('Сумма продаж, млн копий',fontsize=15)"
   ]
  },
  {
   "cell_type": "markdown",
   "metadata": {},
   "source": [
    "Первый персональный компьютер появился в 1981 году и разумеется ближайшие лет 10 разработка игр не была приоритетной задачей. По графику видно, что с 1995 в год начали продавать свыше 200 млн. копий в год. После 1995 каждый следующий год продажи подрастают на 100 млн. копий и так до 2009-го, почти 15 лет идет планомерный рост объемов продаж. С 2009 популярность видеоигр начала падать, вероятнее всего это характеризуется взрослением целевой аудитории. Прошлая аудитория повзрослела, а новую привлечь не успели из-за слабой пи-ар компании. Также общество после 2009 возможно провело переоценку влияния видеоигр на человека и изменило свою политику на этот счет. "
   ]
  },
  {
   "cell_type": "code",
   "execution_count": 63,
   "metadata": {
    "scrolled": false
   },
   "outputs": [
    {
     "data": {
      "text/plain": [
       "Text(0, 0.5, 'Сумма продаж, млн копий')"
      ]
     },
     "execution_count": 63,
     "metadata": {},
     "output_type": "execute_result"
    },
    {
     "data": {
      "image/png": "[encoded data removed]",
      "text/plain": [
       "<Figure size 1080x576 with 1 Axes>"
      ]
     },
     "metadata": {
      "needs_background": "light"
     },
     "output_type": "display_data"
    }
   ],
   "source": [
    "# подрезаю дф, беру данные от 2014 (в задании было написано, что за 2016-ый данные не полные)\n",
    "games = games[games['year_of_release'] >= 2014]\n",
    "\n",
    "# далее готовлю таблицу по ТЗ\n",
    "s_games = games.groupby('year_of_release')['name'].count().plot.bar(figsize = (15,8))\n",
    "\n",
    "s_games.set_title('Диаграмма объема продаж по годам',fontsize=20)\n",
    "s_games.set_xlabel('Год',fontsize=15)\n",
    "s_games.set_ylabel('Сумма продаж, млн копий',fontsize=15)"
   ]
  },
  {
   "cell_type": "markdown",
   "metadata": {},
   "source": [
    "### Как менялись продажи по платформам"
   ]
  },
  {
   "cell_type": "markdown",
   "metadata": {},
   "source": [
    "Добавим в таблицу столбец с суммой продаж по всем регионам, чтобы понять какие платформы самые продаваетмые по всему миру."
   ]
  },
  {
   "cell_type": "code",
   "execution_count": 64,
   "metadata": {},
   "outputs": [],
   "source": [
    "games['sales_sum'] = games['na_sales'] + games['eu_sales'] + games['jp_sales'] + games['other_sales']"
   ]
  },
  {
   "cell_type": "code",
   "execution_count": 65,
   "metadata": {
    "scrolled": false
   },
   "outputs": [
    {
     "data": {
      "text/plain": [
       "Text(0, 0.5, 'Сумма продаж, млн копий')"
      ]
     },
     "execution_count": 65,
     "metadata": {},
     "output_type": "execute_result"
    },
    {
     "data": {
      "image/png": "[encoded data removed]",
      "text/plain": [
       "<Figure size 1080x576 with 1 Axes>"
      ]
     },
     "metadata": {
      "needs_background": "light"
     },
     "output_type": "display_data"
    }
   ],
   "source": [
    "sl_games = games.groupby('platform')['sales_sum'].sum().plot.bar(figsize=(15,8))\n",
    "\n",
    "sl_games.set_title('Диаграмма объем продаж по платформам',fontsize=20)\n",
    "sl_games.set_xlabel('Платформа',fontsize=15)\n",
    "sl_games.set_ylabel('Сумма продаж, млн копий',fontsize=15)"
   ]
  },
  {
   "cell_type": "markdown",
   "metadata": {},
   "source": [
    "По графику видно явных лидеров продаж: PS4. Рассмотрим подробнее объемы продаж по годам у наиболее популярных платформ."
   ]
  },
  {
   "cell_type": "code",
   "execution_count": 66,
   "metadata": {
    "scrolled": false
   },
   "outputs": [
    {
     "data": {
      "text/plain": [
       "Text(0, 0.5, 'Сумма продаж, млн копий')"
      ]
     },
     "execution_count": 66,
     "metadata": {},
     "output_type": "execute_result"
    },
    {
     "data": {
      "image/png": "[encoded data removed]",
      "text/plain": [
       "<Figure size 1080x576 with 1 Axes>"
      ]
     },
     "metadata": {
      "needs_background": "light"
     },
     "output_type": "display_data"
    }
   ],
   "source": [
    "piv_games = games.pivot_table(index='year_of_release',columns='platform',values='sales_sum',aggfunc='sum')\n",
    "bar_games = piv_games.plot.bar(figsize=(15,8))\n",
    "\n",
    "bar_games.set_title('Диаграмма объем продаж по годам для разных платформ',fontsize=20)\n",
    "bar_games.set_xlabel('Год',fontsize=15)\n",
    "bar_games.set_ylabel('Сумма продаж, млн копий',fontsize=15)"
   ]
  },
  {
   "cell_type": "markdown",
   "metadata": {},
   "source": [
    "В разные периоды на рынке наибольшей популярностью обладала определенная платформа. К примеру с 1996 по 1999 это была GB, затем с 2004 по конец 2005 - DS, далее до начала 2009 - Wii и наконец X360 почти до 2014. При этом PS на рынке были очень давно, продавались хорошо, но звезд с неба не хватали. Если хочется стабильности, то имеет смысл положиться на PS. К тому же, если доверять истории, пратформа взявшая верх продаж на рынке в последний рассматриваемый год - будет радовать популярностью еще года четыре.\n",
    "\n",
    "Если брать данные за последние три года - явным лидером будет опять же PS (PS4), соответственно ставка на этого производителя будет вполне оправдана."
   ]
  },
  {
   "cell_type": "code",
   "execution_count": 67,
   "metadata": {},
   "outputs": [
    {
     "data": {
      "text/plain": [
       "['PS4', 'XOne', '3DS', 'PS3', 'X360', 'WiiU', 'PC', 'PSV', 'Wii']"
      ]
     },
     "execution_count": 67,
     "metadata": {},
     "output_type": "execute_result"
    }
   ],
   "source": [
    "bp_games = games.pivot_table(index='platform', values='sales_sum', aggfunc= 'sum').sort_values('sales_sum', ascending=False)\n",
    "bp_games.index[:9].tolist()"
   ]
  },
  {
   "cell_type": "code",
   "execution_count": 68,
   "metadata": {},
   "outputs": [
    {
     "data": {
      "text/plain": [
       "Text(0, 0.5, 'Сумма продаж, млн копий')"
      ]
     },
     "execution_count": 68,
     "metadata": {},
     "output_type": "execute_result"
    },
    {
     "data": {
      "image/png": "[encoded data removed]",
      "text/plain": [
       "<Figure size 1080x576 with 1 Axes>"
      ]
     },
     "metadata": {
      "needs_background": "light"
     },
     "output_type": "display_data"
    }
   ],
   "source": [
    "bp_games = piv_games.boxplot(column=['PS4', 'XOne', 'WiiU', 'PSV'],figsize=(15,8))\n",
    "\n",
    "bp_games.set_title('Диаграмма боксплот, объем продаж по платформам',fontsize=20)\n",
    "bp_games.set_xlabel('Платформа',fontsize=15)\n",
    "bp_games.set_ylabel('Сумма продаж, млн копий',fontsize=15)"
   ]
  },
  {
   "cell_type": "markdown",
   "metadata": {},
   "source": [
    "Продолжая анализ самых популярных платформ, были построены \"Ящики с усам\". По графику видно, что самые высокие медианные значения по количествам продаж наблюдаются у PS4 и XOne, на третьем месте WiiU. Далее рассмотрим объемы продаж по жанрам."
   ]
  },
  {
   "cell_type": "code",
   "execution_count": 69,
   "metadata": {
    "scrolled": false
   },
   "outputs": [
    {
     "data": {
      "text/plain": [
       "Text(0, 0.5, 'Медиана продаж, %')"
      ]
     },
     "execution_count": 69,
     "metadata": {},
     "output_type": "execute_result"
    },
    {
     "data": {
      "image/png": "[encoded data removed]",
      "text/plain": [
       "<Figure size 1080x576 with 1 Axes>"
      ]
     },
     "metadata": {},
     "output_type": "display_data"
    }
   ],
   "source": [
    "genre_games = games.groupby('genre')['sales_sum'].median().plot.pie(figsize=(15,8), autopct=\"%.2f\")\n",
    "\n",
    "genre_games.set_title('Круговая диаграмма % продаж по жанрам',fontsize=20)\n",
    "genre_games.set_ylabel('Медиана продаж, %',fontsize=15)"
   ]
  },
  {
   "cell_type": "markdown",
   "metadata": {},
   "source": [
    "Из всех жанров самыми \"продаваемыми\" можно назвать: стрелялки (33%) и игры про спорт (12%). Пользователи предпочитают шутеры так как в повседневной жизни им не хватает ~насилия~ динамичных сюжетов. Спортивные игры бронируют себе в целевую аудиторию болельшиков, спортсменов и поклонников спорта - а это достаточно обширная масса игроков. В аутсайдерах: головоломки (3%) и приключения (2%). Головоломки не пользуются популярностью вернее всего потому, что пользователь в играх ищет расслабление и отдых, а головоломки требуют умственного напряжения, как и приключения в общем случае. При планировании закупок нужно обязательно это учитывать."
   ]
  },
  {
   "cell_type": "markdown",
   "metadata": {},
   "source": [
    "### Анализ Sony PlayStation"
   ]
  },
  {
   "cell_type": "markdown",
   "metadata": {},
   "source": [
    "Рассмотрим самые распространенные платформы и проанализируем пики популярности. По графику из предыдущего блока видно, что самые кассовые платформы это Sony PlayStation и Xbox. Рассмотрим Sony PlayStation так как у нее в линейке представлено больше моделей."
   ]
  },
  {
   "cell_type": "code",
   "execution_count": 70,
   "metadata": {
    "scrolled": false
   },
   "outputs": [
    {
     "data": {
      "text/plain": [
       "Text(0, 0.5, 'Сумма продаж, млн копий')"
      ]
     },
     "execution_count": 70,
     "metadata": {},
     "output_type": "execute_result"
    },
    {
     "data": {
      "image/png": "[encoded data removed]",
      "text/plain": [
       "<Figure size 1080x576 with 1 Axes>"
      ]
     },
     "metadata": {
      "needs_background": "light"
     },
     "output_type": "display_data"
    }
   ],
   "source": [
    "ps_sales = games.query('platform in [\"PS\",\"PS2\",\"PSP\",\"PS3\",\"PS4\",\"PSV\"]')\n",
    "ps_sales = ps_sales.drop(['name',\n",
    "                          'genre',\n",
    "                          'na_sales',\n",
    "                          'jp_sales', \n",
    "                          'eu_sales',\n",
    "                          'other_sales',\n",
    "                          'critic_score',\n",
    "                          'user_score',\n",
    "                          'rating'], axis=1)\n",
    "\n",
    "ps_sales = ps_sales.pivot_table(index='year_of_release',\n",
    "                                columns='platform',\n",
    "                                values='sales_sum',\n",
    "                                aggfunc='sum').plot(figsize=(15,8))\n",
    "\n",
    "ps_sales.set_title('Линейная диаграмма популярности игровых платформ',fontsize=20)\n",
    "ps_sales.set_xlabel('Год',fontsize=15)\n",
    "ps_sales.set_ylabel('Сумма продаж, млн копий',fontsize=15)"
   ]
  },
  {
   "cell_type": "markdown",
   "metadata": {},
   "source": [
    "По графику выше видно, что Sony PlayStation каждый год выпускают новую платформу, иногда сразу несколько. В большинстве случаев платформы существуют на рынке около двух лет. Самой продаваемой из моделей, очевидно, является PS4."
   ]
  },
  {
   "cell_type": "code",
   "execution_count": 71,
   "metadata": {
    "scrolled": false
   },
   "outputs": [
    {
     "data": {
      "text/html": [
       "<div>\n",
       "<style scoped>\n",
       "    .dataframe tbody tr th:only-of-type {\n",
       "        vertical-align: middle;\n",
       "    }\n",
       "\n",
       "    .dataframe tbody tr th {\n",
       "        vertical-align: top;\n",
       "    }\n",
       "\n",
       "    .dataframe thead th {\n",
       "        text-align: right;\n",
       "    }\n",
       "</style>\n",
       "<table border=\"1\" class=\"dataframe\">\n",
       "  <thead>\n",
       "    <tr style=\"text-align: right;\">\n",
       "      <th></th>\n",
       "      <th>critic_score</th>\n",
       "      <th>user_score</th>\n",
       "      <th>sales_sum</th>\n",
       "    </tr>\n",
       "  </thead>\n",
       "  <tbody>\n",
       "    <tr>\n",
       "      <th>critic_score</th>\n",
       "      <td>1.000000</td>\n",
       "      <td>0.546434</td>\n",
       "      <td>0.402661</td>\n",
       "    </tr>\n",
       "    <tr>\n",
       "      <th>user_score</th>\n",
       "      <td>0.546434</td>\n",
       "      <td>1.000000</td>\n",
       "      <td>-0.040132</td>\n",
       "    </tr>\n",
       "    <tr>\n",
       "      <th>sales_sum</th>\n",
       "      <td>0.402661</td>\n",
       "      <td>-0.040132</td>\n",
       "      <td>1.000000</td>\n",
       "    </tr>\n",
       "  </tbody>\n",
       "</table>\n",
       "</div>"
      ],
      "text/plain": [
       "              critic_score  user_score  sales_sum\n",
       "critic_score      1.000000    0.546434   0.402661\n",
       "user_score        0.546434    1.000000  -0.040132\n",
       "sales_sum         0.402661   -0.040132   1.000000"
      ]
     },
     "execution_count": 71,
     "metadata": {},
     "output_type": "execute_result"
    },
    {
     "data": {
      "image/png": "[encoded data removed]",
      "text/plain": [
       "<Figure size 432x288 with 1 Axes>"
      ]
     },
     "metadata": {
      "needs_background": "light"
     },
     "output_type": "display_data"
    }
   ],
   "source": [
    "ps_sales = games.query('platform in [\"PS4\"]')\n",
    "ps_sales = ps_sales.drop(['name',\n",
    "                          'genre',\n",
    "                          'na_sales',\n",
    "                          'jp_sales', \n",
    "                          'eu_sales',\n",
    "                          'other_sales',\n",
    "                          'year_of_release',\n",
    "                          'platform',\n",
    "                          'rating'], axis=1)\n",
    "\n",
    "t_a = ps_sales.plot(x='sales_sum', y='critic_score', kind='scatter', alpha=0.1)\n",
    "\n",
    "t_a.set_title('Диаграмма рассеивания оценок критиков', fontsize = 15)\n",
    "t_a.set_xlabel('Объем продаж', fontsize = 10)\n",
    "t_a.set_ylabel('Оценка', fontsize = 10)\n",
    "ps_sales.corr()"
   ]
  },
  {
   "cell_type": "code",
   "execution_count": 72,
   "metadata": {
    "scrolled": true
   },
   "outputs": [
    {
     "data": {
      "text/plain": [
       "Text(0, 0.5, 'Оценка')"
      ]
     },
     "execution_count": 72,
     "metadata": {},
     "output_type": "execute_result"
    },
    {
     "data": {
      "image/png": "[encoded data removed]",
      "text/plain": [
       "<Figure size 432x288 with 1 Axes>"
      ]
     },
     "metadata": {
      "needs_background": "light"
     },
     "output_type": "display_data"
    }
   ],
   "source": [
    "t_b = ps_sales.plot(x='sales_sum', y='user_score', kind='scatter', alpha=0.1)\n",
    "\n",
    "t_b.set_title('Диаграмма рассеивания оценок пользователей', fontsize = 15)\n",
    "t_b.set_xlabel('Объем продаж', fontsize = 10)\n",
    "t_b.set_ylabel('Оценка', fontsize = 10)\n"
   ]
  },
  {
   "cell_type": "markdown",
   "metadata": {},
   "source": [
    "По графикам рассеивания можно увидеть, что оценки критиков имеют прямую, средне-слабую корреляцию с \"цифрами\" продаж. Оценки пользователей корреляции с продажами не имеют. Можно увидеть, что те игры, которым эксперты дают высокие оценки - продаются лучше."
   ]
  },
  {
   "cell_type": "markdown",
   "metadata": {},
   "source": [
    "### Вывод"
   ]
  },
  {
   "cell_type": "markdown",
   "metadata": {},
   "source": [
    "- В процессе исследования было учтено, что первый персональный компьютер появился в 1981 году и разумеется ближайшие лет 10 разработка игр не была приоритетной задачей. По графику видно, что с 1995 в год начали продавать свыше 200 млн. копий в год. После 1995 каждый следующий год продажи подрастают на 100 млн. копий и так до 2009-го, почти 15 лет идет планомерный рост объемов продаж. С 2009 популярность видеоигр начала падать, вероятнее всего это характеризуется взрослением целевой аудитории. Прошлая аудитория повзрослела, а новую привлечь не успели из-за слабой пи-ар компании. Также общество после 2009 возможно провело переоценку влияния видеоигр на человека и изменило свою политику на этот счет. \n",
    "\n",
    "\n",
    "- Лидером продаж оказалась платформа PS4\n",
    "\n",
    "\n",
    "- Было обнаружено что в разные периоды на рынке наибольшей популярностью обладала определенная платформа. К примеру с 1996 по 1999 это была GB, затем с 2004 по конец 2005 - DS, далее до начала 2009 - Wii и наконец X360 почти до 2014. При этом PS на рынке были очень давно, продавались хорошо, но звезд с неба не хватали. Если хочется стабильности, то имеет смысл положиться на PS. К тому же, если доверять истории, пратформа взявшая верх продаж на рынке в последний рассматриваемый год - будет радовать популярностью еще года четыре.Если брать данные за последние три года - явным лидером будет опять же PS (PS4), соответственно ставка на этого производителя будет вполне оправдана.\n",
    "\n",
    "\n",
    "- Продолжая анализ самых популярных платформ, были построены \"Ящики с усам\". По графику видно, что самые высокие медианные значения по количествам продаж наблюдаются у PS4 и XOne, на третьем месте WiiU. Далее рассмотрим объемы продаж по жанрам.\n",
    "\n",
    "\n",
    "- Из всех жанров самыми \"продаваемыми\" можно назвать: стрелялки (33%) и игры про спорт (12%). Пользователи предпочитают шутеры так как в повседневной жизни им не хватает ~насилия~ динамичных сюжетов. Спортивные игры бронируют себе в целевую аудиторию болельшиков, спортсменов и поклонников спорта - а это достаточно обширная масса игроков. В аутсайдерах: головоломки (3%) и приключения (2%). Головоломки не пользуются популярностью вернее всего потому, что пользователь в играх ищет расслабление и отдых, а головоломки требуют умственного напряжения, как и приключения в общем случае. При планировании закупок нужно обязательно это учитывать.\n",
    "\n",
    "\n",
    "- По графику выше видно, что Sony PlayStation каждый год выпускают новую платформу, иногда сразу несколько. В большинстве случаев платформы существуют на рынке около двух лет. Самой продаваемой из моделей, очевидно, является PS4.\n",
    "\n",
    "\n",
    "- По графикам рассеивания мы узнали, что оценки критиков имеют прямую, средне-слабую корреляцию с \"цифрами\" продаж. Оценки пользователей корреляции с продажами не имеют. Можно увидеть, что те игры, которым эксперты дают высокие оценки - продаются лучше."
   ]
  },
  {
   "cell_type": "markdown",
   "metadata": {},
   "source": [
    "## Составление портрета пользователя каждого региона\n",
    "\n",
    "<a id='5-topoc'></a>"
   ]
  },
  {
   "cell_type": "markdown",
   "metadata": {},
   "source": [
    "Далее проведем аналитику по отдельным регионам и выявим закономерности."
   ]
  },
  {
   "cell_type": "code",
   "execution_count": 73,
   "metadata": {
    "scrolled": false
   },
   "outputs": [
    {
     "data": {
      "image/png": "[encoded data removed]",
      "text/plain": [
       "<Figure size 1080x576 with 1 Axes>"
      ]
     },
     "metadata": {
      "needs_background": "light"
     },
     "output_type": "display_data"
    }
   ],
   "source": [
    "na_users = games.groupby('platform')['na_sales'].sum().plot.bar(color='yellow',figsize=(15,8),grid=True,legend=True)\n",
    "eu_users = games.groupby('platform')['eu_sales'].sum().plot.bar(color='red',legend=True)\n",
    "jp_users = games.groupby('platform')['jp_sales'].sum().plot.bar(color='green',legend=True)\n",
    "\n",
    "na_users.set_title('Предпочтения пользователей по платформам', fontsize = 20)\n",
    "na_users.set_xlabel('Платформа', fontsize = 15)\n",
    "na_users.set_ylabel('Количество пользователей', fontsize = 15)\n",
    "\n",
    "plt.show()"
   ]
  },
  {
   "cell_type": "code",
   "execution_count": 74,
   "metadata": {
    "scrolled": false
   },
   "outputs": [
    {
     "data": {
      "text/plain": [
       "Text(0, 0.5, 'Количество пользователей')"
      ]
     },
     "execution_count": 74,
     "metadata": {},
     "output_type": "execute_result"
    },
    {
     "data": {
      "image/png": "[encoded data removed]",
      "text/plain": [
       "<Figure size 720x360 with 1 Axes>"
      ]
     },
     "metadata": {
      "needs_background": "light"
     },
     "output_type": "display_data"
    }
   ],
   "source": [
    "na_users = games.groupby('platform')['na_sales'].sum().plot.bar(color='yellow',figsize=(10,5),legend=True)\n",
    "\n",
    "na_users.set_title('Предпочтения пользователей по платформам, Северная Америка', fontsize = 20)\n",
    "na_users.set_xlabel('Платформа', fontsize = 15)\n",
    "na_users.set_ylabel('Количество пользователей', fontsize = 15)"
   ]
  },
  {
   "cell_type": "code",
   "execution_count": 75,
   "metadata": {
    "scrolled": false
   },
   "outputs": [
    {
     "data": {
      "text/plain": [
       "Text(0, 0.5, 'Количество пользователей')"
      ]
     },
     "execution_count": 75,
     "metadata": {},
     "output_type": "execute_result"
    },
    {
     "data": {
      "image/png": "[encoded data removed]",
      "text/plain": [
       "<Figure size 720x360 with 1 Axes>"
      ]
     },
     "metadata": {
      "needs_background": "light"
     },
     "output_type": "display_data"
    }
   ],
   "source": [
    "eu_users = games.groupby('platform')['eu_sales'].sum().plot.bar(color='red',figsize=(10,5),legend=True)\n",
    "\n",
    "eu_users.set_title('Предпочтения пользователей по платформам, Европа', fontsize = 20)\n",
    "eu_users.set_xlabel('Платформа', fontsize = 15)\n",
    "eu_users.set_ylabel('Количество пользователей', fontsize = 15)"
   ]
  },
  {
   "cell_type": "code",
   "execution_count": 76,
   "metadata": {},
   "outputs": [
    {
     "data": {
      "text/plain": [
       "Text(0, 0.5, 'Количество пользователей')"
      ]
     },
     "execution_count": 76,
     "metadata": {},
     "output_type": "execute_result"
    },
    {
     "data": {
      "image/png": "[encoded data removed]",
      "text/plain": [
       "<Figure size 720x360 with 1 Axes>"
      ]
     },
     "metadata": {
      "needs_background": "light"
     },
     "output_type": "display_data"
    }
   ],
   "source": [
    "jp_users = games.groupby('platform')['jp_sales'].sum().plot.bar(color='green',figsize=(10,5),legend=True)\n",
    "\n",
    "jp_users.set_title('Предпочтения пользователей по платформам, Япония', fontsize = 20)\n",
    "jp_users.set_xlabel('Платформа', fontsize = 15)\n",
    "jp_users.set_ylabel('Количество пользователей', fontsize = 15)"
   ]
  },
  {
   "cell_type": "markdown",
   "metadata": {},
   "source": [
    "По графикам выше видно, что в разных регионах предпочтения по платформам не сильно, но различаются. Для Северной Америки топ пять - PS4, XOne, X360, 3DC,PS3. Для Европы - PS4, XOne, X360, 3DC,PS3. Для Японии - 3DC, PS4, PSV, PS3, WiiU. У Wii и DC - производитель японская компания Nintendo, у PlayStation тоже японская компания Sony.Платформу XOne - производит американская компания Microsoft. Именно поэтому у Северной Америки в топ входит именно XOne, а Япония эту платформу покупает очень редко (возможно тут играют геополитические нюансы). Европа же подходит к покупке объективно и пользуется платформами разных производителей."
   ]
  },
  {
   "cell_type": "code",
   "execution_count": 77,
   "metadata": {
    "scrolled": false
   },
   "outputs": [
    {
     "data": {
      "text/plain": [
       "Text(0, 0.5, 'Количество пользователей')"
      ]
     },
     "execution_count": 77,
     "metadata": {},
     "output_type": "execute_result"
    },
    {
     "data": {
      "image/png": "[encoded data removed]",
      "text/plain": [
       "<Figure size 1080x576 with 1 Axes>"
      ]
     },
     "metadata": {
      "needs_background": "light"
     },
     "output_type": "display_data"
    }
   ],
   "source": [
    "na_users = games.groupby('genre')['na_sales'].sum().plot.bar(color='yellow',figsize=(15,8),grid=True,legend=True)\n",
    "eu_users = games.groupby('genre')['eu_sales'].sum().plot.bar(color='red',legend=True)\n",
    "jp_users = games.groupby('genre')['jp_sales'].sum().plot.bar(color='green',legend=True)\n",
    "\n",
    "na_users.set_title('Предпочтения пользователей по жанрам игр', fontsize = 20)\n",
    "na_users.set_xlabel('Жанр игры', fontsize = 15)\n",
    "na_users.set_ylabel('Количество пользователей', fontsize = 15)"
   ]
  },
  {
   "cell_type": "markdown",
   "metadata": {},
   "source": [
    "По графику можно заметить, что пользователи из Европы и Северной Америки отдают предпочтение играм жанра Шутер. Пользователи из Японии предпочитают ролевые игры."
   ]
  },
  {
   "cell_type": "code",
   "execution_count": 78,
   "metadata": {
    "scrolled": false
   },
   "outputs": [
    {
     "data": {
      "text/plain": [
       "Text(0, 0.5, 'Количество пользователей')"
      ]
     },
     "execution_count": 78,
     "metadata": {},
     "output_type": "execute_result"
    },
    {
     "data": {
      "image/png": "[encoded data removed]",
      "text/plain": [
       "<Figure size 1080x576 with 1 Axes>"
      ]
     },
     "metadata": {
      "needs_background": "light"
     },
     "output_type": "display_data"
    }
   ],
   "source": [
    "na_users = games.groupby('rating')['na_sales'].sum().plot.bar(color='yellow',figsize=(15,8),grid=True,legend=True)\n",
    "eu_users = games.groupby('rating')['eu_sales'].sum().plot.bar(color='red',legend=True)\n",
    "jp_users = games.groupby('rating')['jp_sales'].sum().plot.bar(color='green',legend=True)\n",
    "\n",
    "na_users.set_title('Предпочтения пользователей по категориям игр', fontsize = 20)\n",
    "na_users.set_xlabel('Категория игры', fontsize = 15)\n",
    "na_users.set_ylabel('Количество пользователей', fontsize = 15)\n"
   ]
  },
  {
   "cell_type": "markdown",
   "metadata": {},
   "source": [
    "По графику выше видно что у различных регионов также есть предпочтения по классифокации Entertainment Software Rating Board. Пользователи Европы - играм категории «Для взрослых», а пользователи Северной Америки - «Для всех от 10 лет и старше». Пользователи Японии не пользуются рейтингом ESRB, так как в Японии есть свой собственный рейтинг."
   ]
  },
  {
   "cell_type": "markdown",
   "metadata": {},
   "source": [
    "### Вывод"
   ]
  },
  {
   "cell_type": "markdown",
   "metadata": {},
   "source": [
    "Из проведенного выше исследования можно составить приблизительные портреты пользователей из разных регионов:\n",
    "\n",
    "1) Пользователи из Северной Америки предпочитают платформу XOne. Играют в игры жанра Шутер , категории «Для всех от 10 лет и старше» \n",
    "\n",
    "2) Пользователи из Европы предпочитают платформу PS4. Играют в игры жанра Шутер, категории \"Для взрослых\" \n",
    "\n",
    "3) Пользователи из Японии предпочитают платформу 3DC. Играют в игры жанра Ролевые, категориями не интересуются"
   ]
  },
  {
   "cell_type": "markdown",
   "metadata": {},
   "source": [
    "## Проверка гипотез\n",
    "\n",
    "<a id='6-topoc'></a>"
   ]
  },
  {
   "cell_type": "markdown",
   "metadata": {},
   "source": [
    "### Гепотеза 1"
   ]
  },
  {
   "cell_type": "markdown",
   "metadata": {},
   "source": [
    "Средние пользовательские рейтинги платформ Xbox One и PC одинаковые. Так как объемы продаж у PC больше, чем у Xbox One логично допустить, что пользователи PC оценивают выше. Альтернативной гепотезой будет - средний пользовательский рейтинг PC больше, чем Xbox One."
   ]
  },
  {
   "cell_type": "code",
   "execution_count": 36,
   "metadata": {},
   "outputs": [],
   "source": [
    "xb_score = games[games['platform'] == 'XOne']['user_score'].dropna()\n",
    "pc_score = games[games['platform'] == 'PC']['user_score'].dropna()"
   ]
  },
  {
   "cell_type": "code",
   "execution_count": 37,
   "metadata": {
    "scrolled": true
   },
   "outputs": [
    {
     "name": "stdout",
     "output_type": "stream",
     "text": [
      "p-значение: 0.9477474604032579\n",
      "Не получилось отвергнуть нулевую гипотезу\n"
     ]
    }
   ],
   "source": [
    "alpha = 0.05\n",
    "\n",
    "results = st.ttest_ind(pc_score, xb_score, alternative='greater')\n",
    "\n",
    "\n",
    "print('p-значение:', results.pvalue)\n",
    "\n",
    "if results.pvalue < alpha:\n",
    "    print('Отвергаем нулевую гипотезу')\n",
    "else:\n",
    "    print('Не получилось отвергнуть нулевую гипотезу')"
   ]
  },
  {
   "cell_type": "markdown",
   "metadata": {},
   "source": [
    "У нас нет оснований утверждать, что средние пользовательские рейтинги платформ Xbox One и PC значимо различаются"
   ]
  },
  {
   "cell_type": "markdown",
   "metadata": {},
   "source": [
    "### Гепотеза 2"
   ]
  },
  {
   "cell_type": "markdown",
   "metadata": {},
   "source": [
    "Средние пользовательские рейтинги жанров Action (англ. «действие», экшен-игры) и Sports (англ. «спортивные соревнования») разные. Альтернативную гепотезу сформулируем как - Средние пользовательские рейтинги жанров Action и Sports равны."
   ]
  },
  {
   "cell_type": "code",
   "execution_count": 38,
   "metadata": {},
   "outputs": [],
   "source": [
    "act_score = games[games['genre'] == 'Action']['user_score'].dropna()\n",
    "sp_score = games[games['genre'] == 'Sports']['user_score'].dropna()"
   ]
  },
  {
   "cell_type": "code",
   "execution_count": 39,
   "metadata": {
    "scrolled": true
   },
   "outputs": [
    {
     "name": "stdout",
     "output_type": "stream",
     "text": [
      "p-значение: 1.0\n",
      "Отвергаем нулевую гепотезу\n"
     ]
    }
   ],
   "source": [
    "alpha = 0.05\n",
    "\n",
    "results = st.ttest_ind(sp_score, act_score,  alternative='greater')\n",
    "\n",
    "\n",
    "print('p-значение:', results.pvalue)\n",
    "\n",
    "if results.pvalue < alpha:\n",
    "    print('Принимаем нулевую гепотезу')\n",
    "else:\n",
    "    print('Отвергаем нулевую гепотезу')"
   ]
  },
  {
   "cell_type": "markdown",
   "metadata": {},
   "source": [
    "У нас нет оснований полагать, что средние пользовательские рейтинги жанров Action и Sports значимо различаются"
   ]
  },
  {
   "cell_type": "markdown",
   "metadata": {},
   "source": [
    "### Вывод"
   ]
  },
  {
   "cell_type": "markdown",
   "metadata": {},
   "source": [
    "- У нас нет оснований утверждать, что средние пользовательские рейтинги платформ Xbox One и PC значимо различаются\n",
    "\n",
    "- У нас нет оснований полагать, что средние пользовательские рейтинги жанров Action и Sports значимо различаются"
   ]
  },
  {
   "cell_type": "markdown",
   "metadata": {},
   "source": [
    "## Вывод\n",
    "<a id='7-topoc'></a>"
   ]
  },
  {
   "cell_type": "markdown",
   "metadata": {},
   "source": [
    "Для анализа был получен датасет из 11 колонок и 16714 строк. В процессе предобработки данных были упорядочены названия столбцов датафрейма, типы данных, обработаны пропуски и проведена проверка на дубликаты. Данные для исследования были получены не очень хорошего качества, но после предобработки стали пригодны для исследования.\n",
    "\n",
    "**В процессе предобработки** обнаружились пропуски в столбце с годом релиза игры, оценках критиков и пользователей, рейтинге.\n",
    "\n",
    "    1) В столбце с годом релиза пропусков очень небольшое количество, вероятно это человеческий фактор при сборе данных послужил причиной. Пропуски наблюдаются менее чем в 2% данных, поэтому их вполне безболезненно удалили.\n",
    "\n",
    "    2) В таблице пропущенных значений видно, что пропуски в оценках пользователей, критиков и рейтинге зачастую наблюдаюстя в одних и тех же строках, что подсказывает нам - природа у пропусков одинаковая. Вероятно в нашем исследовании присутствуют игры от инди разработчиков или \"пиратские\" версии. Такие игры не оцениваются рейтинговыми агенствами и не получают официальных оценок от критиков или пользователей.Тем не менее пропущенных значений слишком много, чтобы их можно было заменить или восполнить без потери актуальности, поэтому оставили значения как есть.\n",
    "\n",
    "    3) В оценках пользователей присутствует строковое значение tbd - To Be Determined. Выходит, эти оценки еще не опубликованы - их заменили на нули.\n",
    "\n",
    "    4) При проверке на дубликаты пары \"Имя - Игровая консоль\" было обнаружено четыре дубликата, количество относительно маленькое - их удалили.\n",
    "\n",
    "При **исследовательском анализе** удалось выяснить следующее:\n",
    "\n",
    "\n",
    "    - В процессе исследования было учтено, что первый персональный компьютер появился в 1981 году и разумеется ближайшие лет 10 разработка игр не была приоритетной задачей. По графику видно, что с 1995 в год начали продавать свыше 200 млн. копий в год. После 1995 каждый следующий год продажи подрастают на 100 млн. копий и так до 2009-го, почти 15 лет идет планомерный рост объемов продаж. С 2009 популярность видеоигр начала падать, вероятнее всего это характеризуется взрослением целевой аудитории. Прошлая аудитория повзрослела, а новую привлечь не успели из-за слабой пи-ар компании. Также общество после 2009 возможно провело переоценку влияния видеоигр на человека и изменило свою политику на этот счет. \n",
    "\n",
    "\n",
    "    - Лидером продаж оказалась платформа PS4\n",
    "\n",
    "\n",
    "    - Было обнаружено что в разные периоды на рынке наибольшей популярностью обладала определенная платформа. К примеру с 1996 по 1999 это была GB, затем с 2004 по конец 2005 - DS, далее до начала 2009 - Wii и наконец X360 почти до 2014. При этом PS на рынке были очень давно, продавались хорошо, но звезд с неба не хватали. Если хочется стабильности, то имеет смысл положиться на PS. К тому же, если доверять истории, пратформа взявшая верх продаж на рынке в последний рассматриваемый год - будет радовать популярностью еще года четыре.Если брать данные за последние три года - явным лидером будет опять же PS (PS4), соответственно ставка на этого производителя будет вполне оправдана.\n",
    "\n",
    "\n",
    "    - Продолжая анализ самых популярных платформ, были построены \"Ящики с усам\". По графику видно, что самые высокие медианные значения по количествам продаж наблюдаются у PS4 и XOne, на третьем месте WiiU. Далее рассмотрим объемы продаж по жанрам.\n",
    "\n",
    "\n",
    "    - Из всех жанров самыми \"продаваемыми\" можно назвать: стрелялки (33%) и игры про спорт (12%). Пользователи предпочитают шутеры так как в повседневной жизни им не хватает ~насилия~ динамичных сюжетов. Спортивные игры бронируют себе в целевую аудиторию болельшиков, спортсменов и поклонников спорта - а это достаточно обширная масса игроков. В аутсайдерах: головоломки (3%) и приключения (2%). Головоломки не пользуются популярностью вернее всего потому, что пользователь в играх ищет расслабление и отдых, а головоломки требуют умственного напряжения, как и приключения в общем случае. При планировании закупок нужно обязательно это учитывать.\n",
    "\n",
    "\n",
    "    - По графику выше видно, что Sony PlayStation каждый год выпускают новую платформу, иногда сразу несколько. В большинстве случаев платформы существуют на рынке около двух лет. Самой продаваемой из моделей, очевидно, является PS4.\n",
    "\n",
    "\n",
    "    - По графикам рассеивания мы узнали, что оценки критиков имеют прямую, средне-слабую корреляцию с \"цифрами\" продаж. Оценки пользователей корреляции с продажами не имеют. Можно увидеть, что те игры, которым эксперты дают высокие оценки - продаются лучше.\n",
    "\n",
    "\n",
    "Также можно составить приблизительные **портреты пользователей** из разных регионов:\n",
    "\n",
    "    1) Пользователи из Северной Америки предпочитают платформу XOne. Играют в игры жанра Шутер , категории «Для всех от 10 лет и старше»\n",
    "\n",
    "    2) Пользователи из Европы предпочитают платформу PS4. Играют в игры жанра Шутер, категории \"Для взрослых\"\n",
    "\n",
    "    3) Пользователи из Японии предпочитают платформу 3DC. Играют в игры жанра Ролевые, категориями не интересуются\n",
    "\n",
    "В процессе **статистического анализа данных** было построено две гепотезы:\n",
    "\n",
    "    1) Средние пользовательские рейтинги платформ Xbox One и PC одинаковые - гепотеза оказалась не верна -  у нас нет оснований утверждать, что средние пользовательские рейтинги платформ Xbox One и PC значимо различаются\n",
    "\n",
    "    2) Средние пользовательские рейтинги жанров Action (англ. «действие», экшен-игры) и Sports (англ. «спортивные соревнования») разные - у нас нет оснований полагать, что средние пользовательские рейтинги жанров Action и Sports значимо различаются\n",
    "    \n",
    "По результатам исследования самыми продаваемыми оказались игры на PS4 и XOne. У нас нет оснований полагать, что пользовательские рейтинги этих двух платформ значительно отличаются, поэтому на них заострять внимание не стоит. В Европе и Северной Америке следовало бы отдать предпочтения шутерам категории 10+ , а в Японии - ролевым играм. При этом следует учитывать, что за последнее время продажи начали снижаться - общество винит видеоигры в дурном влиянии на детей и развитии склонности к насилию. Чтобы реклама была успешной нужно учесть беспокойство общественности и продемонстрировать положительные тенденции влияниия на аудиторию."
   ]
  }
 ],
 "metadata": {
  "ExecuteTimeLog": [
   {
    "duration": 43,
    "start_time": "2024-05-10T17:55:56.115Z"
   },
   {
    "duration": 1112,
    "start_time": "2024-05-10T17:56:02.464Z"
   },
   {
    "duration": 101,
    "start_time": "2024-05-10T17:56:04.313Z"
   },
   {
    "duration": 13,
    "start_time": "2024-05-10T17:56:37.379Z"
   },
   {
    "duration": 15,
    "start_time": "2024-05-10T17:56:50.506Z"
   },
   {
    "duration": 561,
    "start_time": "2024-05-10T18:08:07.051Z"
   },
   {
    "duration": 27,
    "start_time": "2024-05-10T18:12:29.935Z"
   },
   {
    "duration": 18,
    "start_time": "2024-05-10T18:17:50.842Z"
   },
   {
    "duration": 483,
    "start_time": "2024-05-10T18:18:27.210Z"
   },
   {
    "duration": 4,
    "start_time": "2024-05-10T18:19:00.125Z"
   },
   {
    "duration": 18,
    "start_time": "2024-05-10T18:19:06.452Z"
   },
   {
    "duration": 476,
    "start_time": "2024-05-10T18:19:12.293Z"
   },
   {
    "duration": 6,
    "start_time": "2024-05-10T18:23:52.196Z"
   },
   {
    "duration": 517,
    "start_time": "2024-05-10T18:23:58.348Z"
   },
   {
    "duration": 5,
    "start_time": "2024-05-10T18:25:17.980Z"
   },
   {
    "duration": 5,
    "start_time": "2024-05-10T18:25:26.081Z"
   },
   {
    "duration": 4,
    "start_time": "2024-05-10T18:29:07.920Z"
   },
   {
    "duration": 6,
    "start_time": "2024-05-10T18:29:17.824Z"
   },
   {
    "duration": 7,
    "start_time": "2024-05-10T18:29:45.193Z"
   },
   {
    "duration": 3,
    "start_time": "2024-05-10T18:29:52.927Z"
   },
   {
    "duration": 71,
    "start_time": "2024-05-10T18:29:52.932Z"
   },
   {
    "duration": 13,
    "start_time": "2024-05-10T18:29:53.005Z"
   },
   {
    "duration": 22,
    "start_time": "2024-05-10T18:29:53.020Z"
   },
   {
    "duration": 39,
    "start_time": "2024-05-10T18:29:53.044Z"
   },
   {
    "duration": 0,
    "start_time": "2024-05-10T18:29:53.084Z"
   },
   {
    "duration": 0,
    "start_time": "2024-05-10T18:29:53.085Z"
   },
   {
    "duration": 629,
    "start_time": "2024-05-10T18:29:56.425Z"
   },
   {
    "duration": 3,
    "start_time": "2024-05-10T18:30:17.867Z"
   },
   {
    "duration": 54,
    "start_time": "2024-05-10T18:30:17.871Z"
   },
   {
    "duration": 11,
    "start_time": "2024-05-10T18:30:17.926Z"
   },
   {
    "duration": 19,
    "start_time": "2024-05-10T18:30:17.938Z"
   },
   {
    "duration": 31,
    "start_time": "2024-05-10T18:30:17.958Z"
   },
   {
    "duration": 478,
    "start_time": "2024-05-10T18:30:17.990Z"
   },
   {
    "duration": 4,
    "start_time": "2024-05-10T18:30:22.043Z"
   },
   {
    "duration": 6,
    "start_time": "2024-05-10T18:30:24.954Z"
   },
   {
    "duration": 4,
    "start_time": "2024-05-10T18:33:45.579Z"
   },
   {
    "duration": 2,
    "start_time": "2024-05-10T18:35:09.263Z"
   },
   {
    "duration": 15,
    "start_time": "2024-05-10T18:36:27.184Z"
   },
   {
    "duration": 1888,
    "start_time": "2024-05-10T18:41:17.845Z"
   },
   {
    "duration": 5,
    "start_time": "2024-05-10T18:41:38.049Z"
   },
   {
    "duration": 9,
    "start_time": "2024-05-10T18:41:54.918Z"
   },
   {
    "duration": 21,
    "start_time": "2024-05-10T18:42:28.560Z"
   },
   {
    "duration": 10,
    "start_time": "2024-05-10T18:42:53.751Z"
   },
   {
    "duration": 33,
    "start_time": "2024-05-10T18:42:59.289Z"
   },
   {
    "duration": 6,
    "start_time": "2024-05-10T18:43:13.457Z"
   },
   {
    "duration": 5,
    "start_time": "2024-05-10T18:44:50.493Z"
   },
   {
    "duration": 7,
    "start_time": "2024-05-10T18:44:57.493Z"
   },
   {
    "duration": 4,
    "start_time": "2024-05-10T18:45:06.069Z"
   },
   {
    "duration": 159,
    "start_time": "2024-05-10T18:45:16.282Z"
   },
   {
    "duration": 7,
    "start_time": "2024-05-10T18:45:30.126Z"
   },
   {
    "duration": 9,
    "start_time": "2024-05-10T18:45:41.134Z"
   },
   {
    "duration": 2,
    "start_time": "2024-05-10T18:45:52.334Z"
   },
   {
    "duration": 61,
    "start_time": "2024-05-10T18:45:52.338Z"
   },
   {
    "duration": 12,
    "start_time": "2024-05-10T18:45:52.400Z"
   },
   {
    "duration": 15,
    "start_time": "2024-05-10T18:45:52.413Z"
   },
   {
    "duration": 23,
    "start_time": "2024-05-10T18:45:52.430Z"
   },
   {
    "duration": 10,
    "start_time": "2024-05-10T18:45:52.454Z"
   },
   {
    "duration": 22,
    "start_time": "2024-05-10T18:45:52.465Z"
   },
   {
    "duration": 0,
    "start_time": "2024-05-10T18:45:52.488Z"
   },
   {
    "duration": 3,
    "start_time": "2024-05-10T18:46:00.278Z"
   },
   {
    "duration": 3,
    "start_time": "2024-05-10T18:46:04.688Z"
   },
   {
    "duration": 51,
    "start_time": "2024-05-10T18:46:04.693Z"
   },
   {
    "duration": 10,
    "start_time": "2024-05-10T18:46:04.746Z"
   },
   {
    "duration": 12,
    "start_time": "2024-05-10T18:46:04.757Z"
   },
   {
    "duration": 21,
    "start_time": "2024-05-10T18:46:04.770Z"
   },
   {
    "duration": 2,
    "start_time": "2024-05-10T18:46:04.793Z"
   },
   {
    "duration": 16,
    "start_time": "2024-05-10T18:46:04.796Z"
   },
   {
    "duration": 483,
    "start_time": "2024-05-10T18:46:04.813Z"
   },
   {
    "duration": 5,
    "start_time": "2024-05-10T18:46:10.904Z"
   },
   {
    "duration": 11,
    "start_time": "2024-05-10T18:46:17.977Z"
   },
   {
    "duration": 12,
    "start_time": "2024-05-10T18:47:40.388Z"
   },
   {
    "duration": 6,
    "start_time": "2024-05-10T18:47:44.803Z"
   },
   {
    "duration": 5,
    "start_time": "2024-05-10T18:48:16.309Z"
   },
   {
    "duration": 6,
    "start_time": "2024-05-10T18:48:33.589Z"
   },
   {
    "duration": 6,
    "start_time": "2024-05-10T18:49:46.319Z"
   },
   {
    "duration": 9,
    "start_time": "2024-05-10T18:50:05.455Z"
   },
   {
    "duration": 7,
    "start_time": "2024-05-10T18:50:15.560Z"
   },
   {
    "duration": 7,
    "start_time": "2024-05-10T18:50:47.343Z"
   },
   {
    "duration": 3,
    "start_time": "2024-05-10T18:51:44.564Z"
   },
   {
    "duration": 5,
    "start_time": "2024-05-10T18:52:12.109Z"
   },
   {
    "duration": 6,
    "start_time": "2024-05-10T18:52:23.974Z"
   },
   {
    "duration": 6,
    "start_time": "2024-05-10T18:53:01.690Z"
   },
   {
    "duration": 9,
    "start_time": "2024-05-10T18:55:02.851Z"
   },
   {
    "duration": 13,
    "start_time": "2024-05-10T18:55:17.533Z"
   },
   {
    "duration": 11,
    "start_time": "2024-05-10T18:55:31.364Z"
   },
   {
    "duration": 5,
    "start_time": "2024-05-10T19:00:28.893Z"
   },
   {
    "duration": 6,
    "start_time": "2024-05-10T19:00:45.416Z"
   },
   {
    "duration": 7,
    "start_time": "2024-05-10T19:00:55.848Z"
   },
   {
    "duration": 2,
    "start_time": "2024-05-10T19:01:08.828Z"
   },
   {
    "duration": 57,
    "start_time": "2024-05-10T19:01:08.831Z"
   },
   {
    "duration": 11,
    "start_time": "2024-05-10T19:01:08.889Z"
   },
   {
    "duration": 20,
    "start_time": "2024-05-10T19:01:08.901Z"
   },
   {
    "duration": 27,
    "start_time": "2024-05-10T19:01:08.922Z"
   },
   {
    "duration": 516,
    "start_time": "2024-05-10T19:01:08.950Z"
   },
   {
    "duration": 8,
    "start_time": "2024-05-10T19:01:16.319Z"
   },
   {
    "duration": 6,
    "start_time": "2024-05-10T19:02:32.251Z"
   },
   {
    "duration": 6,
    "start_time": "2024-05-10T19:02:38.370Z"
   },
   {
    "duration": 7,
    "start_time": "2024-05-10T19:03:01.856Z"
   },
   {
    "duration": 6,
    "start_time": "2024-05-10T19:03:17.646Z"
   },
   {
    "duration": 6,
    "start_time": "2024-05-10T19:03:17.654Z"
   },
   {
    "duration": 7,
    "start_time": "2024-05-10T19:03:17.661Z"
   },
   {
    "duration": 12,
    "start_time": "2024-05-10T19:03:17.669Z"
   },
   {
    "duration": 33,
    "start_time": "2024-05-10T19:03:17.682Z"
   },
   {
    "duration": 97,
    "start_time": "2024-05-10T19:03:17.717Z"
   },
   {
    "duration": 0,
    "start_time": "2024-05-10T19:03:17.815Z"
   },
   {
    "duration": 0,
    "start_time": "2024-05-10T19:03:17.816Z"
   },
   {
    "duration": 0,
    "start_time": "2024-05-10T19:03:17.817Z"
   },
   {
    "duration": 2,
    "start_time": "2024-05-10T19:03:25.687Z"
   },
   {
    "duration": 53,
    "start_time": "2024-05-10T19:03:25.691Z"
   },
   {
    "duration": 10,
    "start_time": "2024-05-10T19:03:25.746Z"
   },
   {
    "duration": 12,
    "start_time": "2024-05-10T19:03:25.757Z"
   },
   {
    "duration": 19,
    "start_time": "2024-05-10T19:03:25.771Z"
   },
   {
    "duration": 500,
    "start_time": "2024-05-10T19:03:25.791Z"
   },
   {
    "duration": 7,
    "start_time": "2024-05-10T19:03:30.373Z"
   },
   {
    "duration": 5,
    "start_time": "2024-05-10T19:03:53.896Z"
   },
   {
    "duration": 5,
    "start_time": "2024-05-10T19:04:02.918Z"
   },
   {
    "duration": 3,
    "start_time": "2024-05-10T19:04:10.238Z"
   },
   {
    "duration": 4,
    "start_time": "2024-05-10T19:04:21.862Z"
   },
   {
    "duration": 5,
    "start_time": "2024-05-10T19:05:43.664Z"
   },
   {
    "duration": 4,
    "start_time": "2024-05-10T19:05:47.938Z"
   },
   {
    "duration": 16,
    "start_time": "2024-05-10T19:05:59.041Z"
   },
   {
    "duration": 7,
    "start_time": "2024-05-10T19:06:22.564Z"
   },
   {
    "duration": 6,
    "start_time": "2024-05-10T19:06:31.939Z"
   },
   {
    "duration": 16,
    "start_time": "2024-05-10T19:06:44.756Z"
   },
   {
    "duration": 17,
    "start_time": "2024-05-10T19:07:03.395Z"
   },
   {
    "duration": 23,
    "start_time": "2024-05-10T19:07:07.062Z"
   },
   {
    "duration": 17,
    "start_time": "2024-05-10T19:07:19.349Z"
   },
   {
    "duration": 18,
    "start_time": "2024-05-10T19:07:34.733Z"
   },
   {
    "duration": 28,
    "start_time": "2024-05-10T19:07:40.717Z"
   },
   {
    "duration": 14,
    "start_time": "2024-05-10T19:09:19.113Z"
   },
   {
    "duration": 24,
    "start_time": "2024-05-10T19:09:25.697Z"
   },
   {
    "duration": 39,
    "start_time": "2024-05-10T19:12:51.926Z"
   },
   {
    "duration": 51,
    "start_time": "2024-05-10T19:12:58.983Z"
   },
   {
    "duration": 8,
    "start_time": "2024-05-10T19:13:53.488Z"
   },
   {
    "duration": 21,
    "start_time": "2024-05-10T19:13:58.854Z"
   },
   {
    "duration": 49,
    "start_time": "2024-05-10T19:14:42.116Z"
   },
   {
    "duration": 48,
    "start_time": "2024-05-10T19:15:53.445Z"
   },
   {
    "duration": 1370,
    "start_time": "2024-05-11T05:18:02.560Z"
   },
   {
    "duration": 191,
    "start_time": "2024-05-11T05:18:03.932Z"
   },
   {
    "duration": 17,
    "start_time": "2024-05-11T05:18:04.124Z"
   },
   {
    "duration": 28,
    "start_time": "2024-05-11T05:18:04.142Z"
   },
   {
    "duration": 22,
    "start_time": "2024-05-11T05:18:04.172Z"
   },
   {
    "duration": 710,
    "start_time": "2024-05-11T05:18:04.196Z"
   },
   {
    "duration": 5,
    "start_time": "2024-05-11T05:18:04.908Z"
   },
   {
    "duration": 111,
    "start_time": "2024-05-11T05:18:04.915Z"
   },
   {
    "duration": 18,
    "start_time": "2024-05-11T05:19:22.167Z"
   },
   {
    "duration": 16,
    "start_time": "2024-05-11T05:19:49.230Z"
   },
   {
    "duration": 22,
    "start_time": "2024-05-11T05:20:35.048Z"
   },
   {
    "duration": 110,
    "start_time": "2024-05-11T05:22:20.788Z"
   },
   {
    "duration": 595,
    "start_time": "2024-05-11T05:22:33.932Z"
   },
   {
    "duration": 19,
    "start_time": "2024-05-11T05:23:10.566Z"
   },
   {
    "duration": 32,
    "start_time": "2024-05-11T05:24:55.154Z"
   },
   {
    "duration": 24,
    "start_time": "2024-05-11T05:25:12.746Z"
   },
   {
    "duration": 33,
    "start_time": "2024-05-11T05:25:25.122Z"
   },
   {
    "duration": 24,
    "start_time": "2024-05-11T05:25:57.690Z"
   },
   {
    "duration": 14,
    "start_time": "2024-05-11T05:27:54.792Z"
   },
   {
    "duration": 24,
    "start_time": "2024-05-11T05:28:53.218Z"
   },
   {
    "duration": 24,
    "start_time": "2024-05-11T05:29:38.083Z"
   },
   {
    "duration": 6,
    "start_time": "2024-05-11T05:31:10.871Z"
   },
   {
    "duration": 6,
    "start_time": "2024-05-11T05:32:39.465Z"
   },
   {
    "duration": 5,
    "start_time": "2024-05-11T05:32:42.800Z"
   },
   {
    "duration": 32,
    "start_time": "2024-05-11T05:34:41.429Z"
   },
   {
    "duration": 50,
    "start_time": "2024-05-11T05:34:50.574Z"
   },
   {
    "duration": 41,
    "start_time": "2024-05-11T05:35:29.333Z"
   },
   {
    "duration": 31,
    "start_time": "2024-05-11T05:35:48.528Z"
   },
   {
    "duration": 28,
    "start_time": "2024-05-11T05:35:59.024Z"
   },
   {
    "duration": 48,
    "start_time": "2024-05-11T05:36:05.671Z"
   },
   {
    "duration": 43,
    "start_time": "2024-05-11T05:36:33.481Z"
   },
   {
    "duration": 43,
    "start_time": "2024-05-11T05:37:23.517Z"
   },
   {
    "duration": 40,
    "start_time": "2024-05-11T05:38:43.598Z"
   },
   {
    "duration": 83,
    "start_time": "2024-05-11T05:39:05.791Z"
   },
   {
    "duration": 37,
    "start_time": "2024-05-11T05:39:14.520Z"
   },
   {
    "duration": 40,
    "start_time": "2024-05-11T05:39:38.319Z"
   },
   {
    "duration": 37,
    "start_time": "2024-05-11T05:40:23.337Z"
   },
   {
    "duration": 36,
    "start_time": "2024-05-11T05:40:46.301Z"
   },
   {
    "duration": 33,
    "start_time": "2024-05-11T05:46:14.703Z"
   },
   {
    "duration": 12,
    "start_time": "2024-05-11T06:16:23.884Z"
   },
   {
    "duration": 8,
    "start_time": "2024-05-11T06:16:37.012Z"
   },
   {
    "duration": 10,
    "start_time": "2024-05-11T06:20:17.380Z"
   },
   {
    "duration": 3,
    "start_time": "2024-05-11T06:23:08.378Z"
   },
   {
    "duration": 7,
    "start_time": "2024-05-11T06:23:12.770Z"
   },
   {
    "duration": 10,
    "start_time": "2024-05-11T06:24:13.404Z"
   },
   {
    "duration": 10,
    "start_time": "2024-05-11T06:24:30.933Z"
   },
   {
    "duration": 10,
    "start_time": "2024-05-11T06:25:25.278Z"
   },
   {
    "duration": 6,
    "start_time": "2024-05-11T06:26:14.763Z"
   },
   {
    "duration": 4,
    "start_time": "2024-05-11T06:26:18.704Z"
   },
   {
    "duration": 16,
    "start_time": "2024-05-11T06:26:25.233Z"
   },
   {
    "duration": 6,
    "start_time": "2024-05-11T06:28:36.996Z"
   },
   {
    "duration": 9,
    "start_time": "2024-05-11T06:30:04.960Z"
   },
   {
    "duration": 7,
    "start_time": "2024-05-11T06:30:20.737Z"
   },
   {
    "duration": 7,
    "start_time": "2024-05-11T06:30:57.018Z"
   },
   {
    "duration": 7,
    "start_time": "2024-05-11T06:31:10.130Z"
   },
   {
    "duration": 7,
    "start_time": "2024-05-11T06:31:50.580Z"
   },
   {
    "duration": 19,
    "start_time": "2024-05-11T06:35:34.300Z"
   },
   {
    "duration": 158,
    "start_time": "2024-05-11T06:36:10.486Z"
   },
   {
    "duration": 290,
    "start_time": "2024-05-11T06:37:03.815Z"
   },
   {
    "duration": 75,
    "start_time": "2024-05-11T06:37:26.903Z"
   },
   {
    "duration": 340,
    "start_time": "2024-05-11T06:37:29.792Z"
   },
   {
    "duration": 424,
    "start_time": "2024-05-11T06:37:35.768Z"
   },
   {
    "duration": 300,
    "start_time": "2024-05-11T06:37:44.616Z"
   },
   {
    "duration": 6,
    "start_time": "2024-05-11T06:46:59.100Z"
   },
   {
    "duration": 19,
    "start_time": "2024-05-11T06:47:03.756Z"
   },
   {
    "duration": 230,
    "start_time": "2024-05-11T06:47:16.388Z"
   },
   {
    "duration": 201,
    "start_time": "2024-05-11T06:52:36.375Z"
   },
   {
    "duration": 226,
    "start_time": "2024-05-11T06:52:53.008Z"
   },
   {
    "duration": 15,
    "start_time": "2024-05-11T06:55:05.980Z"
   },
   {
    "duration": 232,
    "start_time": "2024-05-11T06:56:48.296Z"
   },
   {
    "duration": 233,
    "start_time": "2024-05-11T06:56:57.234Z"
   },
   {
    "duration": 4,
    "start_time": "2024-05-11T07:00:26.128Z"
   },
   {
    "duration": 224,
    "start_time": "2024-05-11T07:00:35.272Z"
   },
   {
    "duration": 3,
    "start_time": "2024-05-11T07:06:57.633Z"
   },
   {
    "duration": 77,
    "start_time": "2024-05-11T07:06:57.639Z"
   },
   {
    "duration": 15,
    "start_time": "2024-05-11T07:06:57.717Z"
   },
   {
    "duration": 65,
    "start_time": "2024-05-11T07:06:57.734Z"
   },
   {
    "duration": 66,
    "start_time": "2024-05-11T07:06:57.802Z"
   },
   {
    "duration": 692,
    "start_time": "2024-05-11T07:06:57.870Z"
   },
   {
    "duration": 7,
    "start_time": "2024-05-11T07:06:58.564Z"
   },
   {
    "duration": 21,
    "start_time": "2024-05-11T07:06:58.573Z"
   },
   {
    "duration": 23,
    "start_time": "2024-05-11T07:06:58.596Z"
   },
   {
    "duration": 34,
    "start_time": "2024-05-11T07:06:58.620Z"
   },
   {
    "duration": 8,
    "start_time": "2024-05-11T07:06:58.657Z"
   },
   {
    "duration": 24,
    "start_time": "2024-05-11T07:06:58.667Z"
   },
   {
    "duration": 6,
    "start_time": "2024-05-11T07:06:58.694Z"
   },
   {
    "duration": 31,
    "start_time": "2024-05-11T07:06:58.702Z"
   },
   {
    "duration": 431,
    "start_time": "2024-05-11T07:06:58.735Z"
   },
   {
    "duration": 240,
    "start_time": "2024-05-11T07:07:03.046Z"
   },
   {
    "duration": 5,
    "start_time": "2024-05-11T07:07:09.289Z"
   },
   {
    "duration": 4,
    "start_time": "2024-05-11T07:07:14.406Z"
   },
   {
    "duration": 259,
    "start_time": "2024-05-11T07:07:16.718Z"
   },
   {
    "duration": 1484,
    "start_time": "2024-05-11T15:11:06.184Z"
   },
   {
    "duration": 200,
    "start_time": "2024-05-11T15:11:07.670Z"
   },
   {
    "duration": 16,
    "start_time": "2024-05-11T15:11:07.871Z"
   },
   {
    "duration": 22,
    "start_time": "2024-05-11T15:11:07.889Z"
   },
   {
    "duration": 23,
    "start_time": "2024-05-11T15:11:07.913Z"
   },
   {
    "duration": 674,
    "start_time": "2024-05-11T15:11:07.937Z"
   },
   {
    "duration": 6,
    "start_time": "2024-05-11T15:11:08.613Z"
   },
   {
    "duration": 17,
    "start_time": "2024-05-11T15:11:08.621Z"
   },
   {
    "duration": 7,
    "start_time": "2024-05-11T15:11:08.867Z"
   },
   {
    "duration": 61,
    "start_time": "2024-05-11T15:11:08.876Z"
   },
   {
    "duration": 8,
    "start_time": "2024-05-11T15:11:08.938Z"
   },
   {
    "duration": 17,
    "start_time": "2024-05-11T15:11:08.947Z"
   },
   {
    "duration": 8,
    "start_time": "2024-05-11T15:11:08.966Z"
   },
   {
    "duration": 30,
    "start_time": "2024-05-11T15:11:08.976Z"
   },
   {
    "duration": 350,
    "start_time": "2024-05-11T15:11:10.242Z"
   },
   {
    "duration": 275,
    "start_time": "2024-05-11T15:11:10.594Z"
   },
   {
    "duration": 1160,
    "start_time": "2024-05-11T15:11:29.421Z"
   },
   {
    "duration": 57,
    "start_time": "2024-05-11T15:11:30.583Z"
   },
   {
    "duration": 18,
    "start_time": "2024-05-11T15:11:30.641Z"
   },
   {
    "duration": 107,
    "start_time": "2024-05-11T15:11:30.661Z"
   },
   {
    "duration": 50,
    "start_time": "2024-05-11T15:11:30.770Z"
   },
   {
    "duration": 631,
    "start_time": "2024-05-11T15:11:30.821Z"
   },
   {
    "duration": 6,
    "start_time": "2024-05-11T15:11:31.453Z"
   },
   {
    "duration": 72,
    "start_time": "2024-05-11T15:11:31.473Z"
   },
   {
    "duration": 56,
    "start_time": "2024-05-11T15:11:31.547Z"
   },
   {
    "duration": 124,
    "start_time": "2024-05-11T15:11:31.605Z"
   },
   {
    "duration": 7,
    "start_time": "2024-05-11T15:11:31.731Z"
   },
   {
    "duration": 23,
    "start_time": "2024-05-11T15:11:31.740Z"
   },
   {
    "duration": 6,
    "start_time": "2024-05-11T15:11:31.765Z"
   },
   {
    "duration": 26,
    "start_time": "2024-05-11T15:11:31.774Z"
   },
   {
    "duration": 392,
    "start_time": "2024-05-11T15:11:31.801Z"
   },
   {
    "duration": 261,
    "start_time": "2024-05-11T15:11:32.195Z"
   },
   {
    "duration": 5,
    "start_time": "2024-05-11T15:11:32.458Z"
   },
   {
    "duration": 276,
    "start_time": "2024-05-11T15:11:32.472Z"
   },
   {
    "duration": 23,
    "start_time": "2024-05-11T15:11:32.750Z"
   },
   {
    "duration": 68,
    "start_time": "2024-05-11T15:11:32.775Z"
   },
   {
    "duration": 0,
    "start_time": "2024-05-11T15:11:32.844Z"
   },
   {
    "duration": 0,
    "start_time": "2024-05-11T15:11:32.846Z"
   },
   {
    "duration": 9,
    "start_time": "2024-05-11T15:12:14.381Z"
   },
   {
    "duration": 17,
    "start_time": "2024-05-11T15:12:30.181Z"
   },
   {
    "duration": 270,
    "start_time": "2024-05-11T15:13:05.050Z"
   },
   {
    "duration": 126,
    "start_time": "2024-05-11T15:15:12.846Z"
   },
   {
    "duration": 14,
    "start_time": "2024-05-11T15:17:13.958Z"
   },
   {
    "duration": 5,
    "start_time": "2024-05-11T15:17:31.623Z"
   },
   {
    "duration": 24,
    "start_time": "2024-05-11T15:17:35.950Z"
   },
   {
    "duration": 24,
    "start_time": "2024-05-11T15:18:26.882Z"
   },
   {
    "duration": 20,
    "start_time": "2024-05-11T15:19:45.883Z"
   },
   {
    "duration": 11,
    "start_time": "2024-05-11T15:20:01.804Z"
   },
   {
    "duration": 185,
    "start_time": "2024-05-11T15:20:25.076Z"
   },
   {
    "duration": 183,
    "start_time": "2024-05-11T15:20:35.958Z"
   },
   {
    "duration": 225,
    "start_time": "2024-05-11T15:23:47.274Z"
   },
   {
    "duration": 17,
    "start_time": "2024-05-11T15:29:34.879Z"
   },
   {
    "duration": 14,
    "start_time": "2024-05-11T15:30:08.955Z"
   },
   {
    "duration": 2262,
    "start_time": "2024-05-11T15:30:43.362Z"
   },
   {
    "duration": 30,
    "start_time": "2024-05-11T15:30:58.634Z"
   },
   {
    "duration": 192,
    "start_time": "2024-05-11T15:31:16.462Z"
   },
   {
    "duration": 119,
    "start_time": "2024-05-11T15:31:23.514Z"
   },
   {
    "duration": 144,
    "start_time": "2024-05-11T15:31:26.835Z"
   },
   {
    "duration": 12,
    "start_time": "2024-05-11T15:33:16.119Z"
   },
   {
    "duration": 18,
    "start_time": "2024-05-11T15:39:12.755Z"
   },
   {
    "duration": 16,
    "start_time": "2024-05-11T15:39:52.255Z"
   },
   {
    "duration": 17,
    "start_time": "2024-05-11T15:40:16.270Z"
   },
   {
    "duration": 4,
    "start_time": "2024-05-11T15:40:21.000Z"
   },
   {
    "duration": 87,
    "start_time": "2024-05-11T15:40:21.006Z"
   },
   {
    "duration": 16,
    "start_time": "2024-05-11T15:40:21.095Z"
   },
   {
    "duration": 19,
    "start_time": "2024-05-11T15:40:21.113Z"
   },
   {
    "duration": 40,
    "start_time": "2024-05-11T15:40:21.133Z"
   },
   {
    "duration": 614,
    "start_time": "2024-05-11T15:40:21.174Z"
   },
   {
    "duration": 6,
    "start_time": "2024-05-11T15:40:21.790Z"
   },
   {
    "duration": 16,
    "start_time": "2024-05-11T15:40:21.797Z"
   },
   {
    "duration": 21,
    "start_time": "2024-05-11T15:40:21.814Z"
   },
   {
    "duration": 38,
    "start_time": "2024-05-11T15:40:21.838Z"
   },
   {
    "duration": 8,
    "start_time": "2024-05-11T15:40:21.878Z"
   },
   {
    "duration": 31,
    "start_time": "2024-05-11T15:40:21.887Z"
   },
   {
    "duration": 9,
    "start_time": "2024-05-11T15:40:21.920Z"
   },
   {
    "duration": 28,
    "start_time": "2024-05-11T15:40:21.930Z"
   },
   {
    "duration": 431,
    "start_time": "2024-05-11T15:40:21.960Z"
   },
   {
    "duration": 263,
    "start_time": "2024-05-11T15:40:22.393Z"
   },
   {
    "duration": 26,
    "start_time": "2024-05-11T15:40:22.658Z"
   },
   {
    "duration": 290,
    "start_time": "2024-05-11T15:40:22.685Z"
   },
   {
    "duration": 16,
    "start_time": "2024-05-11T15:40:36.734Z"
   },
   {
    "duration": 7,
    "start_time": "2024-05-11T15:41:08.529Z"
   },
   {
    "duration": 14,
    "start_time": "2024-05-11T15:41:12.767Z"
   },
   {
    "duration": 137,
    "start_time": "2024-05-11T15:41:18.631Z"
   },
   {
    "duration": 145,
    "start_time": "2024-05-11T15:41:24.047Z"
   },
   {
    "duration": 16,
    "start_time": "2024-05-11T15:41:32.577Z"
   },
   {
    "duration": 15,
    "start_time": "2024-05-11T15:41:51.657Z"
   },
   {
    "duration": 109,
    "start_time": "2024-05-11T15:42:26.842Z"
   },
   {
    "duration": 147,
    "start_time": "2024-05-11T15:44:46.472Z"
   },
   {
    "duration": 19,
    "start_time": "2024-05-11T15:44:53.993Z"
   },
   {
    "duration": 14,
    "start_time": "2024-05-11T15:45:11.661Z"
   },
   {
    "duration": 11,
    "start_time": "2024-05-11T15:45:27.626Z"
   },
   {
    "duration": 8,
    "start_time": "2024-05-11T15:46:00.075Z"
   },
   {
    "duration": 8,
    "start_time": "2024-05-11T15:46:03.435Z"
   },
   {
    "duration": 4,
    "start_time": "2024-05-11T15:46:08.422Z"
   },
   {
    "duration": 69,
    "start_time": "2024-05-11T15:46:08.428Z"
   },
   {
    "duration": 15,
    "start_time": "2024-05-11T15:46:08.499Z"
   },
   {
    "duration": 18,
    "start_time": "2024-05-11T15:46:08.517Z"
   },
   {
    "duration": 39,
    "start_time": "2024-05-11T15:46:08.537Z"
   },
   {
    "duration": 614,
    "start_time": "2024-05-11T15:46:08.578Z"
   },
   {
    "duration": 8,
    "start_time": "2024-05-11T15:46:09.194Z"
   },
   {
    "duration": 44,
    "start_time": "2024-05-11T15:46:09.203Z"
   },
   {
    "duration": 25,
    "start_time": "2024-05-11T15:46:09.249Z"
   },
   {
    "duration": 49,
    "start_time": "2024-05-11T15:46:09.278Z"
   },
   {
    "duration": 8,
    "start_time": "2024-05-11T15:46:09.329Z"
   },
   {
    "duration": 22,
    "start_time": "2024-05-11T15:46:09.338Z"
   },
   {
    "duration": 18,
    "start_time": "2024-05-11T15:46:09.361Z"
   },
   {
    "duration": 24,
    "start_time": "2024-05-11T15:46:09.381Z"
   },
   {
    "duration": 366,
    "start_time": "2024-05-11T15:46:09.407Z"
   },
   {
    "duration": 269,
    "start_time": "2024-05-11T15:46:09.775Z"
   },
   {
    "duration": 16,
    "start_time": "2024-05-11T15:46:10.045Z"
   },
   {
    "duration": 400,
    "start_time": "2024-05-11T15:46:10.073Z"
   },
   {
    "duration": 10,
    "start_time": "2024-05-11T15:46:13.585Z"
   },
   {
    "duration": 3,
    "start_time": "2024-05-11T15:46:53.711Z"
   },
   {
    "duration": 61,
    "start_time": "2024-05-11T15:46:53.717Z"
   },
   {
    "duration": 16,
    "start_time": "2024-05-11T15:46:53.779Z"
   },
   {
    "duration": 25,
    "start_time": "2024-05-11T15:46:53.797Z"
   },
   {
    "duration": 30,
    "start_time": "2024-05-11T15:46:53.825Z"
   },
   {
    "duration": 618,
    "start_time": "2024-05-11T15:46:53.857Z"
   },
   {
    "duration": 5,
    "start_time": "2024-05-11T15:46:54.476Z"
   },
   {
    "duration": 6,
    "start_time": "2024-05-11T15:46:54.483Z"
   },
   {
    "duration": 7,
    "start_time": "2024-05-11T15:46:54.490Z"
   },
   {
    "duration": 37,
    "start_time": "2024-05-11T15:46:54.498Z"
   },
   {
    "duration": 40,
    "start_time": "2024-05-11T15:46:54.537Z"
   },
   {
    "duration": 7,
    "start_time": "2024-05-11T15:46:54.579Z"
   },
   {
    "duration": 5,
    "start_time": "2024-05-11T15:46:54.589Z"
   },
   {
    "duration": 47,
    "start_time": "2024-05-11T15:46:54.595Z"
   },
   {
    "duration": 333,
    "start_time": "2024-05-11T15:46:54.644Z"
   },
   {
    "duration": 255,
    "start_time": "2024-05-11T15:46:54.979Z"
   },
   {
    "duration": 17,
    "start_time": "2024-05-11T15:46:55.236Z"
   },
   {
    "duration": 254,
    "start_time": "2024-05-11T15:46:57.661Z"
   },
   {
    "duration": 267,
    "start_time": "2024-05-11T15:47:10.223Z"
   },
   {
    "duration": 7,
    "start_time": "2024-05-11T15:47:50.488Z"
   },
   {
    "duration": 7,
    "start_time": "2024-05-11T15:48:00.729Z"
   },
   {
    "duration": 8,
    "start_time": "2024-05-11T15:48:27.065Z"
   },
   {
    "duration": 8,
    "start_time": "2024-05-11T15:48:44.937Z"
   },
   {
    "duration": 7,
    "start_time": "2024-05-11T15:49:37.940Z"
   },
   {
    "duration": 4,
    "start_time": "2024-05-11T15:51:05.191Z"
   },
   {
    "duration": 4,
    "start_time": "2024-05-11T15:51:13.086Z"
   },
   {
    "duration": 11,
    "start_time": "2024-05-11T15:51:50.665Z"
   },
   {
    "duration": 11,
    "start_time": "2024-05-11T15:52:32.995Z"
   },
   {
    "duration": 12,
    "start_time": "2024-05-11T15:52:45.829Z"
   },
   {
    "duration": 3,
    "start_time": "2024-05-11T15:52:50.225Z"
   },
   {
    "duration": 69,
    "start_time": "2024-05-11T15:52:50.230Z"
   },
   {
    "duration": 14,
    "start_time": "2024-05-11T15:52:50.301Z"
   },
   {
    "duration": 15,
    "start_time": "2024-05-11T15:52:50.317Z"
   },
   {
    "duration": 22,
    "start_time": "2024-05-11T15:52:50.334Z"
   },
   {
    "duration": 602,
    "start_time": "2024-05-11T15:52:50.373Z"
   },
   {
    "duration": 5,
    "start_time": "2024-05-11T15:52:50.977Z"
   },
   {
    "duration": 31,
    "start_time": "2024-05-11T15:52:50.983Z"
   },
   {
    "duration": 7,
    "start_time": "2024-05-11T15:52:51.015Z"
   },
   {
    "duration": 35,
    "start_time": "2024-05-11T15:52:51.023Z"
   },
   {
    "duration": 7,
    "start_time": "2024-05-11T15:52:51.059Z"
   },
   {
    "duration": 16,
    "start_time": "2024-05-11T15:52:51.072Z"
   },
   {
    "duration": 18,
    "start_time": "2024-05-11T15:52:51.089Z"
   },
   {
    "duration": 25,
    "start_time": "2024-05-11T15:52:51.110Z"
   },
   {
    "duration": 368,
    "start_time": "2024-05-11T15:52:51.136Z"
   },
   {
    "duration": 267,
    "start_time": "2024-05-11T15:52:51.506Z"
   },
   {
    "duration": 17,
    "start_time": "2024-05-11T15:52:51.774Z"
   },
   {
    "duration": 397,
    "start_time": "2024-05-11T15:52:51.793Z"
   },
   {
    "duration": 11,
    "start_time": "2024-05-11T15:52:52.191Z"
   },
   {
    "duration": 10,
    "start_time": "2024-05-11T15:52:55.404Z"
   },
   {
    "duration": 12,
    "start_time": "2024-05-11T15:53:23.236Z"
   },
   {
    "duration": 11,
    "start_time": "2024-05-11T15:53:44.030Z"
   },
   {
    "duration": 6,
    "start_time": "2024-05-11T15:54:28.696Z"
   },
   {
    "duration": 7,
    "start_time": "2024-05-11T15:54:33.080Z"
   },
   {
    "duration": 7,
    "start_time": "2024-05-11T15:54:46.839Z"
   },
   {
    "duration": 11,
    "start_time": "2024-05-11T15:55:04.090Z"
   },
   {
    "duration": 10,
    "start_time": "2024-05-11T15:55:11.609Z"
   },
   {
    "duration": 7,
    "start_time": "2024-05-11T15:55:22.266Z"
   },
   {
    "duration": 74,
    "start_time": "2024-05-11T16:02:48.997Z"
   },
   {
    "duration": 81,
    "start_time": "2024-05-11T16:03:07.218Z"
   },
   {
    "duration": 76,
    "start_time": "2024-05-11T16:03:13.289Z"
   },
   {
    "duration": 26,
    "start_time": "2024-05-11T16:03:29.793Z"
   },
   {
    "duration": 33,
    "start_time": "2024-05-11T16:04:23.829Z"
   },
   {
    "duration": 23,
    "start_time": "2024-05-11T16:05:40.915Z"
   },
   {
    "duration": 23,
    "start_time": "2024-05-11T16:05:51.585Z"
   },
   {
    "duration": 37,
    "start_time": "2024-05-11T16:05:58.109Z"
   },
   {
    "duration": 31,
    "start_time": "2024-05-11T16:06:05.378Z"
   },
   {
    "duration": 9,
    "start_time": "2024-05-11T16:10:03.331Z"
   },
   {
    "duration": 9,
    "start_time": "2024-05-11T16:10:44.690Z"
   },
   {
    "duration": 145,
    "start_time": "2024-05-11T16:10:56.949Z"
   },
   {
    "duration": 32,
    "start_time": "2024-05-11T16:11:32.062Z"
   },
   {
    "duration": 33,
    "start_time": "2024-05-11T16:15:12.429Z"
   },
   {
    "duration": 38,
    "start_time": "2024-05-11T16:15:22.534Z"
   },
   {
    "duration": 206,
    "start_time": "2024-05-11T16:15:42.726Z"
   },
   {
    "duration": 297,
    "start_time": "2024-05-11T16:16:18.105Z"
   },
   {
    "duration": 265,
    "start_time": "2024-05-11T16:19:40.044Z"
   },
   {
    "duration": 255,
    "start_time": "2024-05-11T16:19:53.034Z"
   },
   {
    "duration": 275,
    "start_time": "2024-05-11T16:21:05.767Z"
   },
   {
    "duration": 253,
    "start_time": "2024-05-11T16:21:11.603Z"
   },
   {
    "duration": 242,
    "start_time": "2024-05-11T16:21:45.512Z"
   },
   {
    "duration": 251,
    "start_time": "2024-05-11T16:22:47.724Z"
   },
   {
    "duration": 257,
    "start_time": "2024-05-11T16:23:01.059Z"
   },
   {
    "duration": 304,
    "start_time": "2024-05-11T16:23:13.257Z"
   },
   {
    "duration": 285,
    "start_time": "2024-05-11T16:30:45.384Z"
   },
   {
    "duration": 544,
    "start_time": "2024-05-11T16:33:01.183Z"
   },
   {
    "duration": 11,
    "start_time": "2024-05-11T16:34:39.683Z"
   },
   {
    "duration": 10,
    "start_time": "2024-05-11T16:35:06.784Z"
   },
   {
    "duration": 10,
    "start_time": "2024-05-11T16:35:18.039Z"
   },
   {
    "duration": 3,
    "start_time": "2024-05-11T16:35:22.290Z"
   },
   {
    "duration": 64,
    "start_time": "2024-05-11T16:35:22.295Z"
   },
   {
    "duration": 16,
    "start_time": "2024-05-11T16:35:22.361Z"
   },
   {
    "duration": 20,
    "start_time": "2024-05-11T16:35:22.379Z"
   },
   {
    "duration": 29,
    "start_time": "2024-05-11T16:35:22.402Z"
   },
   {
    "duration": 674,
    "start_time": "2024-05-11T16:35:22.433Z"
   },
   {
    "duration": 6,
    "start_time": "2024-05-11T16:35:23.108Z"
   },
   {
    "duration": 43,
    "start_time": "2024-05-11T16:35:23.115Z"
   },
   {
    "duration": 14,
    "start_time": "2024-05-11T16:35:23.159Z"
   },
   {
    "duration": 41,
    "start_time": "2024-05-11T16:35:23.175Z"
   },
   {
    "duration": 8,
    "start_time": "2024-05-11T16:35:23.217Z"
   },
   {
    "duration": 19,
    "start_time": "2024-05-11T16:35:23.226Z"
   },
   {
    "duration": 7,
    "start_time": "2024-05-11T16:35:23.248Z"
   },
   {
    "duration": 32,
    "start_time": "2024-05-11T16:35:23.256Z"
   },
   {
    "duration": 534,
    "start_time": "2024-05-11T16:35:23.290Z"
   },
   {
    "duration": 315,
    "start_time": "2024-05-11T16:35:23.826Z"
   },
   {
    "duration": 30,
    "start_time": "2024-05-11T16:35:24.143Z"
   },
   {
    "duration": 320,
    "start_time": "2024-05-11T16:35:24.175Z"
   },
   {
    "duration": 290,
    "start_time": "2024-05-11T16:35:24.497Z"
   },
   {
    "duration": 25,
    "start_time": "2024-05-11T16:35:28.969Z"
   },
   {
    "duration": 26,
    "start_time": "2024-05-11T16:35:33.425Z"
   },
   {
    "duration": 20,
    "start_time": "2024-05-11T16:35:37.400Z"
   },
   {
    "duration": 24,
    "start_time": "2024-05-11T16:36:24.082Z"
   },
   {
    "duration": 23,
    "start_time": "2024-05-11T16:37:00.583Z"
   },
   {
    "duration": 173,
    "start_time": "2024-05-11T16:37:26.091Z"
   },
   {
    "duration": 390,
    "start_time": "2024-05-11T16:37:34.299Z"
   },
   {
    "duration": 401,
    "start_time": "2024-05-11T16:37:54.804Z"
   },
   {
    "duration": 469,
    "start_time": "2024-05-11T16:38:06.049Z"
   },
   {
    "duration": 651,
    "start_time": "2024-05-11T16:38:48.088Z"
   },
   {
    "duration": 424,
    "start_time": "2024-05-11T16:40:33.882Z"
   },
   {
    "duration": 23,
    "start_time": "2024-05-11T16:43:54.010Z"
   },
   {
    "duration": 1847,
    "start_time": "2024-05-11T16:44:03.881Z"
   },
   {
    "duration": 20,
    "start_time": "2024-05-11T16:44:29.250Z"
   },
   {
    "duration": 1928,
    "start_time": "2024-05-11T16:44:42.881Z"
   },
   {
    "duration": 1972,
    "start_time": "2024-05-11T16:45:41.060Z"
   },
   {
    "duration": 1739,
    "start_time": "2024-05-11T16:45:52.742Z"
   },
   {
    "duration": 48,
    "start_time": "2024-05-11T16:46:27.991Z"
   },
   {
    "duration": 1071,
    "start_time": "2024-05-11T16:48:07.865Z"
   },
   {
    "duration": 16,
    "start_time": "2024-05-11T16:48:40.866Z"
   },
   {
    "duration": 1763,
    "start_time": "2024-05-11T16:48:49.369Z"
   },
   {
    "duration": 1833,
    "start_time": "2024-05-11T16:48:59.443Z"
   },
   {
    "duration": 1796,
    "start_time": "2024-05-11T16:49:07.906Z"
   },
   {
    "duration": 38,
    "start_time": "2024-05-11T16:49:28.003Z"
   },
   {
    "duration": 11,
    "start_time": "2024-05-11T16:49:48.573Z"
   },
   {
    "duration": 7,
    "start_time": "2024-05-11T16:50:03.190Z"
   },
   {
    "duration": 34,
    "start_time": "2024-05-11T16:50:16.711Z"
   },
   {
    "duration": 616,
    "start_time": "2024-05-11T16:50:38.625Z"
   },
   {
    "duration": 1223,
    "start_time": "2024-05-11T16:51:13.967Z"
   },
   {
    "duration": 655,
    "start_time": "2024-05-11T16:51:33.752Z"
   },
   {
    "duration": 501,
    "start_time": "2024-05-11T16:51:40.679Z"
   },
   {
    "duration": 477,
    "start_time": "2024-05-11T16:51:44.878Z"
   },
   {
    "duration": 5,
    "start_time": "2024-05-11T16:54:38.773Z"
   },
   {
    "duration": 9,
    "start_time": "2024-05-11T17:04:09.856Z"
   },
   {
    "duration": 9,
    "start_time": "2024-05-11T17:04:19.982Z"
   },
   {
    "duration": 83,
    "start_time": "2024-05-11T17:04:41.833Z"
   },
   {
    "duration": 79,
    "start_time": "2024-05-11T17:05:00.946Z"
   },
   {
    "duration": 10,
    "start_time": "2024-05-11T17:05:15.698Z"
   },
   {
    "duration": 120,
    "start_time": "2024-05-11T17:05:29.739Z"
   },
   {
    "duration": 9,
    "start_time": "2024-05-11T17:07:45.382Z"
   },
   {
    "duration": 705,
    "start_time": "2024-05-11T17:08:17.704Z"
   },
   {
    "duration": 103,
    "start_time": "2024-05-11T17:08:30.242Z"
   },
   {
    "duration": 1153,
    "start_time": "2024-05-11T17:09:44.675Z"
   },
   {
    "duration": 193,
    "start_time": "2024-05-11T17:10:03.182Z"
   },
   {
    "duration": 181,
    "start_time": "2024-05-11T17:10:40.181Z"
   },
   {
    "duration": 109,
    "start_time": "2024-05-11T17:11:20.022Z"
   },
   {
    "duration": 79,
    "start_time": "2024-05-11T17:12:25.656Z"
   },
   {
    "duration": 8,
    "start_time": "2024-05-11T17:12:35.138Z"
   },
   {
    "duration": 97,
    "start_time": "2024-05-11T17:13:31.402Z"
   },
   {
    "duration": 6,
    "start_time": "2024-05-11T17:14:56.893Z"
   },
   {
    "duration": 123,
    "start_time": "2024-05-11T17:15:11.566Z"
   },
   {
    "duration": 128,
    "start_time": "2024-05-11T17:15:21.774Z"
   },
   {
    "duration": 84,
    "start_time": "2024-05-11T17:15:28.477Z"
   },
   {
    "duration": 121,
    "start_time": "2024-05-11T17:15:55.981Z"
   },
   {
    "duration": 474,
    "start_time": "2024-05-11T17:17:20.649Z"
   },
   {
    "duration": 181,
    "start_time": "2024-05-11T17:17:37.971Z"
   },
   {
    "duration": 216,
    "start_time": "2024-05-11T17:18:01.099Z"
   },
   {
    "duration": 17,
    "start_time": "2024-05-11T17:20:44.581Z"
   },
   {
    "duration": 226,
    "start_time": "2024-05-11T17:20:57.482Z"
   },
   {
    "duration": 237,
    "start_time": "2024-05-11T17:21:03.344Z"
   },
   {
    "duration": 20,
    "start_time": "2024-05-11T17:36:03.407Z"
   },
   {
    "duration": 18,
    "start_time": "2024-05-11T17:36:31.368Z"
   },
   {
    "duration": 13,
    "start_time": "2024-05-11T17:37:19.507Z"
   },
   {
    "duration": 1352,
    "start_time": "2024-05-11T17:39:09.277Z"
   },
   {
    "duration": 147,
    "start_time": "2024-05-11T17:39:27.086Z"
   },
   {
    "duration": 281,
    "start_time": "2024-05-11T17:39:53.278Z"
   },
   {
    "duration": 397,
    "start_time": "2024-05-11T17:40:10.712Z"
   },
   {
    "duration": 124,
    "start_time": "2024-05-11T17:40:15.440Z"
   },
   {
    "duration": 6,
    "start_time": "2024-05-11T17:42:38.580Z"
   },
   {
    "duration": 69,
    "start_time": "2024-05-11T17:44:25.369Z"
   },
   {
    "duration": 486,
    "start_time": "2024-05-11T17:44:34.857Z"
   },
   {
    "duration": 84,
    "start_time": "2024-05-11T17:44:41.202Z"
   },
   {
    "duration": 10,
    "start_time": "2024-05-11T17:46:32.465Z"
   },
   {
    "duration": 10,
    "start_time": "2024-05-11T17:46:43.607Z"
   },
   {
    "duration": 8,
    "start_time": "2024-05-11T17:46:54.457Z"
   },
   {
    "duration": 3,
    "start_time": "2024-05-11T17:47:10.889Z"
   },
   {
    "duration": 96,
    "start_time": "2024-05-11T17:47:10.894Z"
   },
   {
    "duration": 15,
    "start_time": "2024-05-11T17:47:10.992Z"
   },
   {
    "duration": 16,
    "start_time": "2024-05-11T17:47:11.009Z"
   },
   {
    "duration": 34,
    "start_time": "2024-05-11T17:47:11.028Z"
   },
   {
    "duration": 659,
    "start_time": "2024-05-11T17:47:11.064Z"
   },
   {
    "duration": 7,
    "start_time": "2024-05-11T17:47:11.725Z"
   },
   {
    "duration": 10,
    "start_time": "2024-05-11T17:47:11.733Z"
   },
   {
    "duration": 14,
    "start_time": "2024-05-11T17:47:11.744Z"
   },
   {
    "duration": 50,
    "start_time": "2024-05-11T17:47:11.760Z"
   },
   {
    "duration": 7,
    "start_time": "2024-05-11T17:47:11.812Z"
   },
   {
    "duration": 15,
    "start_time": "2024-05-11T17:47:11.821Z"
   },
   {
    "duration": 20,
    "start_time": "2024-05-11T17:47:11.838Z"
   },
   {
    "duration": 8,
    "start_time": "2024-05-11T17:47:11.861Z"
   },
   {
    "duration": 4,
    "start_time": "2024-05-11T17:47:49.289Z"
   },
   {
    "duration": 288,
    "start_time": "2024-05-11T17:48:18.066Z"
   },
   {
    "duration": 7,
    "start_time": "2024-05-11T17:48:31.131Z"
   },
   {
    "duration": 129,
    "start_time": "2024-05-11T17:48:42.588Z"
   },
   {
    "duration": 2,
    "start_time": "2024-05-11T17:49:14.573Z"
   },
   {
    "duration": 1161,
    "start_time": "2024-05-11T17:49:23.654Z"
   },
   {
    "duration": 3,
    "start_time": "2024-05-11T17:49:33.598Z"
   },
   {
    "duration": 75,
    "start_time": "2024-05-11T17:49:33.602Z"
   },
   {
    "duration": 16,
    "start_time": "2024-05-11T17:49:33.679Z"
   },
   {
    "duration": 17,
    "start_time": "2024-05-11T17:49:33.697Z"
   },
   {
    "duration": 27,
    "start_time": "2024-05-11T17:49:33.717Z"
   },
   {
    "duration": 691,
    "start_time": "2024-05-11T17:49:33.746Z"
   },
   {
    "duration": 7,
    "start_time": "2024-05-11T17:49:34.439Z"
   },
   {
    "duration": 17,
    "start_time": "2024-05-11T17:49:34.448Z"
   },
   {
    "duration": 14,
    "start_time": "2024-05-11T17:49:34.466Z"
   },
   {
    "duration": 43,
    "start_time": "2024-05-11T17:49:34.482Z"
   },
   {
    "duration": 11,
    "start_time": "2024-05-11T17:49:34.527Z"
   },
   {
    "duration": 31,
    "start_time": "2024-05-11T17:49:34.540Z"
   },
   {
    "duration": 29,
    "start_time": "2024-05-11T17:49:34.574Z"
   },
   {
    "duration": 14,
    "start_time": "2024-05-11T17:49:34.604Z"
   },
   {
    "duration": 10,
    "start_time": "2024-05-11T17:49:34.619Z"
   },
   {
    "duration": 28,
    "start_time": "2024-05-11T17:49:34.630Z"
   },
   {
    "duration": 357,
    "start_time": "2024-05-11T17:49:34.660Z"
   },
   {
    "duration": 265,
    "start_time": "2024-05-11T17:49:35.019Z"
   },
   {
    "duration": 18,
    "start_time": "2024-05-11T17:49:35.286Z"
   },
   {
    "duration": 333,
    "start_time": "2024-05-11T17:49:35.305Z"
   },
   {
    "duration": 526,
    "start_time": "2024-05-11T17:49:35.639Z"
   },
   {
    "duration": 238,
    "start_time": "2024-05-11T17:49:36.167Z"
   },
   {
    "duration": 280,
    "start_time": "2024-05-11T17:49:36.406Z"
   },
   {
    "duration": 146,
    "start_time": "2024-05-11T17:49:40.657Z"
   },
   {
    "duration": 160,
    "start_time": "2024-05-11T17:49:45.125Z"
   },
   {
    "duration": 5,
    "start_time": "2024-05-11T17:54:10.263Z"
   },
   {
    "duration": 143,
    "start_time": "2024-05-11T17:56:20.613Z"
   },
   {
    "duration": 184,
    "start_time": "2024-05-11T17:56:37.197Z"
   },
   {
    "duration": 138,
    "start_time": "2024-05-11T18:00:00.076Z"
   },
   {
    "duration": 170,
    "start_time": "2024-05-11T18:00:36.637Z"
   },
   {
    "duration": 67,
    "start_time": "2024-05-11T18:13:30.578Z"
   },
   {
    "duration": 14,
    "start_time": "2024-05-11T18:16:42.591Z"
   },
   {
    "duration": 332,
    "start_time": "2024-05-11T18:19:33.135Z"
   },
   {
    "duration": 597,
    "start_time": "2024-05-11T18:19:43.524Z"
   },
   {
    "duration": 343,
    "start_time": "2024-05-11T18:20:16.205Z"
   },
   {
    "duration": 349,
    "start_time": "2024-05-11T18:24:33.138Z"
   },
   {
    "duration": 362,
    "start_time": "2024-05-11T18:24:45.824Z"
   },
   {
    "duration": 337,
    "start_time": "2024-05-11T18:26:22.897Z"
   },
   {
    "duration": 123,
    "start_time": "2024-05-11T18:27:15.803Z"
   },
   {
    "duration": 127,
    "start_time": "2024-05-11T18:27:24.653Z"
   },
   {
    "duration": 320,
    "start_time": "2024-05-11T18:27:55.747Z"
   },
   {
    "duration": 320,
    "start_time": "2024-05-11T18:28:24.485Z"
   },
   {
    "duration": 82,
    "start_time": "2024-05-11T18:28:47.554Z"
   },
   {
    "duration": 348,
    "start_time": "2024-05-11T18:28:52.133Z"
   },
   {
    "duration": 363,
    "start_time": "2024-05-11T18:30:16.529Z"
   },
   {
    "duration": 365,
    "start_time": "2024-05-11T18:32:18.222Z"
   },
   {
    "duration": 350,
    "start_time": "2024-05-11T18:32:27.758Z"
   },
   {
    "duration": 636,
    "start_time": "2024-05-11T18:32:55.303Z"
   },
   {
    "duration": 420,
    "start_time": "2024-05-11T18:33:31.960Z"
   },
   {
    "duration": 415,
    "start_time": "2024-05-11T18:33:50.804Z"
   },
   {
    "duration": 441,
    "start_time": "2024-05-11T18:34:11.695Z"
   },
   {
    "duration": 422,
    "start_time": "2024-05-11T18:34:28.693Z"
   },
   {
    "duration": 430,
    "start_time": "2024-05-11T18:35:33.443Z"
   },
   {
    "duration": 415,
    "start_time": "2024-05-11T18:35:45.096Z"
   },
   {
    "duration": 420,
    "start_time": "2024-05-11T18:35:56.085Z"
   },
   {
    "duration": 6,
    "start_time": "2024-05-11T18:38:37.612Z"
   },
   {
    "duration": 316,
    "start_time": "2024-05-11T18:39:29.939Z"
   },
   {
    "duration": 286,
    "start_time": "2024-05-11T18:39:37.276Z"
   },
   {
    "duration": 262,
    "start_time": "2024-05-11T18:39:53.813Z"
   },
   {
    "duration": 260,
    "start_time": "2024-05-11T18:40:05.028Z"
   },
   {
    "duration": 260,
    "start_time": "2024-05-11T18:40:15.005Z"
   },
   {
    "duration": 270,
    "start_time": "2024-05-11T18:40:34.453Z"
   },
   {
    "duration": 21,
    "start_time": "2024-05-11T19:01:41.434Z"
   },
   {
    "duration": 8,
    "start_time": "2024-05-11T19:01:48.891Z"
   },
   {
    "duration": 240,
    "start_time": "2024-05-11T19:02:35.993Z"
   },
   {
    "duration": 728,
    "start_time": "2024-05-11T19:10:44.868Z"
   },
   {
    "duration": 71,
    "start_time": "2024-05-11T19:25:31.401Z"
   },
   {
    "duration": 5,
    "start_time": "2024-05-11T19:39:51.119Z"
   },
   {
    "duration": 7,
    "start_time": "2024-05-11T19:40:48.009Z"
   },
   {
    "duration": 22,
    "start_time": "2024-05-11T19:41:38.339Z"
   },
   {
    "duration": 8,
    "start_time": "2024-05-11T19:42:14.106Z"
   },
   {
    "duration": 7,
    "start_time": "2024-05-11T19:42:19.929Z"
   },
   {
    "duration": 12,
    "start_time": "2024-05-11T19:42:21.727Z"
   },
   {
    "duration": 14,
    "start_time": "2024-05-11T19:42:32.976Z"
   },
   {
    "duration": 6,
    "start_time": "2024-05-11T19:45:00.394Z"
   },
   {
    "duration": 8,
    "start_time": "2024-05-11T19:45:03.466Z"
   },
   {
    "duration": 6,
    "start_time": "2024-05-11T19:47:40.171Z"
   },
   {
    "duration": 9,
    "start_time": "2024-05-11T19:48:00.144Z"
   },
   {
    "duration": 5,
    "start_time": "2024-05-11T19:49:27.892Z"
   },
   {
    "duration": 5,
    "start_time": "2024-05-11T19:50:08.228Z"
   },
   {
    "duration": 5,
    "start_time": "2024-05-11T19:50:23.686Z"
   },
   {
    "duration": 3,
    "start_time": "2024-05-11T19:52:49.658Z"
   },
   {
    "duration": 9,
    "start_time": "2024-05-11T19:55:41.096Z"
   },
   {
    "duration": 8,
    "start_time": "2024-05-11T19:56:32.229Z"
   },
   {
    "duration": 8,
    "start_time": "2024-05-11T19:56:51.651Z"
   },
   {
    "duration": 10,
    "start_time": "2024-05-11T19:57:22.853Z"
   },
   {
    "duration": 8,
    "start_time": "2024-05-11T19:57:36.005Z"
   },
   {
    "duration": 12,
    "start_time": "2024-05-11T20:07:20.968Z"
   },
   {
    "duration": 9,
    "start_time": "2024-05-11T20:07:31.572Z"
   },
   {
    "duration": 5,
    "start_time": "2024-05-11T20:07:42.912Z"
   },
   {
    "duration": 11,
    "start_time": "2024-05-11T20:08:12.872Z"
   },
   {
    "duration": 6,
    "start_time": "2024-05-11T20:08:39.063Z"
   },
   {
    "duration": 5,
    "start_time": "2024-05-11T20:08:43.129Z"
   },
   {
    "duration": 14,
    "start_time": "2024-05-11T20:13:14.170Z"
   },
   {
    "duration": 8,
    "start_time": "2024-05-11T20:13:40.670Z"
   },
   {
    "duration": 8,
    "start_time": "2024-05-11T20:13:45.292Z"
   },
   {
    "duration": 5,
    "start_time": "2024-05-11T20:13:47.328Z"
   },
   {
    "duration": 13,
    "start_time": "2024-05-11T20:13:58.116Z"
   },
   {
    "duration": 6,
    "start_time": "2024-05-11T20:13:59.820Z"
   },
   {
    "duration": 6,
    "start_time": "2024-05-11T20:16:05.024Z"
   },
   {
    "duration": 3,
    "start_time": "2024-05-11T20:19:47.091Z"
   },
   {
    "duration": 1155,
    "start_time": "2024-05-11T20:25:56.727Z"
   },
   {
    "duration": 62,
    "start_time": "2024-05-11T20:25:57.884Z"
   },
   {
    "duration": 16,
    "start_time": "2024-05-11T20:25:57.948Z"
   },
   {
    "duration": 40,
    "start_time": "2024-05-11T20:25:57.965Z"
   },
   {
    "duration": 23,
    "start_time": "2024-05-11T20:25:58.007Z"
   },
   {
    "duration": 650,
    "start_time": "2024-05-11T20:25:58.032Z"
   },
   {
    "duration": 6,
    "start_time": "2024-05-11T20:25:58.683Z"
   },
   {
    "duration": 59,
    "start_time": "2024-05-11T20:25:58.690Z"
   },
   {
    "duration": 23,
    "start_time": "2024-05-11T20:25:58.750Z"
   },
   {
    "duration": 14,
    "start_time": "2024-05-11T20:25:58.776Z"
   },
   {
    "duration": 17,
    "start_time": "2024-05-11T20:25:58.791Z"
   },
   {
    "duration": 12,
    "start_time": "2024-05-11T20:25:58.810Z"
   },
   {
    "duration": 24,
    "start_time": "2024-05-11T20:25:58.824Z"
   },
   {
    "duration": 25,
    "start_time": "2024-05-11T20:25:58.850Z"
   },
   {
    "duration": 18,
    "start_time": "2024-05-11T20:25:58.877Z"
   },
   {
    "duration": 47,
    "start_time": "2024-05-11T20:25:58.896Z"
   },
   {
    "duration": 361,
    "start_time": "2024-05-11T20:25:58.945Z"
   },
   {
    "duration": 256,
    "start_time": "2024-05-11T20:25:59.308Z"
   },
   {
    "duration": 5,
    "start_time": "2024-05-11T20:25:59.572Z"
   },
   {
    "duration": 278,
    "start_time": "2024-05-11T20:25:59.578Z"
   },
   {
    "duration": 508,
    "start_time": "2024-05-11T20:25:59.858Z"
   },
   {
    "duration": 319,
    "start_time": "2024-05-11T20:26:00.368Z"
   },
   {
    "duration": 167,
    "start_time": "2024-05-11T20:26:00.688Z"
   },
   {
    "duration": 304,
    "start_time": "2024-05-11T20:26:00.857Z"
   },
   {
    "duration": 141,
    "start_time": "2024-05-11T20:26:01.163Z"
   },
   {
    "duration": 236,
    "start_time": "2024-05-11T20:26:01.305Z"
   },
   {
    "duration": 0,
    "start_time": "2024-05-11T20:26:01.542Z"
   },
   {
    "duration": 0,
    "start_time": "2024-05-11T20:26:01.544Z"
   },
   {
    "duration": 0,
    "start_time": "2024-05-11T20:26:01.545Z"
   },
   {
    "duration": 0,
    "start_time": "2024-05-11T20:26:01.546Z"
   },
   {
    "duration": 0,
    "start_time": "2024-05-11T20:26:01.547Z"
   },
   {
    "duration": 0,
    "start_time": "2024-05-11T20:26:01.548Z"
   },
   {
    "duration": 0,
    "start_time": "2024-05-11T20:26:01.549Z"
   },
   {
    "duration": 0,
    "start_time": "2024-05-11T20:26:01.550Z"
   },
   {
    "duration": 0,
    "start_time": "2024-05-11T20:26:01.551Z"
   },
   {
    "duration": 0,
    "start_time": "2024-05-11T20:26:01.552Z"
   },
   {
    "duration": 0,
    "start_time": "2024-05-11T20:26:01.553Z"
   },
   {
    "duration": 8,
    "start_time": "2024-05-11T20:27:15.874Z"
   },
   {
    "duration": 5,
    "start_time": "2024-05-11T20:27:21.936Z"
   },
   {
    "duration": 1189,
    "start_time": "2024-05-11T20:27:29.979Z"
   },
   {
    "duration": 58,
    "start_time": "2024-05-11T20:27:31.170Z"
   },
   {
    "duration": 33,
    "start_time": "2024-05-11T20:27:31.229Z"
   },
   {
    "duration": 76,
    "start_time": "2024-05-11T20:27:31.264Z"
   },
   {
    "duration": 33,
    "start_time": "2024-05-11T20:27:31.342Z"
   },
   {
    "duration": 665,
    "start_time": "2024-05-11T20:27:31.377Z"
   },
   {
    "duration": 5,
    "start_time": "2024-05-11T20:27:32.044Z"
   },
   {
    "duration": 23,
    "start_time": "2024-05-11T20:27:32.051Z"
   },
   {
    "duration": 31,
    "start_time": "2024-05-11T20:27:32.076Z"
   },
   {
    "duration": 25,
    "start_time": "2024-05-11T20:27:32.110Z"
   },
   {
    "duration": 30,
    "start_time": "2024-05-11T20:27:32.137Z"
   },
   {
    "duration": 18,
    "start_time": "2024-05-11T20:27:32.169Z"
   },
   {
    "duration": 23,
    "start_time": "2024-05-11T20:27:32.189Z"
   },
   {
    "duration": 28,
    "start_time": "2024-05-11T20:27:32.214Z"
   },
   {
    "duration": 31,
    "start_time": "2024-05-11T20:27:32.244Z"
   },
   {
    "duration": 44,
    "start_time": "2024-05-11T20:27:32.277Z"
   },
   {
    "duration": 353,
    "start_time": "2024-05-11T20:27:32.323Z"
   },
   {
    "duration": 255,
    "start_time": "2024-05-11T20:27:32.678Z"
   },
   {
    "duration": 5,
    "start_time": "2024-05-11T20:27:32.934Z"
   },
   {
    "duration": 279,
    "start_time": "2024-05-11T20:27:32.940Z"
   },
   {
    "duration": 515,
    "start_time": "2024-05-11T20:27:33.221Z"
   },
   {
    "duration": 311,
    "start_time": "2024-05-11T20:27:33.738Z"
   },
   {
    "duration": 175,
    "start_time": "2024-05-11T20:27:34.051Z"
   },
   {
    "duration": 293,
    "start_time": "2024-05-11T20:27:34.228Z"
   },
   {
    "duration": 142,
    "start_time": "2024-05-11T20:27:34.523Z"
   },
   {
    "duration": 162,
    "start_time": "2024-05-11T20:27:34.667Z"
   },
   {
    "duration": 427,
    "start_time": "2024-05-11T20:27:34.831Z"
   },
   {
    "duration": 260,
    "start_time": "2024-05-11T20:27:35.262Z"
   },
   {
    "duration": 279,
    "start_time": "2024-05-11T20:27:35.524Z"
   },
   {
    "duration": 288,
    "start_time": "2024-05-11T20:27:35.804Z"
   },
   {
    "duration": 337,
    "start_time": "2024-05-11T20:27:36.094Z"
   },
   {
    "duration": 318,
    "start_time": "2024-05-11T20:27:36.432Z"
   },
   {
    "duration": 7,
    "start_time": "2024-05-11T20:27:36.752Z"
   },
   {
    "duration": 14,
    "start_time": "2024-05-11T20:27:36.761Z"
   },
   {
    "duration": 22,
    "start_time": "2024-05-11T20:27:36.776Z"
   },
   {
    "duration": 14,
    "start_time": "2024-05-11T20:27:36.800Z"
   },
   {
    "duration": 7,
    "start_time": "2024-05-11T20:27:36.816Z"
   },
   {
    "duration": 342,
    "start_time": "2024-05-11T20:28:36.570Z"
   },
   {
    "duration": 280,
    "start_time": "2024-05-11T20:28:57.963Z"
   },
   {
    "duration": 264,
    "start_time": "2024-05-11T20:29:16.132Z"
   },
   {
    "duration": 266,
    "start_time": "2024-05-11T20:30:18.317Z"
   },
   {
    "duration": 273,
    "start_time": "2024-05-11T20:30:57.758Z"
   },
   {
    "duration": 366,
    "start_time": "2024-05-11T20:31:03.858Z"
   },
   {
    "duration": 427,
    "start_time": "2024-05-11T20:31:50.596Z"
   },
   {
    "duration": 429,
    "start_time": "2024-05-11T20:32:18.970Z"
   },
   {
    "duration": 397,
    "start_time": "2024-05-11T20:32:39.247Z"
   },
   {
    "duration": 329,
    "start_time": "2024-05-11T20:33:13.419Z"
   },
   {
    "duration": 266,
    "start_time": "2024-05-11T20:33:27.364Z"
   },
   {
    "duration": 298,
    "start_time": "2024-05-11T20:33:40.716Z"
   },
   {
    "duration": 305,
    "start_time": "2024-05-11T20:34:05.949Z"
   },
   {
    "duration": 151,
    "start_time": "2024-05-11T20:35:20.199Z"
   },
   {
    "duration": 162,
    "start_time": "2024-05-11T20:35:31.519Z"
   },
   {
    "duration": 156,
    "start_time": "2024-05-11T20:35:42.247Z"
   },
   {
    "duration": 154,
    "start_time": "2024-05-11T20:36:17.817Z"
   },
   {
    "duration": 181,
    "start_time": "2024-05-11T20:37:26.764Z"
   },
   {
    "duration": 164,
    "start_time": "2024-05-11T20:37:43.150Z"
   },
   {
    "duration": 171,
    "start_time": "2024-05-11T20:38:01.028Z"
   },
   {
    "duration": 167,
    "start_time": "2024-05-11T20:38:16.424Z"
   },
   {
    "duration": 295,
    "start_time": "2024-05-11T20:38:35.212Z"
   },
   {
    "duration": 237,
    "start_time": "2024-05-11T20:40:28.954Z"
   },
   {
    "duration": 480,
    "start_time": "2024-05-11T20:41:34.737Z"
   },
   {
    "duration": 288,
    "start_time": "2024-05-11T20:42:24.820Z"
   },
   {
    "duration": 557,
    "start_time": "2024-05-11T20:43:14.853Z"
   },
   {
    "duration": 653,
    "start_time": "2024-05-11T20:43:29.948Z"
   },
   {
    "duration": 290,
    "start_time": "2024-05-11T20:44:22.687Z"
   },
   {
    "duration": 299,
    "start_time": "2024-05-11T20:44:29.550Z"
   },
   {
    "duration": 280,
    "start_time": "2024-05-11T20:44:46.454Z"
   },
   {
    "duration": 1174,
    "start_time": "2024-05-11T20:45:27.080Z"
   },
   {
    "duration": 56,
    "start_time": "2024-05-11T20:45:28.256Z"
   },
   {
    "duration": 15,
    "start_time": "2024-05-11T20:45:28.314Z"
   },
   {
    "duration": 38,
    "start_time": "2024-05-11T20:45:28.331Z"
   },
   {
    "duration": 22,
    "start_time": "2024-05-11T20:45:28.371Z"
   },
   {
    "duration": 671,
    "start_time": "2024-05-11T20:45:28.395Z"
   },
   {
    "duration": 8,
    "start_time": "2024-05-11T20:45:29.068Z"
   },
   {
    "duration": 13,
    "start_time": "2024-05-11T20:45:29.077Z"
   },
   {
    "duration": 14,
    "start_time": "2024-05-11T20:45:29.091Z"
   },
   {
    "duration": 3,
    "start_time": "2024-05-11T20:45:29.107Z"
   },
   {
    "duration": 13,
    "start_time": "2024-05-11T20:45:29.111Z"
   },
   {
    "duration": 12,
    "start_time": "2024-05-11T20:45:29.126Z"
   },
   {
    "duration": 7,
    "start_time": "2024-05-11T20:45:29.140Z"
   },
   {
    "duration": 27,
    "start_time": "2024-05-11T20:45:29.149Z"
   },
   {
    "duration": 24,
    "start_time": "2024-05-11T20:45:29.178Z"
   },
   {
    "duration": 25,
    "start_time": "2024-05-11T20:45:29.203Z"
   },
   {
    "duration": 365,
    "start_time": "2024-05-11T20:45:29.230Z"
   },
   {
    "duration": 283,
    "start_time": "2024-05-11T20:45:29.596Z"
   },
   {
    "duration": 4,
    "start_time": "2024-05-11T20:45:29.881Z"
   },
   {
    "duration": 319,
    "start_time": "2024-05-11T20:45:29.887Z"
   },
   {
    "duration": 517,
    "start_time": "2024-05-11T20:45:30.208Z"
   },
   {
    "duration": 341,
    "start_time": "2024-05-11T20:45:30.727Z"
   },
   {
    "duration": 175,
    "start_time": "2024-05-11T20:45:31.072Z"
   },
   {
    "duration": 328,
    "start_time": "2024-05-11T20:45:31.249Z"
   },
   {
    "duration": 161,
    "start_time": "2024-05-11T20:45:31.579Z"
   },
   {
    "duration": 173,
    "start_time": "2024-05-11T20:45:31.741Z"
   },
   {
    "duration": 470,
    "start_time": "2024-05-11T20:45:31.915Z"
   },
   {
    "duration": 307,
    "start_time": "2024-05-11T20:45:32.388Z"
   },
   {
    "duration": 304,
    "start_time": "2024-05-11T20:45:32.696Z"
   },
   {
    "duration": 299,
    "start_time": "2024-05-11T20:45:33.001Z"
   },
   {
    "duration": 360,
    "start_time": "2024-05-11T20:45:33.302Z"
   },
   {
    "duration": 382,
    "start_time": "2024-05-11T20:45:33.663Z"
   },
   {
    "duration": 8,
    "start_time": "2024-05-11T20:45:34.047Z"
   },
   {
    "duration": 36,
    "start_time": "2024-05-11T20:45:34.056Z"
   },
   {
    "duration": 39,
    "start_time": "2024-05-11T20:45:34.093Z"
   },
   {
    "duration": 26,
    "start_time": "2024-05-11T20:45:34.135Z"
   },
   {
    "duration": 23,
    "start_time": "2024-05-11T20:45:34.163Z"
   },
   {
    "duration": 66,
    "start_time": "2024-05-12T04:48:30.651Z"
   },
   {
    "duration": 1474,
    "start_time": "2024-05-12T04:48:35.707Z"
   },
   {
    "duration": 112,
    "start_time": "2024-05-12T04:48:37.183Z"
   },
   {
    "duration": 18,
    "start_time": "2024-05-12T04:48:37.296Z"
   },
   {
    "duration": 21,
    "start_time": "2024-05-12T04:48:37.316Z"
   },
   {
    "duration": 28,
    "start_time": "2024-05-12T04:48:37.339Z"
   },
   {
    "duration": 694,
    "start_time": "2024-05-12T04:48:37.368Z"
   },
   {
    "duration": 7,
    "start_time": "2024-05-12T04:48:38.064Z"
   },
   {
    "duration": 11,
    "start_time": "2024-05-12T04:48:38.073Z"
   },
   {
    "duration": 9,
    "start_time": "2024-05-12T04:48:38.087Z"
   },
   {
    "duration": 5,
    "start_time": "2024-05-12T04:48:38.100Z"
   },
   {
    "duration": 23,
    "start_time": "2024-05-12T04:48:38.106Z"
   },
   {
    "duration": 6,
    "start_time": "2024-05-12T04:48:38.131Z"
   },
   {
    "duration": 23,
    "start_time": "2024-05-12T04:48:38.138Z"
   },
   {
    "duration": 8,
    "start_time": "2024-05-12T04:48:38.163Z"
   },
   {
    "duration": 19,
    "start_time": "2024-05-12T04:48:38.173Z"
   },
   {
    "duration": 17,
    "start_time": "2024-05-12T04:48:38.194Z"
   },
   {
    "duration": 403,
    "start_time": "2024-05-12T04:48:38.213Z"
   },
   {
    "duration": 292,
    "start_time": "2024-05-12T04:48:38.617Z"
   },
   {
    "duration": 5,
    "start_time": "2024-05-12T04:48:42.791Z"
   },
   {
    "duration": 46,
    "start_time": "2024-05-12T06:37:32.473Z"
   },
   {
    "duration": 78,
    "start_time": "2024-05-12T06:57:20.847Z"
   },
   {
    "duration": 4,
    "start_time": "2024-05-12T06:57:27.292Z"
   },
   {
    "duration": 70,
    "start_time": "2024-05-12T06:57:27.300Z"
   },
   {
    "duration": 17,
    "start_time": "2024-05-12T06:57:27.372Z"
   },
   {
    "duration": 18,
    "start_time": "2024-05-12T06:57:27.391Z"
   },
   {
    "duration": 10,
    "start_time": "2024-05-12T06:57:32.568Z"
   },
   {
    "duration": 11,
    "start_time": "2024-05-12T07:01:24.728Z"
   },
   {
    "duration": 10,
    "start_time": "2024-05-12T07:01:29.211Z"
   },
   {
    "duration": 9,
    "start_time": "2024-05-12T07:01:58.256Z"
   },
   {
    "duration": 5,
    "start_time": "2024-05-12T07:02:16.733Z"
   },
   {
    "duration": 18,
    "start_time": "2024-05-12T07:07:01.860Z"
   },
   {
    "duration": 50,
    "start_time": "2024-05-12T07:08:07.037Z"
   },
   {
    "duration": 6,
    "start_time": "2024-05-12T11:12:51.842Z"
   },
   {
    "duration": 5,
    "start_time": "2024-05-12T11:12:59.505Z"
   },
   {
    "duration": 718,
    "start_time": "2024-05-12T11:23:42.760Z"
   },
   {
    "duration": 702,
    "start_time": "2024-05-12T11:24:56.723Z"
   },
   {
    "duration": 674,
    "start_time": "2024-05-12T11:25:12.040Z"
   },
   {
    "duration": 145,
    "start_time": "2024-05-12T11:25:38.781Z"
   },
   {
    "duration": 141,
    "start_time": "2024-05-12T11:26:08.822Z"
   },
   {
    "duration": 794,
    "start_time": "2024-05-12T11:26:16.614Z"
   },
   {
    "duration": 52,
    "start_time": "2024-05-12T11:31:32.032Z"
   },
   {
    "duration": 672,
    "start_time": "2024-05-12T11:31:40.737Z"
   },
   {
    "duration": 596,
    "start_time": "2024-05-12T11:31:48.522Z"
   },
   {
    "duration": 11,
    "start_time": "2024-05-12T11:56:17.428Z"
   },
   {
    "duration": 709,
    "start_time": "2024-05-12T11:56:45.742Z"
   },
   {
    "duration": 5,
    "start_time": "2024-05-12T11:56:53.470Z"
   },
   {
    "duration": 638,
    "start_time": "2024-05-12T11:56:56.793Z"
   },
   {
    "duration": 23,
    "start_time": "2024-05-12T11:57:20.271Z"
   },
   {
    "duration": 15,
    "start_time": "2024-05-12T12:02:38.762Z"
   },
   {
    "duration": 9,
    "start_time": "2024-05-12T12:03:02.697Z"
   },
   {
    "duration": 691,
    "start_time": "2024-05-12T12:03:07.250Z"
   },
   {
    "duration": 16,
    "start_time": "2024-05-12T12:05:53.512Z"
   },
   {
    "duration": 16,
    "start_time": "2024-05-12T12:06:41.807Z"
   },
   {
    "duration": 15,
    "start_time": "2024-05-12T12:08:45.760Z"
   },
   {
    "duration": 9,
    "start_time": "2024-05-12T12:09:25.127Z"
   },
   {
    "duration": 23,
    "start_time": "2024-05-12T12:09:31.951Z"
   },
   {
    "duration": 2,
    "start_time": "2024-05-12T12:10:50.427Z"
   },
   {
    "duration": 11,
    "start_time": "2024-05-12T12:12:34.588Z"
   },
   {
    "duration": 12,
    "start_time": "2024-05-12T12:15:32.596Z"
   },
   {
    "duration": 11,
    "start_time": "2024-05-12T12:16:47.110Z"
   },
   {
    "duration": 11,
    "start_time": "2024-05-12T12:17:07.696Z"
   },
   {
    "duration": 11,
    "start_time": "2024-05-12T12:17:42.194Z"
   },
   {
    "duration": 8,
    "start_time": "2024-05-12T12:17:46.489Z"
   },
   {
    "duration": 23,
    "start_time": "2024-05-12T12:18:04.884Z"
   },
   {
    "duration": 9,
    "start_time": "2024-05-12T12:20:53.872Z"
   },
   {
    "duration": 9,
    "start_time": "2024-05-12T12:21:13.543Z"
   },
   {
    "duration": 6,
    "start_time": "2024-05-12T12:21:17.665Z"
   },
   {
    "duration": 15,
    "start_time": "2024-05-12T12:21:46.156Z"
   },
   {
    "duration": 7,
    "start_time": "2024-05-12T12:22:01.203Z"
   },
   {
    "duration": 5,
    "start_time": "2024-05-12T12:22:11.994Z"
   },
   {
    "duration": 5,
    "start_time": "2024-05-12T12:23:13.324Z"
   },
   {
    "duration": 20,
    "start_time": "2024-05-12T12:23:35.061Z"
   },
   {
    "duration": 10,
    "start_time": "2024-05-12T12:26:34.917Z"
   },
   {
    "duration": 10,
    "start_time": "2024-05-12T12:27:35.461Z"
   },
   {
    "duration": 9,
    "start_time": "2024-05-12T12:27:39.126Z"
   },
   {
    "duration": 397,
    "start_time": "2024-05-12T12:45:00.441Z"
   },
   {
    "duration": 62,
    "start_time": "2024-05-12T12:46:22.556Z"
   },
   {
    "duration": 13,
    "start_time": "2024-05-12T13:04:59.207Z"
   },
   {
    "duration": 4,
    "start_time": "2024-05-12T13:05:03.942Z"
   },
   {
    "duration": 253,
    "start_time": "2024-05-12T13:05:03.947Z"
   },
   {
    "duration": 18,
    "start_time": "2024-05-12T13:05:04.202Z"
   },
   {
    "duration": 18,
    "start_time": "2024-05-12T13:05:04.222Z"
   },
   {
    "duration": 22,
    "start_time": "2024-05-12T13:05:04.242Z"
   },
   {
    "duration": 691,
    "start_time": "2024-05-12T13:05:04.266Z"
   },
   {
    "duration": 7,
    "start_time": "2024-05-12T13:05:04.958Z"
   },
   {
    "duration": 4,
    "start_time": "2024-05-12T13:05:04.967Z"
   },
   {
    "duration": 8,
    "start_time": "2024-05-12T13:05:04.973Z"
   },
   {
    "duration": 6,
    "start_time": "2024-05-12T13:05:04.982Z"
   },
   {
    "duration": 13,
    "start_time": "2024-05-12T13:05:04.991Z"
   },
   {
    "duration": 24,
    "start_time": "2024-05-12T13:05:05.007Z"
   },
   {
    "duration": 13,
    "start_time": "2024-05-12T13:05:05.033Z"
   },
   {
    "duration": 23,
    "start_time": "2024-05-12T13:05:05.049Z"
   },
   {
    "duration": 31,
    "start_time": "2024-05-12T13:05:05.075Z"
   },
   {
    "duration": 16,
    "start_time": "2024-05-12T13:05:05.109Z"
   },
   {
    "duration": 12,
    "start_time": "2024-05-12T13:05:05.128Z"
   },
   {
    "duration": 26,
    "start_time": "2024-05-12T13:05:05.142Z"
   },
   {
    "duration": 471,
    "start_time": "2024-05-12T13:05:05.170Z"
   },
   {
    "duration": 408,
    "start_time": "2024-05-12T13:05:05.643Z"
   },
   {
    "duration": 5,
    "start_time": "2024-05-12T13:05:06.053Z"
   },
   {
    "duration": 311,
    "start_time": "2024-05-12T13:05:06.060Z"
   },
   {
    "duration": 390,
    "start_time": "2024-05-12T13:05:06.373Z"
   },
   {
    "duration": 309,
    "start_time": "2024-05-12T13:05:06.765Z"
   },
   {
    "duration": 14,
    "start_time": "2024-05-12T13:05:10.246Z"
   },
   {
    "duration": 16,
    "start_time": "2024-05-12T13:05:28.287Z"
   },
   {
    "duration": 18,
    "start_time": "2024-05-12T13:05:39.021Z"
   },
   {
    "duration": 12,
    "start_time": "2024-05-12T13:05:46.445Z"
   },
   {
    "duration": 275,
    "start_time": "2024-05-12T13:07:05.633Z"
   },
   {
    "duration": 262,
    "start_time": "2024-05-12T13:07:13.784Z"
   },
   {
    "duration": 263,
    "start_time": "2024-05-12T13:07:18.576Z"
   },
   {
    "duration": 4,
    "start_time": "2024-05-12T13:07:27.439Z"
   },
   {
    "duration": 87,
    "start_time": "2024-05-12T13:07:27.446Z"
   },
   {
    "duration": 15,
    "start_time": "2024-05-12T13:07:27.535Z"
   },
   {
    "duration": 46,
    "start_time": "2024-05-12T13:07:27.552Z"
   },
   {
    "duration": 26,
    "start_time": "2024-05-12T13:07:27.600Z"
   },
   {
    "duration": 666,
    "start_time": "2024-05-12T13:07:27.628Z"
   },
   {
    "duration": 7,
    "start_time": "2024-05-12T13:07:28.296Z"
   },
   {
    "duration": 8,
    "start_time": "2024-05-12T13:07:28.305Z"
   },
   {
    "duration": 2,
    "start_time": "2024-05-12T13:07:28.329Z"
   },
   {
    "duration": 11,
    "start_time": "2024-05-12T13:07:28.333Z"
   },
   {
    "duration": 8,
    "start_time": "2024-05-12T13:07:28.347Z"
   },
   {
    "duration": 9,
    "start_time": "2024-05-12T13:07:28.357Z"
   },
   {
    "duration": 9,
    "start_time": "2024-05-12T13:07:28.368Z"
   },
   {
    "duration": 27,
    "start_time": "2024-05-12T13:07:28.378Z"
   },
   {
    "duration": 11,
    "start_time": "2024-05-12T13:07:28.407Z"
   },
   {
    "duration": 14,
    "start_time": "2024-05-12T13:07:28.420Z"
   },
   {
    "duration": 10,
    "start_time": "2024-05-12T13:07:28.436Z"
   },
   {
    "duration": 24,
    "start_time": "2024-05-12T13:07:28.448Z"
   },
   {
    "duration": 542,
    "start_time": "2024-05-12T13:07:28.474Z"
   },
   {
    "duration": 272,
    "start_time": "2024-05-12T13:07:29.018Z"
   },
   {
    "duration": 5,
    "start_time": "2024-05-12T13:07:29.291Z"
   },
   {
    "duration": 309,
    "start_time": "2024-05-12T13:07:29.298Z"
   },
   {
    "duration": 387,
    "start_time": "2024-05-12T13:07:29.609Z"
   },
   {
    "duration": 254,
    "start_time": "2024-05-12T13:07:32.016Z"
   },
   {
    "duration": 270,
    "start_time": "2024-05-12T13:08:01.402Z"
   },
   {
    "duration": 6,
    "start_time": "2024-05-12T13:08:51.058Z"
   },
   {
    "duration": 300,
    "start_time": "2024-05-12T13:08:58.307Z"
   },
   {
    "duration": 282,
    "start_time": "2024-05-12T13:09:25.501Z"
   },
   {
    "duration": 410,
    "start_time": "2024-05-12T13:11:10.633Z"
   },
   {
    "duration": 619,
    "start_time": "2024-05-12T13:11:23.003Z"
   },
   {
    "duration": 712,
    "start_time": "2024-05-12T13:12:30.703Z"
   },
   {
    "duration": 271,
    "start_time": "2024-05-12T13:13:35.285Z"
   },
   {
    "duration": 284,
    "start_time": "2024-05-12T13:14:15.419Z"
   },
   {
    "duration": 145,
    "start_time": "2024-05-12T13:14:24.544Z"
   },
   {
    "duration": 279,
    "start_time": "2024-05-12T13:14:34.643Z"
   },
   {
    "duration": 11,
    "start_time": "2024-05-12T13:15:46.210Z"
   },
   {
    "duration": 13,
    "start_time": "2024-05-12T13:16:12.021Z"
   },
   {
    "duration": 18,
    "start_time": "2024-05-12T13:16:24.875Z"
   },
   {
    "duration": 13,
    "start_time": "2024-05-12T13:16:31.571Z"
   },
   {
    "duration": 257,
    "start_time": "2024-05-12T13:16:40.877Z"
   },
   {
    "duration": 11,
    "start_time": "2024-05-12T13:17:07.159Z"
   },
   {
    "duration": 220,
    "start_time": "2024-05-12T13:17:14.438Z"
   },
   {
    "duration": 182,
    "start_time": "2024-05-12T13:17:41.141Z"
   },
   {
    "duration": 162,
    "start_time": "2024-05-12T13:17:47.885Z"
   },
   {
    "duration": 12,
    "start_time": "2024-05-12T13:18:15.487Z"
   },
   {
    "duration": 288,
    "start_time": "2024-05-12T13:18:20.118Z"
   },
   {
    "duration": 489,
    "start_time": "2024-05-12T13:18:54.004Z"
   },
   {
    "duration": 32,
    "start_time": "2024-05-12T13:19:18.996Z"
   },
   {
    "duration": 12,
    "start_time": "2024-05-12T13:19:45.346Z"
   },
   {
    "duration": 13,
    "start_time": "2024-05-12T13:20:06.659Z"
   },
   {
    "duration": 12,
    "start_time": "2024-05-12T13:20:12.306Z"
   },
   {
    "duration": 158,
    "start_time": "2024-05-12T13:20:17.131Z"
   },
   {
    "duration": 294,
    "start_time": "2024-05-12T13:21:42.807Z"
   },
   {
    "duration": 276,
    "start_time": "2024-05-12T13:22:19.801Z"
   },
   {
    "duration": 281,
    "start_time": "2024-05-12T13:22:35.096Z"
   },
   {
    "duration": 315,
    "start_time": "2024-05-12T13:22:55.936Z"
   },
   {
    "duration": 276,
    "start_time": "2024-05-12T13:23:35.140Z"
   },
   {
    "duration": 265,
    "start_time": "2024-05-12T13:23:43.082Z"
   },
   {
    "duration": 218,
    "start_time": "2024-05-12T13:23:53.475Z"
   },
   {
    "duration": 280,
    "start_time": "2024-05-12T13:24:28.428Z"
   },
   {
    "duration": 276,
    "start_time": "2024-05-12T13:24:38.012Z"
   },
   {
    "duration": 264,
    "start_time": "2024-05-12T13:25:01.134Z"
   },
   {
    "duration": 288,
    "start_time": "2024-05-12T13:41:54.083Z"
   },
   {
    "duration": 48,
    "start_time": "2024-05-12T13:47:58.494Z"
   },
   {
    "duration": 43,
    "start_time": "2024-05-12T13:53:13.952Z"
   },
   {
    "duration": 267,
    "start_time": "2024-05-12T13:53:22.489Z"
   },
   {
    "duration": 272,
    "start_time": "2024-05-12T13:53:35.313Z"
   },
   {
    "duration": 461,
    "start_time": "2024-05-12T13:54:14.922Z"
   },
   {
    "duration": 165,
    "start_time": "2024-05-12T13:54:28.815Z"
   },
   {
    "duration": 164,
    "start_time": "2024-05-12T13:54:35.371Z"
   },
   {
    "duration": 6,
    "start_time": "2024-05-12T13:54:38.404Z"
   },
   {
    "duration": 180,
    "start_time": "2024-05-12T13:54:40.923Z"
   },
   {
    "duration": 14,
    "start_time": "2024-05-12T13:55:10.836Z"
   },
   {
    "duration": 260,
    "start_time": "2024-05-12T13:55:12.684Z"
   },
   {
    "duration": 199,
    "start_time": "2024-05-12T13:55:17.140Z"
   },
   {
    "duration": 195,
    "start_time": "2024-05-12T13:55:27.861Z"
   },
   {
    "duration": 250,
    "start_time": "2024-05-12T13:55:36.796Z"
   },
   {
    "duration": 4,
    "start_time": "2024-05-12T13:55:50.795Z"
   },
   {
    "duration": 85,
    "start_time": "2024-05-12T13:55:50.802Z"
   },
   {
    "duration": 22,
    "start_time": "2024-05-12T13:55:50.889Z"
   },
   {
    "duration": 31,
    "start_time": "2024-05-12T13:55:50.915Z"
   },
   {
    "duration": 31,
    "start_time": "2024-05-12T13:55:50.948Z"
   },
   {
    "duration": 743,
    "start_time": "2024-05-12T13:55:50.981Z"
   },
   {
    "duration": 9,
    "start_time": "2024-05-12T13:55:51.725Z"
   },
   {
    "duration": 7,
    "start_time": "2024-05-12T13:55:51.737Z"
   },
   {
    "duration": 5,
    "start_time": "2024-05-12T13:55:51.747Z"
   },
   {
    "duration": 11,
    "start_time": "2024-05-12T13:55:51.754Z"
   },
   {
    "duration": 22,
    "start_time": "2024-05-12T13:55:51.767Z"
   },
   {
    "duration": 42,
    "start_time": "2024-05-12T13:55:51.791Z"
   },
   {
    "duration": 32,
    "start_time": "2024-05-12T13:55:51.835Z"
   },
   {
    "duration": 31,
    "start_time": "2024-05-12T13:55:51.869Z"
   },
   {
    "duration": 39,
    "start_time": "2024-05-12T13:55:51.903Z"
   },
   {
    "duration": 44,
    "start_time": "2024-05-12T13:55:51.944Z"
   },
   {
    "duration": 34,
    "start_time": "2024-05-12T13:55:51.991Z"
   },
   {
    "duration": 35,
    "start_time": "2024-05-12T13:55:52.027Z"
   },
   {
    "duration": 407,
    "start_time": "2024-05-12T13:55:52.064Z"
   },
   {
    "duration": 179,
    "start_time": "2024-05-12T13:55:54.797Z"
   },
   {
    "duration": 4,
    "start_time": "2024-05-12T13:55:58.125Z"
   },
   {
    "duration": 190,
    "start_time": "2024-05-12T13:56:00.894Z"
   },
   {
    "duration": 167,
    "start_time": "2024-05-12T13:58:09.675Z"
   },
   {
    "duration": 168,
    "start_time": "2024-05-12T13:58:30.561Z"
   },
   {
    "duration": 188,
    "start_time": "2024-05-12T13:59:09.020Z"
   },
   {
    "duration": 188,
    "start_time": "2024-05-12T13:59:51.655Z"
   },
   {
    "duration": 4,
    "start_time": "2024-05-12T14:00:00.640Z"
   },
   {
    "duration": 182,
    "start_time": "2024-05-12T14:00:02.852Z"
   },
   {
    "duration": 232,
    "start_time": "2024-05-12T14:00:10.487Z"
   },
   {
    "duration": 17,
    "start_time": "2024-05-12T14:02:36.345Z"
   },
   {
    "duration": 168,
    "start_time": "2024-05-12T14:02:38.763Z"
   },
   {
    "duration": 230,
    "start_time": "2024-05-12T14:03:07.271Z"
   },
   {
    "duration": 198,
    "start_time": "2024-05-12T14:03:56.106Z"
   },
   {
    "duration": 198,
    "start_time": "2024-05-12T14:04:09.271Z"
   },
   {
    "duration": 246,
    "start_time": "2024-05-12T14:11:25.717Z"
   },
   {
    "duration": 3,
    "start_time": "2024-05-12T14:12:11.943Z"
   },
   {
    "duration": 67,
    "start_time": "2024-05-12T14:12:11.948Z"
   },
   {
    "duration": 15,
    "start_time": "2024-05-12T14:12:12.017Z"
   },
   {
    "duration": 17,
    "start_time": "2024-05-12T14:12:12.034Z"
   },
   {
    "duration": 29,
    "start_time": "2024-05-12T14:12:12.053Z"
   },
   {
    "duration": 679,
    "start_time": "2024-05-12T14:12:12.084Z"
   },
   {
    "duration": 6,
    "start_time": "2024-05-12T14:12:12.765Z"
   },
   {
    "duration": 34,
    "start_time": "2024-05-12T14:12:12.773Z"
   },
   {
    "duration": 19,
    "start_time": "2024-05-12T14:12:12.809Z"
   },
   {
    "duration": 28,
    "start_time": "2024-05-12T14:12:12.830Z"
   },
   {
    "duration": 7,
    "start_time": "2024-05-12T14:12:12.861Z"
   },
   {
    "duration": 20,
    "start_time": "2024-05-12T14:12:12.869Z"
   },
   {
    "duration": 12,
    "start_time": "2024-05-12T14:12:12.891Z"
   },
   {
    "duration": 19,
    "start_time": "2024-05-12T14:12:12.904Z"
   },
   {
    "duration": 13,
    "start_time": "2024-05-12T14:12:12.925Z"
   },
   {
    "duration": 11,
    "start_time": "2024-05-12T14:12:12.940Z"
   },
   {
    "duration": 10,
    "start_time": "2024-05-12T14:12:12.953Z"
   },
   {
    "duration": 29,
    "start_time": "2024-05-12T14:12:12.965Z"
   },
   {
    "duration": 385,
    "start_time": "2024-05-12T14:12:12.995Z"
   },
   {
    "duration": 14,
    "start_time": "2024-05-12T14:12:21.244Z"
   },
   {
    "duration": 19,
    "start_time": "2024-05-12T14:13:01.626Z"
   },
   {
    "duration": 3,
    "start_time": "2024-05-12T14:13:15.316Z"
   },
   {
    "duration": 69,
    "start_time": "2024-05-12T14:13:15.322Z"
   },
   {
    "duration": 17,
    "start_time": "2024-05-12T14:13:15.393Z"
   },
   {
    "duration": 25,
    "start_time": "2024-05-12T14:13:15.412Z"
   },
   {
    "duration": 26,
    "start_time": "2024-05-12T14:13:15.439Z"
   },
   {
    "duration": 675,
    "start_time": "2024-05-12T14:13:15.467Z"
   },
   {
    "duration": 6,
    "start_time": "2024-05-12T14:13:16.145Z"
   },
   {
    "duration": 14,
    "start_time": "2024-05-12T14:13:16.153Z"
   },
   {
    "duration": 15,
    "start_time": "2024-05-12T14:13:16.169Z"
   },
   {
    "duration": 11,
    "start_time": "2024-05-12T14:13:16.186Z"
   },
   {
    "duration": 14,
    "start_time": "2024-05-12T14:13:16.199Z"
   },
   {
    "duration": 23,
    "start_time": "2024-05-12T14:13:16.215Z"
   },
   {
    "duration": 29,
    "start_time": "2024-05-12T14:13:16.239Z"
   },
   {
    "duration": 12,
    "start_time": "2024-05-12T14:13:16.270Z"
   },
   {
    "duration": 7,
    "start_time": "2024-05-12T14:13:16.284Z"
   },
   {
    "duration": 12,
    "start_time": "2024-05-12T14:13:16.293Z"
   },
   {
    "duration": 11,
    "start_time": "2024-05-12T14:13:16.307Z"
   },
   {
    "duration": 22,
    "start_time": "2024-05-12T14:13:17.954Z"
   },
   {
    "duration": 21,
    "start_time": "2024-05-12T14:14:08.364Z"
   },
   {
    "duration": 28,
    "start_time": "2024-05-12T14:15:22.771Z"
   },
   {
    "duration": 21,
    "start_time": "2024-05-12T14:15:50.576Z"
   },
   {
    "duration": 20,
    "start_time": "2024-05-12T14:15:55.840Z"
   },
   {
    "duration": 15,
    "start_time": "2024-05-12T14:16:18.888Z"
   },
   {
    "duration": 3,
    "start_time": "2024-05-12T14:16:24.715Z"
   },
   {
    "duration": 58,
    "start_time": "2024-05-12T14:16:24.720Z"
   },
   {
    "duration": 18,
    "start_time": "2024-05-12T14:16:24.780Z"
   },
   {
    "duration": 19,
    "start_time": "2024-05-12T14:16:24.800Z"
   },
   {
    "duration": 25,
    "start_time": "2024-05-12T14:16:24.821Z"
   },
   {
    "duration": 693,
    "start_time": "2024-05-12T14:16:24.848Z"
   },
   {
    "duration": 6,
    "start_time": "2024-05-12T14:16:25.543Z"
   },
   {
    "duration": 19,
    "start_time": "2024-05-12T14:16:25.551Z"
   },
   {
    "duration": 7,
    "start_time": "2024-05-12T14:16:25.572Z"
   },
   {
    "duration": 5,
    "start_time": "2024-05-12T14:16:25.581Z"
   },
   {
    "duration": 16,
    "start_time": "2024-05-12T14:16:28.576Z"
   },
   {
    "duration": 623,
    "start_time": "2024-05-12T14:16:43.922Z"
   },
   {
    "duration": 15,
    "start_time": "2024-05-12T14:16:52.545Z"
   },
   {
    "duration": 642,
    "start_time": "2024-05-12T14:20:09.089Z"
   },
   {
    "duration": 672,
    "start_time": "2024-05-12T14:20:20.450Z"
   },
   {
    "duration": 1257,
    "start_time": "2024-05-12T14:24:45.629Z"
   },
   {
    "duration": 61,
    "start_time": "2024-05-12T14:24:46.888Z"
   },
   {
    "duration": 17,
    "start_time": "2024-05-12T14:24:46.951Z"
   },
   {
    "duration": 21,
    "start_time": "2024-05-12T14:24:46.970Z"
   },
   {
    "duration": 40,
    "start_time": "2024-05-12T14:24:46.993Z"
   },
   {
    "duration": 896,
    "start_time": "2024-05-12T14:24:47.035Z"
   },
   {
    "duration": 22,
    "start_time": "2024-05-12T14:24:47.933Z"
   },
   {
    "duration": 13,
    "start_time": "2024-05-12T14:24:47.957Z"
   },
   {
    "duration": 4,
    "start_time": "2024-05-12T14:24:47.972Z"
   },
   {
    "duration": 13,
    "start_time": "2024-05-12T14:24:47.980Z"
   },
   {
    "duration": 30,
    "start_time": "2024-05-12T14:24:47.995Z"
   },
   {
    "duration": 32,
    "start_time": "2024-05-12T14:24:48.027Z"
   },
   {
    "duration": 14,
    "start_time": "2024-05-12T14:24:48.061Z"
   },
   {
    "duration": 10,
    "start_time": "2024-05-12T14:24:48.078Z"
   },
   {
    "duration": 24,
    "start_time": "2024-05-12T14:24:48.090Z"
   },
   {
    "duration": 7,
    "start_time": "2024-05-12T14:24:48.117Z"
   },
   {
    "duration": 21,
    "start_time": "2024-05-12T14:24:48.127Z"
   },
   {
    "duration": 15,
    "start_time": "2024-05-12T14:24:48.151Z"
   },
   {
    "duration": 36,
    "start_time": "2024-05-12T14:24:48.168Z"
   },
   {
    "duration": 435,
    "start_time": "2024-05-12T14:24:48.207Z"
   },
   {
    "duration": 14,
    "start_time": "2024-05-12T14:24:48.644Z"
   },
   {
    "duration": 222,
    "start_time": "2024-05-12T14:24:48.660Z"
   },
   {
    "duration": 5,
    "start_time": "2024-05-12T14:24:48.884Z"
   },
   {
    "duration": 246,
    "start_time": "2024-05-12T14:24:48.891Z"
   },
   {
    "duration": 334,
    "start_time": "2024-05-12T14:24:49.139Z"
   },
   {
    "duration": 16,
    "start_time": "2024-05-12T14:24:49.474Z"
   },
   {
    "duration": 263,
    "start_time": "2024-05-12T14:24:49.492Z"
   },
   {
    "duration": 125,
    "start_time": "2024-05-12T14:24:49.760Z"
   },
   {
    "duration": 0,
    "start_time": "2024-05-12T14:24:49.888Z"
   },
   {
    "duration": 0,
    "start_time": "2024-05-12T14:24:49.890Z"
   },
   {
    "duration": 0,
    "start_time": "2024-05-12T14:24:49.891Z"
   },
   {
    "duration": 0,
    "start_time": "2024-05-12T14:24:49.893Z"
   },
   {
    "duration": 0,
    "start_time": "2024-05-12T14:24:49.895Z"
   },
   {
    "duration": 0,
    "start_time": "2024-05-12T14:24:49.896Z"
   },
   {
    "duration": 0,
    "start_time": "2024-05-12T14:24:49.898Z"
   },
   {
    "duration": 0,
    "start_time": "2024-05-12T14:24:49.899Z"
   },
   {
    "duration": 0,
    "start_time": "2024-05-12T14:24:49.901Z"
   },
   {
    "duration": 0,
    "start_time": "2024-05-12T14:24:49.931Z"
   },
   {
    "duration": 0,
    "start_time": "2024-05-12T14:24:49.932Z"
   },
   {
    "duration": 0,
    "start_time": "2024-05-12T14:24:49.934Z"
   },
   {
    "duration": 0,
    "start_time": "2024-05-12T14:24:49.935Z"
   },
   {
    "duration": 19,
    "start_time": "2024-05-12T14:28:58.995Z"
   },
   {
    "duration": 205,
    "start_time": "2024-05-12T14:29:15.254Z"
   },
   {
    "duration": 12,
    "start_time": "2024-05-12T14:29:15.461Z"
   },
   {
    "duration": 204,
    "start_time": "2024-05-12T14:29:15.474Z"
   },
   {
    "duration": 4,
    "start_time": "2024-05-12T14:29:15.680Z"
   },
   {
    "duration": 312,
    "start_time": "2024-05-12T14:29:15.686Z"
   },
   {
    "duration": 361,
    "start_time": "2024-05-12T14:29:16.000Z"
   },
   {
    "duration": 11,
    "start_time": "2024-05-12T14:29:16.363Z"
   },
   {
    "duration": 247,
    "start_time": "2024-05-12T14:29:16.376Z"
   },
   {
    "duration": 15,
    "start_time": "2024-05-12T14:29:16.628Z"
   },
   {
    "duration": 0,
    "start_time": "2024-05-12T14:29:16.646Z"
   },
   {
    "duration": 0,
    "start_time": "2024-05-12T14:29:16.647Z"
   },
   {
    "duration": 0,
    "start_time": "2024-05-12T14:29:16.648Z"
   },
   {
    "duration": 0,
    "start_time": "2024-05-12T14:29:16.649Z"
   },
   {
    "duration": 0,
    "start_time": "2024-05-12T14:29:16.650Z"
   },
   {
    "duration": 0,
    "start_time": "2024-05-12T14:29:16.651Z"
   },
   {
    "duration": 0,
    "start_time": "2024-05-12T14:29:16.652Z"
   },
   {
    "duration": 0,
    "start_time": "2024-05-12T14:29:16.654Z"
   },
   {
    "duration": 0,
    "start_time": "2024-05-12T14:29:16.655Z"
   },
   {
    "duration": 0,
    "start_time": "2024-05-12T14:29:16.656Z"
   },
   {
    "duration": 0,
    "start_time": "2024-05-12T14:29:16.657Z"
   },
   {
    "duration": 0,
    "start_time": "2024-05-12T14:29:16.658Z"
   },
   {
    "duration": 0,
    "start_time": "2024-05-12T14:29:16.659Z"
   },
   {
    "duration": 243,
    "start_time": "2024-05-12T14:29:41.391Z"
   },
   {
    "duration": 210,
    "start_time": "2024-05-12T14:30:10.886Z"
   },
   {
    "duration": 217,
    "start_time": "2024-05-12T14:36:32.971Z"
   },
   {
    "duration": 206,
    "start_time": "2024-05-12T14:49:05.240Z"
   },
   {
    "duration": 273,
    "start_time": "2024-05-12T14:50:38.185Z"
   },
   {
    "duration": 173,
    "start_time": "2024-05-12T14:55:11.092Z"
   },
   {
    "duration": 206,
    "start_time": "2024-05-12T14:56:20.717Z"
   },
   {
    "duration": 165,
    "start_time": "2024-05-12T15:00:24.454Z"
   },
   {
    "duration": 277,
    "start_time": "2024-05-12T15:01:39.041Z"
   },
   {
    "duration": 152,
    "start_time": "2024-05-12T15:02:45.059Z"
   },
   {
    "duration": 1193,
    "start_time": "2024-05-12T15:15:24.759Z"
   },
   {
    "duration": 60,
    "start_time": "2024-05-12T15:15:25.955Z"
   },
   {
    "duration": 16,
    "start_time": "2024-05-12T15:15:26.019Z"
   },
   {
    "duration": 20,
    "start_time": "2024-05-12T15:15:26.037Z"
   },
   {
    "duration": 18,
    "start_time": "2024-05-12T15:15:26.058Z"
   },
   {
    "duration": 692,
    "start_time": "2024-05-12T15:15:26.077Z"
   },
   {
    "duration": 10,
    "start_time": "2024-05-12T15:15:26.772Z"
   },
   {
    "duration": 3,
    "start_time": "2024-05-12T15:15:26.784Z"
   },
   {
    "duration": 3,
    "start_time": "2024-05-12T15:15:26.792Z"
   },
   {
    "duration": 9,
    "start_time": "2024-05-12T15:15:26.797Z"
   },
   {
    "duration": 26,
    "start_time": "2024-05-12T15:15:26.808Z"
   },
   {
    "duration": 7,
    "start_time": "2024-05-12T15:15:26.837Z"
   },
   {
    "duration": 16,
    "start_time": "2024-05-12T15:15:26.846Z"
   },
   {
    "duration": 11,
    "start_time": "2024-05-12T15:15:26.865Z"
   },
   {
    "duration": 10,
    "start_time": "2024-05-12T15:15:26.878Z"
   },
   {
    "duration": 13,
    "start_time": "2024-05-12T15:15:26.890Z"
   },
   {
    "duration": 21,
    "start_time": "2024-05-12T15:15:26.929Z"
   },
   {
    "duration": 31,
    "start_time": "2024-05-12T15:15:26.951Z"
   },
   {
    "duration": 438,
    "start_time": "2024-05-12T15:15:26.984Z"
   },
   {
    "duration": 183,
    "start_time": "2024-05-12T15:15:27.428Z"
   },
   {
    "duration": 5,
    "start_time": "2024-05-12T15:15:27.613Z"
   },
   {
    "duration": 213,
    "start_time": "2024-05-12T15:15:27.628Z"
   },
   {
    "duration": 318,
    "start_time": "2024-05-12T15:15:27.843Z"
   },
   {
    "duration": 16,
    "start_time": "2024-05-12T15:15:28.163Z"
   },
   {
    "duration": 239,
    "start_time": "2024-05-12T15:15:28.181Z"
   },
   {
    "duration": 237,
    "start_time": "2024-05-12T15:15:28.423Z"
   },
   {
    "duration": 279,
    "start_time": "2024-05-12T15:15:28.665Z"
   },
   {
    "duration": 267,
    "start_time": "2024-05-12T15:15:28.946Z"
   },
   {
    "duration": 174,
    "start_time": "2024-05-12T15:15:29.215Z"
   },
   {
    "duration": 308,
    "start_time": "2024-05-12T15:15:29.392Z"
   },
   {
    "duration": 231,
    "start_time": "2024-05-12T15:15:29.702Z"
   },
   {
    "duration": 216,
    "start_time": "2024-05-12T15:15:29.934Z"
   },
   {
    "duration": 235,
    "start_time": "2024-05-12T15:15:30.152Z"
   },
   {
    "duration": 364,
    "start_time": "2024-05-12T15:15:30.388Z"
   },
   {
    "duration": 259,
    "start_time": "2024-05-12T15:15:30.754Z"
   },
   {
    "duration": 15,
    "start_time": "2024-05-12T15:15:31.015Z"
   },
   {
    "duration": 94,
    "start_time": "2024-05-12T15:15:31.031Z"
   },
   {
    "duration": 97,
    "start_time": "2024-05-12T15:15:31.127Z"
   },
   {
    "duration": 36,
    "start_time": "2024-05-12T15:15:31.226Z"
   },
   {
    "duration": 310,
    "start_time": "2024-05-12T15:31:59.593Z"
   },
   {
    "duration": 205,
    "start_time": "2024-05-12T15:32:10.011Z"
   },
   {
    "duration": 42,
    "start_time": "2024-05-12T16:18:25.874Z"
   },
   {
    "duration": 4,
    "start_time": "2024-05-12T16:19:24.514Z"
   },
   {
    "duration": 1208,
    "start_time": "2024-05-12T16:19:38.835Z"
   },
   {
    "duration": 57,
    "start_time": "2024-05-12T16:19:40.045Z"
   },
   {
    "duration": 17,
    "start_time": "2024-05-12T16:19:40.104Z"
   },
   {
    "duration": 21,
    "start_time": "2024-05-12T16:19:40.122Z"
   },
   {
    "duration": 16,
    "start_time": "2024-05-12T16:19:40.145Z"
   },
   {
    "duration": 695,
    "start_time": "2024-05-12T16:19:40.163Z"
   },
   {
    "duration": 8,
    "start_time": "2024-05-12T16:19:40.859Z"
   },
   {
    "duration": 2,
    "start_time": "2024-05-12T16:19:40.869Z"
   },
   {
    "duration": 4,
    "start_time": "2024-05-12T16:19:40.873Z"
   },
   {
    "duration": 3,
    "start_time": "2024-05-12T16:19:40.879Z"
   },
   {
    "duration": 5,
    "start_time": "2024-05-12T16:19:40.883Z"
   },
   {
    "duration": 14,
    "start_time": "2024-05-12T16:19:40.890Z"
   },
   {
    "duration": 24,
    "start_time": "2024-05-12T16:19:40.906Z"
   },
   {
    "duration": 15,
    "start_time": "2024-05-12T16:19:40.934Z"
   },
   {
    "duration": 11,
    "start_time": "2024-05-12T16:19:40.951Z"
   },
   {
    "duration": 11,
    "start_time": "2024-05-12T16:19:40.964Z"
   },
   {
    "duration": 9,
    "start_time": "2024-05-12T16:19:40.977Z"
   },
   {
    "duration": 43,
    "start_time": "2024-05-12T16:19:40.988Z"
   },
   {
    "duration": 405,
    "start_time": "2024-05-12T16:19:41.033Z"
   },
   {
    "duration": 193,
    "start_time": "2024-05-12T16:19:41.440Z"
   },
   {
    "duration": 5,
    "start_time": "2024-05-12T16:19:41.634Z"
   },
   {
    "duration": 211,
    "start_time": "2024-05-12T16:19:41.641Z"
   },
   {
    "duration": 319,
    "start_time": "2024-05-12T16:19:41.854Z"
   },
   {
    "duration": 12,
    "start_time": "2024-05-12T16:19:42.175Z"
   },
   {
    "duration": 272,
    "start_time": "2024-05-12T16:19:42.189Z"
   },
   {
    "duration": 213,
    "start_time": "2024-05-12T16:19:42.463Z"
   },
   {
    "duration": 268,
    "start_time": "2024-05-12T16:19:42.678Z"
   },
   {
    "duration": 243,
    "start_time": "2024-05-12T16:19:42.948Z"
   },
   {
    "duration": 164,
    "start_time": "2024-05-12T16:19:43.193Z"
   },
   {
    "duration": 305,
    "start_time": "2024-05-12T16:19:43.359Z"
   },
   {
    "duration": 216,
    "start_time": "2024-05-12T16:19:43.666Z"
   },
   {
    "duration": 222,
    "start_time": "2024-05-12T16:19:43.884Z"
   },
   {
    "duration": 201,
    "start_time": "2024-05-12T16:19:44.109Z"
   },
   {
    "duration": 341,
    "start_time": "2024-05-12T16:19:44.311Z"
   },
   {
    "duration": 265,
    "start_time": "2024-05-12T16:19:44.653Z"
   },
   {
    "duration": 12,
    "start_time": "2024-05-12T16:19:44.920Z"
   },
   {
    "duration": 20,
    "start_time": "2024-05-12T16:19:44.934Z"
   },
   {
    "duration": 47,
    "start_time": "2024-05-12T16:19:44.956Z"
   },
   {
    "duration": 73,
    "start_time": "2024-05-12T16:19:45.004Z"
   },
   {
    "duration": 32,
    "start_time": "2024-05-12T16:19:45.079Z"
   },
   {
    "duration": 1291,
    "start_time": "2024-05-12T18:33:18.080Z"
   },
   {
    "duration": 100,
    "start_time": "2024-05-12T18:33:19.373Z"
   },
   {
    "duration": 14,
    "start_time": "2024-05-12T18:33:19.474Z"
   },
   {
    "duration": 17,
    "start_time": "2024-05-12T18:33:19.490Z"
   },
   {
    "duration": 13,
    "start_time": "2024-05-12T18:33:19.508Z"
   },
   {
    "duration": 654,
    "start_time": "2024-05-12T18:33:19.523Z"
   },
   {
    "duration": 8,
    "start_time": "2024-05-12T18:33:20.178Z"
   },
   {
    "duration": 13,
    "start_time": "2024-05-12T18:33:20.187Z"
   },
   {
    "duration": 7,
    "start_time": "2024-05-12T18:33:20.202Z"
   },
   {
    "duration": 4,
    "start_time": "2024-05-12T18:33:20.212Z"
   },
   {
    "duration": 12,
    "start_time": "2024-05-12T18:33:20.218Z"
   },
   {
    "duration": 8,
    "start_time": "2024-05-12T18:33:20.231Z"
   },
   {
    "duration": 11,
    "start_time": "2024-05-12T18:33:20.240Z"
   },
   {
    "duration": 8,
    "start_time": "2024-05-12T18:33:20.252Z"
   },
   {
    "duration": 6,
    "start_time": "2024-05-12T18:33:20.261Z"
   },
   {
    "duration": 11,
    "start_time": "2024-05-12T18:33:20.268Z"
   },
   {
    "duration": 8,
    "start_time": "2024-05-12T18:33:20.280Z"
   },
   {
    "duration": 29,
    "start_time": "2024-05-12T18:33:20.289Z"
   },
   {
    "duration": 346,
    "start_time": "2024-05-12T18:33:20.319Z"
   },
   {
    "duration": 155,
    "start_time": "2024-05-12T18:33:20.666Z"
   },
   {
    "duration": 4,
    "start_time": "2024-05-12T18:33:20.822Z"
   },
   {
    "duration": 187,
    "start_time": "2024-05-12T18:33:20.827Z"
   },
   {
    "duration": 273,
    "start_time": "2024-05-12T18:33:21.015Z"
   },
   {
    "duration": 9,
    "start_time": "2024-05-12T18:33:21.289Z"
   },
   {
    "duration": 182,
    "start_time": "2024-05-12T18:33:21.300Z"
   },
   {
    "duration": 183,
    "start_time": "2024-05-12T18:33:21.483Z"
   },
   {
    "duration": 225,
    "start_time": "2024-05-12T18:33:21.668Z"
   },
   {
    "duration": 201,
    "start_time": "2024-05-12T18:33:21.896Z"
   },
   {
    "duration": 141,
    "start_time": "2024-05-12T18:33:22.099Z"
   },
   {
    "duration": 252,
    "start_time": "2024-05-12T18:33:22.241Z"
   },
   {
    "duration": 177,
    "start_time": "2024-05-12T18:33:22.494Z"
   },
   {
    "duration": 173,
    "start_time": "2024-05-12T18:33:22.672Z"
   },
   {
    "duration": 172,
    "start_time": "2024-05-12T18:33:22.847Z"
   },
   {
    "duration": 295,
    "start_time": "2024-05-12T18:33:23.021Z"
   },
   {
    "duration": 216,
    "start_time": "2024-05-12T18:33:23.318Z"
   },
   {
    "duration": 5,
    "start_time": "2024-05-12T18:33:23.536Z"
   },
   {
    "duration": 12,
    "start_time": "2024-05-12T18:33:23.542Z"
   },
   {
    "duration": 10,
    "start_time": "2024-05-12T18:33:23.555Z"
   },
   {
    "duration": 5,
    "start_time": "2024-05-12T18:33:23.566Z"
   },
   {
    "duration": 108,
    "start_time": "2024-05-12T18:37:18.300Z"
   },
   {
    "duration": 3,
    "start_time": "2024-05-12T18:38:18.706Z"
   },
   {
    "duration": 5,
    "start_time": "2024-05-12T18:38:36.427Z"
   },
   {
    "duration": 3,
    "start_time": "2024-05-12T18:45:01.510Z"
   },
   {
    "duration": 76,
    "start_time": "2024-05-12T18:45:01.515Z"
   },
   {
    "duration": 14,
    "start_time": "2024-05-12T18:45:01.592Z"
   },
   {
    "duration": 25,
    "start_time": "2024-05-12T18:45:01.608Z"
   },
   {
    "duration": 47,
    "start_time": "2024-05-12T18:45:01.636Z"
   },
   {
    "duration": 576,
    "start_time": "2024-05-12T18:45:01.684Z"
   },
   {
    "duration": 6,
    "start_time": "2024-05-12T18:45:02.261Z"
   },
   {
    "duration": 10,
    "start_time": "2024-05-12T18:45:02.268Z"
   },
   {
    "duration": 24,
    "start_time": "2024-05-12T18:45:02.279Z"
   },
   {
    "duration": 17,
    "start_time": "2024-05-12T18:45:02.305Z"
   },
   {
    "duration": 21,
    "start_time": "2024-05-12T18:45:02.323Z"
   },
   {
    "duration": 16,
    "start_time": "2024-05-12T18:45:02.345Z"
   },
   {
    "duration": 29,
    "start_time": "2024-05-12T18:45:02.363Z"
   },
   {
    "duration": 16,
    "start_time": "2024-05-12T18:45:02.395Z"
   },
   {
    "duration": 12,
    "start_time": "2024-05-12T18:45:02.412Z"
   },
   {
    "duration": 11,
    "start_time": "2024-05-12T18:45:02.425Z"
   },
   {
    "duration": 37,
    "start_time": "2024-05-12T18:45:02.438Z"
   },
   {
    "duration": 10,
    "start_time": "2024-05-12T18:45:02.476Z"
   },
   {
    "duration": 28,
    "start_time": "2024-05-12T18:45:02.488Z"
   },
   {
    "duration": 408,
    "start_time": "2024-05-12T18:45:02.518Z"
   },
   {
    "duration": 152,
    "start_time": "2024-05-12T18:45:02.927Z"
   },
   {
    "duration": 4,
    "start_time": "2024-05-12T18:45:03.081Z"
   },
   {
    "duration": 201,
    "start_time": "2024-05-12T18:45:03.086Z"
   },
   {
    "duration": 282,
    "start_time": "2024-05-12T18:45:03.289Z"
   },
   {
    "duration": 15,
    "start_time": "2024-05-12T18:45:03.573Z"
   },
   {
    "duration": 198,
    "start_time": "2024-05-12T18:45:03.590Z"
   },
   {
    "duration": 183,
    "start_time": "2024-05-12T18:45:03.790Z"
   },
   {
    "duration": 237,
    "start_time": "2024-05-12T18:45:03.975Z"
   },
   {
    "duration": 152,
    "start_time": "2024-05-12T18:45:04.213Z"
   },
   {
    "duration": 137,
    "start_time": "2024-05-12T18:45:04.366Z"
   },
   {
    "duration": 249,
    "start_time": "2024-05-12T18:45:04.504Z"
   },
   {
    "duration": 181,
    "start_time": "2024-05-12T18:45:04.755Z"
   },
   {
    "duration": 176,
    "start_time": "2024-05-12T18:45:04.937Z"
   },
   {
    "duration": 171,
    "start_time": "2024-05-12T18:45:05.114Z"
   },
   {
    "duration": 293,
    "start_time": "2024-05-12T18:45:05.286Z"
   },
   {
    "duration": 288,
    "start_time": "2024-05-12T18:45:09.904Z"
   }
  ],
  "kernelspec": {
   "display_name": "Python 3 (ipykernel)",
   "language": "python",
   "name": "python3"
  },
  "language_info": {
   "codemirror_mode": {
    "name": "ipython",
    "version": 3
   },
   "file_extension": ".py",
   "mimetype": "text/x-python",
   "name": "python",
   "nbconvert_exporter": "python",
   "pygments_lexer": "ipython3",
   "version": "3.9.5"
  },
  "toc": {
   "base_numbering": 1,
   "nav_menu": {},
   "number_sections": true,
   "sideBar": true,
   "skip_h1_title": true,
   "title_cell": "Table of Contents",
   "title_sidebar": "Contents",
   "toc_cell": false,
   "toc_position": {
    "height": "calc(100% - 180px)",
    "left": "10px",
    "top": "150px",
    "width": "408.524px"
   },
   "toc_section_display": true,
   "toc_window_display": true
  }
 },
 "nbformat": 4,
 "nbformat_minor": 2
}
