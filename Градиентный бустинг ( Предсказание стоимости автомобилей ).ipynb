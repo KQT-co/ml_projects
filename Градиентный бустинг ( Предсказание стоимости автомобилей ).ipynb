{
 "cells": [
  {
   "cell_type": "markdown",
   "metadata": {},
   "source": [
    "# Определение стоимости автомобилей"
   ]
  },
  {
   "cell_type": "markdown",
   "metadata": {},
   "source": [
    "Сервис по продаже автомобилей с пробегом «Не бит, не крашен» разрабатывает приложение для привлечения новых клиентов. В нём можно быстро узнать рыночную стоимость своего автомобиля. В вашем распоряжении исторические данные: технические характеристики, комплектации и цены автомобилей. Вам нужно построить модель для определения стоимости. \n",
    "\n",
    "Заказчику важны:\n",
    "\n",
    "- качество предсказания;\n",
    "- скорость предсказания;\n",
    "- время обучения."
   ]
  },
  {
   "cell_type": "markdown",
   "metadata": {},
   "source": [
    "## Подготовка данных"
   ]
  },
  {
   "cell_type": "code",
   "execution_count": 1,
   "metadata": {
    "scrolled": true
   },
   "outputs": [
    {
     "name": "stdout",
     "output_type": "stream",
     "text": [
      "Requirement already satisfied: scikit-learn in /opt/conda/lib/python3.9/site-packages (1.5.2)\n",
      "Requirement already satisfied: numpy>=1.19.5 in /opt/conda/lib/python3.9/site-packages (from scikit-learn) (1.21.1)\n",
      "Requirement already satisfied: scipy>=1.6.0 in /opt/conda/lib/python3.9/site-packages (from scikit-learn) (1.9.1)\n",
      "Requirement already satisfied: joblib>=1.2.0 in /opt/conda/lib/python3.9/site-packages (from scikit-learn) (1.4.2)\n",
      "Requirement already satisfied: threadpoolctl>=3.1.0 in /opt/conda/lib/python3.9/site-packages (from scikit-learn) (3.1.0)\n"
     ]
    }
   ],
   "source": [
    "# !pip install --upgrade pandas numpy matplotlib scipy\n",
    "!pip install -U scikit-learn"
   ]
  },
  {
   "cell_type": "code",
   "execution_count": 2,
   "metadata": {},
   "outputs": [],
   "source": [
    "import numpy as np\n",
    "import pandas as pd\n",
    "import seaborn as sb\n",
    "import matplotlib as mp\n",
    "import time\n",
    "import scipy.stats as st\n",
    "import lightgbm as lgb\n",
    "from tqdm.notebook import tqdm\n",
    "import matplotlib.pyplot as plt\n",
    "\n",
    "from sklearn.pipeline import Pipeline\n",
    "from sklearn.compose import ColumnTransformer\n",
    "from sklearn.impute import SimpleImputer\n",
    "from sklearn.inspection import permutation_importance\n",
    "\n",
    "from sklearn.dummy import DummyRegressor,DummyClassifier\n",
    "from sklearn.linear_model import LinearRegression, LogisticRegression\n",
    "from sklearn.neighbors import KNeighborsClassifier\n",
    "from sklearn.tree import DecisionTreeClassifier, DecisionTreeRegressor\n",
    "from catboost import CatBoostRegressor\n",
    "from sklearn.tree import plot_tree, _tree\n",
    "from sklearn.svm import SVC\n",
    "from lightgbm import LGBMRegressor\n",
    "from sklearn.metrics import mean_squared_error\n",
    "from sklearn.compose import make_column_transformer\n",
    "\n",
    "\n",
    "\n",
    "from sklearn.metrics import (r2_score,\n",
    "                             mean_absolute_error,\n",
    "                             mean_squared_error,\n",
    "                             precision_score,\n",
    "                             recall_score,\n",
    "                             accuracy_score,\n",
    "                             f1_score,\n",
    "                             fbeta_score,\n",
    "                             roc_curve,\n",
    "                             roc_auc_score,\n",
    "                             RocCurveDisplay,\n",
    "                             confusion_matrix,\n",
    "                             ConfusionMatrixDisplay,\n",
    "                             make_scorer,\n",
    "                             root_mean_squared_error\n",
    "                            )\n",
    "\n",
    "\n",
    "from sklearn.model_selection import (train_test_split,\n",
    "                                     GridSearchCV,\n",
    "                                     RandomizedSearchCV,\n",
    "                                     cross_val_score\n",
    "                                    )\n",
    "\n",
    "from sklearn.preprocessing import (StandardScaler,\n",
    "                                   MinMaxScaler,\n",
    "                                   RobustScaler,\n",
    "                                   OneHotEncoder,\n",
    "                                   LabelEncoder,\n",
    "                                   OrdinalEncoder\n",
    "                                  )\n",
    "\n",
    "\n",
    "RANDOM_STATE = 42\n",
    "TEST_SIZE = 0.25\n",
    "# SEED = 31610\n",
    "\n",
    "sb.set(style = 'whitegrid')\n",
    "sb.set(rc={'figure.figsize':(16,9)})\n",
    "sb.set_context('paper', rc={'font.size': 10,\n",
    "                             'axes.titlesize': 10,\n",
    "                             'xtrick.labelsize': 'small',\n",
    "                             'ytrick.labelsize': 'small',\n",
    "                             'legend.fontsize': 'small',\n",
    "                             'legend.title_fontsize':10})\n"
   ]
  },
  {
   "cell_type": "markdown",
   "metadata": {},
   "source": [
    "### Загрузка и изучение данных"
   ]
  },
  {
   "cell_type": "code",
   "execution_count": 3,
   "metadata": {},
   "outputs": [],
   "source": [
    "data = pd.read_csv('/datasets/autos.csv')"
   ]
  },
  {
   "cell_type": "code",
   "execution_count": 4,
   "metadata": {},
   "outputs": [
    {
     "data": {
      "text/html": [
       "<div>\n",
       "<style scoped>\n",
       "    .dataframe tbody tr th:only-of-type {\n",
       "        vertical-align: middle;\n",
       "    }\n",
       "\n",
       "    .dataframe tbody tr th {\n",
       "        vertical-align: top;\n",
       "    }\n",
       "\n",
       "    .dataframe thead th {\n",
       "        text-align: right;\n",
       "    }\n",
       "</style>\n",
       "<table border=\"1\" class=\"dataframe\">\n",
       "  <thead>\n",
       "    <tr style=\"text-align: right;\">\n",
       "      <th></th>\n",
       "      <th>DateCrawled</th>\n",
       "      <th>Price</th>\n",
       "      <th>VehicleType</th>\n",
       "      <th>RegistrationYear</th>\n",
       "      <th>Gearbox</th>\n",
       "      <th>Power</th>\n",
       "      <th>Model</th>\n",
       "      <th>Kilometer</th>\n",
       "      <th>RegistrationMonth</th>\n",
       "      <th>FuelType</th>\n",
       "      <th>Brand</th>\n",
       "      <th>Repaired</th>\n",
       "      <th>DateCreated</th>\n",
       "      <th>NumberOfPictures</th>\n",
       "      <th>PostalCode</th>\n",
       "      <th>LastSeen</th>\n",
       "    </tr>\n",
       "  </thead>\n",
       "  <tbody>\n",
       "    <tr>\n",
       "      <th>0</th>\n",
       "      <td>2016-03-24 11:52:17</td>\n",
       "      <td>480</td>\n",
       "      <td>NaN</td>\n",
       "      <td>1993</td>\n",
       "      <td>manual</td>\n",
       "      <td>0</td>\n",
       "      <td>golf</td>\n",
       "      <td>150000</td>\n",
       "      <td>0</td>\n",
       "      <td>petrol</td>\n",
       "      <td>volkswagen</td>\n",
       "      <td>NaN</td>\n",
       "      <td>2016-03-24 00:00:00</td>\n",
       "      <td>0</td>\n",
       "      <td>70435</td>\n",
       "      <td>2016-04-07 03:16:57</td>\n",
       "    </tr>\n",
       "    <tr>\n",
       "      <th>1</th>\n",
       "      <td>2016-03-24 10:58:45</td>\n",
       "      <td>18300</td>\n",
       "      <td>coupe</td>\n",
       "      <td>2011</td>\n",
       "      <td>manual</td>\n",
       "      <td>190</td>\n",
       "      <td>NaN</td>\n",
       "      <td>125000</td>\n",
       "      <td>5</td>\n",
       "      <td>gasoline</td>\n",
       "      <td>audi</td>\n",
       "      <td>yes</td>\n",
       "      <td>2016-03-24 00:00:00</td>\n",
       "      <td>0</td>\n",
       "      <td>66954</td>\n",
       "      <td>2016-04-07 01:46:50</td>\n",
       "    </tr>\n",
       "    <tr>\n",
       "      <th>2</th>\n",
       "      <td>2016-03-14 12:52:21</td>\n",
       "      <td>9800</td>\n",
       "      <td>suv</td>\n",
       "      <td>2004</td>\n",
       "      <td>auto</td>\n",
       "      <td>163</td>\n",
       "      <td>grand</td>\n",
       "      <td>125000</td>\n",
       "      <td>8</td>\n",
       "      <td>gasoline</td>\n",
       "      <td>jeep</td>\n",
       "      <td>NaN</td>\n",
       "      <td>2016-03-14 00:00:00</td>\n",
       "      <td>0</td>\n",
       "      <td>90480</td>\n",
       "      <td>2016-04-05 12:47:46</td>\n",
       "    </tr>\n",
       "    <tr>\n",
       "      <th>3</th>\n",
       "      <td>2016-03-17 16:54:04</td>\n",
       "      <td>1500</td>\n",
       "      <td>small</td>\n",
       "      <td>2001</td>\n",
       "      <td>manual</td>\n",
       "      <td>75</td>\n",
       "      <td>golf</td>\n",
       "      <td>150000</td>\n",
       "      <td>6</td>\n",
       "      <td>petrol</td>\n",
       "      <td>volkswagen</td>\n",
       "      <td>no</td>\n",
       "      <td>2016-03-17 00:00:00</td>\n",
       "      <td>0</td>\n",
       "      <td>91074</td>\n",
       "      <td>2016-03-17 17:40:17</td>\n",
       "    </tr>\n",
       "    <tr>\n",
       "      <th>4</th>\n",
       "      <td>2016-03-31 17:25:20</td>\n",
       "      <td>3600</td>\n",
       "      <td>small</td>\n",
       "      <td>2008</td>\n",
       "      <td>manual</td>\n",
       "      <td>69</td>\n",
       "      <td>fabia</td>\n",
       "      <td>90000</td>\n",
       "      <td>7</td>\n",
       "      <td>gasoline</td>\n",
       "      <td>skoda</td>\n",
       "      <td>no</td>\n",
       "      <td>2016-03-31 00:00:00</td>\n",
       "      <td>0</td>\n",
       "      <td>60437</td>\n",
       "      <td>2016-04-06 10:17:21</td>\n",
       "    </tr>\n",
       "  </tbody>\n",
       "</table>\n",
       "</div>"
      ],
      "text/plain": [
       "           DateCrawled  Price VehicleType  RegistrationYear Gearbox  Power  \\\n",
       "0  2016-03-24 11:52:17    480         NaN              1993  manual      0   \n",
       "1  2016-03-24 10:58:45  18300       coupe              2011  manual    190   \n",
       "2  2016-03-14 12:52:21   9800         suv              2004    auto    163   \n",
       "3  2016-03-17 16:54:04   1500       small              2001  manual     75   \n",
       "4  2016-03-31 17:25:20   3600       small              2008  manual     69   \n",
       "\n",
       "   Model  Kilometer  RegistrationMonth  FuelType       Brand Repaired  \\\n",
       "0   golf     150000                  0    petrol  volkswagen      NaN   \n",
       "1    NaN     125000                  5  gasoline        audi      yes   \n",
       "2  grand     125000                  8  gasoline        jeep      NaN   \n",
       "3   golf     150000                  6    petrol  volkswagen       no   \n",
       "4  fabia      90000                  7  gasoline       skoda       no   \n",
       "\n",
       "           DateCreated  NumberOfPictures  PostalCode             LastSeen  \n",
       "0  2016-03-24 00:00:00                 0       70435  2016-04-07 03:16:57  \n",
       "1  2016-03-24 00:00:00                 0       66954  2016-04-07 01:46:50  \n",
       "2  2016-03-14 00:00:00                 0       90480  2016-04-05 12:47:46  \n",
       "3  2016-03-17 00:00:00                 0       91074  2016-03-17 17:40:17  \n",
       "4  2016-03-31 00:00:00                 0       60437  2016-04-06 10:17:21  "
      ]
     },
     "metadata": {},
     "output_type": "display_data"
    }
   ],
   "source": [
    "display(data.head())"
   ]
  },
  {
   "cell_type": "code",
   "execution_count": 5,
   "metadata": {
    "scrolled": true
   },
   "outputs": [
    {
     "name": "stdout",
     "output_type": "stream",
     "text": [
      "<class 'pandas.core.frame.DataFrame'>\n",
      "RangeIndex: 354369 entries, 0 to 354368\n",
      "Data columns (total 16 columns):\n",
      " #   Column             Non-Null Count   Dtype \n",
      "---  ------             --------------   ----- \n",
      " 0   DateCrawled        354369 non-null  object\n",
      " 1   Price              354369 non-null  int64 \n",
      " 2   VehicleType        316879 non-null  object\n",
      " 3   RegistrationYear   354369 non-null  int64 \n",
      " 4   Gearbox            334536 non-null  object\n",
      " 5   Power              354369 non-null  int64 \n",
      " 6   Model              334664 non-null  object\n",
      " 7   Kilometer          354369 non-null  int64 \n",
      " 8   RegistrationMonth  354369 non-null  int64 \n",
      " 9   FuelType           321474 non-null  object\n",
      " 10  Brand              354369 non-null  object\n",
      " 11  Repaired           283215 non-null  object\n",
      " 12  DateCreated        354369 non-null  object\n",
      " 13  NumberOfPictures   354369 non-null  int64 \n",
      " 14  PostalCode         354369 non-null  int64 \n",
      " 15  LastSeen           354369 non-null  object\n",
      "dtypes: int64(7), object(9)\n",
      "memory usage: 43.3+ MB\n"
     ]
    }
   ],
   "source": [
    "data.info()"
   ]
  },
  {
   "cell_type": "code",
   "execution_count": 6,
   "metadata": {
    "scrolled": false
   },
   "outputs": [
    {
     "data": {
      "text/plain": [
       "Text(0.5, 1.0, 'Карта пропусков')"
      ]
     },
     "execution_count": 6,
     "metadata": {},
     "output_type": "execute_result"
    },
    {
     "data": {
      "image/png": "[encoded data removed]",
      "text/plain": [
       "<Figure size 1152x648 with 2 Axes>"
      ]
     },
     "metadata": {},
     "output_type": "display_data"
    }
   ],
   "source": [
    "colours = ['#0026', '#ffff00'] \n",
    "table = sb.heatmap(data.isnull(), cmap=sb.color_palette(colours))\n",
    "table.set_title('Карта пропусков')"
   ]
  },
  {
   "cell_type": "markdown",
   "metadata": {},
   "source": [
    "### Пердобработка"
   ]
  },
  {
   "cell_type": "markdown",
   "metadata": {},
   "source": [
    "#### Обработка пропусков"
   ]
  },
  {
   "cell_type": "code",
   "execution_count": 7,
   "metadata": {},
   "outputs": [
    {
     "name": "stdout",
     "output_type": "stream",
     "text": [
      "DateCrawled              0\n",
      "Price                    0\n",
      "VehicleType          37490\n",
      "RegistrationYear         0\n",
      "Gearbox              19833\n",
      "Power                    0\n",
      "Model                19705\n",
      "Kilometer                0\n",
      "RegistrationMonth        0\n",
      "FuelType             32895\n",
      "Brand                    0\n",
      "Repaired             71154\n",
      "DateCreated              0\n",
      "NumberOfPictures         0\n",
      "PostalCode               0\n",
      "LastSeen                 0\n",
      "dtype: int64 \n",
      "\n",
      "\n",
      "% Пропусков в датасете \n",
      "\n",
      " DateCrawled           0.0\n",
      "Price                 0.0\n",
      "VehicleType          10.6\n",
      "RegistrationYear      0.0\n",
      "Gearbox               5.6\n",
      "Power                 0.0\n",
      "Model                 5.6\n",
      "Kilometer             0.0\n",
      "RegistrationMonth     0.0\n",
      "FuelType              9.3\n",
      "Brand                 0.0\n",
      "Repaired             20.1\n",
      "DateCreated           0.0\n",
      "NumberOfPictures      0.0\n",
      "PostalCode            0.0\n",
      "LastSeen              0.0\n",
      "dtype: float64\n"
     ]
    }
   ],
   "source": [
    "print(data.isna().sum(),'\\n\\n')\n",
    "print('% Пропусков в датасете','\\n\\n',round(data.isna().sum()*100/len(data),1))"
   ]
  },
  {
   "cell_type": "code",
   "execution_count": 8,
   "metadata": {
    "scrolled": true
   },
   "outputs": [
    {
     "name": "stdout",
     "output_type": "stream",
     "text": [
      "DateCrawled\n",
      "['2016-03-24 11:52:17' '2016-03-24 10:58:45' '2016-03-14 12:52:21' ...\n",
      " '2016-03-21 09:50:58' '2016-03-14 17:48:27' '2016-03-19 18:57:12']\n",
      "VehicleType\n",
      "[nan 'coupe' 'suv' 'small' 'sedan' 'convertible' 'bus' 'wagon' 'other']\n",
      "Gearbox\n",
      "['manual' 'auto' nan]\n",
      "Model\n",
      "['golf' nan 'grand' 'fabia' '3er' '2_reihe' 'other' 'c_max' '3_reihe'\n",
      " 'passat' 'navara' 'ka' 'polo' 'twingo' 'a_klasse' 'scirocco' '5er'\n",
      " 'meriva' 'arosa' 'c4' 'civic' 'transporter' 'punto' 'e_klasse' 'clio'\n",
      " 'kadett' 'kangoo' 'corsa' 'one' 'fortwo' '1er' 'b_klasse' 'signum'\n",
      " 'astra' 'a8' 'jetta' 'fiesta' 'c_klasse' 'micra' 'vito' 'sprinter' '156'\n",
      " 'escort' 'forester' 'xc_reihe' 'scenic' 'a4' 'a1' 'insignia' 'combo'\n",
      " 'focus' 'tt' 'a6' 'jazz' 'omega' 'slk' '7er' '80' '147' '100' 'z_reihe'\n",
      " 'sportage' 'sorento' 'v40' 'ibiza' 'mustang' 'eos' 'touran' 'getz' 'a3'\n",
      " 'almera' 'megane' 'lupo' 'r19' 'zafira' 'caddy' 'mondeo' 'cordoba' 'colt'\n",
      " 'impreza' 'vectra' 'berlingo' 'tiguan' 'i_reihe' 'espace' 'sharan'\n",
      " '6_reihe' 'panda' 'up' 'seicento' 'ceed' '5_reihe' 'yeti' 'octavia' 'mii'\n",
      " 'rx_reihe' '6er' 'modus' 'fox' 'matiz' 'beetle' 'c1' 'rio' 'touareg'\n",
      " 'logan' 'spider' 'cuore' 's_max' 'a2' 'galaxy' 'c3' 'viano' 's_klasse'\n",
      " '1_reihe' 'avensis' 'roomster' 'sl' 'kaefer' 'santa' 'cooper' 'leon'\n",
      " '4_reihe' 'a5' '500' 'laguna' 'ptcruiser' 'clk' 'primera' 'x_reihe'\n",
      " 'exeo' '159' 'transit' 'juke' 'qashqai' 'carisma' 'accord' 'corolla'\n",
      " 'lanos' 'phaeton' 'verso' 'swift' 'rav' 'picanto' 'boxster' 'kalos'\n",
      " 'superb' 'stilo' 'alhambra' 'mx_reihe' 'roadster' 'ypsilon' 'cayenne'\n",
      " 'galant' 'justy' '90' 'sirion' 'crossfire' 'agila' 'duster' 'cr_reihe'\n",
      " 'v50' 'c_reihe' 'v_klasse' 'm_klasse' 'yaris' 'c5' 'aygo' 'cc' 'carnival'\n",
      " 'fusion' '911' 'bora' 'forfour' 'm_reihe' 'cl' 'tigra' '300c' 'spark'\n",
      " 'v70' 'kuga' 'x_type' 'ducato' 's_type' 'x_trail' 'toledo' 'altea'\n",
      " 'voyager' 'calibra' 'bravo' 'antara' 'tucson' 'citigo' 'jimny' 'wrangler'\n",
      " 'lybra' 'q7' 'lancer' 'captiva' 'c2' 'discovery' 'freelander' 'sandero'\n",
      " 'note' '900' 'cherokee' 'clubman' 'samara' 'defender' '601' 'cx_reihe'\n",
      " 'legacy' 'pajero' 'auris' 'niva' 's60' 'nubira' 'vivaro' 'g_klasse'\n",
      " 'lodgy' '850' 'range_rover' 'q3' 'serie_2' 'glk' 'charade' 'croma'\n",
      " 'outlander' 'doblo' 'musa' 'move' '9000' 'v60' '145' 'aveo' '200' 'b_max'\n",
      " 'range_rover_sport' 'terios' 'rangerover' 'q5' 'range_rover_evoque'\n",
      " 'materia' 'delta' 'gl' 'kalina' 'amarok' 'elefantino' 'i3' 'kappa'\n",
      " 'serie_3' 'serie_1']\n",
      "FuelType\n",
      "['petrol' 'gasoline' nan 'lpg' 'other' 'hybrid' 'cng' 'electric']\n",
      "Brand\n",
      "['volkswagen' 'audi' 'jeep' 'skoda' 'bmw' 'peugeot' 'ford' 'mazda'\n",
      " 'nissan' 'renault' 'mercedes_benz' 'opel' 'seat' 'citroen' 'honda' 'fiat'\n",
      " 'mini' 'smart' 'hyundai' 'sonstige_autos' 'alfa_romeo' 'subaru' 'volvo'\n",
      " 'mitsubishi' 'kia' 'suzuki' 'lancia' 'toyota' 'chevrolet' 'dacia'\n",
      " 'daihatsu' 'trabant' 'saab' 'chrysler' 'jaguar' 'daewoo' 'porsche'\n",
      " 'rover' 'land_rover' 'lada']\n",
      "Repaired\n",
      "[nan 'yes' 'no']\n",
      "DateCreated\n",
      "['2016-03-24 00:00:00' '2016-03-14 00:00:00' '2016-03-17 00:00:00'\n",
      " '2016-03-31 00:00:00' '2016-04-04 00:00:00' '2016-04-01 00:00:00'\n",
      " '2016-03-21 00:00:00' '2016-03-26 00:00:00' '2016-04-07 00:00:00'\n",
      " '2016-03-15 00:00:00' '2016-03-11 00:00:00' '2016-03-20 00:00:00'\n",
      " '2016-03-23 00:00:00' '2016-03-27 00:00:00' '2016-03-12 00:00:00'\n",
      " '2016-03-13 00:00:00' '2016-03-18 00:00:00' '2016-03-10 00:00:00'\n",
      " '2016-03-07 00:00:00' '2016-03-09 00:00:00' '2016-03-08 00:00:00'\n",
      " '2016-04-03 00:00:00' '2016-03-29 00:00:00' '2016-03-25 00:00:00'\n",
      " '2016-03-28 00:00:00' '2016-03-30 00:00:00' '2016-03-22 00:00:00'\n",
      " '2016-02-09 00:00:00' '2016-03-05 00:00:00' '2016-04-02 00:00:00'\n",
      " '2016-03-16 00:00:00' '2016-03-19 00:00:00' '2016-04-05 00:00:00'\n",
      " '2016-03-06 00:00:00' '2016-02-12 00:00:00' '2016-03-03 00:00:00'\n",
      " '2016-03-01 00:00:00' '2016-03-04 00:00:00' '2016-04-06 00:00:00'\n",
      " '2016-02-15 00:00:00' '2016-02-24 00:00:00' '2016-02-27 00:00:00'\n",
      " '2015-03-20 00:00:00' '2016-02-28 00:00:00' '2016-02-17 00:00:00'\n",
      " '2016-01-27 00:00:00' '2016-02-20 00:00:00' '2016-02-29 00:00:00'\n",
      " '2016-02-10 00:00:00' '2016-02-23 00:00:00' '2016-02-21 00:00:00'\n",
      " '2015-11-02 00:00:00' '2016-02-19 00:00:00' '2016-02-26 00:00:00'\n",
      " '2016-02-11 00:00:00' '2016-01-10 00:00:00' '2016-02-06 00:00:00'\n",
      " '2016-02-18 00:00:00' '2016-01-29 00:00:00' '2016-03-02 00:00:00'\n",
      " '2015-12-06 00:00:00' '2016-01-24 00:00:00' '2016-01-30 00:00:00'\n",
      " '2016-02-02 00:00:00' '2016-02-16 00:00:00' '2016-02-13 00:00:00'\n",
      " '2016-02-05 00:00:00' '2016-02-22 00:00:00' '2015-11-17 00:00:00'\n",
      " '2014-03-10 00:00:00' '2016-02-07 00:00:00' '2016-01-23 00:00:00'\n",
      " '2016-02-25 00:00:00' '2016-02-14 00:00:00' '2016-01-02 00:00:00'\n",
      " '2015-09-04 00:00:00' '2015-11-12 00:00:00' '2015-12-27 00:00:00'\n",
      " '2015-11-24 00:00:00' '2016-01-20 00:00:00' '2016-02-03 00:00:00'\n",
      " '2015-12-05 00:00:00' '2015-08-07 00:00:00' '2016-01-28 00:00:00'\n",
      " '2016-01-31 00:00:00' '2016-02-08 00:00:00' '2016-01-07 00:00:00'\n",
      " '2016-01-22 00:00:00' '2016-01-18 00:00:00' '2016-01-08 00:00:00'\n",
      " '2015-11-23 00:00:00' '2016-01-13 00:00:00' '2016-01-17 00:00:00'\n",
      " '2016-01-15 00:00:00' '2015-11-08 00:00:00' '2016-01-26 00:00:00'\n",
      " '2016-02-04 00:00:00' '2016-01-25 00:00:00' '2016-01-16 00:00:00'\n",
      " '2015-08-10 00:00:00' '2016-01-03 00:00:00' '2016-01-19 00:00:00'\n",
      " '2015-12-30 00:00:00' '2016-02-01 00:00:00' '2015-12-17 00:00:00'\n",
      " '2015-11-10 00:00:00' '2016-01-06 00:00:00' '2015-09-09 00:00:00'\n",
      " '2015-06-18 00:00:00']\n",
      "LastSeen\n",
      "['2016-04-07 03:16:57' '2016-04-07 01:46:50' '2016-04-05 12:47:46' ...\n",
      " '2016-03-19 20:44:43' '2016-03-29 10:17:23' '2016-03-21 10:42:49']\n"
     ]
    }
   ],
   "source": [
    "for i in data.columns:\n",
    "    if data[i].dtype == 'object': \n",
    "        print(i)\n",
    "        print(data[i].unique())"
   ]
  },
  {
   "cell_type": "markdown",
   "metadata": {},
   "source": [
    "По параметру Repaired наблюдается более 20% пропусков в значениях, информацию такого качества нельзя передавать модели. Параметр будет удален. Полных дубликатов не обнаружено. Пропуски в типе автомабильного кузова заменим на значение \"other\". Параметры: Gearbox, Model и FuelType заполним модой."
   ]
  },
  {
   "cell_type": "code",
   "execution_count": 9,
   "metadata": {},
   "outputs": [],
   "source": [
    "data = data.drop('Repaired',axis=1)\n",
    "data['VehicleType'] = data['VehicleType'].fillna('other')\n",
    "data['Gearbox'] = data['Gearbox'].fillna('manual')\n",
    "data['Model'] = data['Model'].fillna('golf')\n",
    "data['FuelType'] = data['FuelType'].fillna('petrol')"
   ]
  },
  {
   "cell_type": "markdown",
   "metadata": {},
   "source": [
    "#### Обработка аномалий"
   ]
  },
  {
   "cell_type": "code",
   "execution_count": 10,
   "metadata": {
    "scrolled": true
   },
   "outputs": [
    {
     "name": "stdout",
     "output_type": "stream",
     "text": [
      "Price\n"
     ]
    },
    {
     "data": {
      "image/png": "[encoded data removed]",
      "text/plain": [
       "<Figure size 432x216 with 1 Axes>"
      ]
     },
     "metadata": {},
     "output_type": "display_data"
    },
    {
     "name": "stdout",
     "output_type": "stream",
     "text": [
      "RegistrationYear\n"
     ]
    },
    {
     "data": {
      "image/png": "[encoded data removed]",
      "text/plain": [
       "<Figure size 432x216 with 1 Axes>"
      ]
     },
     "metadata": {},
     "output_type": "display_data"
    },
    {
     "name": "stdout",
     "output_type": "stream",
     "text": [
      "Power\n"
     ]
    },
    {
     "data": {
      "image/png": "[encoded data removed]",
      "text/plain": [
       "<Figure size 432x216 with 1 Axes>"
      ]
     },
     "metadata": {},
     "output_type": "display_data"
    },
    {
     "name": "stdout",
     "output_type": "stream",
     "text": [
      "Kilometer\n"
     ]
    },
    {
     "data": {
      "image/png": "[encoded data removed]",
      "text/plain": [
       "<Figure size 432x216 with 1 Axes>"
      ]
     },
     "metadata": {},
     "output_type": "display_data"
    },
    {
     "name": "stdout",
     "output_type": "stream",
     "text": [
      "RegistrationMonth\n"
     ]
    },
    {
     "data": {
      "image/png": "[encoded data removed]",
      "text/plain": [
       "<Figure size 432x216 with 1 Axes>"
      ]
     },
     "metadata": {},
     "output_type": "display_data"
    },
    {
     "name": "stdout",
     "output_type": "stream",
     "text": [
      "NumberOfPictures\n"
     ]
    },
    {
     "data": {
      "image/png": "[encoded data removed]",
      "text/plain": [
       "<Figure size 432x216 with 1 Axes>"
      ]
     },
     "metadata": {},
     "output_type": "display_data"
    },
    {
     "name": "stdout",
     "output_type": "stream",
     "text": [
      "PostalCode\n"
     ]
    },
    {
     "data": {
      "image/png": "[encoded data removed]",
      "text/plain": [
       "<Figure size 432x216 with 1 Axes>"
      ]
     },
     "metadata": {},
     "output_type": "display_data"
    }
   ],
   "source": [
    "for col in data.columns: \n",
    "    if data[col].dtype in ['int64', 'float64']:\n",
    "        print(col)\n",
    "        plt.figure(figsize=(6,3)) \n",
    "        sb.boxplot(x=data[col]) \n",
    "        plt.show() "
   ]
  },
  {
   "cell_type": "code",
   "execution_count": 11,
   "metadata": {},
   "outputs": [],
   "source": [
    "data.loc[data['RegistrationYear'] > 2024, 'RegistrationYear'] = 2003\n",
    "data.loc[data['RegistrationYear'] < 2016, 'RegistrationYear'] = 2003\n",
    "data.loc[data['Power'] > 1000, 'Power'] = 105"
   ]
  },
  {
   "cell_type": "code",
   "execution_count": 12,
   "metadata": {},
   "outputs": [],
   "source": [
    "data.dropna(subset=['Price'], inplace=True)\n",
    "data = data.loc[data['Price'] > 10]\n",
    "data = data.loc[data['Power'] != 0]"
   ]
  },
  {
   "cell_type": "code",
   "execution_count": 13,
   "metadata": {
    "scrolled": true
   },
   "outputs": [],
   "source": [
    "data = data.drop(['DateCreated','NumberOfPictures','PostalCode','LastSeen'],axis=1)"
   ]
  },
  {
   "cell_type": "code",
   "execution_count": 14,
   "metadata": {},
   "outputs": [
    {
     "name": "stderr",
     "output_type": "stream",
     "text": [
      "/opt/conda/lib/python3.9/site-packages/seaborn/_decorators.py:36: FutureWarning: Pass the following variable as a keyword arg: x. From version 0.12, the only valid positional argument will be `data`, and passing other arguments without an explicit keyword will result in an error or misinterpretation.\n",
      "  warnings.warn(\n"
     ]
    },
    {
     "data": {
      "text/plain": [
       "<AxesSubplot:xlabel='Age'>"
      ]
     },
     "execution_count": 14,
     "metadata": {},
     "output_type": "execute_result"
    },
    {
     "data": {
      "image/png": "[encoded data removed]",
      "text/plain": [
       "<Figure size 1152x648 with 1 Axes>"
      ]
     },
     "metadata": {},
     "output_type": "display_data"
    }
   ],
   "source": [
    "data['DateCrawled'] = pd.to_datetime(data['DateCrawled'])\n",
    "data['DateCrawled'] = pd.DatetimeIndex(data['DateCrawled']).year\n",
    "\n",
    "data['Age'] = data['DateCrawled'] - data['RegistrationYear']\n",
    "data = data.drop('DateCrawled', axis=1)\n",
    "sb.boxplot(data['Age'])"
   ]
  },
  {
   "cell_type": "markdown",
   "metadata": {},
   "source": [
    "- По параметру Repaired наблюдалось более 20% пропусков в значениях, параметр был удален\n",
    "- Полных дубликатов не обнаружено\n",
    "- Пропуски в типе автомабильного кузова заменили на значение \"other\"\n",
    "- Параметры: Gearbox, Model и FuelType заполнили модой\n",
    "- Аномалии в годе регистрации и мощности заполнили медианными значениями\n",
    "- Параметры: почтовый индекс, дата скачивания анкеты, дата создания анкеты, количество фотографий авт., дата последней активности были удалены, так как цена на автомобиль от них не зависит."
   ]
  },
  {
   "cell_type": "markdown",
   "metadata": {},
   "source": [
    "### Корреляционный анализ данных"
   ]
  },
  {
   "cell_type": "code",
   "execution_count": 15,
   "metadata": {
    "scrolled": false
   },
   "outputs": [
    {
     "data": {
      "image/png": "[encoded data removed]",
      "text/plain": [
       "<Figure size 1152x648 with 2 Axes>"
      ]
     },
     "metadata": {},
     "output_type": "display_data"
    }
   ],
   "source": [
    "data_corr = sb.heatmap(data.corr(method = 'spearman'), annot=True, cmap='coolwarm')\n",
    "data_corr.set_title('Корреляция параметров по Спирмену', fontsize=20)\n",
    "plt.show()"
   ]
  },
  {
   "cell_type": "markdown",
   "metadata": {},
   "source": [
    "## Обучение моделей"
   ]
  },
  {
   "cell_type": "code",
   "execution_count": 16,
   "metadata": {},
   "outputs": [],
   "source": [
    "X = data.drop('Price', axis=1)\n",
    "y = data['Price']\n",
    "X_train, X_test, y_train, y_test = train_test_split(\n",
    "    X, \n",
    "    y, \n",
    "    random_state=RANDOM_STATE\n",
    ")"
   ]
  },
  {
   "cell_type": "code",
   "execution_count": 17,
   "metadata": {},
   "outputs": [],
   "source": [
    "ohe_features_ridge = X_train.select_dtypes(include='object').columns.to_list()\n",
    "num_features =  X_train.select_dtypes(exclude='object').columns.to_list()"
   ]
  },
  {
   "cell_type": "code",
   "execution_count": 18,
   "metadata": {},
   "outputs": [],
   "source": [
    "ohe_pipe = Pipeline(\n",
    "    [\n",
    "        ('ohe', OneHotEncoder(drop='first',sparse_output=False,handle_unknown='ignore'))\n",
    "    ])\n",
    "\n",
    "data_preprocessor = ColumnTransformer(\n",
    "    [\n",
    "        ('ohe', ohe_pipe, ohe_features_ridge),\n",
    "        ('num', MinMaxScaler(), num_features)\n",
    "    ],\n",
    "    remainder='passthrough'\n",
    ")\n",
    "\n",
    "pipe_final = Pipeline([\n",
    "    ('preprocessor', data_preprocessor),\n",
    "    ('models', LinearRegression())\n",
    "])\n"
   ]
  },
  {
   "cell_type": "code",
   "execution_count": 19,
   "metadata": {},
   "outputs": [],
   "source": [
    "param_grid = [\n",
    "    {\n",
    "        'preprocessor__num': [StandardScaler(), MinMaxScaler(), 'passthrough'],\n",
    "        'preprocessor__ohe': [ohe_pipe],\n",
    "        'models': [LinearRegression()]\n",
    "    }\n",
    "]"
   ]
  },
  {
   "cell_type": "code",
   "execution_count": 20,
   "metadata": {
    "scrolled": true
   },
   "outputs": [],
   "source": [
    "def model_analysis(model, parameters, features_train, target_train):\n",
    "    \n",
    "    # задаем кросвал цикл\n",
    "    random = RandomizedSearchCV(\n",
    "        model, \n",
    "        parameters, \n",
    "        cv=5,\n",
    "        random_state=RANDOM_STATE,\n",
    "        scoring = 'neg_root_mean_squared_error'\n",
    "    )\n",
    "    \n",
    "    # учимся\n",
    "    random.fit(features_train,target_train)\n",
    "#     rmse = 0\n",
    "#     first_time = 0\n",
    "#     second_time = 0\n",
    "    \n",
    "    # замеряем время обучения лучшей модели\n",
    "    start_time = time.time()\n",
    "    random.best_estimator_.fit(features_train,target_train)\n",
    "    first_time = time.time() - start_time\n",
    "    \n",
    "    # замеряем время предсказания лучшей модели\n",
    "    start_time = time.time()\n",
    "    predict = random.best_estimator_.predict(features_train)\n",
    "    second_time = time.time() - start_time\n",
    "    \n",
    "    # сохраняем метрику лучщей модели\n",
    "    rmse = random.best_score_\n",
    "\n",
    "    \n",
    "    # возвращаем каскад из времени и оценки\n",
    "    stat_data = [first_time, second_time, rmse]\n",
    "    return stat_data, random\n",
    "\n"
   ]
  },
  {
   "cell_type": "code",
   "execution_count": 21,
   "metadata": {},
   "outputs": [
    {
     "name": "stderr",
     "output_type": "stream",
     "text": [
      "/opt/conda/lib/python3.9/site-packages/sklearn/model_selection/_search.py:320: UserWarning: The total space of parameters 3 is smaller than n_iter=10. Running 3 iterations. For exhaustive searches, use GridSearchCV.\n",
      "  warnings.warn(\n",
      "/opt/conda/lib/python3.9/site-packages/sklearn/preprocessing/_encoders.py:242: UserWarning: Found unknown categories in columns [2] during transform. These unknown categories will be encoded as all zeros\n",
      "  warnings.warn(\n",
      "/opt/conda/lib/python3.9/site-packages/sklearn/preprocessing/_encoders.py:242: UserWarning: Found unknown categories in columns [2] during transform. These unknown categories will be encoded as all zeros\n",
      "  warnings.warn(\n",
      "/opt/conda/lib/python3.9/site-packages/sklearn/preprocessing/_encoders.py:242: UserWarning: Found unknown categories in columns [2] during transform. These unknown categories will be encoded as all zeros\n",
      "  warnings.warn(\n",
      "/opt/conda/lib/python3.9/site-packages/sklearn/preprocessing/_encoders.py:242: UserWarning: Found unknown categories in columns [2] during transform. These unknown categories will be encoded as all zeros\n",
      "  warnings.warn(\n",
      "/opt/conda/lib/python3.9/site-packages/sklearn/preprocessing/_encoders.py:242: UserWarning: Found unknown categories in columns [2] during transform. These unknown categories will be encoded as all zeros\n",
      "  warnings.warn(\n",
      "/opt/conda/lib/python3.9/site-packages/sklearn/preprocessing/_encoders.py:242: UserWarning: Found unknown categories in columns [2] during transform. These unknown categories will be encoded as all zeros\n",
      "  warnings.warn(\n"
     ]
    }
   ],
   "source": [
    "des_stat, des_grid = model_analysis(pipe_final, param_grid,\n",
    "                                      X_train, y_train)"
   ]
  },
  {
   "cell_type": "markdown",
   "metadata": {},
   "source": [
    "### LGBM"
   ]
  },
  {
   "cell_type": "code",
   "execution_count": 22,
   "metadata": {},
   "outputs": [],
   "source": [
    "def model_analysis_2(model, parameters, features_train, target_train):\n",
    "    start_time = time.time()\n",
    "    random = RandomizedSearchCV(\n",
    "        model, \n",
    "        parameters, \n",
    "        cv=5, \n",
    "        n_jobs=-1,\n",
    "        error_score='raise',\n",
    "        random_state=RANDOM_STATE,\n",
    "        scoring = 'neg_root_mean_squared_error'\n",
    "    )\n",
    "    random.fit(features_train,target_train)\n",
    "    random.best_estimator_.fit(features_train,target_train)\n",
    "    first_time = time.time() - start_time\n",
    "    start_time = time.time()\n",
    "    \n",
    "    predict = random.best_estimator_.predict(features_train)\n",
    "    second_time = time.time() - start_time\n",
    "    \n",
    "    rmse = np.sqrt(mean_squared_error(target_train, predict))\n",
    "    stat_data = [first_time, second_time, rmse]\n",
    "    return stat_data, random"
   ]
  },
  {
   "cell_type": "code",
   "execution_count": 23,
   "metadata": {
    "scrolled": false
   },
   "outputs": [],
   "source": [
    "features_train_ridge = X_train.copy()\n",
    "\n",
    "category = ['VehicleType', 'Gearbox', 'Model', 'FuelType','Brand']\n",
    "# # Ordinal Encoding\n",
    "# OE_encoder = OrdinalEncoder(handle_unknown='use_encoded_value', unknown_value=(-1)) # UPD\n",
    "# OE_encoder.fit(X_train[category])\n",
    "\n",
    "for category in features_train_ridge:\n",
    "    features_train_ridge[category] = features_train_ridge[category].astype('category')\n",
    "    \n",
    "features_train_ridge['RegistrationYear'] = features_train_ridge['RegistrationYear'].astype('int32')\n",
    "features_train_ridge['Kilometer'] = features_train_ridge['Kilometer'].astype('int32')\n",
    "features_train_ridge['Power'] = features_train_ridge['Power'].astype('int32')\n",
    "features_train_ridge['RegistrationMonth'] = features_train_ridge['RegistrationMonth'].astype('int32')\n",
    "features_train_ridge['Age'] = features_train_ridge['Age'].astype('int32')\n",
    "\n",
    "lgbm_model = LGBMRegressor(random_state=RANDOM_STATE)\n",
    "\n",
    "param_lgbm = {\n",
    "    'n_estimators': [50, 100, 150],\n",
    "    'max_depth': [8, 16, 24],\n",
    "    'num_leaves': [8, 16, 32],\n",
    "    'learning_rate': [0.1]\n",
    "}"
   ]
  },
  {
   "cell_type": "code",
   "execution_count": 24,
   "metadata": {},
   "outputs": [],
   "source": [
    "     lgbm_stat, lgbm_grid = model_analysis_2(lgbm_model, param_lgbm,\n",
    "                                       features_train_ridge, y_train)"
   ]
  },
  {
   "cell_type": "markdown",
   "metadata": {},
   "source": [
    "### CatBoost"
   ]
  },
  {
   "cell_type": "code",
   "execution_count": 25,
   "metadata": {},
   "outputs": [],
   "source": [
    "for category in features_train_ridge:\n",
    "    features_train_ridge[category] = features_train_ridge[category].astype('object')\n",
    "    \n",
    "features_train_ridge['RegistrationYear'] = features_train_ridge['RegistrationYear'].astype('int32')\n",
    "features_train_ridge['Kilometer'] = features_train_ridge['Kilometer'].astype('int32')\n",
    "features_train_ridge['Power'] = features_train_ridge['Power'].astype('int32')\n",
    "features_train_ridge['RegistrationMonth'] = features_train_ridge['RegistrationMonth'].astype('int32')\n",
    "features_train_ridge['Age'] = features_train_ridge['Age'].astype('int32')"
   ]
  },
  {
   "cell_type": "code",
   "execution_count": 26,
   "metadata": {},
   "outputs": [],
   "source": [
    "def model_analysis_3(model, parameters, features_train, target_train):\n",
    "    start_time = time.time()\n",
    "    random = RandomizedSearchCV(\n",
    "        model, \n",
    "        parameters, \n",
    "        cv=5, \n",
    "        n_jobs=-1,\n",
    "        error_score='raise',\n",
    "        random_state=RANDOM_STATE,\n",
    "        scoring = 'neg_root_mean_squared_error'\n",
    "    )\n",
    "    categorical_features = ['VehicleType', 'Gearbox', 'Model', 'FuelType','Brand']\n",
    "    random.fit(features_train,target_train,cat_features=categorical_features, plot=True)\n",
    "    random.best_estimator_.fit(features_train,target_train,cat_features=categorical_features, plot=True)\n",
    "    first_time = time.time() - start_time\n",
    "    start_time = time.time()\n",
    "    \n",
    "    predict = random.best_estimator_.predict(features_train)\n",
    "    second_time = time.time() - start_time\n",
    "    \n",
    "    rmse = np.sqrt(mean_squared_error(target_train, predict))\n",
    "    stat_data = [first_time, second_time, rmse]\n",
    "    return stat_data, random\n",
    "\n",
    "catboost_model = CatBoostRegressor()\n",
    "\n",
    "params_catboost = {\n",
    "    'learning_rate': [0.1],\n",
    "    'iterations': [8,35,95],\n",
    "    'max_depth': [11,16]\n",
    "}"
   ]
  },
  {
   "cell_type": "code",
   "execution_count": 27,
   "metadata": {
    "scrolled": true
   },
   "outputs": [
    {
     "name": "stderr",
     "output_type": "stream",
     "text": [
      "/opt/conda/lib/python3.9/site-packages/sklearn/model_selection/_search.py:320: UserWarning: The total space of parameters 6 is smaller than n_iter=10. Running 6 iterations. For exhaustive searches, use GridSearchCV.\n",
      "  warnings.warn(\n"
     ]
    },
    {
     "data": {
      "application/vnd.jupyter.widget-view+json": {
       "model_id": "17a856e54b6a4b5889756b02a77fdcdf",
       "version_major": 2,
       "version_minor": 0
      },
      "text/plain": [
       "MetricVisualizer(layout=Layout(align_self='stretch', height='500px'))"
      ]
     },
     "metadata": {},
     "output_type": "display_data"
    },
    {
     "name": "stdout",
     "output_type": "stream",
     "text": [
      "0:\tlearn: 4316.6589591\ttotal: 194ms\tremaining: 1.36s\n",
      "1:\tlearn: 4087.3465208\ttotal: 366ms\tremaining: 1.1s\n",
      "2:\tlearn: 3892.3559904\ttotal: 479ms\tremaining: 799ms\n",
      "3:\tlearn: 3722.5945434\ttotal: 611ms\tremaining: 611ms\n",
      "4:\tlearn: 3578.8575770\ttotal: 717ms\tremaining: 430ms\n",
      "5:\tlearn: 3451.0232108\ttotal: 830ms\tremaining: 277ms\n",
      "6:\tlearn: 3343.0843089\ttotal: 940ms\tremaining: 134ms\n",
      "7:\tlearn: 3254.5548094\ttotal: 1.05s\tremaining: 0us\n"
     ]
    },
    {
     "data": {
      "application/vnd.jupyter.widget-view+json": {
       "model_id": "f987a719324e43ebad627ff79ff4b5d7",
       "version_major": 2,
       "version_minor": 0
      },
      "text/plain": [
       "MetricVisualizer(layout=Layout(align_self='stretch', height='500px'))"
      ]
     },
     "metadata": {},
     "output_type": "display_data"
    },
    {
     "name": "stdout",
     "output_type": "stream",
     "text": [
      "0:\tlearn: 4318.1119196\ttotal: 123ms\tremaining: 859ms\n",
      "1:\tlearn: 4092.0968216\ttotal: 241ms\tremaining: 724ms\n",
      "2:\tlearn: 3896.6802774\ttotal: 349ms\tremaining: 581ms\n",
      "3:\tlearn: 3725.2478889\ttotal: 472ms\tremaining: 472ms\n",
      "4:\tlearn: 3581.0173901\ttotal: 582ms\tremaining: 349ms\n",
      "5:\tlearn: 3459.2945016\ttotal: 695ms\tremaining: 232ms\n",
      "6:\tlearn: 3349.0010151\ttotal: 814ms\tremaining: 116ms\n",
      "7:\tlearn: 3259.3831916\ttotal: 925ms\tremaining: 0us\n"
     ]
    },
    {
     "data": {
      "application/vnd.jupyter.widget-view+json": {
       "model_id": "2a73f13bda50476792eac88bd976e884",
       "version_major": 2,
       "version_minor": 0
      },
      "text/plain": [
       "MetricVisualizer(layout=Layout(align_self='stretch', height='500px'))"
      ]
     },
     "metadata": {},
     "output_type": "display_data"
    },
    {
     "name": "stdout",
     "output_type": "stream",
     "text": [
      "0:\tlearn: 4323.6449646\ttotal: 122ms\tremaining: 852ms\n",
      "1:\tlearn: 4100.8776844\ttotal: 237ms\tremaining: 711ms\n",
      "2:\tlearn: 3906.1962220\ttotal: 339ms\tremaining: 565ms\n",
      "3:\tlearn: 3729.6815776\ttotal: 458ms\tremaining: 458ms\n",
      "4:\tlearn: 3578.6534157\ttotal: 569ms\tremaining: 342ms\n",
      "5:\tlearn: 3452.5820099\ttotal: 689ms\tremaining: 230ms\n",
      "6:\tlearn: 3345.0820519\ttotal: 802ms\tremaining: 115ms\n",
      "7:\tlearn: 3253.2139545\ttotal: 915ms\tremaining: 0us\n"
     ]
    },
    {
     "data": {
      "application/vnd.jupyter.widget-view+json": {
       "model_id": "46d70057323f40c98caad188fd5d6051",
       "version_major": 2,
       "version_minor": 0
      },
      "text/plain": [
       "MetricVisualizer(layout=Layout(align_self='stretch', height='500px'))"
      ]
     },
     "metadata": {},
     "output_type": "display_data"
    },
    {
     "name": "stdout",
     "output_type": "stream",
     "text": [
      "0:\tlearn: 4315.5407703\ttotal: 121ms\tremaining: 845ms\n",
      "1:\tlearn: 4086.3812477\ttotal: 239ms\tremaining: 716ms\n",
      "2:\tlearn: 3892.6602116\ttotal: 350ms\tremaining: 584ms\n",
      "3:\tlearn: 3725.4548602\ttotal: 477ms\tremaining: 477ms\n",
      "4:\tlearn: 3579.3484052\ttotal: 591ms\tremaining: 355ms\n",
      "5:\tlearn: 3457.4484649\ttotal: 710ms\tremaining: 237ms\n",
      "6:\tlearn: 3348.9139480\ttotal: 836ms\tremaining: 119ms\n",
      "7:\tlearn: 3257.2692146\ttotal: 962ms\tremaining: 0us\n"
     ]
    },
    {
     "data": {
      "application/vnd.jupyter.widget-view+json": {
       "model_id": "76ac58dc968141ac9b0a909d977058ab",
       "version_major": 2,
       "version_minor": 0
      },
      "text/plain": [
       "MetricVisualizer(layout=Layout(align_self='stretch', height='500px'))"
      ]
     },
     "metadata": {},
     "output_type": "display_data"
    },
    {
     "name": "stdout",
     "output_type": "stream",
     "text": [
      "0:\tlearn: 4317.2607780\ttotal: 129ms\tremaining: 905ms\n",
      "1:\tlearn: 4088.4939634\ttotal: 255ms\tremaining: 765ms\n",
      "2:\tlearn: 3892.5525849\ttotal: 369ms\tremaining: 615ms\n",
      "3:\tlearn: 3722.7795242\ttotal: 504ms\tremaining: 504ms\n",
      "4:\tlearn: 3576.3732106\ttotal: 626ms\tremaining: 376ms\n",
      "5:\tlearn: 3449.6393443\ttotal: 761ms\tremaining: 254ms\n",
      "6:\tlearn: 3340.3547429\ttotal: 886ms\tremaining: 127ms\n",
      "7:\tlearn: 3250.4154582\ttotal: 997ms\tremaining: 0us\n"
     ]
    },
    {
     "data": {
      "application/vnd.jupyter.widget-view+json": {
       "model_id": "eab2279d4a104036986e4edabfb75932",
       "version_major": 2,
       "version_minor": 0
      },
      "text/plain": [
       "MetricVisualizer(layout=Layout(align_self='stretch', height='500px'))"
      ]
     },
     "metadata": {},
     "output_type": "display_data"
    },
    {
     "name": "stdout",
     "output_type": "stream",
     "text": [
      "0:\tlearn: 4312.2809710\ttotal: 1.26s\tremaining: 8.85s\n",
      "1:\tlearn: 4081.6655534\ttotal: 2.25s\tremaining: 6.74s\n",
      "2:\tlearn: 3880.1779817\ttotal: 3.32s\tremaining: 5.54s\n",
      "3:\tlearn: 3700.4061435\ttotal: 4.39s\tremaining: 4.39s\n",
      "4:\tlearn: 3551.0904715\ttotal: 5.35s\tremaining: 3.21s\n",
      "5:\tlearn: 3422.9886853\ttotal: 6.4s\tremaining: 2.13s\n",
      "6:\tlearn: 3315.5359949\ttotal: 7.48s\tremaining: 1.07s\n",
      "7:\tlearn: 3226.4008734\ttotal: 7.76s\tremaining: 0us\n"
     ]
    },
    {
     "data": {
      "application/vnd.jupyter.widget-view+json": {
       "model_id": "6dacb7e243b1465b98437af8595a81b4",
       "version_major": 2,
       "version_minor": 0
      },
      "text/plain": [
       "MetricVisualizer(layout=Layout(align_self='stretch', height='500px'))"
      ]
     },
     "metadata": {},
     "output_type": "display_data"
    },
    {
     "name": "stdout",
     "output_type": "stream",
     "text": [
      "0:\tlearn: 4316.3133565\ttotal: 208ms\tremaining: 1.46s\n",
      "1:\tlearn: 4081.4852842\ttotal: 1.24s\tremaining: 3.71s\n",
      "2:\tlearn: 3883.4944429\ttotal: 1.39s\tremaining: 2.31s\n",
      "3:\tlearn: 3705.0464100\ttotal: 2.45s\tremaining: 2.45s\n",
      "4:\tlearn: 3553.4386497\ttotal: 3.5s\tremaining: 2.1s\n",
      "5:\tlearn: 3424.6117714\ttotal: 4.54s\tremaining: 1.51s\n",
      "6:\tlearn: 3313.8397231\ttotal: 5.61s\tremaining: 801ms\n",
      "7:\tlearn: 3221.1897849\ttotal: 6.66s\tremaining: 0us\n"
     ]
    },
    {
     "data": {
      "application/vnd.jupyter.widget-view+json": {
       "model_id": "2dec5d2d049048fb92732112b20e831e",
       "version_major": 2,
       "version_minor": 0
      },
      "text/plain": [
       "MetricVisualizer(layout=Layout(align_self='stretch', height='500px'))"
      ]
     },
     "metadata": {},
     "output_type": "display_data"
    },
    {
     "name": "stdout",
     "output_type": "stream",
     "text": [
      "0:\tlearn: 4319.3265251\ttotal: 1.02s\tremaining: 7.14s\n",
      "1:\tlearn: 4090.2965687\ttotal: 1.55s\tremaining: 4.65s\n",
      "2:\tlearn: 3891.6248436\ttotal: 2.62s\tremaining: 4.36s\n",
      "3:\tlearn: 3713.3337382\ttotal: 3.71s\tremaining: 3.71s\n",
      "4:\tlearn: 3559.6724170\ttotal: 4.78s\tremaining: 2.87s\n",
      "5:\tlearn: 3431.7956451\ttotal: 5.28s\tremaining: 1.76s\n",
      "6:\tlearn: 3318.6546509\ttotal: 6.32s\tremaining: 902ms\n",
      "7:\tlearn: 3222.6677888\ttotal: 7.35s\tremaining: 0us\n"
     ]
    },
    {
     "data": {
      "application/vnd.jupyter.widget-view+json": {
       "model_id": "a43e847883914bf297bc05d73a759e05",
       "version_major": 2,
       "version_minor": 0
      },
      "text/plain": [
       "MetricVisualizer(layout=Layout(align_self='stretch', height='500px'))"
      ]
     },
     "metadata": {},
     "output_type": "display_data"
    },
    {
     "name": "stdout",
     "output_type": "stream",
     "text": [
      "0:\tlearn: 4308.3603027\ttotal: 1.02s\tremaining: 7.17s\n",
      "1:\tlearn: 4079.6114020\ttotal: 1.55s\tremaining: 4.65s\n",
      "2:\tlearn: 3881.2945329\ttotal: 2.58s\tremaining: 4.3s\n",
      "3:\tlearn: 3705.2475040\ttotal: 3.68s\tremaining: 3.68s\n",
      "4:\tlearn: 3553.5328790\ttotal: 4.74s\tremaining: 2.85s\n",
      "5:\tlearn: 3427.9039576\ttotal: 5.78s\tremaining: 1.93s\n",
      "6:\tlearn: 3320.0874293\ttotal: 6.83s\tremaining: 975ms\n",
      "7:\tlearn: 3225.3350351\ttotal: 7.85s\tremaining: 0us\n"
     ]
    },
    {
     "data": {
      "application/vnd.jupyter.widget-view+json": {
       "model_id": "3004ff90723a481282e98e5c29b3ff9a",
       "version_major": 2,
       "version_minor": 0
      },
      "text/plain": [
       "MetricVisualizer(layout=Layout(align_self='stretch', height='500px'))"
      ]
     },
     "metadata": {},
     "output_type": "display_data"
    },
    {
     "name": "stdout",
     "output_type": "stream",
     "text": [
      "0:\tlearn: 4308.6228325\ttotal: 1.07s\tremaining: 7.51s\n",
      "1:\tlearn: 4079.9084484\ttotal: 1.57s\tremaining: 4.71s\n",
      "2:\tlearn: 3880.3805466\ttotal: 2.64s\tremaining: 4.4s\n",
      "3:\tlearn: 3701.5287792\ttotal: 3.67s\tremaining: 3.67s\n",
      "4:\tlearn: 3546.8343348\ttotal: 4.75s\tremaining: 2.85s\n",
      "5:\tlearn: 3419.0153554\ttotal: 5.8s\tremaining: 1.93s\n",
      "6:\tlearn: 3310.5252854\ttotal: 6.84s\tremaining: 977ms\n",
      "7:\tlearn: 3214.9598870\ttotal: 7.88s\tremaining: 0us\n"
     ]
    },
    {
     "data": {
      "application/vnd.jupyter.widget-view+json": {
       "model_id": "e99c91b739014572a7ed04138760988f",
       "version_major": 2,
       "version_minor": 0
      },
      "text/plain": [
       "MetricVisualizer(layout=Layout(align_self='stretch', height='500px'))"
      ]
     },
     "metadata": {},
     "output_type": "display_data"
    },
    {
     "name": "stdout",
     "output_type": "stream",
     "text": [
      "0:\tlearn: 4316.6589591\ttotal: 143ms\tremaining: 4.86s\n",
      "1:\tlearn: 4087.3465208\ttotal: 267ms\tremaining: 4.4s\n",
      "2:\tlearn: 3892.3559904\ttotal: 383ms\tremaining: 4.08s\n",
      "3:\tlearn: 3722.5945434\ttotal: 507ms\tremaining: 3.93s\n",
      "4:\tlearn: 3578.8575770\ttotal: 621ms\tremaining: 3.73s\n",
      "5:\tlearn: 3451.0232108\ttotal: 739ms\tremaining: 3.57s\n",
      "6:\tlearn: 3343.0843089\ttotal: 852ms\tremaining: 3.41s\n",
      "7:\tlearn: 3254.5548094\ttotal: 983ms\tremaining: 3.32s\n",
      "8:\tlearn: 3178.6561537\ttotal: 1.09s\tremaining: 3.16s\n",
      "9:\tlearn: 3113.5650592\ttotal: 1.22s\tremaining: 3.04s\n",
      "10:\tlearn: 3047.9873071\ttotal: 1.33s\tremaining: 2.9s\n",
      "11:\tlearn: 2990.6472887\ttotal: 1.44s\tremaining: 2.76s\n",
      "12:\tlearn: 2932.2765680\ttotal: 1.56s\tremaining: 2.64s\n",
      "13:\tlearn: 2883.0479158\ttotal: 1.69s\tremaining: 2.53s\n",
      "14:\tlearn: 2841.2874638\ttotal: 1.83s\tremaining: 2.44s\n",
      "15:\tlearn: 2807.4934809\ttotal: 1.94s\tremaining: 2.31s\n",
      "16:\tlearn: 2778.5241548\ttotal: 2.05s\tremaining: 2.17s\n",
      "17:\tlearn: 2751.4326340\ttotal: 2.16s\tremaining: 2.04s\n",
      "18:\tlearn: 2729.4277864\ttotal: 2.27s\tremaining: 1.91s\n",
      "19:\tlearn: 2710.0038701\ttotal: 2.38s\tremaining: 1.79s\n",
      "20:\tlearn: 2692.7689635\ttotal: 2.49s\tremaining: 1.66s\n",
      "21:\tlearn: 2674.6727138\ttotal: 2.61s\tremaining: 1.54s\n",
      "22:\tlearn: 2658.9100744\ttotal: 2.73s\tremaining: 1.43s\n",
      "23:\tlearn: 2644.6142859\ttotal: 2.85s\tremaining: 1.31s\n",
      "24:\tlearn: 2628.7003931\ttotal: 2.97s\tremaining: 1.19s\n",
      "25:\tlearn: 2617.3881967\ttotal: 3.08s\tremaining: 1.07s\n",
      "26:\tlearn: 2605.8259831\ttotal: 3.2s\tremaining: 949ms\n",
      "27:\tlearn: 2595.7333901\ttotal: 3.31s\tremaining: 829ms\n",
      "28:\tlearn: 2587.7513849\ttotal: 3.45s\tremaining: 713ms\n",
      "29:\tlearn: 2580.6062653\ttotal: 3.56s\tremaining: 594ms\n",
      "30:\tlearn: 2571.6767151\ttotal: 3.69s\tremaining: 476ms\n",
      "31:\tlearn: 2562.2780343\ttotal: 3.82s\tremaining: 358ms\n",
      "32:\tlearn: 2556.3794761\ttotal: 3.93s\tremaining: 238ms\n",
      "33:\tlearn: 2551.6951793\ttotal: 4.04s\tremaining: 119ms\n",
      "34:\tlearn: 2546.9984237\ttotal: 4.15s\tremaining: 0us\n"
     ]
    },
    {
     "data": {
      "application/vnd.jupyter.widget-view+json": {
       "model_id": "1dcffc1158c34b04884e62318e764566",
       "version_major": 2,
       "version_minor": 0
      },
      "text/plain": [
       "MetricVisualizer(layout=Layout(align_self='stretch', height='500px'))"
      ]
     },
     "metadata": {},
     "output_type": "display_data"
    },
    {
     "name": "stdout",
     "output_type": "stream",
     "text": [
      "0:\tlearn: 4318.1119196\ttotal: 128ms\tremaining: 4.35s\n",
      "1:\tlearn: 4092.0968216\ttotal: 251ms\tremaining: 4.13s\n",
      "2:\tlearn: 3896.6802774\ttotal: 359ms\tremaining: 3.83s\n",
      "3:\tlearn: 3725.2478889\ttotal: 492ms\tremaining: 3.81s\n",
      "4:\tlearn: 3581.0173901\ttotal: 606ms\tremaining: 3.64s\n",
      "5:\tlearn: 3459.2945016\ttotal: 729ms\tremaining: 3.52s\n",
      "6:\tlearn: 3349.0010151\ttotal: 847ms\tremaining: 3.39s\n",
      "7:\tlearn: 3259.3831916\ttotal: 963ms\tremaining: 3.25s\n",
      "8:\tlearn: 3182.5561234\ttotal: 1.08s\tremaining: 3.13s\n",
      "9:\tlearn: 3114.9434045\ttotal: 1.2s\tremaining: 3s\n",
      "10:\tlearn: 3047.6885637\ttotal: 1.32s\tremaining: 2.89s\n",
      "11:\tlearn: 2989.9251143\ttotal: 1.44s\tremaining: 2.76s\n",
      "12:\tlearn: 2929.3245869\ttotal: 1.58s\tremaining: 2.68s\n",
      "13:\tlearn: 2880.4485138\ttotal: 1.7s\tremaining: 2.55s\n",
      "14:\tlearn: 2837.6040508\ttotal: 1.84s\tremaining: 2.45s\n",
      "15:\tlearn: 2801.7467919\ttotal: 1.96s\tremaining: 2.33s\n",
      "16:\tlearn: 2770.8980974\ttotal: 2.07s\tremaining: 2.19s\n",
      "17:\tlearn: 2744.6157257\ttotal: 2.18s\tremaining: 2.06s\n",
      "18:\tlearn: 2720.3555906\ttotal: 2.29s\tremaining: 1.93s\n",
      "19:\tlearn: 2698.0630937\ttotal: 2.41s\tremaining: 1.81s\n",
      "20:\tlearn: 2679.1522739\ttotal: 2.52s\tremaining: 1.68s\n",
      "21:\tlearn: 2659.4150581\ttotal: 2.64s\tremaining: 1.56s\n",
      "22:\tlearn: 2642.8910938\ttotal: 2.77s\tremaining: 1.44s\n",
      "23:\tlearn: 2628.6714817\ttotal: 2.88s\tremaining: 1.32s\n",
      "24:\tlearn: 2617.0836254\ttotal: 2.99s\tremaining: 1.2s\n",
      "25:\tlearn: 2604.8566602\ttotal: 3.12s\tremaining: 1.08s\n",
      "26:\tlearn: 2593.3636590\ttotal: 3.25s\tremaining: 964ms\n",
      "27:\tlearn: 2580.9198344\ttotal: 3.37s\tremaining: 842ms\n",
      "28:\tlearn: 2572.8618901\ttotal: 3.48s\tremaining: 720ms\n",
      "29:\tlearn: 2565.5113581\ttotal: 3.6s\tremaining: 599ms\n",
      "30:\tlearn: 2558.6927473\ttotal: 3.71s\tremaining: 479ms\n",
      "31:\tlearn: 2551.8249178\ttotal: 3.83s\tremaining: 359ms\n",
      "32:\tlearn: 2546.9760436\ttotal: 3.94s\tremaining: 239ms\n",
      "33:\tlearn: 2541.3367034\ttotal: 4.06s\tremaining: 119ms\n",
      "34:\tlearn: 2536.2999401\ttotal: 4.17s\tremaining: 0us\n"
     ]
    },
    {
     "data": {
      "application/vnd.jupyter.widget-view+json": {
       "model_id": "b97df7bdc97c421294ed96ff64d1a62e",
       "version_major": 2,
       "version_minor": 0
      },
      "text/plain": [
       "MetricVisualizer(layout=Layout(align_self='stretch', height='500px'))"
      ]
     },
     "metadata": {},
     "output_type": "display_data"
    },
    {
     "name": "stdout",
     "output_type": "stream",
     "text": [
      "0:\tlearn: 4323.6449646\ttotal: 123ms\tremaining: 4.17s\n",
      "1:\tlearn: 4100.8776844\ttotal: 242ms\tremaining: 3.99s\n",
      "2:\tlearn: 3906.1962220\ttotal: 350ms\tremaining: 3.73s\n",
      "3:\tlearn: 3729.6815776\ttotal: 472ms\tremaining: 3.65s\n",
      "4:\tlearn: 3578.6534157\ttotal: 584ms\tremaining: 3.5s\n",
      "5:\tlearn: 3452.5820099\ttotal: 695ms\tremaining: 3.36s\n",
      "6:\tlearn: 3345.0820519\ttotal: 808ms\tremaining: 3.23s\n",
      "7:\tlearn: 3253.2139545\ttotal: 923ms\tremaining: 3.11s\n",
      "8:\tlearn: 3174.9480351\ttotal: 1.03s\tremaining: 2.99s\n",
      "9:\tlearn: 3098.5114405\ttotal: 1.15s\tremaining: 2.88s\n",
      "10:\tlearn: 3034.8733356\ttotal: 1.28s\tremaining: 2.8s\n",
      "11:\tlearn: 2981.0527879\ttotal: 1.4s\tremaining: 2.68s\n",
      "12:\tlearn: 2922.9072435\ttotal: 1.51s\tremaining: 2.56s\n",
      "13:\tlearn: 2873.5212899\ttotal: 1.63s\tremaining: 2.45s\n",
      "14:\tlearn: 2832.0209570\ttotal: 1.74s\tremaining: 2.32s\n",
      "15:\tlearn: 2798.8756394\ttotal: 1.85s\tremaining: 2.2s\n",
      "16:\tlearn: 2769.2398996\ttotal: 1.97s\tremaining: 2.08s\n",
      "17:\tlearn: 2743.1903087\ttotal: 2.08s\tremaining: 1.96s\n",
      "18:\tlearn: 2720.4669204\ttotal: 2.19s\tremaining: 1.84s\n",
      "19:\tlearn: 2701.8687426\ttotal: 2.31s\tremaining: 1.73s\n",
      "20:\tlearn: 2684.0320754\ttotal: 2.44s\tremaining: 1.63s\n",
      "21:\tlearn: 2666.4045270\ttotal: 2.59s\tremaining: 1.53s\n",
      "22:\tlearn: 2648.8308226\ttotal: 2.71s\tremaining: 1.41s\n",
      "23:\tlearn: 2635.4210490\ttotal: 2.82s\tremaining: 1.29s\n",
      "24:\tlearn: 2622.1174908\ttotal: 2.96s\tremaining: 1.18s\n",
      "25:\tlearn: 2610.2350173\ttotal: 3.07s\tremaining: 1.06s\n",
      "26:\tlearn: 2598.3351790\ttotal: 3.18s\tremaining: 943ms\n",
      "27:\tlearn: 2588.4660574\ttotal: 3.3s\tremaining: 824ms\n",
      "28:\tlearn: 2579.1164620\ttotal: 3.43s\tremaining: 709ms\n",
      "29:\tlearn: 2569.9460086\ttotal: 3.55s\tremaining: 592ms\n",
      "30:\tlearn: 2562.9002686\ttotal: 3.67s\tremaining: 473ms\n",
      "31:\tlearn: 2556.3503511\ttotal: 3.78s\tremaining: 354ms\n",
      "32:\tlearn: 2549.1507232\ttotal: 3.89s\tremaining: 236ms\n",
      "33:\tlearn: 2543.4246902\ttotal: 4.01s\tremaining: 118ms\n",
      "34:\tlearn: 2536.8428331\ttotal: 4.12s\tremaining: 0us\n"
     ]
    },
    {
     "data": {
      "application/vnd.jupyter.widget-view+json": {
       "model_id": "557b05fd0f954dc78055db388518b9ae",
       "version_major": 2,
       "version_minor": 0
      },
      "text/plain": [
       "MetricVisualizer(layout=Layout(align_self='stretch', height='500px'))"
      ]
     },
     "metadata": {},
     "output_type": "display_data"
    },
    {
     "name": "stdout",
     "output_type": "stream",
     "text": [
      "0:\tlearn: 4315.5407703\ttotal: 126ms\tremaining: 4.29s\n",
      "1:\tlearn: 4086.3812477\ttotal: 253ms\tremaining: 4.18s\n",
      "2:\tlearn: 3892.6602116\ttotal: 472ms\tremaining: 5.03s\n",
      "3:\tlearn: 3725.4548602\ttotal: 625ms\tremaining: 4.84s\n",
      "4:\tlearn: 3579.3484052\ttotal: 746ms\tremaining: 4.48s\n",
      "5:\tlearn: 3457.4484649\ttotal: 863ms\tremaining: 4.17s\n",
      "6:\tlearn: 3348.9139480\ttotal: 1.08s\tremaining: 4.33s\n",
      "7:\tlearn: 3257.2692146\ttotal: 1.23s\tremaining: 4.15s\n",
      "8:\tlearn: 3182.0953150\ttotal: 1.34s\tremaining: 3.86s\n",
      "9:\tlearn: 3104.2401859\ttotal: 1.46s\tremaining: 3.65s\n",
      "10:\tlearn: 3040.3035981\ttotal: 1.58s\tremaining: 3.45s\n",
      "11:\tlearn: 2983.5308374\ttotal: 1.69s\tremaining: 3.25s\n",
      "12:\tlearn: 2925.1853315\ttotal: 1.81s\tremaining: 3.06s\n",
      "13:\tlearn: 2875.8772995\ttotal: 1.92s\tremaining: 2.88s\n",
      "14:\tlearn: 2833.9780745\ttotal: 2.03s\tremaining: 2.71s\n",
      "15:\tlearn: 2798.3024161\ttotal: 2.17s\tremaining: 2.58s\n",
      "16:\tlearn: 2767.1966121\ttotal: 2.28s\tremaining: 2.42s\n",
      "17:\tlearn: 2741.5597314\ttotal: 2.4s\tremaining: 2.27s\n",
      "18:\tlearn: 2719.8701293\ttotal: 2.52s\tremaining: 2.12s\n",
      "19:\tlearn: 2699.2764846\ttotal: 2.64s\tremaining: 1.98s\n",
      "20:\tlearn: 2681.9198884\ttotal: 2.77s\tremaining: 1.84s\n",
      "21:\tlearn: 2663.3755252\ttotal: 2.88s\tremaining: 1.7s\n",
      "22:\tlearn: 2647.3193476\ttotal: 2.99s\tremaining: 1.56s\n",
      "23:\tlearn: 2631.3907555\ttotal: 3.1s\tremaining: 1.42s\n",
      "24:\tlearn: 2616.5490191\ttotal: 3.21s\tremaining: 1.28s\n",
      "25:\tlearn: 2604.4368318\ttotal: 3.32s\tremaining: 1.15s\n",
      "26:\tlearn: 2595.1848630\ttotal: 3.42s\tremaining: 1.01s\n",
      "27:\tlearn: 2584.2540820\ttotal: 3.54s\tremaining: 884ms\n",
      "28:\tlearn: 2577.0307547\ttotal: 3.64s\tremaining: 754ms\n",
      "29:\tlearn: 2569.3705201\ttotal: 3.76s\tremaining: 626ms\n",
      "30:\tlearn: 2559.4774756\ttotal: 3.87s\tremaining: 499ms\n",
      "31:\tlearn: 2553.4895792\ttotal: 3.98s\tremaining: 373ms\n",
      "32:\tlearn: 2544.1360750\ttotal: 4.09s\tremaining: 248ms\n",
      "33:\tlearn: 2537.3877044\ttotal: 4.2s\tremaining: 124ms\n",
      "34:\tlearn: 2531.8716540\ttotal: 4.34s\tremaining: 0us\n"
     ]
    },
    {
     "data": {
      "application/vnd.jupyter.widget-view+json": {
       "model_id": "37db7a497ffe4267b18759bfbb333970",
       "version_major": 2,
       "version_minor": 0
      },
      "text/plain": [
       "MetricVisualizer(layout=Layout(align_self='stretch', height='500px'))"
      ]
     },
     "metadata": {},
     "output_type": "display_data"
    },
    {
     "name": "stdout",
     "output_type": "stream",
     "text": [
      "0:\tlearn: 4317.2607780\ttotal: 128ms\tremaining: 4.34s\n",
      "1:\tlearn: 4088.4939634\ttotal: 249ms\tremaining: 4.12s\n",
      "2:\tlearn: 3892.5525849\ttotal: 359ms\tremaining: 3.83s\n",
      "3:\tlearn: 3722.7795242\ttotal: 483ms\tremaining: 3.74s\n",
      "4:\tlearn: 3576.3732106\ttotal: 608ms\tremaining: 3.65s\n",
      "5:\tlearn: 3449.6393443\ttotal: 717ms\tremaining: 3.46s\n",
      "6:\tlearn: 3340.3547429\ttotal: 828ms\tremaining: 3.31s\n",
      "7:\tlearn: 3250.4154582\ttotal: 942ms\tremaining: 3.18s\n",
      "8:\tlearn: 3173.1096668\ttotal: 1.05s\tremaining: 3.04s\n",
      "9:\tlearn: 3097.9312862\ttotal: 1.17s\tremaining: 2.93s\n",
      "10:\tlearn: 3032.4647245\ttotal: 1.28s\tremaining: 2.8s\n",
      "11:\tlearn: 2978.4620194\ttotal: 1.39s\tremaining: 2.66s\n",
      "12:\tlearn: 2921.9912582\ttotal: 1.51s\tremaining: 2.55s\n",
      "13:\tlearn: 2873.0847569\ttotal: 1.62s\tremaining: 2.43s\n",
      "14:\tlearn: 2830.7514111\ttotal: 1.74s\tremaining: 2.32s\n",
      "15:\tlearn: 2796.6462350\ttotal: 1.85s\tremaining: 2.2s\n",
      "16:\tlearn: 2766.5122572\ttotal: 1.98s\tremaining: 2.09s\n",
      "17:\tlearn: 2740.7238645\ttotal: 2.1s\tremaining: 1.98s\n",
      "18:\tlearn: 2719.1522680\ttotal: 2.23s\tremaining: 1.88s\n",
      "19:\tlearn: 2700.4877612\ttotal: 2.34s\tremaining: 1.75s\n",
      "20:\tlearn: 2683.2668555\ttotal: 2.45s\tremaining: 1.63s\n",
      "21:\tlearn: 2667.5974349\ttotal: 2.56s\tremaining: 1.51s\n",
      "22:\tlearn: 2653.4090245\ttotal: 2.68s\tremaining: 1.4s\n",
      "23:\tlearn: 2639.6085022\ttotal: 2.79s\tremaining: 1.28s\n",
      "24:\tlearn: 2625.8351594\ttotal: 2.9s\tremaining: 1.16s\n",
      "25:\tlearn: 2612.6429605\ttotal: 3.02s\tremaining: 1.05s\n",
      "26:\tlearn: 2602.7994805\ttotal: 3.14s\tremaining: 930ms\n",
      "27:\tlearn: 2592.2882682\ttotal: 3.25s\tremaining: 812ms\n",
      "28:\tlearn: 2584.0229762\ttotal: 3.37s\tremaining: 698ms\n",
      "29:\tlearn: 2574.2415227\ttotal: 3.48s\tremaining: 581ms\n",
      "30:\tlearn: 2567.1083270\ttotal: 3.6s\tremaining: 464ms\n",
      "31:\tlearn: 2559.6862410\ttotal: 3.73s\tremaining: 350ms\n",
      "32:\tlearn: 2552.9144646\ttotal: 3.87s\tremaining: 234ms\n",
      "33:\tlearn: 2547.5581102\ttotal: 3.98s\tremaining: 117ms\n",
      "34:\tlearn: 2540.2351113\ttotal: 4.08s\tremaining: 0us\n"
     ]
    },
    {
     "data": {
      "application/vnd.jupyter.widget-view+json": {
       "model_id": "69622e7817304095b76155c5cd4f5c92",
       "version_major": 2,
       "version_minor": 0
      },
      "text/plain": [
       "MetricVisualizer(layout=Layout(align_self='stretch', height='500px'))"
      ]
     },
     "metadata": {},
     "output_type": "display_data"
    },
    {
     "name": "stdout",
     "output_type": "stream",
     "text": [
      "0:\tlearn: 4312.2809710\ttotal: 1.06s\tremaining: 36.2s\n",
      "1:\tlearn: 4081.6655534\ttotal: 2s\tremaining: 32.9s\n",
      "2:\tlearn: 3880.1779817\ttotal: 3.06s\tremaining: 32.7s\n",
      "3:\tlearn: 3700.4061435\ttotal: 4.17s\tremaining: 32.3s\n",
      "4:\tlearn: 3551.0904715\ttotal: 5.07s\tremaining: 30.4s\n",
      "5:\tlearn: 3422.9886853\ttotal: 6.15s\tremaining: 29.7s\n",
      "6:\tlearn: 3315.5359949\ttotal: 7.24s\tremaining: 29s\n",
      "7:\tlearn: 3226.4008734\ttotal: 7.52s\tremaining: 25.4s\n",
      "8:\tlearn: 3143.5823572\ttotal: 8.58s\tremaining: 24.8s\n",
      "9:\tlearn: 3061.4310410\ttotal: 9.63s\tremaining: 24.1s\n",
      "10:\tlearn: 2993.2667959\ttotal: 10.7s\tremaining: 23.3s\n",
      "11:\tlearn: 2935.2462709\ttotal: 11.7s\tremaining: 22.5s\n",
      "12:\tlearn: 2884.9252239\ttotal: 12.8s\tremaining: 21.7s\n",
      "13:\tlearn: 2829.4598388\ttotal: 13.9s\tremaining: 20.8s\n",
      "14:\tlearn: 2779.4397635\ttotal: 14.9s\tremaining: 19.9s\n",
      "15:\tlearn: 2736.3015257\ttotal: 16s\tremaining: 19s\n",
      "16:\tlearn: 2699.2017355\ttotal: 17s\tremaining: 18s\n",
      "17:\tlearn: 2668.6126399\ttotal: 18.1s\tremaining: 17.1s\n",
      "18:\tlearn: 2638.4897312\ttotal: 19.1s\tremaining: 16.1s\n",
      "19:\tlearn: 2612.6017101\ttotal: 20.2s\tremaining: 15.1s\n",
      "20:\tlearn: 2585.9356381\ttotal: 21.3s\tremaining: 14.2s\n",
      "21:\tlearn: 2558.5837553\ttotal: 22.3s\tremaining: 13.2s\n",
      "22:\tlearn: 2537.4084332\ttotal: 23.4s\tremaining: 12.2s\n",
      "23:\tlearn: 2519.6472713\ttotal: 24.4s\tremaining: 11.2s\n",
      "24:\tlearn: 2500.5448076\ttotal: 25.5s\tremaining: 10.2s\n",
      "25:\tlearn: 2482.8993899\ttotal: 26.5s\tremaining: 9.19s\n",
      "26:\tlearn: 2467.8535218\ttotal: 27.6s\tremaining: 8.18s\n",
      "27:\tlearn: 2453.6352422\ttotal: 28.7s\tremaining: 7.17s\n",
      "28:\tlearn: 2440.8842495\ttotal: 29.8s\tremaining: 6.16s\n",
      "29:\tlearn: 2429.6806769\ttotal: 30.9s\tremaining: 5.14s\n",
      "30:\tlearn: 2419.6115291\ttotal: 31.9s\tremaining: 4.12s\n",
      "31:\tlearn: 2409.3643258\ttotal: 33s\tremaining: 3.09s\n",
      "32:\tlearn: 2398.0676221\ttotal: 34s\tremaining: 2.06s\n",
      "33:\tlearn: 2390.2486521\ttotal: 35s\tremaining: 1.03s\n",
      "34:\tlearn: 2379.7225320\ttotal: 36.1s\tremaining: 0us\n"
     ]
    },
    {
     "data": {
      "application/vnd.jupyter.widget-view+json": {
       "model_id": "b69ef1bc502a41f4bd33e39cfea78650",
       "version_major": 2,
       "version_minor": 0
      },
      "text/plain": [
       "MetricVisualizer(layout=Layout(align_self='stretch', height='500px'))"
      ]
     },
     "metadata": {},
     "output_type": "display_data"
    },
    {
     "name": "stdout",
     "output_type": "stream",
     "text": [
      "0:\tlearn: 4316.3133565\ttotal: 188ms\tremaining: 6.39s\n",
      "1:\tlearn: 4081.4852842\ttotal: 1.21s\tremaining: 20s\n",
      "2:\tlearn: 3883.4944429\ttotal: 1.34s\tremaining: 14.3s\n",
      "3:\tlearn: 3705.0464100\ttotal: 2.39s\tremaining: 18.5s\n",
      "4:\tlearn: 3553.4386497\ttotal: 3.41s\tremaining: 20.5s\n",
      "5:\tlearn: 3424.6117714\ttotal: 4.42s\tremaining: 21.4s\n",
      "6:\tlearn: 3313.8397231\ttotal: 5.42s\tremaining: 21.7s\n",
      "7:\tlearn: 3221.1897849\ttotal: 6.42s\tremaining: 21.7s\n",
      "8:\tlearn: 3143.4556322\ttotal: 7.47s\tremaining: 21.6s\n",
      "9:\tlearn: 3063.8734162\ttotal: 8.5s\tremaining: 21.3s\n",
      "10:\tlearn: 2994.4247915\ttotal: 9.53s\tremaining: 20.8s\n",
      "11:\tlearn: 2933.6506595\ttotal: 10.6s\tremaining: 20.3s\n",
      "12:\tlearn: 2869.9599743\ttotal: 11.6s\tremaining: 19.6s\n",
      "13:\tlearn: 2812.0591334\ttotal: 12.6s\tremaining: 19s\n",
      "14:\tlearn: 2762.2687753\ttotal: 13.7s\tremaining: 18.3s\n",
      "15:\tlearn: 2719.2832830\ttotal: 14.7s\tremaining: 17.5s\n",
      "16:\tlearn: 2682.1623440\ttotal: 15.8s\tremaining: 16.7s\n",
      "17:\tlearn: 2650.3024857\ttotal: 16.8s\tremaining: 15.9s\n",
      "18:\tlearn: 2620.8776033\ttotal: 17.8s\tremaining: 15s\n",
      "19:\tlearn: 2596.8422657\ttotal: 18.9s\tremaining: 14.2s\n",
      "20:\tlearn: 2576.1872038\ttotal: 20s\tremaining: 13.3s\n",
      "21:\tlearn: 2555.6818364\ttotal: 21s\tremaining: 12.4s\n",
      "22:\tlearn: 2533.8766274\ttotal: 22.1s\tremaining: 11.5s\n",
      "23:\tlearn: 2512.1809431\ttotal: 23.1s\tremaining: 10.6s\n",
      "24:\tlearn: 2492.6691987\ttotal: 24.1s\tremaining: 9.64s\n",
      "25:\tlearn: 2476.5022165\ttotal: 25.2s\tremaining: 8.71s\n",
      "26:\tlearn: 2461.6545533\ttotal: 26.2s\tremaining: 7.75s\n",
      "27:\tlearn: 2443.8669818\ttotal: 27.2s\tremaining: 6.8s\n",
      "28:\tlearn: 2427.8364887\ttotal: 28.3s\tremaining: 5.85s\n",
      "29:\tlearn: 2417.1693670\ttotal: 29.3s\tremaining: 4.88s\n",
      "30:\tlearn: 2408.3466230\ttotal: 30.4s\tremaining: 3.92s\n",
      "31:\tlearn: 2398.6472614\ttotal: 31.4s\tremaining: 2.94s\n",
      "32:\tlearn: 2389.1326873\ttotal: 32.4s\tremaining: 1.97s\n",
      "33:\tlearn: 2378.0737200\ttotal: 33.5s\tremaining: 984ms\n",
      "34:\tlearn: 2366.7688959\ttotal: 34.5s\tremaining: 0us\n"
     ]
    },
    {
     "data": {
      "application/vnd.jupyter.widget-view+json": {
       "model_id": "c3394317489c489d8f65b80ce148cbfa",
       "version_major": 2,
       "version_minor": 0
      },
      "text/plain": [
       "MetricVisualizer(layout=Layout(align_self='stretch', height='500px'))"
      ]
     },
     "metadata": {},
     "output_type": "display_data"
    },
    {
     "name": "stdout",
     "output_type": "stream",
     "text": [
      "0:\tlearn: 4319.3265251\ttotal: 1.03s\tremaining: 35.2s\n",
      "1:\tlearn: 4090.2965687\ttotal: 1.5s\tremaining: 24.8s\n",
      "2:\tlearn: 3891.6248436\ttotal: 2.54s\tremaining: 27.1s\n",
      "3:\tlearn: 3713.3337382\ttotal: 3.55s\tremaining: 27.5s\n",
      "4:\tlearn: 3559.6724170\ttotal: 4.58s\tremaining: 27.5s\n",
      "5:\tlearn: 3431.7956451\ttotal: 5.07s\tremaining: 24.5s\n",
      "6:\tlearn: 3318.6546509\ttotal: 6.08s\tremaining: 24.3s\n",
      "7:\tlearn: 3222.6677888\ttotal: 7.11s\tremaining: 24s\n",
      "8:\tlearn: 3140.2344919\ttotal: 8.13s\tremaining: 23.5s\n",
      "9:\tlearn: 3058.8582268\ttotal: 9.19s\tremaining: 23s\n",
      "10:\tlearn: 2987.0036200\ttotal: 10.2s\tremaining: 22.2s\n",
      "11:\tlearn: 2928.3062760\ttotal: 11.2s\tremaining: 21.5s\n",
      "12:\tlearn: 2877.8198313\ttotal: 12.2s\tremaining: 20.7s\n",
      "13:\tlearn: 2819.8946354\ttotal: 13.3s\tremaining: 19.9s\n",
      "14:\tlearn: 2768.2238303\ttotal: 14.3s\tremaining: 19s\n",
      "15:\tlearn: 2724.2274998\ttotal: 15.3s\tremaining: 18.2s\n",
      "16:\tlearn: 2687.2094143\ttotal: 16.3s\tremaining: 17.3s\n",
      "17:\tlearn: 2654.8640524\ttotal: 17.4s\tremaining: 16.4s\n",
      "18:\tlearn: 2626.1228014\ttotal: 18.4s\tremaining: 15.5s\n",
      "19:\tlearn: 2601.4868060\ttotal: 19.4s\tremaining: 14.6s\n",
      "20:\tlearn: 2578.9451435\ttotal: 20.5s\tremaining: 13.7s\n",
      "21:\tlearn: 2555.1772017\ttotal: 21.6s\tremaining: 12.8s\n",
      "22:\tlearn: 2534.4910927\ttotal: 22.6s\tremaining: 11.8s\n",
      "23:\tlearn: 2514.0078334\ttotal: 23.7s\tremaining: 10.9s\n",
      "24:\tlearn: 2495.4426171\ttotal: 24.7s\tremaining: 9.89s\n",
      "25:\tlearn: 2477.4928850\ttotal: 25.8s\tremaining: 8.92s\n",
      "26:\tlearn: 2461.0277405\ttotal: 26.8s\tremaining: 7.95s\n",
      "27:\tlearn: 2447.9716011\ttotal: 27.9s\tremaining: 6.96s\n",
      "28:\tlearn: 2434.7173131\ttotal: 28.9s\tremaining: 5.98s\n",
      "29:\tlearn: 2421.0163967\ttotal: 30s\tremaining: 4.99s\n",
      "30:\tlearn: 2410.1505270\ttotal: 31s\tremaining: 4s\n",
      "31:\tlearn: 2401.9515069\ttotal: 32s\tremaining: 3s\n",
      "32:\tlearn: 2392.5725973\ttotal: 33s\tremaining: 2s\n",
      "33:\tlearn: 2382.8472751\ttotal: 34.1s\tremaining: 1s\n",
      "34:\tlearn: 2375.7286487\ttotal: 35.1s\tremaining: 0us\n"
     ]
    },
    {
     "data": {
      "application/vnd.jupyter.widget-view+json": {
       "model_id": "43ea240a074a4071bbc19785bbd744d7",
       "version_major": 2,
       "version_minor": 0
      },
      "text/plain": [
       "MetricVisualizer(layout=Layout(align_self='stretch', height='500px'))"
      ]
     },
     "metadata": {},
     "output_type": "display_data"
    },
    {
     "name": "stdout",
     "output_type": "stream",
     "text": [
      "0:\tlearn: 4308.3603027\ttotal: 1.15s\tremaining: 39s\n",
      "1:\tlearn: 4079.6114020\ttotal: 1.65s\tremaining: 27.2s\n",
      "2:\tlearn: 3881.2945329\ttotal: 2.69s\tremaining: 28.7s\n",
      "3:\tlearn: 3705.2475040\ttotal: 3.75s\tremaining: 29.1s\n",
      "4:\tlearn: 3553.5328790\ttotal: 4.78s\tremaining: 28.7s\n",
      "5:\tlearn: 3427.9039576\ttotal: 5.81s\tremaining: 28.1s\n",
      "6:\tlearn: 3320.0874293\ttotal: 6.85s\tremaining: 27.4s\n",
      "7:\tlearn: 3225.3350351\ttotal: 7.88s\tremaining: 26.6s\n",
      "8:\tlearn: 3130.0678934\ttotal: 8.95s\tremaining: 25.9s\n",
      "9:\tlearn: 3049.2386274\ttotal: 9.99s\tremaining: 25s\n",
      "10:\tlearn: 2981.3482217\ttotal: 11s\tremaining: 24.1s\n",
      "11:\tlearn: 2923.8474622\ttotal: 12.1s\tremaining: 23.1s\n",
      "12:\tlearn: 2871.6274540\ttotal: 13.1s\tremaining: 22.2s\n",
      "13:\tlearn: 2814.7776031\ttotal: 14.2s\tremaining: 21.2s\n",
      "14:\tlearn: 2765.5798192\ttotal: 15.2s\tremaining: 20.3s\n",
      "15:\tlearn: 2720.1752776\ttotal: 16.2s\tremaining: 19.3s\n",
      "16:\tlearn: 2679.7334614\ttotal: 17.3s\tremaining: 18.3s\n",
      "17:\tlearn: 2645.4755669\ttotal: 18.3s\tremaining: 17.3s\n",
      "18:\tlearn: 2617.8017056\ttotal: 19.3s\tremaining: 16.3s\n",
      "19:\tlearn: 2591.0389835\ttotal: 20.4s\tremaining: 15.3s\n",
      "20:\tlearn: 2569.5717742\ttotal: 21.5s\tremaining: 14.3s\n",
      "21:\tlearn: 2542.6348743\ttotal: 22.5s\tremaining: 13.3s\n",
      "22:\tlearn: 2518.1882372\ttotal: 23.6s\tremaining: 12.3s\n",
      "23:\tlearn: 2499.7341821\ttotal: 24.6s\tremaining: 11.3s\n",
      "24:\tlearn: 2482.0445328\ttotal: 25.6s\tremaining: 10.2s\n",
      "25:\tlearn: 2465.7412190\ttotal: 26.6s\tremaining: 9.22s\n",
      "26:\tlearn: 2447.6038391\ttotal: 27.7s\tremaining: 8.2s\n",
      "27:\tlearn: 2434.1363269\ttotal: 28.7s\tremaining: 7.18s\n",
      "28:\tlearn: 2422.0006136\ttotal: 29.8s\tremaining: 6.16s\n",
      "29:\tlearn: 2411.3020556\ttotal: 30.8s\tremaining: 5.13s\n",
      "30:\tlearn: 2400.2445917\ttotal: 31.9s\tremaining: 4.11s\n",
      "31:\tlearn: 2389.7520126\ttotal: 33s\tremaining: 3.09s\n",
      "32:\tlearn: 2378.7626186\ttotal: 34s\tremaining: 2.06s\n",
      "33:\tlearn: 2370.8067303\ttotal: 35s\tremaining: 1.03s\n",
      "34:\tlearn: 2363.0487556\ttotal: 36.1s\tremaining: 0us\n"
     ]
    },
    {
     "data": {
      "application/vnd.jupyter.widget-view+json": {
       "model_id": "937fb31f2f384889a230641d23772d5b",
       "version_major": 2,
       "version_minor": 0
      },
      "text/plain": [
       "MetricVisualizer(layout=Layout(align_self='stretch', height='500px'))"
      ]
     },
     "metadata": {},
     "output_type": "display_data"
    },
    {
     "name": "stdout",
     "output_type": "stream",
     "text": [
      "0:\tlearn: 4308.6228325\ttotal: 1.04s\tremaining: 35.4s\n",
      "1:\tlearn: 4079.9084484\ttotal: 1.55s\tremaining: 25.6s\n",
      "2:\tlearn: 3880.3805466\ttotal: 2.59s\tremaining: 27.6s\n",
      "3:\tlearn: 3701.5287792\ttotal: 3.61s\tremaining: 28s\n",
      "4:\tlearn: 3546.8343348\ttotal: 4.64s\tremaining: 27.9s\n",
      "5:\tlearn: 3419.0153554\ttotal: 5.68s\tremaining: 27.5s\n",
      "6:\tlearn: 3310.5252854\ttotal: 6.69s\tremaining: 26.7s\n",
      "7:\tlearn: 3214.9598870\ttotal: 7.71s\tremaining: 26s\n",
      "8:\tlearn: 3122.5520357\ttotal: 8.75s\tremaining: 25.3s\n",
      "9:\tlearn: 3041.6424601\ttotal: 9.78s\tremaining: 24.4s\n",
      "10:\tlearn: 2974.2405602\ttotal: 10.9s\tremaining: 23.7s\n",
      "11:\tlearn: 2915.8435995\ttotal: 11.9s\tremaining: 22.9s\n",
      "12:\tlearn: 2864.5855678\ttotal: 13s\tremaining: 21.9s\n",
      "13:\tlearn: 2805.7188424\ttotal: 14s\tremaining: 21.1s\n",
      "14:\tlearn: 2756.4787503\ttotal: 15.1s\tremaining: 20.1s\n",
      "15:\tlearn: 2715.0090389\ttotal: 16.1s\tremaining: 19.1s\n",
      "16:\tlearn: 2678.4127893\ttotal: 17.1s\tremaining: 18.2s\n",
      "17:\tlearn: 2646.5997290\ttotal: 18.2s\tremaining: 17.2s\n",
      "18:\tlearn: 2616.6213962\ttotal: 19.2s\tremaining: 16.2s\n",
      "19:\tlearn: 2592.6691001\ttotal: 20.2s\tremaining: 15.2s\n",
      "20:\tlearn: 2569.9973694\ttotal: 21.2s\tremaining: 14.2s\n",
      "21:\tlearn: 2544.1596494\ttotal: 22.3s\tremaining: 13.1s\n",
      "22:\tlearn: 2521.3071999\ttotal: 23.3s\tremaining: 12.2s\n",
      "23:\tlearn: 2501.6291983\ttotal: 24.3s\tremaining: 11.2s\n",
      "24:\tlearn: 2481.8126985\ttotal: 25.4s\tremaining: 10.2s\n",
      "25:\tlearn: 2466.7732042\ttotal: 26.4s\tremaining: 9.14s\n",
      "26:\tlearn: 2451.7887617\ttotal: 27.4s\tremaining: 8.12s\n",
      "27:\tlearn: 2439.2951187\ttotal: 28.4s\tremaining: 7.11s\n",
      "28:\tlearn: 2429.0099381\ttotal: 29.5s\tremaining: 6.1s\n",
      "29:\tlearn: 2418.7312059\ttotal: 30.5s\tremaining: 5.08s\n",
      "30:\tlearn: 2405.7306872\ttotal: 31.6s\tremaining: 4.07s\n",
      "31:\tlearn: 2394.3980621\ttotal: 32.6s\tremaining: 3.06s\n",
      "32:\tlearn: 2384.1298696\ttotal: 33.6s\tremaining: 2.04s\n",
      "33:\tlearn: 2374.5075956\ttotal: 34.7s\tremaining: 1.02s\n",
      "34:\tlearn: 2367.0397867\ttotal: 35.7s\tremaining: 0us\n"
     ]
    },
    {
     "data": {
      "application/vnd.jupyter.widget-view+json": {
       "model_id": "bfa78860bf424943ab907cbf6a316353",
       "version_major": 2,
       "version_minor": 0
      },
      "text/plain": [
       "MetricVisualizer(layout=Layout(align_self='stretch', height='500px'))"
      ]
     },
     "metadata": {},
     "output_type": "display_data"
    },
    {
     "name": "stdout",
     "output_type": "stream",
     "text": [
      "0:\tlearn: 4316.6589591\ttotal: 113ms\tremaining: 10.7s\n",
      "1:\tlearn: 4087.3465208\ttotal: 220ms\tremaining: 10.2s\n",
      "2:\tlearn: 3892.3559904\ttotal: 331ms\tremaining: 10.1s\n",
      "3:\tlearn: 3722.5945434\ttotal: 453ms\tremaining: 10.3s\n",
      "4:\tlearn: 3578.8575770\ttotal: 582ms\tremaining: 10.5s\n",
      "5:\tlearn: 3451.0232108\ttotal: 696ms\tremaining: 10.3s\n",
      "6:\tlearn: 3343.0843089\ttotal: 809ms\tremaining: 10.2s\n",
      "7:\tlearn: 3254.5548094\ttotal: 913ms\tremaining: 9.92s\n",
      "8:\tlearn: 3178.6561537\ttotal: 1.03s\tremaining: 9.83s\n",
      "9:\tlearn: 3113.5650592\ttotal: 1.13s\tremaining: 9.63s\n",
      "10:\tlearn: 3047.9873071\ttotal: 1.24s\tremaining: 9.47s\n",
      "11:\tlearn: 2990.6472887\ttotal: 1.34s\tremaining: 9.3s\n",
      "12:\tlearn: 2932.2765680\ttotal: 1.45s\tremaining: 9.15s\n",
      "13:\tlearn: 2883.0479158\ttotal: 1.55s\tremaining: 8.99s\n",
      "14:\tlearn: 2841.2874638\ttotal: 1.66s\tremaining: 8.86s\n",
      "15:\tlearn: 2807.4934809\ttotal: 1.77s\tremaining: 8.73s\n",
      "16:\tlearn: 2778.5241548\ttotal: 1.87s\tremaining: 8.6s\n",
      "17:\tlearn: 2751.4326340\ttotal: 1.98s\tremaining: 8.47s\n",
      "18:\tlearn: 2729.4277864\ttotal: 2.1s\tremaining: 8.38s\n",
      "19:\tlearn: 2710.0038701\ttotal: 2.21s\tremaining: 8.3s\n",
      "20:\tlearn: 2692.7689635\ttotal: 2.32s\tremaining: 8.18s\n",
      "21:\tlearn: 2674.6727138\ttotal: 2.43s\tremaining: 8.07s\n",
      "22:\tlearn: 2658.9100744\ttotal: 2.55s\tremaining: 7.98s\n",
      "23:\tlearn: 2644.6142859\ttotal: 2.66s\tremaining: 7.88s\n",
      "24:\tlearn: 2628.7003931\ttotal: 2.78s\tremaining: 7.78s\n",
      "25:\tlearn: 2617.3881967\ttotal: 2.89s\tremaining: 7.67s\n",
      "26:\tlearn: 2605.8259831\ttotal: 3s\tremaining: 7.55s\n",
      "27:\tlearn: 2595.7333901\ttotal: 3.1s\tremaining: 7.43s\n",
      "28:\tlearn: 2587.7513849\ttotal: 3.21s\tremaining: 7.31s\n",
      "29:\tlearn: 2580.6062653\ttotal: 3.32s\tremaining: 7.19s\n",
      "30:\tlearn: 2571.6767151\ttotal: 3.43s\tremaining: 7.08s\n",
      "31:\tlearn: 2562.2780343\ttotal: 3.54s\tremaining: 6.96s\n",
      "32:\tlearn: 2556.3794761\ttotal: 3.65s\tremaining: 6.86s\n",
      "33:\tlearn: 2551.6951793\ttotal: 3.77s\tremaining: 6.77s\n",
      "34:\tlearn: 2546.9984237\ttotal: 3.88s\tremaining: 6.66s\n",
      "35:\tlearn: 2542.0999447\ttotal: 4s\tremaining: 6.56s\n",
      "36:\tlearn: 2538.2146878\ttotal: 4.11s\tremaining: 6.44s\n",
      "37:\tlearn: 2529.9854379\ttotal: 4.24s\tremaining: 6.35s\n",
      "38:\tlearn: 2523.4792580\ttotal: 4.35s\tremaining: 6.25s\n",
      "39:\tlearn: 2517.5836263\ttotal: 4.46s\tremaining: 6.14s\n",
      "40:\tlearn: 2513.8478366\ttotal: 4.58s\tremaining: 6.03s\n",
      "41:\tlearn: 2511.1009666\ttotal: 4.69s\tremaining: 5.92s\n",
      "42:\tlearn: 2507.6641368\ttotal: 4.81s\tremaining: 5.82s\n",
      "43:\tlearn: 2503.8237577\ttotal: 4.92s\tremaining: 5.71s\n",
      "44:\tlearn: 2494.9786968\ttotal: 5.04s\tremaining: 5.59s\n",
      "45:\tlearn: 2492.5418906\ttotal: 5.15s\tremaining: 5.49s\n",
      "46:\tlearn: 2489.0200943\ttotal: 5.27s\tremaining: 5.38s\n",
      "47:\tlearn: 2485.5643206\ttotal: 5.39s\tremaining: 5.28s\n",
      "48:\tlearn: 2481.4617519\ttotal: 5.51s\tremaining: 5.17s\n",
      "49:\tlearn: 2476.7013278\ttotal: 5.62s\tremaining: 5.06s\n",
      "50:\tlearn: 2474.1504996\ttotal: 5.73s\tremaining: 4.94s\n",
      "51:\tlearn: 2470.3919133\ttotal: 5.87s\tremaining: 4.85s\n",
      "52:\tlearn: 2468.8227898\ttotal: 5.99s\tremaining: 4.74s\n",
      "53:\tlearn: 2467.0589044\ttotal: 6.1s\tremaining: 4.63s\n",
      "54:\tlearn: 2461.9080006\ttotal: 6.2s\tremaining: 4.51s\n",
      "55:\tlearn: 2460.0362868\ttotal: 6.31s\tremaining: 4.39s\n",
      "56:\tlearn: 2457.8840352\ttotal: 6.42s\tremaining: 4.28s\n",
      "57:\tlearn: 2453.3656377\ttotal: 6.53s\tremaining: 4.16s\n",
      "58:\tlearn: 2450.3801359\ttotal: 6.64s\tremaining: 4.05s\n",
      "59:\tlearn: 2449.1739526\ttotal: 6.75s\tremaining: 3.94s\n",
      "60:\tlearn: 2444.0042271\ttotal: 6.86s\tremaining: 3.82s\n",
      "61:\tlearn: 2442.7651084\ttotal: 6.97s\tremaining: 3.71s\n",
      "62:\tlearn: 2440.6611624\ttotal: 7.09s\tremaining: 3.6s\n",
      "63:\tlearn: 2438.2158940\ttotal: 7.19s\tremaining: 3.48s\n",
      "64:\tlearn: 2435.6374668\ttotal: 7.3s\tremaining: 3.37s\n",
      "65:\tlearn: 2431.1534952\ttotal: 7.43s\tremaining: 3.27s\n",
      "66:\tlearn: 2429.8340491\ttotal: 7.54s\tremaining: 3.15s\n",
      "67:\tlearn: 2427.6933889\ttotal: 7.67s\tremaining: 3.04s\n",
      "68:\tlearn: 2425.2829772\ttotal: 7.77s\tremaining: 2.93s\n",
      "69:\tlearn: 2422.5153642\ttotal: 7.89s\tremaining: 2.82s\n",
      "70:\tlearn: 2418.3106195\ttotal: 8s\tremaining: 2.7s\n",
      "71:\tlearn: 2415.4477945\ttotal: 8.1s\tremaining: 2.59s\n",
      "72:\tlearn: 2411.5523560\ttotal: 8.21s\tremaining: 2.47s\n",
      "73:\tlearn: 2409.0979435\ttotal: 8.32s\tremaining: 2.36s\n",
      "74:\tlearn: 2403.5972437\ttotal: 8.42s\tremaining: 2.25s\n",
      "75:\tlearn: 2399.7913928\ttotal: 8.56s\tremaining: 2.14s\n",
      "76:\tlearn: 2396.9604804\ttotal: 8.67s\tremaining: 2.03s\n",
      "77:\tlearn: 2393.9553475\ttotal: 8.78s\tremaining: 1.91s\n",
      "78:\tlearn: 2391.8697579\ttotal: 8.9s\tremaining: 1.8s\n",
      "79:\tlearn: 2390.8322946\ttotal: 9.03s\tremaining: 1.69s\n",
      "80:\tlearn: 2389.5256298\ttotal: 9.15s\tremaining: 1.58s\n",
      "81:\tlearn: 2387.5412526\ttotal: 9.26s\tremaining: 1.47s\n",
      "82:\tlearn: 2386.0623835\ttotal: 9.38s\tremaining: 1.36s\n",
      "83:\tlearn: 2384.6653301\ttotal: 9.49s\tremaining: 1.24s\n",
      "84:\tlearn: 2383.7351186\ttotal: 9.6s\tremaining: 1.13s\n",
      "85:\tlearn: 2382.4444055\ttotal: 9.71s\tremaining: 1.01s\n",
      "86:\tlearn: 2379.1598749\ttotal: 9.82s\tremaining: 903ms\n",
      "87:\tlearn: 2373.6054776\ttotal: 9.93s\tremaining: 790ms\n",
      "88:\tlearn: 2369.2011147\ttotal: 10s\tremaining: 677ms\n",
      "89:\tlearn: 2365.2917147\ttotal: 10.2s\tremaining: 565ms\n",
      "90:\tlearn: 2361.4954416\ttotal: 10.3s\tremaining: 451ms\n",
      "91:\tlearn: 2359.1551824\ttotal: 10.4s\tremaining: 339ms\n",
      "92:\tlearn: 2357.6822788\ttotal: 10.5s\tremaining: 226ms\n",
      "93:\tlearn: 2356.1762201\ttotal: 10.6s\tremaining: 113ms\n",
      "94:\tlearn: 2354.7367300\ttotal: 10.7s\tremaining: 0us\n"
     ]
    },
    {
     "data": {
      "application/vnd.jupyter.widget-view+json": {
       "model_id": "a6622f37ba6c4d1f86d9e2ae8d93ec25",
       "version_major": 2,
       "version_minor": 0
      },
      "text/plain": [
       "MetricVisualizer(layout=Layout(align_self='stretch', height='500px'))"
      ]
     },
     "metadata": {},
     "output_type": "display_data"
    },
    {
     "name": "stdout",
     "output_type": "stream",
     "text": [
      "0:\tlearn: 4318.1119196\ttotal: 114ms\tremaining: 10.8s\n",
      "1:\tlearn: 4092.0968216\ttotal: 228ms\tremaining: 10.6s\n",
      "2:\tlearn: 3896.6802774\ttotal: 330ms\tremaining: 10.1s\n",
      "3:\tlearn: 3725.2478889\ttotal: 448ms\tremaining: 10.2s\n",
      "4:\tlearn: 3581.0173901\ttotal: 555ms\tremaining: 9.99s\n",
      "5:\tlearn: 3459.2945016\ttotal: 663ms\tremaining: 9.84s\n",
      "6:\tlearn: 3349.0010151\ttotal: 774ms\tremaining: 9.73s\n",
      "7:\tlearn: 3259.3831916\ttotal: 880ms\tremaining: 9.57s\n",
      "8:\tlearn: 3182.5561234\ttotal: 988ms\tremaining: 9.44s\n",
      "9:\tlearn: 3114.9434045\ttotal: 1.09s\tremaining: 9.28s\n",
      "10:\tlearn: 3047.6885637\ttotal: 1.21s\tremaining: 9.25s\n",
      "11:\tlearn: 2989.9251143\ttotal: 1.32s\tremaining: 9.11s\n",
      "12:\tlearn: 2929.3245869\ttotal: 1.42s\tremaining: 8.97s\n",
      "13:\tlearn: 2880.4485138\ttotal: 1.53s\tremaining: 8.83s\n",
      "14:\tlearn: 2837.6040508\ttotal: 1.64s\tremaining: 8.74s\n",
      "15:\tlearn: 2801.7467919\ttotal: 1.75s\tremaining: 8.66s\n",
      "16:\tlearn: 2770.8980974\ttotal: 1.9s\tremaining: 8.71s\n",
      "17:\tlearn: 2744.6157257\ttotal: 2s\tremaining: 8.57s\n",
      "18:\tlearn: 2720.3555906\ttotal: 2.11s\tremaining: 8.43s\n",
      "19:\tlearn: 2698.0630937\ttotal: 2.21s\tremaining: 8.29s\n",
      "20:\tlearn: 2679.1522739\ttotal: 2.32s\tremaining: 8.17s\n",
      "21:\tlearn: 2659.4150581\ttotal: 2.43s\tremaining: 8.06s\n",
      "22:\tlearn: 2642.8910938\ttotal: 2.54s\tremaining: 7.94s\n",
      "23:\tlearn: 2628.6714817\ttotal: 2.65s\tremaining: 7.83s\n",
      "24:\tlearn: 2617.0836254\ttotal: 2.76s\tremaining: 7.72s\n",
      "25:\tlearn: 2604.8566602\ttotal: 2.88s\tremaining: 7.64s\n",
      "26:\tlearn: 2593.3636590\ttotal: 2.98s\tremaining: 7.52s\n",
      "27:\tlearn: 2580.9198344\ttotal: 3.09s\tremaining: 7.39s\n",
      "28:\tlearn: 2572.8618901\ttotal: 3.2s\tremaining: 7.28s\n",
      "29:\tlearn: 2565.5113581\ttotal: 3.31s\tremaining: 7.16s\n",
      "30:\tlearn: 2558.6927473\ttotal: 3.41s\tremaining: 7.05s\n",
      "31:\tlearn: 2551.8249178\ttotal: 3.52s\tremaining: 6.93s\n",
      "32:\tlearn: 2546.9760436\ttotal: 3.63s\tremaining: 6.82s\n",
      "33:\tlearn: 2541.3367034\ttotal: 3.75s\tremaining: 6.73s\n",
      "34:\tlearn: 2536.2999401\ttotal: 3.87s\tremaining: 6.63s\n",
      "35:\tlearn: 2530.8871884\ttotal: 3.98s\tremaining: 6.53s\n",
      "36:\tlearn: 2523.6205103\ttotal: 4.1s\tremaining: 6.43s\n",
      "37:\tlearn: 2519.1900625\ttotal: 4.21s\tremaining: 6.31s\n",
      "38:\tlearn: 2515.5816764\ttotal: 4.33s\tremaining: 6.22s\n",
      "39:\tlearn: 2511.6824767\ttotal: 4.46s\tremaining: 6.13s\n",
      "40:\tlearn: 2504.8986097\ttotal: 4.56s\tremaining: 6.01s\n",
      "41:\tlearn: 2500.8596894\ttotal: 4.67s\tremaining: 5.89s\n",
      "42:\tlearn: 2498.0811734\ttotal: 4.78s\tremaining: 5.78s\n",
      "43:\tlearn: 2491.6255418\ttotal: 4.89s\tremaining: 5.66s\n",
      "44:\tlearn: 2484.0957625\ttotal: 5.01s\tremaining: 5.57s\n",
      "45:\tlearn: 2481.4938745\ttotal: 5.12s\tremaining: 5.45s\n",
      "46:\tlearn: 2476.2621907\ttotal: 5.23s\tremaining: 5.34s\n",
      "47:\tlearn: 2474.1301458\ttotal: 5.34s\tremaining: 5.23s\n",
      "48:\tlearn: 2469.7856194\ttotal: 5.46s\tremaining: 5.12s\n",
      "49:\tlearn: 2465.9607770\ttotal: 5.57s\tremaining: 5.01s\n",
      "50:\tlearn: 2462.2537940\ttotal: 5.68s\tremaining: 4.9s\n",
      "51:\tlearn: 2459.3558377\ttotal: 5.79s\tremaining: 4.79s\n",
      "52:\tlearn: 2454.2205541\ttotal: 5.93s\tremaining: 4.7s\n",
      "53:\tlearn: 2451.8081457\ttotal: 6.05s\tremaining: 4.59s\n",
      "54:\tlearn: 2449.3182279\ttotal: 6.16s\tremaining: 4.48s\n",
      "55:\tlearn: 2446.6477904\ttotal: 6.27s\tremaining: 4.37s\n",
      "56:\tlearn: 2444.0603263\ttotal: 6.38s\tremaining: 4.25s\n",
      "57:\tlearn: 2441.9702565\ttotal: 6.49s\tremaining: 4.14s\n",
      "58:\tlearn: 2440.6315977\ttotal: 6.61s\tremaining: 4.03s\n",
      "59:\tlearn: 2438.6034326\ttotal: 6.71s\tremaining: 3.92s\n",
      "60:\tlearn: 2437.3260657\ttotal: 6.83s\tremaining: 3.8s\n",
      "61:\tlearn: 2434.5610562\ttotal: 6.95s\tremaining: 3.7s\n",
      "62:\tlearn: 2430.7217940\ttotal: 7.05s\tremaining: 3.58s\n",
      "63:\tlearn: 2427.5943358\ttotal: 7.17s\tremaining: 3.47s\n",
      "64:\tlearn: 2426.0911619\ttotal: 7.28s\tremaining: 3.36s\n",
      "65:\tlearn: 2422.3649922\ttotal: 7.39s\tremaining: 3.25s\n",
      "66:\tlearn: 2420.0606496\ttotal: 7.51s\tremaining: 3.14s\n",
      "67:\tlearn: 2418.0350992\ttotal: 7.65s\tremaining: 3.04s\n",
      "68:\tlearn: 2416.2853442\ttotal: 7.78s\tremaining: 2.93s\n",
      "69:\tlearn: 2413.0429775\ttotal: 7.89s\tremaining: 2.82s\n",
      "70:\tlearn: 2410.6209897\ttotal: 8s\tremaining: 2.71s\n",
      "71:\tlearn: 2408.2884755\ttotal: 8.11s\tremaining: 2.59s\n",
      "72:\tlearn: 2406.3248153\ttotal: 8.21s\tremaining: 2.47s\n",
      "73:\tlearn: 2404.2860027\ttotal: 8.32s\tremaining: 2.36s\n",
      "74:\tlearn: 2400.7637344\ttotal: 8.42s\tremaining: 2.25s\n",
      "75:\tlearn: 2399.0262862\ttotal: 8.53s\tremaining: 2.13s\n",
      "76:\tlearn: 2397.2211741\ttotal: 8.63s\tremaining: 2.02s\n",
      "77:\tlearn: 2395.4101863\ttotal: 8.75s\tremaining: 1.91s\n",
      "78:\tlearn: 2391.2298878\ttotal: 8.86s\tremaining: 1.79s\n",
      "79:\tlearn: 2389.3847920\ttotal: 8.98s\tremaining: 1.68s\n",
      "80:\tlearn: 2387.4784480\ttotal: 9.09s\tremaining: 1.57s\n",
      "81:\tlearn: 2385.1504928\ttotal: 9.22s\tremaining: 1.46s\n",
      "82:\tlearn: 2383.6958858\ttotal: 9.33s\tremaining: 1.35s\n",
      "83:\tlearn: 2381.2113998\ttotal: 9.44s\tremaining: 1.24s\n",
      "84:\tlearn: 2379.2550320\ttotal: 9.55s\tremaining: 1.12s\n",
      "85:\tlearn: 2375.0633608\ttotal: 9.65s\tremaining: 1.01s\n",
      "86:\tlearn: 2372.8157943\ttotal: 9.77s\tremaining: 898ms\n",
      "87:\tlearn: 2370.8035987\ttotal: 9.88s\tremaining: 786ms\n",
      "88:\tlearn: 2368.5543723\ttotal: 9.99s\tremaining: 673ms\n",
      "89:\tlearn: 2366.2572231\ttotal: 10.1s\tremaining: 561ms\n",
      "90:\tlearn: 2364.0214547\ttotal: 10.2s\tremaining: 449ms\n",
      "91:\tlearn: 2362.1719730\ttotal: 10.3s\tremaining: 337ms\n",
      "92:\tlearn: 2361.3617205\ttotal: 10.4s\tremaining: 225ms\n",
      "93:\tlearn: 2358.9999972\ttotal: 10.6s\tremaining: 112ms\n",
      "94:\tlearn: 2354.1329478\ttotal: 10.7s\tremaining: 0us\n"
     ]
    },
    {
     "data": {
      "application/vnd.jupyter.widget-view+json": {
       "model_id": "226e48d9642745e3bff6dcb1e02a96f3",
       "version_major": 2,
       "version_minor": 0
      },
      "text/plain": [
       "MetricVisualizer(layout=Layout(align_self='stretch', height='500px'))"
      ]
     },
     "metadata": {},
     "output_type": "display_data"
    },
    {
     "name": "stdout",
     "output_type": "stream",
     "text": [
      "0:\tlearn: 4323.6449646\ttotal: 135ms\tremaining: 12.7s\n",
      "1:\tlearn: 4100.8776844\ttotal: 250ms\tremaining: 11.6s\n",
      "2:\tlearn: 3906.1962220\ttotal: 352ms\tremaining: 10.8s\n",
      "3:\tlearn: 3729.6815776\ttotal: 468ms\tremaining: 10.6s\n",
      "4:\tlearn: 3578.6534157\ttotal: 577ms\tremaining: 10.4s\n",
      "5:\tlearn: 3452.5820099\ttotal: 699ms\tremaining: 10.4s\n",
      "6:\tlearn: 3345.0820519\ttotal: 824ms\tremaining: 10.4s\n",
      "7:\tlearn: 3253.2139545\ttotal: 929ms\tremaining: 10.1s\n",
      "8:\tlearn: 3174.9480351\ttotal: 1.03s\tremaining: 9.89s\n",
      "9:\tlearn: 3098.5114405\ttotal: 1.15s\tremaining: 9.77s\n",
      "10:\tlearn: 3034.8733356\ttotal: 1.26s\tremaining: 9.61s\n",
      "11:\tlearn: 2981.0527879\ttotal: 1.36s\tremaining: 9.42s\n",
      "12:\tlearn: 2922.9072435\ttotal: 1.48s\tremaining: 9.31s\n",
      "13:\tlearn: 2873.5212899\ttotal: 1.58s\tremaining: 9.17s\n",
      "14:\tlearn: 2832.0209570\ttotal: 1.7s\tremaining: 9.05s\n",
      "15:\tlearn: 2798.8756394\ttotal: 1.8s\tremaining: 8.9s\n",
      "16:\tlearn: 2769.2398996\ttotal: 1.91s\tremaining: 8.76s\n",
      "17:\tlearn: 2743.1903087\ttotal: 2.02s\tremaining: 8.65s\n",
      "18:\tlearn: 2720.4669204\ttotal: 2.16s\tremaining: 8.64s\n",
      "19:\tlearn: 2701.8687426\ttotal: 2.27s\tremaining: 8.52s\n",
      "20:\tlearn: 2684.0320754\ttotal: 2.39s\tremaining: 8.43s\n",
      "21:\tlearn: 2666.4045270\ttotal: 2.51s\tremaining: 8.33s\n",
      "22:\tlearn: 2648.8308226\ttotal: 2.62s\tremaining: 8.19s\n",
      "23:\tlearn: 2635.4210490\ttotal: 2.73s\tremaining: 8.07s\n",
      "24:\tlearn: 2622.1174908\ttotal: 2.83s\tremaining: 7.93s\n",
      "25:\tlearn: 2610.2350173\ttotal: 2.94s\tremaining: 7.81s\n",
      "26:\tlearn: 2598.3351790\ttotal: 3.05s\tremaining: 7.68s\n",
      "27:\tlearn: 2588.4660574\ttotal: 3.16s\tremaining: 7.57s\n",
      "28:\tlearn: 2579.1164620\ttotal: 3.3s\tremaining: 7.5s\n",
      "29:\tlearn: 2569.9460086\ttotal: 3.4s\tremaining: 7.36s\n",
      "30:\tlearn: 2562.9002686\ttotal: 3.5s\tremaining: 7.24s\n",
      "31:\tlearn: 2556.3503511\ttotal: 3.61s\tremaining: 7.12s\n",
      "32:\tlearn: 2549.1507232\ttotal: 3.73s\tremaining: 7s\n",
      "33:\tlearn: 2543.4246902\ttotal: 3.83s\tremaining: 6.87s\n",
      "34:\tlearn: 2536.8428331\ttotal: 3.94s\tremaining: 6.75s\n",
      "35:\tlearn: 2532.5861645\ttotal: 4.05s\tremaining: 6.64s\n",
      "36:\tlearn: 2526.1521133\ttotal: 4.16s\tremaining: 6.52s\n",
      "37:\tlearn: 2521.4710627\ttotal: 4.26s\tremaining: 6.4s\n",
      "38:\tlearn: 2518.3041611\ttotal: 4.37s\tremaining: 6.27s\n",
      "39:\tlearn: 2509.1552316\ttotal: 4.47s\tremaining: 6.15s\n",
      "40:\tlearn: 2505.7262295\ttotal: 4.58s\tremaining: 6.03s\n",
      "41:\tlearn: 2503.2212690\ttotal: 4.69s\tremaining: 5.92s\n",
      "42:\tlearn: 2498.7276706\ttotal: 4.8s\tremaining: 5.8s\n",
      "43:\tlearn: 2491.2507119\ttotal: 4.91s\tremaining: 5.69s\n",
      "44:\tlearn: 2486.9002007\ttotal: 5.02s\tremaining: 5.57s\n",
      "45:\tlearn: 2483.8330314\ttotal: 5.13s\tremaining: 5.46s\n",
      "46:\tlearn: 2480.4102878\ttotal: 5.24s\tremaining: 5.35s\n",
      "47:\tlearn: 2476.6982125\ttotal: 5.36s\tremaining: 5.25s\n",
      "48:\tlearn: 2474.3868688\ttotal: 5.46s\tremaining: 5.13s\n",
      "49:\tlearn: 2471.6788665\ttotal: 5.57s\tremaining: 5.02s\n",
      "50:\tlearn: 2469.1562112\ttotal: 5.69s\tremaining: 4.91s\n",
      "51:\tlearn: 2467.6759582\ttotal: 5.8s\tremaining: 4.79s\n",
      "52:\tlearn: 2464.4864035\ttotal: 5.9s\tremaining: 4.67s\n",
      "53:\tlearn: 2460.0481197\ttotal: 6.01s\tremaining: 4.56s\n",
      "54:\tlearn: 2457.8606103\ttotal: 6.12s\tremaining: 4.45s\n",
      "55:\tlearn: 2453.2003737\ttotal: 6.23s\tremaining: 4.34s\n",
      "56:\tlearn: 2448.6274571\ttotal: 6.34s\tremaining: 4.23s\n",
      "57:\tlearn: 2446.4542353\ttotal: 6.45s\tremaining: 4.12s\n",
      "58:\tlearn: 2443.1560445\ttotal: 6.56s\tremaining: 4s\n",
      "59:\tlearn: 2441.2232434\ttotal: 6.67s\tremaining: 3.89s\n",
      "60:\tlearn: 2438.8579587\ttotal: 6.79s\tremaining: 3.78s\n",
      "61:\tlearn: 2433.6561704\ttotal: 6.9s\tremaining: 3.67s\n",
      "62:\tlearn: 2430.7284561\ttotal: 7.01s\tremaining: 3.56s\n",
      "63:\tlearn: 2429.7043029\ttotal: 7.12s\tremaining: 3.45s\n",
      "64:\tlearn: 2427.1310403\ttotal: 7.24s\tremaining: 3.34s\n",
      "65:\tlearn: 2425.2672022\ttotal: 7.35s\tremaining: 3.23s\n",
      "66:\tlearn: 2423.0091278\ttotal: 7.46s\tremaining: 3.12s\n",
      "67:\tlearn: 2421.0502455\ttotal: 7.57s\tremaining: 3.01s\n",
      "68:\tlearn: 2420.1243226\ttotal: 7.69s\tremaining: 2.9s\n",
      "69:\tlearn: 2416.2962119\ttotal: 7.8s\tremaining: 2.79s\n",
      "70:\tlearn: 2410.9695458\ttotal: 7.91s\tremaining: 2.67s\n",
      "71:\tlearn: 2405.9831434\ttotal: 8.02s\tremaining: 2.56s\n",
      "72:\tlearn: 2400.4324198\ttotal: 8.13s\tremaining: 2.45s\n",
      "73:\tlearn: 2397.2943318\ttotal: 8.23s\tremaining: 2.34s\n",
      "74:\tlearn: 2396.0542143\ttotal: 8.36s\tremaining: 2.23s\n",
      "75:\tlearn: 2393.8479307\ttotal: 8.49s\tremaining: 2.12s\n",
      "76:\tlearn: 2388.4745200\ttotal: 8.6s\tremaining: 2.01s\n",
      "77:\tlearn: 2381.4638193\ttotal: 8.71s\tremaining: 1.9s\n",
      "78:\tlearn: 2379.3801471\ttotal: 8.84s\tremaining: 1.79s\n",
      "79:\tlearn: 2377.3955700\ttotal: 8.96s\tremaining: 1.68s\n",
      "80:\tlearn: 2372.4414094\ttotal: 9.07s\tremaining: 1.57s\n",
      "81:\tlearn: 2369.7904815\ttotal: 9.18s\tremaining: 1.45s\n",
      "82:\tlearn: 2367.6352552\ttotal: 9.28s\tremaining: 1.34s\n",
      "83:\tlearn: 2365.6810173\ttotal: 9.39s\tremaining: 1.23s\n",
      "84:\tlearn: 2363.2215270\ttotal: 9.5s\tremaining: 1.12s\n",
      "85:\tlearn: 2356.3343072\ttotal: 9.61s\tremaining: 1.01s\n",
      "86:\tlearn: 2353.4358496\ttotal: 9.74s\tremaining: 896ms\n",
      "87:\tlearn: 2350.9273991\ttotal: 9.86s\tremaining: 784ms\n",
      "88:\tlearn: 2349.7226245\ttotal: 9.98s\tremaining: 673ms\n",
      "89:\tlearn: 2344.3908003\ttotal: 10.1s\tremaining: 563ms\n",
      "90:\tlearn: 2341.0380637\ttotal: 10.3s\tremaining: 451ms\n",
      "91:\tlearn: 2339.5540853\ttotal: 10.4s\tremaining: 339ms\n",
      "92:\tlearn: 2337.3159583\ttotal: 10.5s\tremaining: 226ms\n",
      "93:\tlearn: 2335.2741615\ttotal: 10.6s\tremaining: 113ms\n",
      "94:\tlearn: 2333.8061448\ttotal: 10.7s\tremaining: 0us\n"
     ]
    },
    {
     "data": {
      "application/vnd.jupyter.widget-view+json": {
       "model_id": "9abe07f155104d4fa88f7a867c3c1dbe",
       "version_major": 2,
       "version_minor": 0
      },
      "text/plain": [
       "MetricVisualizer(layout=Layout(align_self='stretch', height='500px'))"
      ]
     },
     "metadata": {},
     "output_type": "display_data"
    },
    {
     "name": "stdout",
     "output_type": "stream",
     "text": [
      "0:\tlearn: 4315.5407703\ttotal: 127ms\tremaining: 11.9s\n",
      "1:\tlearn: 4086.3812477\ttotal: 259ms\tremaining: 12.1s\n",
      "2:\tlearn: 3892.6602116\ttotal: 390ms\tremaining: 12s\n",
      "3:\tlearn: 3725.4548602\ttotal: 515ms\tremaining: 11.7s\n",
      "4:\tlearn: 3579.3484052\ttotal: 631ms\tremaining: 11.4s\n",
      "5:\tlearn: 3457.4484649\ttotal: 746ms\tremaining: 11.1s\n",
      "6:\tlearn: 3348.9139480\ttotal: 856ms\tremaining: 10.8s\n",
      "7:\tlearn: 3257.2692146\ttotal: 968ms\tremaining: 10.5s\n",
      "8:\tlearn: 3182.0953150\ttotal: 1.07s\tremaining: 10.3s\n",
      "9:\tlearn: 3104.2401859\ttotal: 1.19s\tremaining: 10.1s\n",
      "10:\tlearn: 3040.3035981\ttotal: 1.29s\tremaining: 9.89s\n",
      "11:\tlearn: 2983.5308374\ttotal: 1.42s\tremaining: 9.82s\n",
      "12:\tlearn: 2925.1853315\ttotal: 1.55s\tremaining: 9.8s\n",
      "13:\tlearn: 2875.8772995\ttotal: 1.66s\tremaining: 9.63s\n",
      "14:\tlearn: 2833.9780745\ttotal: 1.78s\tremaining: 9.48s\n",
      "15:\tlearn: 2798.3024161\ttotal: 1.89s\tremaining: 9.34s\n",
      "16:\tlearn: 2767.1966121\ttotal: 2.02s\tremaining: 9.25s\n",
      "17:\tlearn: 2741.5597314\ttotal: 2.13s\tremaining: 9.11s\n",
      "18:\tlearn: 2719.8701293\ttotal: 2.24s\tremaining: 8.97s\n",
      "19:\tlearn: 2699.2764846\ttotal: 2.35s\tremaining: 8.83s\n",
      "20:\tlearn: 2681.9198884\ttotal: 2.47s\tremaining: 8.69s\n",
      "21:\tlearn: 2663.3755252\ttotal: 2.58s\tremaining: 8.55s\n",
      "22:\tlearn: 2647.3193476\ttotal: 2.69s\tremaining: 8.42s\n",
      "23:\tlearn: 2631.3907555\ttotal: 2.8s\tremaining: 8.28s\n",
      "24:\tlearn: 2616.5490191\ttotal: 2.91s\tremaining: 8.16s\n",
      "25:\tlearn: 2604.4368318\ttotal: 3.02s\tremaining: 8.02s\n",
      "26:\tlearn: 2595.1848630\ttotal: 3.15s\tremaining: 7.93s\n",
      "27:\tlearn: 2584.2540820\ttotal: 3.28s\tremaining: 7.84s\n",
      "28:\tlearn: 2577.0307547\ttotal: 3.4s\tremaining: 7.73s\n",
      "29:\tlearn: 2569.3705201\ttotal: 3.51s\tremaining: 7.61s\n",
      "30:\tlearn: 2559.4774756\ttotal: 3.65s\tremaining: 7.53s\n",
      "31:\tlearn: 2553.4895792\ttotal: 3.77s\tremaining: 7.42s\n",
      "32:\tlearn: 2544.1360750\ttotal: 3.88s\tremaining: 7.29s\n",
      "33:\tlearn: 2537.3877044\ttotal: 3.99s\tremaining: 7.16s\n",
      "34:\tlearn: 2531.8716540\ttotal: 4.1s\tremaining: 7.02s\n",
      "35:\tlearn: 2526.8215978\ttotal: 4.22s\tremaining: 6.91s\n",
      "36:\tlearn: 2522.6673370\ttotal: 4.35s\tremaining: 6.81s\n",
      "37:\tlearn: 2516.1031429\ttotal: 4.46s\tremaining: 6.69s\n",
      "38:\tlearn: 2512.1438482\ttotal: 4.57s\tremaining: 6.57s\n",
      "39:\tlearn: 2506.3165112\ttotal: 4.68s\tremaining: 6.44s\n",
      "40:\tlearn: 2501.7043310\ttotal: 4.8s\tremaining: 6.32s\n",
      "41:\tlearn: 2497.4978748\ttotal: 4.91s\tremaining: 6.2s\n",
      "42:\tlearn: 2490.2468178\ttotal: 5.03s\tremaining: 6.08s\n",
      "43:\tlearn: 2485.5325512\ttotal: 5.15s\tremaining: 5.97s\n",
      "44:\tlearn: 2483.9202688\ttotal: 5.28s\tremaining: 5.87s\n",
      "45:\tlearn: 2480.8484103\ttotal: 5.39s\tremaining: 5.74s\n",
      "46:\tlearn: 2472.5069993\ttotal: 5.5s\tremaining: 5.62s\n",
      "47:\tlearn: 2469.9762999\ttotal: 5.61s\tremaining: 5.49s\n",
      "48:\tlearn: 2465.0316839\ttotal: 5.72s\tremaining: 5.37s\n",
      "49:\tlearn: 2463.2503982\ttotal: 5.84s\tremaining: 5.25s\n",
      "50:\tlearn: 2460.8986038\ttotal: 5.95s\tremaining: 5.13s\n",
      "51:\tlearn: 2459.5122768\ttotal: 6.05s\tremaining: 5s\n",
      "52:\tlearn: 2455.0126489\ttotal: 6.16s\tremaining: 4.88s\n",
      "53:\tlearn: 2450.8428203\ttotal: 6.27s\tremaining: 4.76s\n",
      "54:\tlearn: 2448.8974721\ttotal: 6.38s\tremaining: 4.64s\n",
      "55:\tlearn: 2443.8845465\ttotal: 6.49s\tremaining: 4.52s\n",
      "56:\tlearn: 2441.5394018\ttotal: 6.6s\tremaining: 4.4s\n",
      "57:\tlearn: 2439.2859541\ttotal: 6.71s\tremaining: 4.28s\n",
      "58:\tlearn: 2434.0839982\ttotal: 6.84s\tremaining: 4.17s\n",
      "59:\tlearn: 2432.5645193\ttotal: 6.95s\tremaining: 4.05s\n",
      "60:\tlearn: 2429.6523959\ttotal: 7.05s\tremaining: 3.93s\n",
      "61:\tlearn: 2426.8463906\ttotal: 7.16s\tremaining: 3.81s\n",
      "62:\tlearn: 2424.3902226\ttotal: 7.28s\tremaining: 3.69s\n",
      "63:\tlearn: 2421.5215525\ttotal: 7.39s\tremaining: 3.58s\n",
      "64:\tlearn: 2418.3263928\ttotal: 7.49s\tremaining: 3.46s\n",
      "65:\tlearn: 2416.5848096\ttotal: 7.61s\tremaining: 3.34s\n",
      "66:\tlearn: 2409.9434388\ttotal: 7.71s\tremaining: 3.22s\n",
      "67:\tlearn: 2407.9355215\ttotal: 7.82s\tremaining: 3.1s\n",
      "68:\tlearn: 2405.3227910\ttotal: 7.94s\tremaining: 2.99s\n",
      "69:\tlearn: 2403.4262879\ttotal: 8.05s\tremaining: 2.87s\n",
      "70:\tlearn: 2400.7829586\ttotal: 8.15s\tremaining: 2.76s\n",
      "71:\tlearn: 2399.1723434\ttotal: 8.3s\tremaining: 2.65s\n",
      "72:\tlearn: 2396.6886903\ttotal: 8.42s\tremaining: 2.54s\n",
      "73:\tlearn: 2394.2391083\ttotal: 8.54s\tremaining: 2.42s\n",
      "74:\tlearn: 2392.6217531\ttotal: 8.65s\tremaining: 2.31s\n",
      "75:\tlearn: 2390.4514105\ttotal: 8.75s\tremaining: 2.19s\n",
      "76:\tlearn: 2387.2704235\ttotal: 8.86s\tremaining: 2.07s\n",
      "77:\tlearn: 2385.5430188\ttotal: 8.97s\tremaining: 1.96s\n",
      "78:\tlearn: 2382.8660156\ttotal: 9.07s\tremaining: 1.84s\n",
      "79:\tlearn: 2380.3237567\ttotal: 9.18s\tremaining: 1.72s\n",
      "80:\tlearn: 2377.9968602\ttotal: 9.29s\tremaining: 1.61s\n",
      "81:\tlearn: 2376.1925861\ttotal: 9.41s\tremaining: 1.49s\n",
      "82:\tlearn: 2375.4458992\ttotal: 9.55s\tremaining: 1.38s\n",
      "83:\tlearn: 2372.1768828\ttotal: 9.7s\tremaining: 1.27s\n",
      "84:\tlearn: 2367.0892017\ttotal: 9.82s\tremaining: 1.15s\n",
      "85:\tlearn: 2365.7166217\ttotal: 9.95s\tremaining: 1.04s\n",
      "86:\tlearn: 2364.0016111\ttotal: 10.2s\tremaining: 936ms\n",
      "87:\tlearn: 2362.5929417\ttotal: 10.3s\tremaining: 822ms\n",
      "88:\tlearn: 2361.1856863\ttotal: 10.5s\tremaining: 707ms\n",
      "89:\tlearn: 2360.0753926\ttotal: 10.6s\tremaining: 589ms\n",
      "90:\tlearn: 2357.1726026\ttotal: 10.7s\tremaining: 471ms\n",
      "91:\tlearn: 2355.0176224\ttotal: 10.8s\tremaining: 353ms\n",
      "92:\tlearn: 2353.8633369\ttotal: 11s\tremaining: 236ms\n",
      "93:\tlearn: 2352.5689298\ttotal: 11.1s\tremaining: 118ms\n",
      "94:\tlearn: 2351.4894443\ttotal: 11.2s\tremaining: 0us\n"
     ]
    },
    {
     "data": {
      "application/vnd.jupyter.widget-view+json": {
       "model_id": "771d1ad8815643bcb52ff19cd1f9bea5",
       "version_major": 2,
       "version_minor": 0
      },
      "text/plain": [
       "MetricVisualizer(layout=Layout(align_self='stretch', height='500px'))"
      ]
     },
     "metadata": {},
     "output_type": "display_data"
    },
    {
     "name": "stdout",
     "output_type": "stream",
     "text": [
      "0:\tlearn: 4317.2607780\ttotal: 117ms\tremaining: 11s\n",
      "1:\tlearn: 4088.4939634\ttotal: 227ms\tremaining: 10.6s\n",
      "2:\tlearn: 3892.5525849\ttotal: 330ms\tremaining: 10.1s\n",
      "3:\tlearn: 3722.7795242\ttotal: 450ms\tremaining: 10.2s\n",
      "4:\tlearn: 3576.3732106\ttotal: 558ms\tremaining: 10s\n",
      "5:\tlearn: 3449.6393443\ttotal: 674ms\tremaining: 10s\n",
      "6:\tlearn: 3340.3547429\ttotal: 781ms\tremaining: 9.81s\n",
      "7:\tlearn: 3250.4154582\ttotal: 888ms\tremaining: 9.66s\n",
      "8:\tlearn: 3173.1096668\ttotal: 1.01s\tremaining: 9.69s\n",
      "9:\tlearn: 3097.9312862\ttotal: 1.16s\tremaining: 9.83s\n",
      "10:\tlearn: 3032.4647245\ttotal: 1.27s\tremaining: 9.73s\n",
      "11:\tlearn: 2978.4620194\ttotal: 1.4s\tremaining: 9.65s\n",
      "12:\tlearn: 2921.9912582\ttotal: 1.51s\tremaining: 9.5s\n",
      "13:\tlearn: 2873.0847569\ttotal: 1.61s\tremaining: 9.32s\n",
      "14:\tlearn: 2830.7514111\ttotal: 1.72s\tremaining: 9.17s\n",
      "15:\tlearn: 2796.6462350\ttotal: 1.84s\tremaining: 9.08s\n",
      "16:\tlearn: 2766.5122572\ttotal: 1.96s\tremaining: 8.98s\n",
      "17:\tlearn: 2740.7238645\ttotal: 2.06s\tremaining: 8.83s\n",
      "18:\tlearn: 2719.1522680\ttotal: 2.17s\tremaining: 8.68s\n",
      "19:\tlearn: 2700.4877612\ttotal: 2.29s\tremaining: 8.59s\n",
      "20:\tlearn: 2683.2668555\ttotal: 2.4s\tremaining: 8.47s\n",
      "21:\tlearn: 2667.5974349\ttotal: 2.54s\tremaining: 8.41s\n",
      "22:\tlearn: 2653.4090245\ttotal: 2.65s\tremaining: 8.3s\n",
      "23:\tlearn: 2639.6085022\ttotal: 2.78s\tremaining: 8.23s\n",
      "24:\tlearn: 2625.8351594\ttotal: 2.89s\tremaining: 8.09s\n",
      "25:\tlearn: 2612.6429605\ttotal: 3s\tremaining: 7.95s\n",
      "26:\tlearn: 2602.7994805\ttotal: 3.1s\tremaining: 7.82s\n",
      "27:\tlearn: 2592.2882682\ttotal: 3.21s\tremaining: 7.68s\n",
      "28:\tlearn: 2584.0229762\ttotal: 3.31s\tremaining: 7.54s\n",
      "29:\tlearn: 2574.2415227\ttotal: 3.42s\tremaining: 7.41s\n",
      "30:\tlearn: 2567.1083270\ttotal: 3.53s\tremaining: 7.28s\n",
      "31:\tlearn: 2559.6862410\ttotal: 3.63s\tremaining: 7.16s\n",
      "32:\tlearn: 2552.9144646\ttotal: 3.75s\tremaining: 7.04s\n",
      "33:\tlearn: 2547.5581102\ttotal: 3.85s\tremaining: 6.91s\n",
      "34:\tlearn: 2540.2351113\ttotal: 3.97s\tremaining: 6.8s\n",
      "35:\tlearn: 2535.4423924\ttotal: 4.08s\tremaining: 6.68s\n",
      "36:\tlearn: 2526.8474234\ttotal: 4.19s\tremaining: 6.56s\n",
      "37:\tlearn: 2522.5896478\ttotal: 4.3s\tremaining: 6.45s\n",
      "38:\tlearn: 2519.1170302\ttotal: 4.44s\tremaining: 6.37s\n",
      "39:\tlearn: 2511.7244475\ttotal: 4.55s\tremaining: 6.25s\n",
      "40:\tlearn: 2508.3530722\ttotal: 4.66s\tremaining: 6.13s\n",
      "41:\tlearn: 2504.0790697\ttotal: 4.76s\tremaining: 6.01s\n",
      "42:\tlearn: 2500.2949314\ttotal: 4.87s\tremaining: 5.89s\n",
      "43:\tlearn: 2498.0724009\ttotal: 4.98s\tremaining: 5.78s\n",
      "44:\tlearn: 2492.9391014\ttotal: 5.08s\tremaining: 5.65s\n",
      "45:\tlearn: 2490.0809009\ttotal: 5.19s\tremaining: 5.53s\n",
      "46:\tlearn: 2486.4060705\ttotal: 5.3s\tremaining: 5.41s\n",
      "47:\tlearn: 2484.1914895\ttotal: 5.41s\tremaining: 5.29s\n",
      "48:\tlearn: 2481.9231748\ttotal: 5.53s\tremaining: 5.19s\n",
      "49:\tlearn: 2476.7383500\ttotal: 5.63s\tremaining: 5.07s\n",
      "50:\tlearn: 2471.6642105\ttotal: 5.75s\tremaining: 4.96s\n",
      "51:\tlearn: 2467.8588173\ttotal: 5.9s\tremaining: 4.88s\n",
      "52:\tlearn: 2464.8843859\ttotal: 6.04s\tremaining: 4.79s\n",
      "53:\tlearn: 2460.3703244\ttotal: 6.15s\tremaining: 4.67s\n",
      "54:\tlearn: 2455.7879745\ttotal: 6.25s\tremaining: 4.55s\n",
      "55:\tlearn: 2453.3317488\ttotal: 6.37s\tremaining: 4.43s\n",
      "56:\tlearn: 2451.0540257\ttotal: 6.47s\tremaining: 4.32s\n",
      "57:\tlearn: 2448.7597634\ttotal: 6.58s\tremaining: 4.2s\n",
      "58:\tlearn: 2446.1366242\ttotal: 6.69s\tremaining: 4.08s\n",
      "59:\tlearn: 2443.3885046\ttotal: 6.8s\tremaining: 3.96s\n",
      "60:\tlearn: 2439.9474553\ttotal: 6.91s\tremaining: 3.85s\n",
      "61:\tlearn: 2437.4439543\ttotal: 7.02s\tremaining: 3.73s\n",
      "62:\tlearn: 2435.9442530\ttotal: 7.13s\tremaining: 3.62s\n",
      "63:\tlearn: 2434.4070037\ttotal: 7.25s\tremaining: 3.51s\n",
      "64:\tlearn: 2432.5394142\ttotal: 7.36s\tremaining: 3.4s\n",
      "65:\tlearn: 2430.7609531\ttotal: 7.48s\tremaining: 3.29s\n",
      "66:\tlearn: 2428.9841755\ttotal: 7.61s\tremaining: 3.18s\n",
      "67:\tlearn: 2426.3631449\ttotal: 7.73s\tremaining: 3.07s\n",
      "68:\tlearn: 2424.5425788\ttotal: 7.86s\tremaining: 2.96s\n",
      "69:\tlearn: 2422.4709270\ttotal: 7.97s\tremaining: 2.85s\n",
      "70:\tlearn: 2420.6788116\ttotal: 8.09s\tremaining: 2.74s\n",
      "71:\tlearn: 2415.7896927\ttotal: 8.21s\tremaining: 2.62s\n",
      "72:\tlearn: 2414.0083118\ttotal: 8.32s\tremaining: 2.51s\n",
      "73:\tlearn: 2411.8917304\ttotal: 8.43s\tremaining: 2.39s\n",
      "74:\tlearn: 2409.9662272\ttotal: 8.53s\tremaining: 2.27s\n",
      "75:\tlearn: 2406.1851688\ttotal: 8.64s\tremaining: 2.16s\n",
      "76:\tlearn: 2402.9449948\ttotal: 8.75s\tremaining: 2.04s\n",
      "77:\tlearn: 2399.4443954\ttotal: 8.86s\tremaining: 1.93s\n",
      "78:\tlearn: 2394.8086333\ttotal: 8.99s\tremaining: 1.82s\n",
      "79:\tlearn: 2392.1540522\ttotal: 9.12s\tremaining: 1.71s\n",
      "80:\tlearn: 2388.7301630\ttotal: 9.23s\tremaining: 1.59s\n",
      "81:\tlearn: 2386.2336742\ttotal: 9.34s\tremaining: 1.48s\n",
      "82:\tlearn: 2385.0340598\ttotal: 9.45s\tremaining: 1.36s\n",
      "83:\tlearn: 2377.6141139\ttotal: 9.55s\tremaining: 1.25s\n",
      "84:\tlearn: 2369.7089094\ttotal: 9.66s\tremaining: 1.14s\n",
      "85:\tlearn: 2365.2529609\ttotal: 9.76s\tremaining: 1.02s\n",
      "86:\tlearn: 2363.0697143\ttotal: 9.88s\tremaining: 909ms\n",
      "87:\tlearn: 2361.2916435\ttotal: 9.99s\tremaining: 794ms\n",
      "88:\tlearn: 2359.2994464\ttotal: 10.1s\tremaining: 680ms\n",
      "89:\tlearn: 2355.8856997\ttotal: 10.2s\tremaining: 567ms\n",
      "90:\tlearn: 2350.3325347\ttotal: 10.3s\tremaining: 453ms\n",
      "91:\tlearn: 2348.2107494\ttotal: 10.4s\tremaining: 340ms\n",
      "92:\tlearn: 2345.6303851\ttotal: 10.5s\tremaining: 226ms\n",
      "93:\tlearn: 2342.5049883\ttotal: 10.6s\tremaining: 113ms\n",
      "94:\tlearn: 2341.5443483\ttotal: 10.7s\tremaining: 0us\n"
     ]
    },
    {
     "data": {
      "application/vnd.jupyter.widget-view+json": {
       "model_id": "133ca2ac19bf4aef8abee586693f393f",
       "version_major": 2,
       "version_minor": 0
      },
      "text/plain": [
       "MetricVisualizer(layout=Layout(align_self='stretch', height='500px'))"
      ]
     },
     "metadata": {},
     "output_type": "display_data"
    },
    {
     "name": "stdout",
     "output_type": "stream",
     "text": [
      "0:\tlearn: 4312.2809710\ttotal: 1.06s\tremaining: 1m 39s\n",
      "1:\tlearn: 4081.6655534\ttotal: 1.97s\tremaining: 1m 31s\n",
      "2:\tlearn: 3880.1779817\ttotal: 3s\tremaining: 1m 32s\n",
      "3:\tlearn: 3700.4061435\ttotal: 4.03s\tremaining: 1m 31s\n",
      "4:\tlearn: 3551.0904715\ttotal: 4.95s\tremaining: 1m 29s\n",
      "5:\tlearn: 3422.9886853\ttotal: 6.02s\tremaining: 1m 29s\n",
      "6:\tlearn: 3315.5359949\ttotal: 7.1s\tremaining: 1m 29s\n",
      "7:\tlearn: 3226.4008734\ttotal: 7.41s\tremaining: 1m 20s\n",
      "8:\tlearn: 3143.5823572\ttotal: 8.42s\tremaining: 1m 20s\n",
      "9:\tlearn: 3061.4310410\ttotal: 9.47s\tremaining: 1m 20s\n",
      "10:\tlearn: 2993.2667959\ttotal: 10.5s\tremaining: 1m 20s\n",
      "11:\tlearn: 2935.2462709\ttotal: 11.5s\tremaining: 1m 19s\n",
      "12:\tlearn: 2884.9252239\ttotal: 12.5s\tremaining: 1m 19s\n",
      "13:\tlearn: 2829.4598388\ttotal: 13.6s\tremaining: 1m 18s\n",
      "14:\tlearn: 2779.4397635\ttotal: 14.7s\tremaining: 1m 18s\n",
      "15:\tlearn: 2736.3015257\ttotal: 15.7s\tremaining: 1m 17s\n",
      "16:\tlearn: 2699.2017355\ttotal: 16.8s\tremaining: 1m 16s\n",
      "17:\tlearn: 2668.6126399\ttotal: 17.9s\tremaining: 1m 16s\n",
      "18:\tlearn: 2638.4897312\ttotal: 18.9s\tremaining: 1m 15s\n",
      "19:\tlearn: 2612.6017101\ttotal: 20s\tremaining: 1m 14s\n",
      "20:\tlearn: 2585.9356381\ttotal: 21.1s\tremaining: 1m 14s\n",
      "21:\tlearn: 2558.5837553\ttotal: 22.1s\tremaining: 1m 13s\n",
      "22:\tlearn: 2537.4084332\ttotal: 23.1s\tremaining: 1m 12s\n",
      "23:\tlearn: 2519.6472713\ttotal: 24.2s\tremaining: 1m 11s\n",
      "24:\tlearn: 2500.5448076\ttotal: 25.2s\tremaining: 1m 10s\n",
      "25:\tlearn: 2482.8993899\ttotal: 26.3s\tremaining: 1m 9s\n",
      "26:\tlearn: 2467.8535218\ttotal: 27.4s\tremaining: 1m 8s\n",
      "27:\tlearn: 2453.6352422\ttotal: 28.4s\tremaining: 1m 7s\n",
      "28:\tlearn: 2440.8842495\ttotal: 29.4s\tremaining: 1m 7s\n",
      "29:\tlearn: 2429.6806769\ttotal: 30.5s\tremaining: 1m 6s\n",
      "30:\tlearn: 2419.6115291\ttotal: 31.6s\tremaining: 1m 5s\n",
      "31:\tlearn: 2409.3643258\ttotal: 32.6s\tremaining: 1m 4s\n",
      "32:\tlearn: 2398.0676221\ttotal: 33.7s\tremaining: 1m 3s\n",
      "33:\tlearn: 2390.2486521\ttotal: 34.7s\tremaining: 1m 2s\n",
      "34:\tlearn: 2379.7225320\ttotal: 35.8s\tremaining: 1m 1s\n",
      "35:\tlearn: 2369.5539591\ttotal: 36.9s\tremaining: 1m\n",
      "36:\tlearn: 2365.8105208\ttotal: 37.9s\tremaining: 59.4s\n",
      "37:\tlearn: 2358.7350969\ttotal: 39s\tremaining: 58.5s\n",
      "38:\tlearn: 2350.1995310\ttotal: 40s\tremaining: 57.4s\n",
      "39:\tlearn: 2345.9182514\ttotal: 41.1s\tremaining: 56.5s\n",
      "40:\tlearn: 2340.9385239\ttotal: 42.1s\tremaining: 55.5s\n",
      "41:\tlearn: 2334.2129950\ttotal: 43.2s\tremaining: 54.5s\n",
      "42:\tlearn: 2328.0152516\ttotal: 44.2s\tremaining: 53.5s\n",
      "43:\tlearn: 2322.6295883\ttotal: 45.3s\tremaining: 52.5s\n",
      "44:\tlearn: 2317.1832180\ttotal: 46.4s\tremaining: 51.5s\n",
      "45:\tlearn: 2309.1481626\ttotal: 47.4s\tremaining: 50.5s\n",
      "46:\tlearn: 2304.2474704\ttotal: 48.5s\tremaining: 49.5s\n",
      "47:\tlearn: 2300.6052011\ttotal: 49.5s\tremaining: 48.5s\n",
      "48:\tlearn: 2296.6852269\ttotal: 50.6s\tremaining: 47.5s\n",
      "49:\tlearn: 2291.7012878\ttotal: 51.7s\tremaining: 46.5s\n",
      "50:\tlearn: 2287.3036933\ttotal: 52.7s\tremaining: 45.5s\n",
      "51:\tlearn: 2282.2340866\ttotal: 53.8s\tremaining: 44.5s\n",
      "52:\tlearn: 2279.5363606\ttotal: 54.9s\tremaining: 43.5s\n",
      "53:\tlearn: 2274.8761680\ttotal: 56s\tremaining: 42.5s\n",
      "54:\tlearn: 2269.2928745\ttotal: 57.1s\tremaining: 41.5s\n",
      "55:\tlearn: 2266.0137366\ttotal: 58.2s\tremaining: 40.5s\n",
      "56:\tlearn: 2263.7110812\ttotal: 59.2s\tremaining: 39.4s\n",
      "57:\tlearn: 2260.1531634\ttotal: 1m\tremaining: 38.4s\n",
      "58:\tlearn: 2254.6607557\ttotal: 1m 1s\tremaining: 37.4s\n",
      "59:\tlearn: 2249.2220975\ttotal: 1m 2s\tremaining: 36.4s\n",
      "60:\tlearn: 2245.3140918\ttotal: 1m 3s\tremaining: 35.4s\n",
      "61:\tlearn: 2242.2185129\ttotal: 1m 4s\tremaining: 34.3s\n",
      "62:\tlearn: 2232.8044951\ttotal: 1m 5s\tremaining: 33.3s\n",
      "63:\tlearn: 2230.1506104\ttotal: 1m 6s\tremaining: 32.3s\n",
      "64:\tlearn: 2226.8076032\ttotal: 1m 7s\tremaining: 31.3s\n",
      "65:\tlearn: 2223.6066682\ttotal: 1m 8s\tremaining: 30.3s\n",
      "66:\tlearn: 2215.7764866\ttotal: 1m 9s\tremaining: 29.2s\n",
      "67:\tlearn: 2212.4998724\ttotal: 1m 11s\tremaining: 28.2s\n",
      "68:\tlearn: 2208.3280689\ttotal: 1m 12s\tremaining: 27.1s\n",
      "69:\tlearn: 2204.8844355\ttotal: 1m 13s\tremaining: 26.1s\n",
      "70:\tlearn: 2201.8366556\ttotal: 1m 14s\tremaining: 25.1s\n",
      "71:\tlearn: 2196.9468243\ttotal: 1m 15s\tremaining: 24s\n",
      "72:\tlearn: 2193.8192324\ttotal: 1m 16s\tremaining: 23s\n",
      "73:\tlearn: 2192.0319914\ttotal: 1m 17s\tremaining: 21.9s\n",
      "74:\tlearn: 2189.5529268\ttotal: 1m 18s\tremaining: 20.9s\n",
      "75:\tlearn: 2186.9579096\ttotal: 1m 19s\tremaining: 19.9s\n",
      "76:\tlearn: 2182.8817044\ttotal: 1m 20s\tremaining: 18.8s\n",
      "77:\tlearn: 2178.8121160\ttotal: 1m 21s\tremaining: 17.8s\n",
      "78:\tlearn: 2175.7643874\ttotal: 1m 22s\tremaining: 16.7s\n",
      "79:\tlearn: 2173.8161924\ttotal: 1m 23s\tremaining: 15.7s\n",
      "80:\tlearn: 2170.3059339\ttotal: 1m 24s\tremaining: 14.6s\n",
      "81:\tlearn: 2168.5338757\ttotal: 1m 25s\tremaining: 13.6s\n",
      "82:\tlearn: 2165.8493567\ttotal: 1m 26s\tremaining: 12.5s\n",
      "83:\tlearn: 2161.4437699\ttotal: 1m 27s\tremaining: 11.5s\n",
      "84:\tlearn: 2158.5260389\ttotal: 1m 28s\tremaining: 10.5s\n",
      "85:\tlearn: 2151.9170170\ttotal: 1m 29s\tremaining: 9.41s\n",
      "86:\tlearn: 2149.2186903\ttotal: 1m 30s\tremaining: 8.37s\n",
      "87:\tlearn: 2146.0507649\ttotal: 1m 32s\tremaining: 7.32s\n",
      "88:\tlearn: 2143.7561871\ttotal: 1m 33s\tremaining: 6.27s\n",
      "89:\tlearn: 2141.0745383\ttotal: 1m 34s\tremaining: 5.23s\n",
      "90:\tlearn: 2138.0846908\ttotal: 1m 35s\tremaining: 4.18s\n",
      "91:\tlearn: 2134.4985460\ttotal: 1m 36s\tremaining: 3.14s\n",
      "92:\tlearn: 2129.4236131\ttotal: 1m 37s\tremaining: 2.09s\n",
      "93:\tlearn: 2126.6331260\ttotal: 1m 38s\tremaining: 1.05s\n",
      "94:\tlearn: 2124.0402441\ttotal: 1m 39s\tremaining: 0us\n"
     ]
    },
    {
     "data": {
      "application/vnd.jupyter.widget-view+json": {
       "model_id": "50d78ed2f87d4eac8d1a6c4f6d716bf8",
       "version_major": 2,
       "version_minor": 0
      },
      "text/plain": [
       "MetricVisualizer(layout=Layout(align_self='stretch', height='500px'))"
      ]
     },
     "metadata": {},
     "output_type": "display_data"
    },
    {
     "name": "stdout",
     "output_type": "stream",
     "text": [
      "0:\tlearn: 4316.3133565\ttotal: 174ms\tremaining: 16.4s\n",
      "1:\tlearn: 4081.4852842\ttotal: 1.23s\tremaining: 57.1s\n",
      "2:\tlearn: 3883.4944429\ttotal: 1.36s\tremaining: 41.6s\n",
      "3:\tlearn: 3705.0464100\ttotal: 2.38s\tremaining: 54.2s\n",
      "4:\tlearn: 3553.4386497\ttotal: 3.41s\tremaining: 1m 1s\n",
      "5:\tlearn: 3424.6117714\ttotal: 4.43s\tremaining: 1m 5s\n",
      "6:\tlearn: 3313.8397231\ttotal: 5.73s\tremaining: 1m 12s\n",
      "7:\tlearn: 3221.1897849\ttotal: 6.77s\tremaining: 1m 13s\n",
      "8:\tlearn: 3143.4556322\ttotal: 7.84s\tremaining: 1m 14s\n",
      "9:\tlearn: 3063.8734162\ttotal: 8.88s\tremaining: 1m 15s\n",
      "10:\tlearn: 2994.4247915\ttotal: 9.92s\tremaining: 1m 15s\n",
      "11:\tlearn: 2933.6506595\ttotal: 11s\tremaining: 1m 16s\n",
      "12:\tlearn: 2869.9599743\ttotal: 12.1s\tremaining: 1m 16s\n",
      "13:\tlearn: 2812.0591334\ttotal: 13.2s\tremaining: 1m 16s\n",
      "14:\tlearn: 2762.2687753\ttotal: 14.3s\tremaining: 1m 16s\n",
      "15:\tlearn: 2719.2832830\ttotal: 15.3s\tremaining: 1m 15s\n",
      "16:\tlearn: 2682.1623440\ttotal: 16.4s\tremaining: 1m 15s\n",
      "17:\tlearn: 2650.3024857\ttotal: 17.6s\tremaining: 1m 15s\n",
      "18:\tlearn: 2620.8776033\ttotal: 18.6s\tremaining: 1m 14s\n",
      "19:\tlearn: 2596.8422657\ttotal: 19.7s\tremaining: 1m 13s\n",
      "20:\tlearn: 2576.1872038\ttotal: 20.7s\tremaining: 1m 13s\n",
      "21:\tlearn: 2555.6818364\ttotal: 21.8s\tremaining: 1m 12s\n",
      "22:\tlearn: 2533.8766274\ttotal: 22.8s\tremaining: 1m 11s\n",
      "23:\tlearn: 2512.1809431\ttotal: 23.9s\tremaining: 1m 10s\n",
      "24:\tlearn: 2492.6691987\ttotal: 24.9s\tremaining: 1m 9s\n",
      "25:\tlearn: 2476.5022165\ttotal: 26s\tremaining: 1m 9s\n",
      "26:\tlearn: 2461.6545533\ttotal: 27.1s\tremaining: 1m 8s\n",
      "27:\tlearn: 2443.8669818\ttotal: 28.1s\tremaining: 1m 7s\n",
      "28:\tlearn: 2427.8364887\ttotal: 29.2s\tremaining: 1m 6s\n",
      "29:\tlearn: 2417.1693670\ttotal: 30.2s\tremaining: 1m 5s\n",
      "30:\tlearn: 2408.3466230\ttotal: 31.3s\tremaining: 1m 4s\n",
      "31:\tlearn: 2398.6472614\ttotal: 32.3s\tremaining: 1m 3s\n",
      "32:\tlearn: 2389.1326873\ttotal: 33.4s\tremaining: 1m 2s\n",
      "33:\tlearn: 2378.0737200\ttotal: 34.4s\tremaining: 1m 1s\n",
      "34:\tlearn: 2366.7688959\ttotal: 35.5s\tremaining: 1m\n",
      "35:\tlearn: 2359.5324777\ttotal: 36.6s\tremaining: 59.9s\n",
      "36:\tlearn: 2349.2574951\ttotal: 37.7s\tremaining: 59.1s\n",
      "37:\tlearn: 2342.6192600\ttotal: 38.7s\tremaining: 58.1s\n",
      "38:\tlearn: 2334.7907462\ttotal: 39.7s\tremaining: 57.1s\n",
      "39:\tlearn: 2330.1063686\ttotal: 40.8s\tremaining: 56.1s\n",
      "40:\tlearn: 2325.0020233\ttotal: 41.9s\tremaining: 55.1s\n",
      "41:\tlearn: 2318.9309090\ttotal: 42.9s\tremaining: 54.2s\n",
      "42:\tlearn: 2314.6082042\ttotal: 44s\tremaining: 53.2s\n",
      "43:\tlearn: 2310.0035804\ttotal: 45s\tremaining: 52.2s\n",
      "44:\tlearn: 2305.0429614\ttotal: 46.1s\tremaining: 51.2s\n",
      "45:\tlearn: 2299.7679591\ttotal: 47.2s\tremaining: 50.2s\n",
      "46:\tlearn: 2293.7515092\ttotal: 48.2s\tremaining: 49.2s\n",
      "47:\tlearn: 2287.9098213\ttotal: 49.2s\tremaining: 48.2s\n",
      "48:\tlearn: 2285.2143463\ttotal: 50.3s\tremaining: 47.2s\n",
      "49:\tlearn: 2276.4930449\ttotal: 51.4s\tremaining: 46.2s\n",
      "50:\tlearn: 2272.7443813\ttotal: 52.5s\tremaining: 45.3s\n",
      "51:\tlearn: 2269.7694880\ttotal: 53.6s\tremaining: 44.3s\n",
      "52:\tlearn: 2265.7934037\ttotal: 54.6s\tremaining: 43.3s\n",
      "53:\tlearn: 2260.2960301\ttotal: 55.7s\tremaining: 42.3s\n",
      "54:\tlearn: 2255.3468465\ttotal: 56.8s\tremaining: 41.3s\n",
      "55:\tlearn: 2248.9677343\ttotal: 57.9s\tremaining: 40.3s\n",
      "56:\tlearn: 2240.9613222\ttotal: 59s\tremaining: 39.3s\n",
      "57:\tlearn: 2237.4729717\ttotal: 1m\tremaining: 38.3s\n",
      "58:\tlearn: 2234.8997868\ttotal: 1m 1s\tremaining: 37.2s\n",
      "59:\tlearn: 2231.3581393\ttotal: 1m 2s\tremaining: 36.3s\n",
      "60:\tlearn: 2227.9142821\ttotal: 1m 3s\tremaining: 35.2s\n",
      "61:\tlearn: 2222.4791986\ttotal: 1m 4s\tremaining: 34.2s\n",
      "62:\tlearn: 2219.8188861\ttotal: 1m 5s\tremaining: 33.2s\n",
      "63:\tlearn: 2216.2225370\ttotal: 1m 6s\tremaining: 32.2s\n",
      "64:\tlearn: 2212.4307373\ttotal: 1m 7s\tremaining: 31.2s\n",
      "65:\tlearn: 2209.6726038\ttotal: 1m 8s\tremaining: 30.1s\n",
      "66:\tlearn: 2206.3250455\ttotal: 1m 9s\tremaining: 29.1s\n",
      "67:\tlearn: 2202.5356871\ttotal: 1m 10s\tremaining: 28.1s\n",
      "68:\tlearn: 2199.7456889\ttotal: 1m 11s\tremaining: 27s\n",
      "69:\tlearn: 2199.4500248\ttotal: 1m 11s\tremaining: 25.7s\n",
      "70:\tlearn: 2197.3169835\ttotal: 1m 12s\tremaining: 24.6s\n",
      "71:\tlearn: 2191.6814636\ttotal: 1m 13s\tremaining: 23.6s\n",
      "72:\tlearn: 2188.7543029\ttotal: 1m 15s\tremaining: 22.6s\n",
      "73:\tlearn: 2185.0425007\ttotal: 1m 16s\tremaining: 21.6s\n",
      "74:\tlearn: 2183.2588694\ttotal: 1m 17s\tremaining: 20.6s\n",
      "75:\tlearn: 2179.1613321\ttotal: 1m 18s\tremaining: 19.6s\n",
      "76:\tlearn: 2176.6781271\ttotal: 1m 19s\tremaining: 18.5s\n",
      "77:\tlearn: 2173.0905900\ttotal: 1m 20s\tremaining: 17.5s\n",
      "78:\tlearn: 2170.0366515\ttotal: 1m 21s\tremaining: 16.5s\n",
      "79:\tlearn: 2170.0126373\ttotal: 1m 21s\tremaining: 15.3s\n",
      "80:\tlearn: 2166.8840002\ttotal: 1m 22s\tremaining: 14.3s\n",
      "81:\tlearn: 2162.6800827\ttotal: 1m 23s\tremaining: 13.3s\n",
      "82:\tlearn: 2160.5711172\ttotal: 1m 24s\tremaining: 12.3s\n",
      "83:\tlearn: 2157.6117808\ttotal: 1m 25s\tremaining: 11.2s\n",
      "84:\tlearn: 2155.2227730\ttotal: 1m 26s\tremaining: 10.2s\n",
      "85:\tlearn: 2153.0788553\ttotal: 1m 27s\tremaining: 9.2s\n",
      "86:\tlearn: 2149.7328051\ttotal: 1m 28s\tremaining: 8.18s\n",
      "87:\tlearn: 2145.2587372\ttotal: 1m 30s\tremaining: 7.16s\n",
      "88:\tlearn: 2141.7857880\ttotal: 1m 31s\tremaining: 6.14s\n",
      "89:\tlearn: 2139.2423751\ttotal: 1m 32s\tremaining: 5.12s\n",
      "90:\tlearn: 2137.4252193\ttotal: 1m 33s\tremaining: 4.09s\n",
      "91:\tlearn: 2133.4419549\ttotal: 1m 34s\tremaining: 3.07s\n",
      "92:\tlearn: 2129.2529299\ttotal: 1m 35s\tremaining: 2.05s\n",
      "93:\tlearn: 2126.8903907\ttotal: 1m 36s\tremaining: 1.02s\n",
      "94:\tlearn: 2123.8276435\ttotal: 1m 37s\tremaining: 0us\n"
     ]
    },
    {
     "data": {
      "application/vnd.jupyter.widget-view+json": {
       "model_id": "ad146bc107584a73bc2edf96c4c84c53",
       "version_major": 2,
       "version_minor": 0
      },
      "text/plain": [
       "MetricVisualizer(layout=Layout(align_self='stretch', height='500px'))"
      ]
     },
     "metadata": {},
     "output_type": "display_data"
    },
    {
     "name": "stdout",
     "output_type": "stream",
     "text": [
      "0:\tlearn: 4319.3265251\ttotal: 1.03s\tremaining: 1m 37s\n",
      "1:\tlearn: 4090.2965687\ttotal: 1.54s\tremaining: 1m 11s\n",
      "2:\tlearn: 3891.6248436\ttotal: 2.56s\tremaining: 1m 18s\n",
      "3:\tlearn: 3713.3337382\ttotal: 3.62s\tremaining: 1m 22s\n",
      "4:\tlearn: 3559.6724170\ttotal: 4.63s\tremaining: 1m 23s\n",
      "5:\tlearn: 3431.7956451\ttotal: 5.16s\tremaining: 1m 16s\n",
      "6:\tlearn: 3318.6546509\ttotal: 6.17s\tremaining: 1m 17s\n",
      "7:\tlearn: 3222.6677888\ttotal: 7.24s\tremaining: 1m 18s\n",
      "8:\tlearn: 3140.2344919\ttotal: 8.3s\tremaining: 1m 19s\n",
      "9:\tlearn: 3058.8582268\ttotal: 9.34s\tremaining: 1m 19s\n",
      "10:\tlearn: 2987.0036200\ttotal: 10.4s\tremaining: 1m 19s\n",
      "11:\tlearn: 2928.3062760\ttotal: 11.4s\tremaining: 1m 19s\n",
      "12:\tlearn: 2877.8198313\ttotal: 12.5s\tremaining: 1m 18s\n",
      "13:\tlearn: 2819.8946354\ttotal: 13.6s\tremaining: 1m 18s\n",
      "14:\tlearn: 2768.2238303\ttotal: 14.6s\tremaining: 1m 17s\n",
      "15:\tlearn: 2724.2274998\ttotal: 15.7s\tremaining: 1m 17s\n",
      "16:\tlearn: 2687.2094143\ttotal: 16.8s\tremaining: 1m 17s\n",
      "17:\tlearn: 2654.8640524\ttotal: 17.9s\tremaining: 1m 16s\n",
      "18:\tlearn: 2626.1228014\ttotal: 19s\tremaining: 1m 15s\n",
      "19:\tlearn: 2601.4868060\ttotal: 20s\tremaining: 1m 15s\n",
      "20:\tlearn: 2578.9451435\ttotal: 21s\tremaining: 1m 14s\n",
      "21:\tlearn: 2555.1772017\ttotal: 22.1s\tremaining: 1m 13s\n",
      "22:\tlearn: 2534.4910927\ttotal: 23.1s\tremaining: 1m 12s\n",
      "23:\tlearn: 2514.0078334\ttotal: 24.1s\tremaining: 1m 11s\n",
      "24:\tlearn: 2495.4426171\ttotal: 25.2s\tremaining: 1m 10s\n",
      "25:\tlearn: 2477.4928850\ttotal: 26.3s\tremaining: 1m 9s\n",
      "26:\tlearn: 2461.0277405\ttotal: 27.6s\tremaining: 1m 9s\n",
      "27:\tlearn: 2447.9716011\ttotal: 28.7s\tremaining: 1m 8s\n",
      "28:\tlearn: 2434.7173131\ttotal: 29.7s\tremaining: 1m 7s\n",
      "29:\tlearn: 2421.0163967\ttotal: 30.8s\tremaining: 1m 6s\n",
      "30:\tlearn: 2410.1505270\ttotal: 31.8s\tremaining: 1m 5s\n",
      "31:\tlearn: 2401.9515069\ttotal: 32.9s\tremaining: 1m 4s\n",
      "32:\tlearn: 2392.5725973\ttotal: 33.9s\tremaining: 1m 3s\n",
      "33:\tlearn: 2382.8472751\ttotal: 35s\tremaining: 1m 2s\n",
      "34:\tlearn: 2375.7286487\ttotal: 36s\tremaining: 1m 1s\n",
      "35:\tlearn: 2365.6720840\ttotal: 37.1s\tremaining: 1m\n",
      "36:\tlearn: 2354.8055154\ttotal: 38.2s\tremaining: 59.9s\n",
      "37:\tlearn: 2348.9006744\ttotal: 39.3s\tremaining: 58.9s\n",
      "38:\tlearn: 2343.8433793\ttotal: 40.3s\tremaining: 57.9s\n",
      "39:\tlearn: 2336.0039749\ttotal: 41.4s\tremaining: 56.9s\n",
      "40:\tlearn: 2327.1632897\ttotal: 42.4s\tremaining: 55.9s\n",
      "41:\tlearn: 2320.9973788\ttotal: 43.5s\tremaining: 54.9s\n",
      "42:\tlearn: 2316.2821793\ttotal: 44.5s\tremaining: 53.9s\n",
      "43:\tlearn: 2313.1150344\ttotal: 45.6s\tremaining: 52.8s\n",
      "44:\tlearn: 2303.8088391\ttotal: 46.6s\tremaining: 51.8s\n",
      "45:\tlearn: 2299.4209481\ttotal: 47.7s\tremaining: 50.8s\n",
      "46:\tlearn: 2296.0215220\ttotal: 48.8s\tremaining: 49.8s\n",
      "47:\tlearn: 2288.4310910\ttotal: 49.8s\tremaining: 48.8s\n",
      "48:\tlearn: 2285.4185413\ttotal: 50.8s\tremaining: 47.7s\n",
      "49:\tlearn: 2280.9758054\ttotal: 51.9s\tremaining: 46.7s\n",
      "50:\tlearn: 2276.0379480\ttotal: 52.9s\tremaining: 45.7s\n",
      "51:\tlearn: 2272.4206432\ttotal: 53.9s\tremaining: 44.6s\n",
      "52:\tlearn: 2268.9515319\ttotal: 55s\tremaining: 43.6s\n",
      "53:\tlearn: 2264.0392993\ttotal: 56s\tremaining: 42.5s\n",
      "54:\tlearn: 2261.0028504\ttotal: 57s\tremaining: 41.5s\n",
      "55:\tlearn: 2258.0868859\ttotal: 58.1s\tremaining: 40.5s\n",
      "56:\tlearn: 2254.7527360\ttotal: 59.1s\tremaining: 39.4s\n",
      "57:\tlearn: 2247.9297285\ttotal: 1m\tremaining: 38.4s\n",
      "58:\tlearn: 2243.0586041\ttotal: 1m 1s\tremaining: 37.4s\n",
      "59:\tlearn: 2238.3515019\ttotal: 1m 2s\tremaining: 36.3s\n",
      "60:\tlearn: 2238.2938242\ttotal: 1m 2s\tremaining: 34.7s\n",
      "61:\tlearn: 2233.1830699\ttotal: 1m 3s\tremaining: 33.7s\n",
      "62:\tlearn: 2229.0379261\ttotal: 1m 4s\tremaining: 32.7s\n",
      "63:\tlearn: 2222.2837742\ttotal: 1m 5s\tremaining: 31.7s\n",
      "64:\tlearn: 2219.4339314\ttotal: 1m 6s\tremaining: 30.7s\n",
      "65:\tlearn: 2212.5630050\ttotal: 1m 7s\tremaining: 29.7s\n",
      "66:\tlearn: 2209.7512656\ttotal: 1m 8s\tremaining: 28.7s\n",
      "67:\tlearn: 2206.6139145\ttotal: 1m 9s\tremaining: 27.6s\n",
      "68:\tlearn: 2202.6587522\ttotal: 1m 10s\tremaining: 26.6s\n",
      "69:\tlearn: 2198.7345184\ttotal: 1m 11s\tremaining: 25.6s\n",
      "70:\tlearn: 2196.3029794\ttotal: 1m 12s\tremaining: 24.6s\n",
      "71:\tlearn: 2191.8865755\ttotal: 1m 13s\tremaining: 23.6s\n",
      "72:\tlearn: 2189.0636866\ttotal: 1m 14s\tremaining: 22.6s\n",
      "73:\tlearn: 2186.1353103\ttotal: 1m 15s\tremaining: 21.5s\n",
      "74:\tlearn: 2183.7457815\ttotal: 1m 17s\tremaining: 20.5s\n",
      "75:\tlearn: 2179.9912760\ttotal: 1m 18s\tremaining: 19.5s\n",
      "76:\tlearn: 2177.1920903\ttotal: 1m 19s\tremaining: 18.5s\n",
      "77:\tlearn: 2174.1453010\ttotal: 1m 20s\tremaining: 17.5s\n",
      "78:\tlearn: 2172.5645843\ttotal: 1m 21s\tremaining: 16.5s\n",
      "79:\tlearn: 2167.4744739\ttotal: 1m 22s\tremaining: 15.4s\n",
      "80:\tlearn: 2164.2033461\ttotal: 1m 23s\tremaining: 14.4s\n",
      "81:\tlearn: 2161.8235385\ttotal: 1m 24s\tremaining: 13.4s\n",
      "82:\tlearn: 2159.0687104\ttotal: 1m 25s\tremaining: 12.3s\n",
      "83:\tlearn: 2156.6491122\ttotal: 1m 26s\tremaining: 11.3s\n",
      "84:\tlearn: 2153.4682353\ttotal: 1m 27s\tremaining: 10.3s\n",
      "85:\tlearn: 2149.7091039\ttotal: 1m 28s\tremaining: 9.27s\n",
      "86:\tlearn: 2144.9363880\ttotal: 1m 29s\tremaining: 8.24s\n",
      "87:\tlearn: 2142.3301695\ttotal: 1m 30s\tremaining: 7.21s\n",
      "88:\tlearn: 2136.8048070\ttotal: 1m 31s\tremaining: 6.18s\n",
      "89:\tlearn: 2133.7006768\ttotal: 1m 32s\tremaining: 5.15s\n",
      "90:\tlearn: 2132.3057297\ttotal: 1m 33s\tremaining: 4.12s\n",
      "91:\tlearn: 2129.3943384\ttotal: 1m 34s\tremaining: 3.09s\n",
      "92:\tlearn: 2127.7775899\ttotal: 1m 35s\tremaining: 2.06s\n",
      "93:\tlearn: 2125.4536061\ttotal: 1m 36s\tremaining: 1.03s\n",
      "94:\tlearn: 2124.0048898\ttotal: 1m 37s\tremaining: 0us\n"
     ]
    },
    {
     "data": {
      "application/vnd.jupyter.widget-view+json": {
       "model_id": "09ff3da45fcb4489acb9907b25069ae3",
       "version_major": 2,
       "version_minor": 0
      },
      "text/plain": [
       "MetricVisualizer(layout=Layout(align_self='stretch', height='500px'))"
      ]
     },
     "metadata": {},
     "output_type": "display_data"
    },
    {
     "name": "stdout",
     "output_type": "stream",
     "text": [
      "0:\tlearn: 4308.3603027\ttotal: 1.03s\tremaining: 1m 36s\n",
      "1:\tlearn: 4079.6114020\ttotal: 1.52s\tremaining: 1m 10s\n",
      "2:\tlearn: 3881.2945329\ttotal: 2.53s\tremaining: 1m 17s\n",
      "3:\tlearn: 3705.2475040\ttotal: 3.57s\tremaining: 1m 21s\n",
      "4:\tlearn: 3553.5328790\ttotal: 4.57s\tremaining: 1m 22s\n",
      "5:\tlearn: 3427.9039576\ttotal: 5.58s\tremaining: 1m 22s\n",
      "6:\tlearn: 3320.0874293\ttotal: 6.62s\tremaining: 1m 23s\n",
      "7:\tlearn: 3225.3350351\ttotal: 7.64s\tremaining: 1m 23s\n",
      "8:\tlearn: 3130.0678934\ttotal: 8.68s\tremaining: 1m 22s\n",
      "9:\tlearn: 3049.2386274\ttotal: 9.72s\tremaining: 1m 22s\n",
      "10:\tlearn: 2981.3482217\ttotal: 10.7s\tremaining: 1m 21s\n",
      "11:\tlearn: 2923.8474622\ttotal: 11.8s\tremaining: 1m 21s\n",
      "12:\tlearn: 2871.6274540\ttotal: 12.8s\tremaining: 1m 20s\n",
      "13:\tlearn: 2814.7776031\ttotal: 13.8s\tremaining: 1m 19s\n",
      "14:\tlearn: 2765.5798192\ttotal: 14.8s\tremaining: 1m 18s\n",
      "15:\tlearn: 2720.1752776\ttotal: 15.8s\tremaining: 1m 18s\n",
      "16:\tlearn: 2679.7334614\ttotal: 16.9s\tremaining: 1m 17s\n",
      "17:\tlearn: 2645.4755669\ttotal: 17.9s\tremaining: 1m 16s\n",
      "18:\tlearn: 2617.8017056\ttotal: 18.9s\tremaining: 1m 15s\n",
      "19:\tlearn: 2591.0389835\ttotal: 19.9s\tremaining: 1m 14s\n",
      "20:\tlearn: 2569.5717742\ttotal: 20.9s\tremaining: 1m 13s\n",
      "21:\tlearn: 2542.6348743\ttotal: 22s\tremaining: 1m 12s\n",
      "22:\tlearn: 2518.1882372\ttotal: 23s\tremaining: 1m 12s\n",
      "23:\tlearn: 2499.7341821\ttotal: 24.1s\tremaining: 1m 11s\n",
      "24:\tlearn: 2482.0445328\ttotal: 25.1s\tremaining: 1m 10s\n",
      "25:\tlearn: 2465.7412190\ttotal: 26.2s\tremaining: 1m 9s\n",
      "26:\tlearn: 2447.6038391\ttotal: 27.3s\tremaining: 1m 8s\n",
      "27:\tlearn: 2434.1363269\ttotal: 28.3s\tremaining: 1m 7s\n",
      "28:\tlearn: 2422.0006136\ttotal: 29.3s\tremaining: 1m 6s\n",
      "29:\tlearn: 2411.3020556\ttotal: 30.4s\tremaining: 1m 5s\n",
      "30:\tlearn: 2400.2445917\ttotal: 31.4s\tremaining: 1m 4s\n",
      "31:\tlearn: 2389.7520126\ttotal: 32.5s\tremaining: 1m 4s\n",
      "32:\tlearn: 2378.7626186\ttotal: 33.6s\tremaining: 1m 3s\n",
      "33:\tlearn: 2370.8067303\ttotal: 34.7s\tremaining: 1m 2s\n",
      "34:\tlearn: 2363.0487556\ttotal: 35.7s\tremaining: 1m 1s\n",
      "35:\tlearn: 2353.0130526\ttotal: 36.8s\tremaining: 1m\n",
      "36:\tlearn: 2344.2013120\ttotal: 37.9s\tremaining: 59.4s\n",
      "37:\tlearn: 2336.8837763\ttotal: 39s\tremaining: 58.4s\n",
      "38:\tlearn: 2331.4766764\ttotal: 40s\tremaining: 57.5s\n",
      "39:\tlearn: 2319.4847546\ttotal: 41.1s\tremaining: 56.6s\n",
      "40:\tlearn: 2316.0999890\ttotal: 42.2s\tremaining: 55.6s\n",
      "41:\tlearn: 2304.5813976\ttotal: 43.3s\tremaining: 54.6s\n",
      "42:\tlearn: 2298.9405515\ttotal: 44.3s\tremaining: 53.6s\n",
      "43:\tlearn: 2291.0528327\ttotal: 45.4s\tremaining: 52.6s\n",
      "44:\tlearn: 2287.6341361\ttotal: 46.5s\tremaining: 51.6s\n",
      "45:\tlearn: 2284.5022248\ttotal: 47.7s\tremaining: 50.8s\n",
      "46:\tlearn: 2280.5593594\ttotal: 48.7s\tremaining: 49.8s\n",
      "47:\tlearn: 2277.5949361\ttotal: 49.8s\tremaining: 48.7s\n",
      "48:\tlearn: 2269.9697110\ttotal: 50.9s\tremaining: 47.7s\n",
      "49:\tlearn: 2262.8267959\ttotal: 51.9s\tremaining: 46.7s\n",
      "50:\tlearn: 2258.4890451\ttotal: 52.9s\tremaining: 45.7s\n",
      "51:\tlearn: 2254.7348674\ttotal: 54s\tremaining: 44.7s\n",
      "52:\tlearn: 2254.5491070\ttotal: 54s\tremaining: 42.8s\n",
      "53:\tlearn: 2249.3187519\ttotal: 55.1s\tremaining: 41.8s\n",
      "54:\tlearn: 2243.8639205\ttotal: 56.2s\tremaining: 40.9s\n",
      "55:\tlearn: 2237.9058944\ttotal: 57.3s\tremaining: 39.9s\n",
      "56:\tlearn: 2235.6263989\ttotal: 58.4s\tremaining: 38.9s\n",
      "57:\tlearn: 2233.4978527\ttotal: 59.4s\tremaining: 37.9s\n",
      "58:\tlearn: 2229.9713543\ttotal: 1m\tremaining: 36.9s\n",
      "59:\tlearn: 2227.5925434\ttotal: 1m 1s\tremaining: 35.9s\n",
      "60:\tlearn: 2224.2143223\ttotal: 1m 2s\tremaining: 34.9s\n",
      "61:\tlearn: 2220.5292090\ttotal: 1m 3s\tremaining: 33.9s\n",
      "62:\tlearn: 2217.4169640\ttotal: 1m 4s\tremaining: 32.9s\n",
      "63:\tlearn: 2211.7022438\ttotal: 1m 5s\tremaining: 31.9s\n",
      "64:\tlearn: 2206.4434762\ttotal: 1m 7s\tremaining: 30.9s\n",
      "65:\tlearn: 2204.1089370\ttotal: 1m 8s\tremaining: 29.9s\n",
      "66:\tlearn: 2200.8614563\ttotal: 1m 9s\tremaining: 28.9s\n",
      "67:\tlearn: 2197.3840138\ttotal: 1m 10s\tremaining: 27.9s\n",
      "68:\tlearn: 2194.4359900\ttotal: 1m 11s\tremaining: 26.9s\n",
      "69:\tlearn: 2191.7360992\ttotal: 1m 12s\tremaining: 25.9s\n",
      "70:\tlearn: 2189.9410262\ttotal: 1m 13s\tremaining: 24.9s\n",
      "71:\tlearn: 2187.4747450\ttotal: 1m 14s\tremaining: 23.8s\n",
      "72:\tlearn: 2181.6950006\ttotal: 1m 15s\tremaining: 22.8s\n",
      "73:\tlearn: 2178.7939486\ttotal: 1m 16s\tremaining: 21.8s\n",
      "74:\tlearn: 2176.4406664\ttotal: 1m 17s\tremaining: 20.7s\n",
      "75:\tlearn: 2172.5401283\ttotal: 1m 18s\tremaining: 19.7s\n",
      "76:\tlearn: 2164.4016963\ttotal: 1m 20s\tremaining: 18.7s\n",
      "77:\tlearn: 2162.5807509\ttotal: 1m 21s\tremaining: 17.7s\n",
      "78:\tlearn: 2159.3898447\ttotal: 1m 22s\tremaining: 16.6s\n",
      "79:\tlearn: 2153.2768987\ttotal: 1m 23s\tremaining: 15.6s\n",
      "80:\tlearn: 2147.3816601\ttotal: 1m 24s\tremaining: 14.6s\n",
      "81:\tlearn: 2144.0150861\ttotal: 1m 25s\tremaining: 13.5s\n",
      "82:\tlearn: 2139.0169781\ttotal: 1m 26s\tremaining: 12.5s\n",
      "83:\tlearn: 2135.7574382\ttotal: 1m 27s\tremaining: 11.5s\n",
      "84:\tlearn: 2132.1663794\ttotal: 1m 28s\tremaining: 10.4s\n",
      "85:\tlearn: 2129.3921257\ttotal: 1m 29s\tremaining: 9.39s\n",
      "86:\tlearn: 2125.5282335\ttotal: 1m 30s\tremaining: 8.35s\n",
      "87:\tlearn: 2124.0803197\ttotal: 1m 31s\tremaining: 7.31s\n",
      "88:\tlearn: 2121.2113867\ttotal: 1m 32s\tremaining: 6.27s\n",
      "89:\tlearn: 2117.4146135\ttotal: 1m 34s\tremaining: 5.22s\n",
      "90:\tlearn: 2115.2258567\ttotal: 1m 35s\tremaining: 4.18s\n",
      "91:\tlearn: 2111.4798857\ttotal: 1m 36s\tremaining: 3.14s\n",
      "92:\tlearn: 2105.7660083\ttotal: 1m 37s\tremaining: 2.09s\n",
      "93:\tlearn: 2101.8561341\ttotal: 1m 38s\tremaining: 1.05s\n",
      "94:\tlearn: 2097.4776407\ttotal: 1m 39s\tremaining: 0us\n"
     ]
    },
    {
     "data": {
      "application/vnd.jupyter.widget-view+json": {
       "model_id": "1d5c30f402794ae4981817219b9195a7",
       "version_major": 2,
       "version_minor": 0
      },
      "text/plain": [
       "MetricVisualizer(layout=Layout(align_self='stretch', height='500px'))"
      ]
     },
     "metadata": {},
     "output_type": "display_data"
    },
    {
     "name": "stdout",
     "output_type": "stream",
     "text": [
      "0:\tlearn: 4308.6228325\ttotal: 1.06s\tremaining: 1m 39s\n",
      "1:\tlearn: 4079.9084484\ttotal: 1.55s\tremaining: 1m 12s\n",
      "2:\tlearn: 3880.3805466\ttotal: 2.61s\tremaining: 1m 20s\n",
      "3:\tlearn: 3701.5287792\ttotal: 3.66s\tremaining: 1m 23s\n",
      "4:\tlearn: 3546.8343348\ttotal: 4.68s\tremaining: 1m 24s\n",
      "5:\tlearn: 3419.0153554\ttotal: 5.76s\tremaining: 1m 25s\n",
      "6:\tlearn: 3310.5252854\ttotal: 6.83s\tremaining: 1m 25s\n",
      "7:\tlearn: 3214.9598870\ttotal: 7.85s\tremaining: 1m 25s\n",
      "8:\tlearn: 3122.5520357\ttotal: 8.9s\tremaining: 1m 25s\n",
      "9:\tlearn: 3041.6424601\ttotal: 9.95s\tremaining: 1m 24s\n",
      "10:\tlearn: 2974.2405602\ttotal: 11s\tremaining: 1m 24s\n",
      "11:\tlearn: 2915.8435995\ttotal: 12.1s\tremaining: 1m 23s\n",
      "12:\tlearn: 2864.5855678\ttotal: 13.1s\tremaining: 1m 22s\n",
      "13:\tlearn: 2805.7188424\ttotal: 14.2s\tremaining: 1m 22s\n",
      "14:\tlearn: 2756.4787503\ttotal: 15.3s\tremaining: 1m 21s\n",
      "15:\tlearn: 2715.0090389\ttotal: 16.4s\tremaining: 1m 20s\n",
      "16:\tlearn: 2678.4127893\ttotal: 17.4s\tremaining: 1m 20s\n",
      "17:\tlearn: 2646.5997290\ttotal: 18.5s\tremaining: 1m 19s\n",
      "18:\tlearn: 2616.6213962\ttotal: 19.5s\tremaining: 1m 18s\n",
      "19:\tlearn: 2592.6691001\ttotal: 20.6s\tremaining: 1m 17s\n",
      "20:\tlearn: 2569.9973694\ttotal: 21.6s\tremaining: 1m 16s\n",
      "21:\tlearn: 2544.1596494\ttotal: 22.7s\tremaining: 1m 15s\n",
      "22:\tlearn: 2521.3071999\ttotal: 23.7s\tremaining: 1m 14s\n",
      "23:\tlearn: 2501.6291983\ttotal: 24.8s\tremaining: 1m 13s\n",
      "24:\tlearn: 2481.8126985\ttotal: 25.9s\tremaining: 1m 12s\n",
      "25:\tlearn: 2466.7732042\ttotal: 27s\tremaining: 1m 11s\n",
      "26:\tlearn: 2451.7887617\ttotal: 28s\tremaining: 1m 10s\n",
      "27:\tlearn: 2439.2951187\ttotal: 29.1s\tremaining: 1m 9s\n",
      "28:\tlearn: 2429.0099381\ttotal: 30.2s\tremaining: 1m 8s\n",
      "29:\tlearn: 2418.7312059\ttotal: 31.2s\tremaining: 1m 7s\n",
      "30:\tlearn: 2405.7306872\ttotal: 32.3s\tremaining: 1m 6s\n",
      "31:\tlearn: 2394.3980621\ttotal: 33.4s\tremaining: 1m 5s\n",
      "32:\tlearn: 2384.1298696\ttotal: 34.4s\tremaining: 1m 4s\n",
      "33:\tlearn: 2374.5075956\ttotal: 35.5s\tremaining: 1m 3s\n",
      "34:\tlearn: 2367.0397867\ttotal: 36.5s\tremaining: 1m 2s\n",
      "35:\tlearn: 2354.4562783\ttotal: 37.6s\tremaining: 1m 1s\n",
      "36:\tlearn: 2345.2143630\ttotal: 38.6s\tremaining: 1m\n",
      "37:\tlearn: 2338.6187082\ttotal: 39.7s\tremaining: 59.5s\n",
      "38:\tlearn: 2329.2170975\ttotal: 40.7s\tremaining: 58.5s\n",
      "39:\tlearn: 2323.0988404\ttotal: 41.8s\tremaining: 57.5s\n",
      "40:\tlearn: 2316.3301064\ttotal: 42.9s\tremaining: 56.4s\n",
      "41:\tlearn: 2309.9277162\ttotal: 43.9s\tremaining: 55.4s\n",
      "42:\tlearn: 2305.9731315\ttotal: 45s\tremaining: 54.5s\n",
      "43:\tlearn: 2301.5681986\ttotal: 46.1s\tremaining: 53.5s\n",
      "44:\tlearn: 2296.4267319\ttotal: 47.2s\tremaining: 52.5s\n",
      "45:\tlearn: 2291.7037079\ttotal: 48.3s\tremaining: 51.4s\n",
      "46:\tlearn: 2288.0060595\ttotal: 49.4s\tremaining: 50.4s\n",
      "47:\tlearn: 2281.7164758\ttotal: 50.4s\tremaining: 49.4s\n",
      "48:\tlearn: 2275.9493941\ttotal: 51.6s\tremaining: 48.4s\n",
      "49:\tlearn: 2271.3681467\ttotal: 52.7s\tremaining: 47.4s\n",
      "50:\tlearn: 2268.3272088\ttotal: 53.8s\tremaining: 46.4s\n",
      "51:\tlearn: 2264.8044100\ttotal: 54.8s\tremaining: 45.3s\n",
      "52:\tlearn: 2258.0082958\ttotal: 55.9s\tremaining: 44.3s\n",
      "53:\tlearn: 2256.1037587\ttotal: 57s\tremaining: 43.3s\n",
      "54:\tlearn: 2248.9242548\ttotal: 58.1s\tremaining: 42.2s\n",
      "55:\tlearn: 2244.2635823\ttotal: 59.2s\tremaining: 41.2s\n",
      "56:\tlearn: 2240.3037184\ttotal: 1m\tremaining: 40.2s\n",
      "57:\tlearn: 2237.0570459\ttotal: 1m 1s\tremaining: 39.2s\n",
      "58:\tlearn: 2233.7061295\ttotal: 1m 2s\tremaining: 38.2s\n",
      "59:\tlearn: 2230.4041867\ttotal: 1m 3s\tremaining: 37.1s\n",
      "60:\tlearn: 2228.2143886\ttotal: 1m 4s\tremaining: 36s\n",
      "61:\tlearn: 2225.1376555\ttotal: 1m 5s\tremaining: 35s\n",
      "62:\tlearn: 2222.6087691\ttotal: 1m 7s\tremaining: 34.1s\n",
      "63:\tlearn: 2219.3879299\ttotal: 1m 8s\tremaining: 33s\n",
      "64:\tlearn: 2216.0133234\ttotal: 1m 9s\tremaining: 31.9s\n",
      "65:\tlearn: 2212.5579414\ttotal: 1m 10s\tremaining: 30.9s\n",
      "66:\tlearn: 2209.4354115\ttotal: 1m 11s\tremaining: 29.8s\n",
      "67:\tlearn: 2208.2578507\ttotal: 1m 12s\tremaining: 28.7s\n",
      "68:\tlearn: 2205.5996327\ttotal: 1m 13s\tremaining: 27.6s\n",
      "69:\tlearn: 2203.4560778\ttotal: 1m 14s\tremaining: 26.6s\n",
      "70:\tlearn: 2199.4259881\ttotal: 1m 15s\tremaining: 25.5s\n",
      "71:\tlearn: 2196.0294672\ttotal: 1m 16s\tremaining: 24.4s\n",
      "72:\tlearn: 2193.4446508\ttotal: 1m 17s\tremaining: 23.4s\n",
      "73:\tlearn: 2190.7030760\ttotal: 1m 18s\tremaining: 22.3s\n",
      "74:\tlearn: 2186.4746663\ttotal: 1m 19s\tremaining: 21.3s\n",
      "75:\tlearn: 2180.0143292\ttotal: 1m 20s\tremaining: 20.2s\n",
      "76:\tlearn: 2178.0537515\ttotal: 1m 21s\tremaining: 19.1s\n",
      "77:\tlearn: 2174.0207702\ttotal: 1m 22s\tremaining: 18.1s\n",
      "78:\tlearn: 2169.9808523\ttotal: 1m 23s\tremaining: 17s\n",
      "79:\tlearn: 2166.1629687\ttotal: 1m 25s\tremaining: 15.9s\n",
      "80:\tlearn: 2162.5926420\ttotal: 1m 26s\tremaining: 14.9s\n",
      "81:\tlearn: 2162.5667925\ttotal: 1m 26s\tremaining: 13.7s\n",
      "82:\tlearn: 2160.0483603\ttotal: 1m 27s\tremaining: 12.6s\n",
      "83:\tlearn: 2155.7495340\ttotal: 1m 28s\tremaining: 11.6s\n",
      "84:\tlearn: 2151.7508258\ttotal: 1m 29s\tremaining: 10.5s\n",
      "85:\tlearn: 2145.3470754\ttotal: 1m 30s\tremaining: 9.46s\n",
      "86:\tlearn: 2141.1773700\ttotal: 1m 31s\tremaining: 8.41s\n",
      "87:\tlearn: 2137.8265928\ttotal: 1m 32s\tremaining: 7.36s\n",
      "88:\tlearn: 2133.7257069\ttotal: 1m 33s\tremaining: 6.31s\n",
      "89:\tlearn: 2130.9904151\ttotal: 1m 34s\tremaining: 5.26s\n",
      "90:\tlearn: 2128.6045299\ttotal: 1m 35s\tremaining: 4.21s\n",
      "91:\tlearn: 2121.2872756\ttotal: 1m 36s\tremaining: 3.16s\n",
      "92:\tlearn: 2117.0720877\ttotal: 1m 37s\tremaining: 2.1s\n",
      "93:\tlearn: 2113.2124235\ttotal: 1m 38s\tremaining: 1.05s\n",
      "94:\tlearn: 2107.8601385\ttotal: 1m 40s\tremaining: 0us\n"
     ]
    },
    {
     "data": {
      "application/vnd.jupyter.widget-view+json": {
       "model_id": "7e23dc8b84ee45e4a9d89dc4eff18e9b",
       "version_major": 2,
       "version_minor": 0
      },
      "text/plain": [
       "MetricVisualizer(layout=Layout(align_self='stretch', height='500px'))"
      ]
     },
     "metadata": {},
     "output_type": "display_data"
    },
    {
     "name": "stdout",
     "output_type": "stream",
     "text": [
      "0:\tlearn: 4316.2666296\ttotal: 1s\tremaining: 1m 34s\n",
      "1:\tlearn: 4082.1341013\ttotal: 2.06s\tremaining: 1m 35s\n",
      "2:\tlearn: 3881.9146660\ttotal: 3.15s\tremaining: 1m 36s\n",
      "3:\tlearn: 3702.2654846\ttotal: 4.3s\tremaining: 1m 37s\n",
      "4:\tlearn: 3550.8788509\ttotal: 5.4s\tremaining: 1m 37s\n",
      "5:\tlearn: 3423.5035626\ttotal: 5.94s\tremaining: 1m 28s\n",
      "6:\tlearn: 3312.5561111\ttotal: 7.03s\tremaining: 1m 28s\n",
      "7:\tlearn: 3219.1282596\ttotal: 8.1s\tremaining: 1m 28s\n",
      "8:\tlearn: 3136.6347652\ttotal: 9.17s\tremaining: 1m 27s\n",
      "9:\tlearn: 3055.6094096\ttotal: 10.2s\tremaining: 1m 26s\n",
      "10:\tlearn: 2986.0619055\ttotal: 11.3s\tremaining: 1m 26s\n",
      "11:\tlearn: 2926.3568547\ttotal: 12.4s\tremaining: 1m 25s\n",
      "12:\tlearn: 2860.3152540\ttotal: 13.5s\tremaining: 1m 25s\n",
      "13:\tlearn: 2806.0467459\ttotal: 14.6s\tremaining: 1m 24s\n",
      "14:\tlearn: 2757.5283307\ttotal: 15.6s\tremaining: 1m 23s\n",
      "15:\tlearn: 2714.8367460\ttotal: 16.7s\tremaining: 1m 22s\n",
      "16:\tlearn: 2679.4803196\ttotal: 17.8s\tremaining: 1m 21s\n",
      "17:\tlearn: 2649.6013743\ttotal: 18.9s\tremaining: 1m 20s\n",
      "18:\tlearn: 2623.4745323\ttotal: 20s\tremaining: 1m 19s\n",
      "19:\tlearn: 2595.2974844\ttotal: 21s\tremaining: 1m 18s\n",
      "20:\tlearn: 2567.9072009\ttotal: 22.1s\tremaining: 1m 18s\n",
      "21:\tlearn: 2545.6701954\ttotal: 23.2s\tremaining: 1m 17s\n",
      "22:\tlearn: 2524.4713242\ttotal: 24.3s\tremaining: 1m 16s\n",
      "23:\tlearn: 2506.8523923\ttotal: 25.4s\tremaining: 1m 15s\n",
      "24:\tlearn: 2488.2026431\ttotal: 26.5s\tremaining: 1m 14s\n",
      "25:\tlearn: 2473.0667210\ttotal: 27.6s\tremaining: 1m 13s\n",
      "26:\tlearn: 2458.8738297\ttotal: 28.7s\tremaining: 1m 12s\n",
      "27:\tlearn: 2444.2608682\ttotal: 29.7s\tremaining: 1m 11s\n",
      "28:\tlearn: 2431.0017345\ttotal: 30.9s\tremaining: 1m 10s\n",
      "29:\tlearn: 2415.9338304\ttotal: 32s\tremaining: 1m 9s\n",
      "30:\tlearn: 2405.9403702\ttotal: 33.1s\tremaining: 1m 8s\n",
      "31:\tlearn: 2395.6860485\ttotal: 34.2s\tremaining: 1m 7s\n",
      "32:\tlearn: 2388.2468874\ttotal: 35.2s\tremaining: 1m 6s\n",
      "33:\tlearn: 2377.2035393\ttotal: 36.3s\tremaining: 1m 5s\n",
      "34:\tlearn: 2369.8301936\ttotal: 37.4s\tremaining: 1m 4s\n",
      "35:\tlearn: 2363.0488047\ttotal: 38.6s\tremaining: 1m 3s\n",
      "36:\tlearn: 2355.2121096\ttotal: 39.7s\tremaining: 1m 2s\n",
      "37:\tlearn: 2345.2930303\ttotal: 40.8s\tremaining: 1m 1s\n",
      "38:\tlearn: 2339.6132593\ttotal: 41.9s\tremaining: 1m\n",
      "39:\tlearn: 2334.7839099\ttotal: 43s\tremaining: 59.1s\n",
      "40:\tlearn: 2329.9968606\ttotal: 44.1s\tremaining: 58s\n",
      "41:\tlearn: 2321.2256925\ttotal: 45.2s\tremaining: 57s\n",
      "42:\tlearn: 2311.0156245\ttotal: 46.2s\tremaining: 55.9s\n",
      "43:\tlearn: 2307.0976460\ttotal: 47.3s\tremaining: 54.8s\n",
      "44:\tlearn: 2303.8222867\ttotal: 48.4s\tremaining: 53.8s\n",
      "45:\tlearn: 2297.0090987\ttotal: 49.5s\tremaining: 52.7s\n",
      "46:\tlearn: 2288.5364979\ttotal: 50.5s\tremaining: 51.6s\n",
      "47:\tlearn: 2285.1793173\ttotal: 51.6s\tremaining: 50.5s\n",
      "48:\tlearn: 2281.0319923\ttotal: 52.6s\tremaining: 49.4s\n",
      "49:\tlearn: 2274.1138436\ttotal: 53.7s\tremaining: 48.4s\n",
      "50:\tlearn: 2270.9802545\ttotal: 54.9s\tremaining: 47.3s\n",
      "51:\tlearn: 2267.4716861\ttotal: 56s\tremaining: 46.3s\n",
      "52:\tlearn: 2262.8639159\ttotal: 57.1s\tremaining: 45.2s\n",
      "53:\tlearn: 2259.3641808\ttotal: 58.1s\tremaining: 44.1s\n",
      "54:\tlearn: 2254.9054767\ttotal: 59.2s\tremaining: 43s\n",
      "55:\tlearn: 2251.3462434\ttotal: 1m\tremaining: 42s\n",
      "56:\tlearn: 2247.9975825\ttotal: 1m 1s\tremaining: 40.9s\n",
      "57:\tlearn: 2244.6728901\ttotal: 1m 2s\tremaining: 39.8s\n",
      "58:\tlearn: 2240.4282874\ttotal: 1m 3s\tremaining: 38.8s\n",
      "59:\tlearn: 2237.1418525\ttotal: 1m 4s\tremaining: 37.7s\n",
      "60:\tlearn: 2234.6328385\ttotal: 1m 5s\tremaining: 36.6s\n",
      "61:\tlearn: 2231.1721451\ttotal: 1m 6s\tremaining: 35.5s\n",
      "62:\tlearn: 2227.6529015\ttotal: 1m 7s\tremaining: 34.5s\n",
      "63:\tlearn: 2223.9171522\ttotal: 1m 8s\tremaining: 33.4s\n",
      "64:\tlearn: 2221.0685123\ttotal: 1m 10s\tremaining: 32.3s\n",
      "65:\tlearn: 2218.6077228\ttotal: 1m 11s\tremaining: 31.2s\n",
      "66:\tlearn: 2214.8047792\ttotal: 1m 12s\tremaining: 30.2s\n",
      "67:\tlearn: 2206.4443066\ttotal: 1m 13s\tremaining: 29.1s\n",
      "68:\tlearn: 2202.5090023\ttotal: 1m 14s\tremaining: 28s\n",
      "69:\tlearn: 2199.9119628\ttotal: 1m 15s\tremaining: 27s\n",
      "70:\tlearn: 2194.7200825\ttotal: 1m 16s\tremaining: 25.9s\n",
      "71:\tlearn: 2191.0216613\ttotal: 1m 17s\tremaining: 24.8s\n",
      "72:\tlearn: 2187.6234531\ttotal: 1m 18s\tremaining: 23.7s\n",
      "73:\tlearn: 2183.7075767\ttotal: 1m 19s\tremaining: 22.7s\n",
      "74:\tlearn: 2180.7098038\ttotal: 1m 20s\tremaining: 21.6s\n",
      "75:\tlearn: 2176.0439971\ttotal: 1m 22s\tremaining: 20.5s\n",
      "76:\tlearn: 2173.9970830\ttotal: 1m 23s\tremaining: 19.4s\n",
      "77:\tlearn: 2171.5678083\ttotal: 1m 24s\tremaining: 18.4s\n",
      "78:\tlearn: 2169.4893594\ttotal: 1m 25s\tremaining: 17.3s\n",
      "79:\tlearn: 2167.4776072\ttotal: 1m 26s\tremaining: 16.2s\n",
      "80:\tlearn: 2166.1723361\ttotal: 1m 27s\tremaining: 15.2s\n",
      "81:\tlearn: 2162.9626871\ttotal: 1m 28s\tremaining: 14.1s\n",
      "82:\tlearn: 2158.3128615\ttotal: 1m 29s\tremaining: 13s\n",
      "83:\tlearn: 2153.7791777\ttotal: 1m 30s\tremaining: 11.9s\n",
      "84:\tlearn: 2151.3113821\ttotal: 1m 32s\tremaining: 10.8s\n",
      "85:\tlearn: 2147.8377240\ttotal: 1m 33s\tremaining: 9.74s\n",
      "86:\tlearn: 2146.5371671\ttotal: 1m 34s\tremaining: 8.66s\n",
      "87:\tlearn: 2142.8921482\ttotal: 1m 35s\tremaining: 7.58s\n",
      "88:\tlearn: 2138.9419378\ttotal: 1m 36s\tremaining: 6.5s\n",
      "89:\tlearn: 2136.3412069\ttotal: 1m 37s\tremaining: 5.42s\n",
      "90:\tlearn: 2133.8222665\ttotal: 1m 38s\tremaining: 4.33s\n",
      "91:\tlearn: 2133.7968162\ttotal: 1m 38s\tremaining: 3.22s\n",
      "92:\tlearn: 2128.9909680\ttotal: 1m 39s\tremaining: 2.14s\n",
      "93:\tlearn: 2125.8350514\ttotal: 1m 40s\tremaining: 1.07s\n",
      "94:\tlearn: 2121.8576345\ttotal: 1m 41s\tremaining: 0us\n"
     ]
    },
    {
     "data": {
      "application/vnd.jupyter.widget-view+json": {
       "model_id": "486e1403db58443c9eb130de0f267b21",
       "version_major": 2,
       "version_minor": 0
      },
      "text/plain": [
       "MetricVisualizer(layout=Layout(align_self='stretch', height='500px'))"
      ]
     },
     "metadata": {},
     "output_type": "display_data"
    },
    {
     "name": "stdout",
     "output_type": "stream",
     "text": [
      "0:\tlearn: 4316.2666296\ttotal: 958ms\tremaining: 1m 30s\n",
      "1:\tlearn: 4082.1341013\ttotal: 2.16s\tremaining: 1m 40s\n",
      "2:\tlearn: 3881.9146660\ttotal: 3.26s\tremaining: 1m 40s\n",
      "3:\tlearn: 3702.2654846\ttotal: 4.32s\tremaining: 1m 38s\n",
      "4:\tlearn: 3550.8788509\ttotal: 5.4s\tremaining: 1m 37s\n",
      "5:\tlearn: 3423.5035626\ttotal: 5.9s\tremaining: 1m 27s\n",
      "6:\tlearn: 3312.5561111\ttotal: 6.97s\tremaining: 1m 27s\n",
      "7:\tlearn: 3219.1282596\ttotal: 8.02s\tremaining: 1m 27s\n",
      "8:\tlearn: 3136.6347652\ttotal: 9.03s\tremaining: 1m 26s\n",
      "9:\tlearn: 3055.6094096\ttotal: 10.1s\tremaining: 1m 25s\n",
      "10:\tlearn: 2986.0619055\ttotal: 11.2s\tremaining: 1m 25s\n",
      "11:\tlearn: 2926.3568547\ttotal: 12.2s\tremaining: 1m 24s\n",
      "12:\tlearn: 2860.3152540\ttotal: 13.4s\tremaining: 1m 24s\n",
      "13:\tlearn: 2806.0467459\ttotal: 14.4s\tremaining: 1m 23s\n",
      "14:\tlearn: 2757.5283307\ttotal: 15.5s\tremaining: 1m 22s\n",
      "15:\tlearn: 2714.8367460\ttotal: 16.6s\tremaining: 1m 21s\n",
      "16:\tlearn: 2679.4803196\ttotal: 17.7s\tremaining: 1m 21s\n",
      "17:\tlearn: 2649.6013743\ttotal: 18.7s\tremaining: 1m 20s\n",
      "18:\tlearn: 2623.4745323\ttotal: 19.8s\tremaining: 1m 19s\n",
      "19:\tlearn: 2595.2974844\ttotal: 20.9s\tremaining: 1m 18s\n",
      "20:\tlearn: 2567.9072009\ttotal: 22s\tremaining: 1m 17s\n",
      "21:\tlearn: 2545.6701954\ttotal: 23.1s\tremaining: 1m 16s\n",
      "22:\tlearn: 2524.4713242\ttotal: 24.2s\tremaining: 1m 15s\n",
      "23:\tlearn: 2506.8523923\ttotal: 25.2s\tremaining: 1m 14s\n",
      "24:\tlearn: 2488.2026431\ttotal: 26.3s\tremaining: 1m 13s\n",
      "25:\tlearn: 2473.0667210\ttotal: 27.5s\tremaining: 1m 12s\n",
      "26:\tlearn: 2458.8738297\ttotal: 28.5s\tremaining: 1m 11s\n",
      "27:\tlearn: 2444.2608682\ttotal: 29.6s\tremaining: 1m 10s\n",
      "28:\tlearn: 2431.0017345\ttotal: 30.8s\tremaining: 1m 9s\n",
      "29:\tlearn: 2415.9338304\ttotal: 31.9s\tremaining: 1m 9s\n",
      "30:\tlearn: 2405.9403702\ttotal: 33s\tremaining: 1m 8s\n",
      "31:\tlearn: 2395.6860485\ttotal: 34.1s\tremaining: 1m 7s\n",
      "32:\tlearn: 2388.2468874\ttotal: 35.2s\tremaining: 1m 6s\n",
      "33:\tlearn: 2377.2035393\ttotal: 36.3s\tremaining: 1m 5s\n",
      "34:\tlearn: 2369.8301936\ttotal: 37.4s\tremaining: 1m 4s\n",
      "35:\tlearn: 2363.0488047\ttotal: 38.5s\tremaining: 1m 3s\n",
      "36:\tlearn: 2355.2121096\ttotal: 39.6s\tremaining: 1m 2s\n",
      "37:\tlearn: 2345.2930303\ttotal: 40.7s\tremaining: 1m 1s\n",
      "38:\tlearn: 2339.6132593\ttotal: 41.8s\tremaining: 1m\n",
      "39:\tlearn: 2334.7839099\ttotal: 43s\tremaining: 59.1s\n",
      "40:\tlearn: 2329.9968606\ttotal: 44.1s\tremaining: 58s\n",
      "41:\tlearn: 2321.2256925\ttotal: 45.1s\tremaining: 57s\n",
      "42:\tlearn: 2311.0156245\ttotal: 46.2s\tremaining: 55.9s\n",
      "43:\tlearn: 2307.0976460\ttotal: 47.3s\tremaining: 54.8s\n",
      "44:\tlearn: 2303.8222867\ttotal: 48.4s\tremaining: 53.7s\n",
      "45:\tlearn: 2297.0090987\ttotal: 49.5s\tremaining: 52.7s\n",
      "46:\tlearn: 2288.5364979\ttotal: 50.6s\tremaining: 51.6s\n",
      "47:\tlearn: 2285.1793173\ttotal: 51.6s\tremaining: 50.6s\n",
      "48:\tlearn: 2281.0319923\ttotal: 52.8s\tremaining: 49.5s\n",
      "49:\tlearn: 2274.1138436\ttotal: 53.8s\tremaining: 48.5s\n",
      "50:\tlearn: 2270.9802545\ttotal: 54.9s\tremaining: 47.4s\n",
      "51:\tlearn: 2267.4716861\ttotal: 56s\tremaining: 46.3s\n",
      "52:\tlearn: 2262.8639159\ttotal: 57.1s\tremaining: 45.2s\n",
      "53:\tlearn: 2259.3641808\ttotal: 58.2s\tremaining: 44.2s\n",
      "54:\tlearn: 2254.9054767\ttotal: 59.3s\tremaining: 43.1s\n",
      "55:\tlearn: 2251.3462434\ttotal: 1m\tremaining: 42s\n",
      "56:\tlearn: 2247.9975825\ttotal: 1m 1s\tremaining: 40.9s\n",
      "57:\tlearn: 2244.6728901\ttotal: 1m 2s\tremaining: 39.9s\n",
      "58:\tlearn: 2240.4282874\ttotal: 1m 3s\tremaining: 38.8s\n",
      "59:\tlearn: 2237.1418525\ttotal: 1m 4s\tremaining: 37.7s\n",
      "60:\tlearn: 2234.6328385\ttotal: 1m 5s\tremaining: 36.6s\n",
      "61:\tlearn: 2231.1721451\ttotal: 1m 6s\tremaining: 35.6s\n",
      "62:\tlearn: 2227.6529015\ttotal: 1m 7s\tremaining: 34.5s\n",
      "63:\tlearn: 2223.9171522\ttotal: 1m 8s\tremaining: 33.4s\n",
      "64:\tlearn: 2221.0685123\ttotal: 1m 10s\tremaining: 32.3s\n",
      "65:\tlearn: 2218.6077228\ttotal: 1m 11s\tremaining: 31.2s\n",
      "66:\tlearn: 2214.8047792\ttotal: 1m 12s\tremaining: 30.2s\n",
      "67:\tlearn: 2206.4443066\ttotal: 1m 13s\tremaining: 29.1s\n",
      "68:\tlearn: 2202.5090023\ttotal: 1m 14s\tremaining: 28.1s\n",
      "69:\tlearn: 2199.9119628\ttotal: 1m 15s\tremaining: 27s\n",
      "70:\tlearn: 2194.7200825\ttotal: 1m 16s\tremaining: 25.9s\n",
      "71:\tlearn: 2191.0216613\ttotal: 1m 17s\tremaining: 24.8s\n",
      "72:\tlearn: 2187.6234531\ttotal: 1m 18s\tremaining: 23.8s\n",
      "73:\tlearn: 2183.7075767\ttotal: 1m 19s\tremaining: 22.7s\n",
      "74:\tlearn: 2180.7098038\ttotal: 1m 21s\tremaining: 21.6s\n",
      "75:\tlearn: 2176.0439971\ttotal: 1m 22s\tremaining: 20.5s\n",
      "76:\tlearn: 2173.9970830\ttotal: 1m 23s\tremaining: 19.5s\n",
      "77:\tlearn: 2171.5678083\ttotal: 1m 24s\tremaining: 18.4s\n",
      "78:\tlearn: 2169.4893594\ttotal: 1m 25s\tremaining: 17.3s\n",
      "79:\tlearn: 2167.4776072\ttotal: 1m 26s\tremaining: 16.2s\n",
      "80:\tlearn: 2166.1723361\ttotal: 1m 27s\tremaining: 15.2s\n",
      "81:\tlearn: 2162.9626871\ttotal: 1m 28s\tremaining: 14.1s\n",
      "82:\tlearn: 2158.3128615\ttotal: 1m 29s\tremaining: 13s\n",
      "83:\tlearn: 2153.7791777\ttotal: 1m 31s\tremaining: 11.9s\n",
      "84:\tlearn: 2151.3113821\ttotal: 1m 32s\tremaining: 10.8s\n",
      "85:\tlearn: 2147.8377240\ttotal: 1m 33s\tremaining: 9.76s\n",
      "86:\tlearn: 2146.5371671\ttotal: 1m 34s\tremaining: 8.67s\n",
      "87:\tlearn: 2142.8921482\ttotal: 1m 35s\tremaining: 7.59s\n",
      "88:\tlearn: 2138.9419378\ttotal: 1m 36s\tremaining: 6.51s\n",
      "89:\tlearn: 2136.3412069\ttotal: 1m 37s\tremaining: 5.42s\n",
      "90:\tlearn: 2133.8222665\ttotal: 1m 38s\tremaining: 4.34s\n",
      "91:\tlearn: 2133.7968162\ttotal: 1m 38s\tremaining: 3.22s\n",
      "92:\tlearn: 2128.9909680\ttotal: 1m 39s\tremaining: 2.15s\n",
      "93:\tlearn: 2125.8350514\ttotal: 1m 41s\tremaining: 1.08s\n",
      "94:\tlearn: 2121.8576345\ttotal: 1m 42s\tremaining: 0us\n"
     ]
    }
   ],
   "source": [
    "catboost_stat, catboost_grid = model_analysis_3(catboost_model, params_catboost,\n",
    "                                              features_train_ridge, y_train)"
   ]
  },
  {
   "cell_type": "markdown",
   "metadata": {},
   "source": [
    "## Анализ моделей"
   ]
  },
  {
   "cell_type": "code",
   "execution_count": 28,
   "metadata": {},
   "outputs": [
    {
     "data": {
      "text/html": [
       "<div>\n",
       "<style scoped>\n",
       "    .dataframe tbody tr th:only-of-type {\n",
       "        vertical-align: middle;\n",
       "    }\n",
       "\n",
       "    .dataframe tbody tr th {\n",
       "        vertical-align: top;\n",
       "    }\n",
       "\n",
       "    .dataframe thead th {\n",
       "        text-align: right;\n",
       "    }\n",
       "</style>\n",
       "<table border=\"1\" class=\"dataframe\">\n",
       "  <thead>\n",
       "    <tr style=\"text-align: right;\">\n",
       "      <th></th>\n",
       "      <th>Время обучения</th>\n",
       "      <th>Время предсказания</th>\n",
       "      <th>RMSE</th>\n",
       "    </tr>\n",
       "  </thead>\n",
       "  <tbody>\n",
       "    <tr>\n",
       "      <th>Random</th>\n",
       "      <td>42.300175</td>\n",
       "      <td>1.604523</td>\n",
       "      <td>-2906.963941</td>\n",
       "    </tr>\n",
       "    <tr>\n",
       "      <th>CatBoost</th>\n",
       "      <td>1031.635117</td>\n",
       "      <td>0.437629</td>\n",
       "      <td>2131.343094</td>\n",
       "    </tr>\n",
       "    <tr>\n",
       "      <th>LightGBM</th>\n",
       "      <td>2820.760068</td>\n",
       "      <td>3.405555</td>\n",
       "      <td>2183.620908</td>\n",
       "    </tr>\n",
       "  </tbody>\n",
       "</table>\n",
       "</div>"
      ],
      "text/plain": [
       "          Время обучения  Время предсказания         RMSE\n",
       "Random         42.300175            1.604523 -2906.963941\n",
       "CatBoost     1031.635117            0.437629  2131.343094\n",
       "LightGBM     2820.760068            3.405555  2183.620908"
      ]
     },
     "execution_count": 28,
     "metadata": {},
     "output_type": "execute_result"
    }
   ],
   "source": [
    " analysis_data= pd.DataFrame([des_stat, catboost_stat, lgbm_stat], \n",
    "             columns=['Время обучения', 'Время предсказания', 'RMSE'], \n",
    "                      index=['Random','CatBoost','LightGBM'])\n",
    "analysis_data"
   ]
  },
  {
   "cell_type": "markdown",
   "metadata": {},
   "source": [
    "Хотя LightGBM дала лучшие результаты - время обучения очень большое. CatBoost, показал не такие высокие разультаты, но время обучения значительно выше. \n",
    "Исходя из этих данных, было принято решение использовать CatBoost"
   ]
  },
  {
   "cell_type": "markdown",
   "metadata": {},
   "source": [
    "## Проверка на тестовой выборке"
   ]
  },
  {
   "cell_type": "code",
   "execution_count": 44,
   "metadata": {},
   "outputs": [],
   "source": [
    "features_test_ridge = X_test.copy()\n",
    "\n",
    "for category in features_test_ridge:\n",
    "    features_test_ridge[category] = features_test_ridge[category].astype('object')\n",
    "    \n",
    "features_test_ridge['RegistrationYear'] = features_test_ridge['RegistrationYear'].astype('int32')\n",
    "features_test_ridge['Kilometer'] = features_test_ridge['Kilometer'].astype('int32')\n",
    "features_test_ridge['Power'] = features_test_ridge['Power'].astype('int32')\n",
    "features_test_ridge['RegistrationMonth'] = features_test_ridge['RegistrationMonth'].astype('int32')\n",
    "features_test_ridge['Age'] = features_test_ridge['Age'].astype('int32')\n",
    "\n"
   ]
  },
  {
   "cell_type": "code",
   "execution_count": 45,
   "metadata": {},
   "outputs": [],
   "source": [
    "test_predict = catboost_grid.predict(features_test_ridge)"
   ]
  },
  {
   "cell_type": "code",
   "execution_count": 46,
   "metadata": {},
   "outputs": [
    {
     "data": {
      "text/plain": [
       "2250.6597256183018"
      ]
     },
     "execution_count": 46,
     "metadata": {},
     "output_type": "execute_result"
    }
   ],
   "source": [
    "test_rmse = np.sqrt(mean_squared_error(y_test, test_predict))\n",
    "test_rmse"
   ]
  },
  {
   "cell_type": "markdown",
   "metadata": {},
   "source": [
    "## Вывод"
   ]
  },
  {
   "cell_type": "markdown",
   "metadata": {},
   "source": [
    "Итоговая модель показала результаты 1909, что соответствует требованию заказчика"
   ]
  }
 ],
 "metadata": {
  "ExecuteTimeLog": [
   {
    "duration": 404,
    "start_time": "2024-08-17T12:51:03.819Z"
   },
   {
    "duration": 1211,
    "start_time": "2024-08-17T12:51:30.249Z"
   },
   {
    "duration": 18,
    "start_time": "2024-08-17T12:52:30.907Z"
   },
   {
    "duration": 11,
    "start_time": "2024-08-17T12:53:02.741Z"
   },
   {
    "duration": 28,
    "start_time": "2024-08-17T12:53:41.994Z"
   },
   {
    "duration": 14,
    "start_time": "2024-08-17T12:54:00.630Z"
   },
   {
    "duration": 11,
    "start_time": "2024-08-17T12:54:07.093Z"
   },
   {
    "duration": 167,
    "start_time": "2024-08-17T12:54:28.520Z"
   },
   {
    "duration": 134394,
    "start_time": "2024-08-17T13:01:41.766Z"
   },
   {
    "duration": 0,
    "start_time": "2024-08-17T13:03:56.161Z"
   },
   {
    "duration": 701,
    "start_time": "2024-08-17T13:05:23.822Z"
   },
   {
    "duration": 994,
    "start_time": "2024-08-17T13:05:24.527Z"
   },
   {
    "duration": 21,
    "start_time": "2024-08-17T13:05:25.526Z"
   },
   {
    "duration": 169,
    "start_time": "2024-08-17T13:05:25.551Z"
   },
   {
    "duration": 71,
    "start_time": "2024-08-17T13:09:22.645Z"
   },
   {
    "duration": 4728,
    "start_time": "2024-08-17T13:09:44.590Z"
   },
   {
    "duration": 13,
    "start_time": "2024-08-17T13:10:10.889Z"
   },
   {
    "duration": 1701,
    "start_time": "2024-08-17T13:10:31.647Z"
   },
   {
    "duration": 0,
    "start_time": "2024-08-17T13:10:33.350Z"
   },
   {
    "duration": 0,
    "start_time": "2024-08-17T13:10:33.351Z"
   },
   {
    "duration": 0,
    "start_time": "2024-08-17T13:10:33.352Z"
   },
   {
    "duration": 0,
    "start_time": "2024-08-17T13:10:33.353Z"
   },
   {
    "duration": 13,
    "start_time": "2024-08-17T13:10:45.890Z"
   },
   {
    "duration": 59,
    "start_time": "2024-08-17T13:12:21.630Z"
   },
   {
    "duration": 46297,
    "start_time": "2024-08-17T13:12:37.128Z"
   },
   {
    "duration": 18647,
    "start_time": "2024-08-17T13:14:52.419Z"
   },
   {
    "duration": 20,
    "start_time": "2024-08-17T13:15:15.460Z"
   },
   {
    "duration": 3,
    "start_time": "2024-08-17T13:15:31.340Z"
   },
   {
    "duration": 4,
    "start_time": "2024-08-17T13:16:07.707Z"
   },
   {
    "duration": 1635,
    "start_time": "2024-08-17T13:16:07.712Z"
   },
   {
    "duration": 985,
    "start_time": "2024-08-17T13:16:09.348Z"
   },
   {
    "duration": 19,
    "start_time": "2024-08-17T13:16:10.335Z"
   },
   {
    "duration": 159,
    "start_time": "2024-08-17T13:16:10.355Z"
   },
   {
    "duration": 7933,
    "start_time": "2024-08-17T13:16:10.515Z"
   },
   {
    "duration": 7239,
    "start_time": "2024-08-17T13:17:50.249Z"
   },
   {
    "duration": 7375,
    "start_time": "2024-08-17T13:17:59.553Z"
   },
   {
    "duration": 7425,
    "start_time": "2024-08-17T13:18:42.770Z"
   },
   {
    "duration": 7291,
    "start_time": "2024-08-17T13:19:01.037Z"
   },
   {
    "duration": 7354,
    "start_time": "2024-08-17T13:19:11.053Z"
   },
   {
    "duration": 7390,
    "start_time": "2024-08-17T13:19:29.813Z"
   },
   {
    "duration": 7468,
    "start_time": "2024-08-17T13:19:47.605Z"
   },
   {
    "duration": 7804,
    "start_time": "2024-08-17T13:19:58.701Z"
   },
   {
    "duration": 7669,
    "start_time": "2024-08-17T13:20:24.035Z"
   },
   {
    "duration": 7436,
    "start_time": "2024-08-17T13:22:00.833Z"
   },
   {
    "duration": 7526,
    "start_time": "2024-08-17T13:22:23.138Z"
   },
   {
    "duration": 7368,
    "start_time": "2024-08-17T13:22:44.764Z"
   },
   {
    "duration": 7429,
    "start_time": "2024-08-17T13:22:58.875Z"
   },
   {
    "duration": 19,
    "start_time": "2024-08-17T13:30:11.587Z"
   },
   {
    "duration": 37,
    "start_time": "2024-08-17T13:31:35.436Z"
   },
   {
    "duration": 10,
    "start_time": "2024-08-17T13:31:41.230Z"
   },
   {
    "duration": 9,
    "start_time": "2024-08-17T13:31:52.695Z"
   },
   {
    "duration": 1465,
    "start_time": "2024-08-19T14:10:22.334Z"
   },
   {
    "duration": 4321,
    "start_time": "2024-08-19T14:10:23.801Z"
   },
   {
    "duration": 19,
    "start_time": "2024-08-19T14:10:28.124Z"
   },
   {
    "duration": 181,
    "start_time": "2024-08-19T14:10:28.145Z"
   },
   {
    "duration": 5090,
    "start_time": "2024-08-19T14:10:28.328Z"
   },
   {
    "duration": 3,
    "start_time": "2024-08-19T14:10:33.419Z"
   },
   {
    "duration": 334,
    "start_time": "2024-08-19T14:10:48.287Z"
   },
   {
    "duration": 56,
    "start_time": "2024-08-19T14:11:42.863Z"
   },
   {
    "duration": 322,
    "start_time": "2024-08-19T14:12:16.626Z"
   },
   {
    "duration": 254,
    "start_time": "2024-08-19T14:20:15.875Z"
   },
   {
    "duration": 141,
    "start_time": "2024-08-19T14:20:23.617Z"
   },
   {
    "duration": 143,
    "start_time": "2024-08-19T14:23:27.985Z"
   },
   {
    "duration": 146,
    "start_time": "2024-08-19T14:24:00.729Z"
   },
   {
    "duration": 182,
    "start_time": "2024-08-19T14:24:44.596Z"
   },
   {
    "duration": 139,
    "start_time": "2024-08-19T14:24:49.132Z"
   },
   {
    "duration": 151,
    "start_time": "2024-08-19T14:25:13.880Z"
   },
   {
    "duration": 144,
    "start_time": "2024-08-19T14:25:27.397Z"
   },
   {
    "duration": 143,
    "start_time": "2024-08-19T14:26:39.024Z"
   },
   {
    "duration": 301,
    "start_time": "2024-08-19T14:26:53.760Z"
   },
   {
    "duration": 306,
    "start_time": "2024-08-19T14:27:02.577Z"
   },
   {
    "duration": 326,
    "start_time": "2024-08-19T14:28:30.431Z"
   },
   {
    "duration": 313,
    "start_time": "2024-08-19T14:28:47.911Z"
   },
   {
    "duration": 1293,
    "start_time": "2024-08-20T16:29:49.857Z"
   },
   {
    "duration": 2808,
    "start_time": "2024-08-20T16:29:51.152Z"
   },
   {
    "duration": 17,
    "start_time": "2024-08-20T16:29:53.962Z"
   },
   {
    "duration": 143,
    "start_time": "2024-08-20T16:29:53.981Z"
   },
   {
    "duration": 4526,
    "start_time": "2024-08-20T16:29:54.126Z"
   },
   {
    "duration": 267,
    "start_time": "2024-08-20T16:29:58.654Z"
   },
   {
    "duration": 325,
    "start_time": "2024-08-20T16:29:58.923Z"
   },
   {
    "duration": 46,
    "start_time": "2024-08-20T16:30:09.584Z"
   },
   {
    "duration": 20,
    "start_time": "2024-08-20T16:30:17.603Z"
   },
   {
    "duration": 19,
    "start_time": "2024-08-20T16:31:25.380Z"
   },
   {
    "duration": 119,
    "start_time": "2024-08-20T16:31:42.133Z"
   },
   {
    "duration": 25,
    "start_time": "2024-08-20T16:32:08.575Z"
   },
   {
    "duration": 13,
    "start_time": "2024-08-20T16:33:03.289Z"
   },
   {
    "duration": 3,
    "start_time": "2024-08-20T16:33:31.548Z"
   },
   {
    "duration": 925,
    "start_time": "2024-08-20T16:33:31.553Z"
   },
   {
    "duration": 12,
    "start_time": "2024-08-20T16:33:32.480Z"
   },
   {
    "duration": 147,
    "start_time": "2024-08-20T16:33:32.494Z"
   },
   {
    "duration": 4501,
    "start_time": "2024-08-20T16:33:32.646Z"
   },
   {
    "duration": 308,
    "start_time": "2024-08-20T16:33:37.149Z"
   },
   {
    "duration": 280,
    "start_time": "2024-08-20T16:33:37.459Z"
   },
   {
    "duration": 39,
    "start_time": "2024-08-20T16:33:41.162Z"
   },
   {
    "duration": 22,
    "start_time": "2024-08-20T16:33:43.521Z"
   },
   {
    "duration": 23,
    "start_time": "2024-08-20T16:33:45.730Z"
   },
   {
    "duration": 48,
    "start_time": "2024-08-20T16:34:23.381Z"
   },
   {
    "duration": 131,
    "start_time": "2024-08-20T16:34:53.245Z"
   },
   {
    "duration": 4341,
    "start_time": "2024-08-20T16:35:13.430Z"
   },
   {
    "duration": 150,
    "start_time": "2024-08-20T16:35:26.301Z"
   },
   {
    "duration": 4332,
    "start_time": "2024-08-20T16:35:28.685Z"
   },
   {
    "duration": 22,
    "start_time": "2024-08-20T16:36:13.327Z"
   },
   {
    "duration": 24,
    "start_time": "2024-08-20T16:36:15.543Z"
   },
   {
    "duration": 22,
    "start_time": "2024-08-20T16:36:17.984Z"
   },
   {
    "duration": 10,
    "start_time": "2024-08-20T16:36:52.849Z"
   },
   {
    "duration": 28,
    "start_time": "2024-08-20T16:36:58.336Z"
   },
   {
    "duration": 69,
    "start_time": "2024-08-20T16:37:31.604Z"
   },
   {
    "duration": 4253,
    "start_time": "2024-08-20T16:37:33.586Z"
   },
   {
    "duration": 10,
    "start_time": "2024-08-20T16:39:41.271Z"
   },
   {
    "duration": 10,
    "start_time": "2024-08-20T16:39:50.339Z"
   },
   {
    "duration": 4,
    "start_time": "2024-08-20T16:40:09.137Z"
   },
   {
    "duration": 11,
    "start_time": "2024-08-20T16:40:14.200Z"
   },
   {
    "duration": 890,
    "start_time": "2024-08-20T16:40:23.329Z"
   },
   {
    "duration": 5,
    "start_time": "2024-08-20T16:41:16.745Z"
   },
   {
    "duration": 1010,
    "start_time": "2024-08-20T16:41:20.515Z"
   },
   {
    "duration": 6,
    "start_time": "2024-08-20T16:43:16.262Z"
   },
   {
    "duration": 17,
    "start_time": "2024-08-20T16:44:05.049Z"
   },
   {
    "duration": 20,
    "start_time": "2024-08-20T16:44:46.144Z"
   },
   {
    "duration": 14,
    "start_time": "2024-08-20T16:44:55.692Z"
   },
   {
    "duration": 326,
    "start_time": "2024-08-20T16:46:22.105Z"
   },
   {
    "duration": 323,
    "start_time": "2024-08-20T16:46:33.059Z"
   },
   {
    "duration": 392,
    "start_time": "2024-08-20T16:46:42.438Z"
   },
   {
    "duration": 66,
    "start_time": "2024-08-20T16:48:08.401Z"
   },
   {
    "duration": 14,
    "start_time": "2024-08-20T16:48:49.346Z"
   },
   {
    "duration": 14,
    "start_time": "2024-08-20T16:51:01.840Z"
   },
   {
    "duration": 1496,
    "start_time": "2024-08-20T16:51:07.232Z"
   },
   {
    "duration": 422,
    "start_time": "2024-08-20T16:51:11.927Z"
   },
   {
    "duration": 1511,
    "start_time": "2024-08-20T16:51:41.541Z"
   },
   {
    "duration": 525,
    "start_time": "2024-08-20T16:51:45.792Z"
   },
   {
    "duration": 3013,
    "start_time": "2024-08-20T16:53:02.907Z"
   },
   {
    "duration": 6,
    "start_time": "2024-08-20T16:53:19.148Z"
   },
   {
    "duration": 57,
    "start_time": "2024-08-20T16:55:51.482Z"
   },
   {
    "duration": 6,
    "start_time": "2024-08-20T16:55:53.321Z"
   },
   {
    "duration": 64,
    "start_time": "2024-08-20T17:00:45.131Z"
   },
   {
    "duration": 6,
    "start_time": "2024-08-20T17:01:02.524Z"
   },
   {
    "duration": 5,
    "start_time": "2024-08-20T17:01:14.825Z"
   },
   {
    "duration": 920,
    "start_time": "2024-08-20T17:01:14.832Z"
   },
   {
    "duration": 15,
    "start_time": "2024-08-20T17:01:15.754Z"
   },
   {
    "duration": 171,
    "start_time": "2024-08-20T17:01:15.771Z"
   },
   {
    "duration": 5554,
    "start_time": "2024-08-20T17:01:15.947Z"
   },
   {
    "duration": 300,
    "start_time": "2024-08-20T17:01:21.503Z"
   },
   {
    "duration": 286,
    "start_time": "2024-08-20T17:01:21.805Z"
   },
   {
    "duration": 118,
    "start_time": "2024-08-20T17:01:22.092Z"
   },
   {
    "duration": 5327,
    "start_time": "2024-08-20T17:01:22.212Z"
   },
   {
    "duration": 1067,
    "start_time": "2024-08-20T17:01:27.547Z"
   },
   {
    "duration": 573,
    "start_time": "2024-08-20T17:01:28.615Z"
   },
   {
    "duration": 11,
    "start_time": "2024-08-20T17:01:29.190Z"
   },
   {
    "duration": 53,
    "start_time": "2024-08-20T17:01:29.203Z"
   },
   {
    "duration": 2,
    "start_time": "2024-08-20T17:01:29.259Z"
   },
   {
    "duration": 6,
    "start_time": "2024-08-20T17:01:36.294Z"
   },
   {
    "duration": 6,
    "start_time": "2024-08-20T17:01:39.582Z"
   },
   {
    "duration": 5,
    "start_time": "2024-08-20T17:01:53.502Z"
   },
   {
    "duration": 817,
    "start_time": "2024-08-20T17:01:53.509Z"
   },
   {
    "duration": 12,
    "start_time": "2024-08-20T17:01:54.327Z"
   },
   {
    "duration": 147,
    "start_time": "2024-08-20T17:01:54.347Z"
   },
   {
    "duration": 5597,
    "start_time": "2024-08-20T17:01:54.496Z"
   },
   {
    "duration": 296,
    "start_time": "2024-08-20T17:02:00.095Z"
   },
   {
    "duration": 335,
    "start_time": "2024-08-20T17:02:00.393Z"
   },
   {
    "duration": 123,
    "start_time": "2024-08-20T17:02:00.730Z"
   },
   {
    "duration": 5362,
    "start_time": "2024-08-20T17:02:00.855Z"
   },
   {
    "duration": 1048,
    "start_time": "2024-08-20T17:02:06.218Z"
   },
   {
    "duration": 455,
    "start_time": "2024-08-20T17:02:07.268Z"
   },
   {
    "duration": 6,
    "start_time": "2024-08-20T17:02:11.302Z"
   },
   {
    "duration": 15,
    "start_time": "2024-08-20T17:02:51.614Z"
   },
   {
    "duration": 7,
    "start_time": "2024-08-20T17:02:53.680Z"
   },
   {
    "duration": 5,
    "start_time": "2024-08-20T17:03:32.018Z"
   },
   {
    "duration": 891,
    "start_time": "2024-08-20T17:03:32.024Z"
   },
   {
    "duration": 14,
    "start_time": "2024-08-20T17:03:32.917Z"
   },
   {
    "duration": 155,
    "start_time": "2024-08-20T17:03:32.933Z"
   },
   {
    "duration": 5672,
    "start_time": "2024-08-20T17:03:33.090Z"
   },
   {
    "duration": 283,
    "start_time": "2024-08-20T17:03:38.764Z"
   },
   {
    "duration": 293,
    "start_time": "2024-08-20T17:03:39.049Z"
   },
   {
    "duration": 112,
    "start_time": "2024-08-20T17:03:39.347Z"
   },
   {
    "duration": 5289,
    "start_time": "2024-08-20T17:03:39.460Z"
   },
   {
    "duration": 1085,
    "start_time": "2024-08-20T17:03:44.751Z"
   },
   {
    "duration": 435,
    "start_time": "2024-08-20T17:03:45.838Z"
   },
   {
    "duration": 7,
    "start_time": "2024-08-20T17:03:50.403Z"
   },
   {
    "duration": 8,
    "start_time": "2024-08-20T17:03:52.275Z"
   },
   {
    "duration": 8,
    "start_time": "2024-08-20T17:04:18.845Z"
   },
   {
    "duration": 6,
    "start_time": "2024-08-20T17:04:20.687Z"
   },
   {
    "duration": 7,
    "start_time": "2024-08-20T17:04:51.549Z"
   },
   {
    "duration": 8,
    "start_time": "2024-08-20T17:04:53.828Z"
   },
   {
    "duration": 633,
    "start_time": "2024-08-20T17:04:59.114Z"
   },
   {
    "duration": 7,
    "start_time": "2024-08-20T17:05:54.584Z"
   },
   {
    "duration": 409,
    "start_time": "2024-08-20T17:05:57.538Z"
   },
   {
    "duration": 10,
    "start_time": "2024-08-20T17:06:30.784Z"
   },
   {
    "duration": 10,
    "start_time": "2024-08-20T17:06:36.840Z"
   },
   {
    "duration": 12,
    "start_time": "2024-08-20T17:08:35.037Z"
   },
   {
    "duration": 5,
    "start_time": "2024-08-20T17:08:50.541Z"
   },
   {
    "duration": 26,
    "start_time": "2024-08-20T17:09:01.638Z"
   },
   {
    "duration": 414,
    "start_time": "2024-08-20T17:09:33.166Z"
   },
   {
    "duration": 237,
    "start_time": "2024-08-20T17:09:40.212Z"
   },
   {
    "duration": 11,
    "start_time": "2024-08-20T17:13:32.391Z"
   },
   {
    "duration": 16,
    "start_time": "2024-08-20T17:13:38.891Z"
   },
   {
    "duration": 10,
    "start_time": "2024-08-20T17:13:43.375Z"
   },
   {
    "duration": 1001,
    "start_time": "2024-08-20T17:13:51.728Z"
   },
   {
    "duration": 21,
    "start_time": "2024-08-20T17:18:29.062Z"
   },
   {
    "duration": 124,
    "start_time": "2024-08-20T17:18:38.915Z"
   },
   {
    "duration": 11,
    "start_time": "2024-08-20T17:22:46.459Z"
   },
   {
    "duration": 9,
    "start_time": "2024-08-20T17:22:55.787Z"
   },
   {
    "duration": 61,
    "start_time": "2024-08-20T17:23:28.013Z"
   },
   {
    "duration": 14,
    "start_time": "2024-08-20T17:23:31.797Z"
   },
   {
    "duration": 21,
    "start_time": "2024-08-20T17:23:43.997Z"
   },
   {
    "duration": 14,
    "start_time": "2024-08-20T17:24:08.094Z"
   },
   {
    "duration": 16,
    "start_time": "2024-08-20T17:24:10.356Z"
   },
   {
    "duration": 611,
    "start_time": "2024-08-20T17:24:34.412Z"
   },
   {
    "duration": 13,
    "start_time": "2024-08-20T17:28:46.960Z"
   },
   {
    "duration": 5,
    "start_time": "2024-08-20T17:28:56.174Z"
   },
   {
    "duration": 776,
    "start_time": "2024-08-20T17:28:56.181Z"
   },
   {
    "duration": 13,
    "start_time": "2024-08-20T17:28:56.958Z"
   },
   {
    "duration": 328,
    "start_time": "2024-08-20T17:28:56.972Z"
   },
   {
    "duration": 5713,
    "start_time": "2024-08-20T17:28:57.302Z"
   },
   {
    "duration": 291,
    "start_time": "2024-08-20T17:29:03.016Z"
   },
   {
    "duration": 294,
    "start_time": "2024-08-20T17:29:03.309Z"
   },
   {
    "duration": 116,
    "start_time": "2024-08-20T17:29:03.604Z"
   },
   {
    "duration": 1011,
    "start_time": "2024-08-20T17:29:03.721Z"
   },
   {
    "duration": 16,
    "start_time": "2024-08-20T17:29:04.734Z"
   },
   {
    "duration": 45,
    "start_time": "2024-08-20T17:29:07.323Z"
   },
   {
    "duration": 600,
    "start_time": "2024-08-20T17:29:10.123Z"
   },
   {
    "duration": 224,
    "start_time": "2024-08-20T17:34:02.483Z"
   },
   {
    "duration": 77,
    "start_time": "2024-08-20T17:34:08.331Z"
   },
   {
    "duration": 27,
    "start_time": "2024-08-20T17:41:04.764Z"
   },
   {
    "duration": 17,
    "start_time": "2024-08-20T17:41:16.596Z"
   },
   {
    "duration": 68,
    "start_time": "2024-08-20T17:41:23.924Z"
   },
   {
    "duration": 18,
    "start_time": "2024-08-20T17:41:51.524Z"
   },
   {
    "duration": 23,
    "start_time": "2024-08-20T17:42:18.062Z"
   },
   {
    "duration": 17,
    "start_time": "2024-08-20T17:42:24.102Z"
   },
   {
    "duration": 20,
    "start_time": "2024-08-20T17:42:50.247Z"
   },
   {
    "duration": 17,
    "start_time": "2024-08-20T17:42:54.302Z"
   },
   {
    "duration": 23,
    "start_time": "2024-08-20T17:45:53.505Z"
   },
   {
    "duration": 15,
    "start_time": "2024-08-20T17:46:17.744Z"
   },
   {
    "duration": 3,
    "start_time": "2024-08-20T17:46:31.446Z"
   },
   {
    "duration": 4,
    "start_time": "2024-08-20T17:46:55.648Z"
   },
   {
    "duration": 7,
    "start_time": "2024-08-20T17:48:12.674Z"
   },
   {
    "duration": 4,
    "start_time": "2024-08-20T17:50:49.537Z"
   },
   {
    "duration": 9,
    "start_time": "2024-08-20T17:50:57.736Z"
   },
   {
    "duration": 5,
    "start_time": "2024-08-20T17:51:04.640Z"
   },
   {
    "duration": 3,
    "start_time": "2024-08-20T17:51:07.074Z"
   },
   {
    "duration": 2271,
    "start_time": "2024-08-20T17:51:10.496Z"
   },
   {
    "duration": 2281,
    "start_time": "2024-08-20T17:52:06.915Z"
   },
   {
    "duration": 4,
    "start_time": "2024-08-20T17:53:30.255Z"
   },
   {
    "duration": 3,
    "start_time": "2024-08-20T17:53:32.397Z"
   },
   {
    "duration": 2356,
    "start_time": "2024-08-20T17:53:34.404Z"
   },
   {
    "duration": 1435,
    "start_time": "2024-08-20T17:54:56.958Z"
   },
   {
    "duration": 908,
    "start_time": "2024-08-20T17:54:58.395Z"
   },
   {
    "duration": 17,
    "start_time": "2024-08-20T17:54:59.304Z"
   },
   {
    "duration": 194,
    "start_time": "2024-08-20T17:54:59.323Z"
   },
   {
    "duration": 5657,
    "start_time": "2024-08-20T17:54:59.519Z"
   },
   {
    "duration": 292,
    "start_time": "2024-08-20T17:55:05.178Z"
   },
   {
    "duration": 294,
    "start_time": "2024-08-20T17:55:05.471Z"
   },
   {
    "duration": 126,
    "start_time": "2024-08-20T17:55:05.766Z"
   },
   {
    "duration": 1127,
    "start_time": "2024-08-20T17:55:05.894Z"
   },
   {
    "duration": 23,
    "start_time": "2024-08-20T17:55:07.024Z"
   },
   {
    "duration": 116,
    "start_time": "2024-08-20T17:55:07.049Z"
   },
   {
    "duration": 571,
    "start_time": "2024-08-20T17:55:07.167Z"
   },
   {
    "duration": 87,
    "start_time": "2024-08-20T17:55:07.739Z"
   },
   {
    "duration": 3,
    "start_time": "2024-08-20T17:55:07.828Z"
   },
   {
    "duration": 15,
    "start_time": "2024-08-20T17:55:07.833Z"
   },
   {
    "duration": 30,
    "start_time": "2024-08-20T17:55:07.850Z"
   },
   {
    "duration": 19,
    "start_time": "2024-08-20T17:55:07.882Z"
   },
   {
    "duration": 11,
    "start_time": "2024-08-20T17:55:07.903Z"
   },
   {
    "duration": 2580,
    "start_time": "2024-08-20T17:55:07.915Z"
   },
   {
    "duration": 0,
    "start_time": "2024-08-20T17:55:10.496Z"
   },
   {
    "duration": 2423,
    "start_time": "2024-08-20T17:59:23.875Z"
   },
   {
    "duration": 7,
    "start_time": "2024-08-20T18:01:12.792Z"
   },
   {
    "duration": 2485,
    "start_time": "2024-08-20T18:01:14.566Z"
   },
   {
    "duration": 6,
    "start_time": "2024-08-20T18:03:32.935Z"
   },
   {
    "duration": 6,
    "start_time": "2024-08-20T18:03:53.857Z"
   },
   {
    "duration": 16258,
    "start_time": "2024-08-20T18:03:58.334Z"
   },
   {
    "duration": 9,
    "start_time": "2024-08-20T18:07:26.191Z"
   },
   {
    "duration": 2728,
    "start_time": "2024-08-20T18:07:29.334Z"
   },
   {
    "duration": 6,
    "start_time": "2024-08-20T18:09:31.214Z"
   },
   {
    "duration": 18,
    "start_time": "2024-08-20T18:09:52.880Z"
   },
   {
    "duration": 96,
    "start_time": "2024-08-20T18:10:07.852Z"
   },
   {
    "duration": 7,
    "start_time": "2024-08-20T18:10:57.443Z"
   },
   {
    "duration": 2775,
    "start_time": "2024-08-20T18:11:00.357Z"
   },
   {
    "duration": 7,
    "start_time": "2024-08-20T18:14:36.172Z"
   },
   {
    "duration": 771,
    "start_time": "2024-08-20T18:14:38.128Z"
   },
   {
    "duration": 76,
    "start_time": "2024-08-20T18:15:14.192Z"
   },
   {
    "duration": 1436,
    "start_time": "2024-08-20T18:15:22.137Z"
   },
   {
    "duration": 875,
    "start_time": "2024-08-20T18:15:23.574Z"
   },
   {
    "duration": 18,
    "start_time": "2024-08-20T18:15:24.451Z"
   },
   {
    "duration": 180,
    "start_time": "2024-08-20T18:15:24.470Z"
   },
   {
    "duration": 5688,
    "start_time": "2024-08-20T18:15:24.652Z"
   },
   {
    "duration": 279,
    "start_time": "2024-08-20T18:15:30.342Z"
   },
   {
    "duration": 325,
    "start_time": "2024-08-20T18:15:30.623Z"
   },
   {
    "duration": 134,
    "start_time": "2024-08-20T18:15:30.949Z"
   },
   {
    "duration": 1181,
    "start_time": "2024-08-20T18:15:31.085Z"
   },
   {
    "duration": 10,
    "start_time": "2024-08-20T18:15:32.269Z"
   },
   {
    "duration": 44,
    "start_time": "2024-08-20T18:15:32.281Z"
   },
   {
    "duration": 642,
    "start_time": "2024-08-20T18:15:32.327Z"
   },
   {
    "duration": 134,
    "start_time": "2024-08-20T18:15:32.971Z"
   },
   {
    "duration": 9,
    "start_time": "2024-08-20T18:15:33.108Z"
   },
   {
    "duration": 2875,
    "start_time": "2024-08-20T18:15:33.119Z"
   },
   {
    "duration": 0,
    "start_time": "2024-08-20T18:15:35.996Z"
   },
   {
    "duration": 66,
    "start_time": "2024-08-20T18:16:19.554Z"
   },
   {
    "duration": 3,
    "start_time": "2024-08-20T18:17:12.976Z"
   },
   {
    "duration": 1246,
    "start_time": "2024-08-20T18:19:49.987Z"
   },
   {
    "duration": 10,
    "start_time": "2024-08-20T18:20:14.992Z"
   },
   {
    "duration": 6,
    "start_time": "2024-08-20T18:26:33.460Z"
   },
   {
    "duration": 7,
    "start_time": "2024-08-20T18:26:38.164Z"
   },
   {
    "duration": 1773,
    "start_time": "2024-08-21T15:52:00.952Z"
   },
   {
    "duration": 3198,
    "start_time": "2024-08-21T15:52:02.728Z"
   },
   {
    "duration": 24,
    "start_time": "2024-08-21T15:52:05.928Z"
   },
   {
    "duration": 198,
    "start_time": "2024-08-21T15:52:05.954Z"
   },
   {
    "duration": 6589,
    "start_time": "2024-08-21T15:52:06.154Z"
   },
   {
    "duration": 325,
    "start_time": "2024-08-21T15:52:12.744Z"
   },
   {
    "duration": 305,
    "start_time": "2024-08-21T15:52:13.078Z"
   },
   {
    "duration": 134,
    "start_time": "2024-08-21T15:52:13.385Z"
   },
   {
    "duration": 1182,
    "start_time": "2024-08-21T15:52:13.521Z"
   },
   {
    "duration": 10,
    "start_time": "2024-08-21T15:52:14.705Z"
   },
   {
    "duration": 64,
    "start_time": "2024-08-21T15:52:14.717Z"
   },
   {
    "duration": 645,
    "start_time": "2024-08-21T15:52:14.783Z"
   },
   {
    "duration": 112,
    "start_time": "2024-08-21T15:52:15.430Z"
   },
   {
    "duration": 9,
    "start_time": "2024-08-21T15:52:15.546Z"
   },
   {
    "duration": 2773,
    "start_time": "2024-08-21T15:52:15.557Z"
   },
   {
    "duration": 0,
    "start_time": "2024-08-21T15:52:18.331Z"
   },
   {
    "duration": 0,
    "start_time": "2024-08-21T15:52:18.332Z"
   },
   {
    "duration": 0,
    "start_time": "2024-08-21T15:52:18.333Z"
   },
   {
    "duration": 20,
    "start_time": "2024-08-21T16:40:19.428Z"
   },
   {
    "duration": 3,
    "start_time": "2024-08-21T16:45:40.048Z"
   },
   {
    "duration": 19,
    "start_time": "2024-08-21T16:45:42.888Z"
   },
   {
    "duration": 13,
    "start_time": "2024-08-21T16:48:20.951Z"
   },
   {
    "duration": 17,
    "start_time": "2024-08-21T16:50:52.136Z"
   },
   {
    "duration": 12,
    "start_time": "2024-08-21T16:54:40.514Z"
   },
   {
    "duration": 44,
    "start_time": "2024-08-21T16:59:56.061Z"
   },
   {
    "duration": 96,
    "start_time": "2024-08-21T17:00:00.461Z"
   },
   {
    "duration": 3,
    "start_time": "2024-08-21T17:00:16.160Z"
   },
   {
    "duration": 13,
    "start_time": "2024-08-21T17:00:18.238Z"
   },
   {
    "duration": 3229,
    "start_time": "2024-08-21T17:02:21.704Z"
   },
   {
    "duration": 20,
    "start_time": "2024-08-21T17:02:39.413Z"
   },
   {
    "duration": 9854,
    "start_time": "2024-08-21T17:03:29.716Z"
   },
   {
    "duration": 36711,
    "start_time": "2024-08-21T17:04:35.527Z"
   },
   {
    "duration": 15755,
    "start_time": "2024-08-21T17:05:14.741Z"
   },
   {
    "duration": 10,
    "start_time": "2024-08-21T17:05:48.586Z"
   },
   {
    "duration": 19,
    "start_time": "2024-08-21T17:05:59.882Z"
   },
   {
    "duration": 2619,
    "start_time": "2024-08-21T17:06:26.269Z"
   },
   {
    "duration": 14,
    "start_time": "2024-08-21T17:07:11.870Z"
   },
   {
    "duration": 25,
    "start_time": "2024-08-21T17:07:19.103Z"
   },
   {
    "duration": 3433,
    "start_time": "2024-08-21T17:08:35.487Z"
   },
   {
    "duration": 2561,
    "start_time": "2024-08-21T17:08:42.632Z"
   },
   {
    "duration": 80,
    "start_time": "2024-08-21T17:09:39.041Z"
   },
   {
    "duration": 5227,
    "start_time": "2024-08-21T17:09:49.306Z"
   },
   {
    "duration": 61,
    "start_time": "2024-08-21T17:10:05.128Z"
   },
   {
    "duration": 15362,
    "start_time": "2024-08-21T17:11:40.791Z"
   },
   {
    "duration": 2802,
    "start_time": "2024-08-21T17:11:56.156Z"
   },
   {
    "duration": 0,
    "start_time": "2024-08-21T17:11:58.961Z"
   },
   {
    "duration": 0,
    "start_time": "2024-08-21T17:11:58.962Z"
   },
   {
    "duration": 0,
    "start_time": "2024-08-21T17:11:58.964Z"
   },
   {
    "duration": 0,
    "start_time": "2024-08-21T17:11:58.965Z"
   },
   {
    "duration": 0,
    "start_time": "2024-08-21T17:11:58.967Z"
   },
   {
    "duration": 0,
    "start_time": "2024-08-21T17:11:58.968Z"
   },
   {
    "duration": 0,
    "start_time": "2024-08-21T17:11:58.974Z"
   },
   {
    "duration": 0,
    "start_time": "2024-08-21T17:11:58.976Z"
   },
   {
    "duration": 0,
    "start_time": "2024-08-21T17:11:58.978Z"
   },
   {
    "duration": 0,
    "start_time": "2024-08-21T17:11:58.979Z"
   },
   {
    "duration": 0,
    "start_time": "2024-08-21T17:11:58.981Z"
   },
   {
    "duration": 0,
    "start_time": "2024-08-21T17:11:58.981Z"
   },
   {
    "duration": 1,
    "start_time": "2024-08-21T17:11:58.982Z"
   },
   {
    "duration": 0,
    "start_time": "2024-08-21T17:11:58.984Z"
   },
   {
    "duration": 0,
    "start_time": "2024-08-21T17:11:58.985Z"
   },
   {
    "duration": 0,
    "start_time": "2024-08-21T17:11:58.986Z"
   },
   {
    "duration": 0,
    "start_time": "2024-08-21T17:11:58.987Z"
   },
   {
    "duration": 0,
    "start_time": "2024-08-21T17:11:58.990Z"
   },
   {
    "duration": 0,
    "start_time": "2024-08-21T17:11:58.991Z"
   },
   {
    "duration": 0,
    "start_time": "2024-08-21T17:11:58.993Z"
   },
   {
    "duration": 0,
    "start_time": "2024-08-21T17:11:58.994Z"
   },
   {
    "duration": 0,
    "start_time": "2024-08-21T17:11:58.996Z"
   },
   {
    "duration": 0,
    "start_time": "2024-08-21T17:11:58.997Z"
   },
   {
    "duration": 16834,
    "start_time": "2024-08-21T17:14:36.173Z"
   },
   {
    "duration": 200,
    "start_time": "2024-08-21T17:14:59.086Z"
   },
   {
    "duration": 2750,
    "start_time": "2024-08-21T17:15:19.960Z"
   },
   {
    "duration": 2572,
    "start_time": "2024-08-21T17:15:22.712Z"
   },
   {
    "duration": 0,
    "start_time": "2024-08-21T17:15:25.286Z"
   },
   {
    "duration": 0,
    "start_time": "2024-08-21T17:15:25.288Z"
   },
   {
    "duration": 0,
    "start_time": "2024-08-21T17:15:25.289Z"
   },
   {
    "duration": 0,
    "start_time": "2024-08-21T17:15:25.290Z"
   },
   {
    "duration": 0,
    "start_time": "2024-08-21T17:15:25.291Z"
   },
   {
    "duration": 0,
    "start_time": "2024-08-21T17:15:25.292Z"
   },
   {
    "duration": 0,
    "start_time": "2024-08-21T17:15:25.293Z"
   },
   {
    "duration": 0,
    "start_time": "2024-08-21T17:15:25.295Z"
   },
   {
    "duration": 0,
    "start_time": "2024-08-21T17:15:25.296Z"
   },
   {
    "duration": 0,
    "start_time": "2024-08-21T17:15:25.297Z"
   },
   {
    "duration": 0,
    "start_time": "2024-08-21T17:15:25.298Z"
   },
   {
    "duration": 1,
    "start_time": "2024-08-21T17:15:25.299Z"
   },
   {
    "duration": 0,
    "start_time": "2024-08-21T17:15:25.301Z"
   },
   {
    "duration": 0,
    "start_time": "2024-08-21T17:15:25.302Z"
   },
   {
    "duration": 0,
    "start_time": "2024-08-21T17:15:25.303Z"
   },
   {
    "duration": 0,
    "start_time": "2024-08-21T17:15:25.304Z"
   },
   {
    "duration": 0,
    "start_time": "2024-08-21T17:15:25.305Z"
   },
   {
    "duration": 0,
    "start_time": "2024-08-21T17:15:25.307Z"
   },
   {
    "duration": 0,
    "start_time": "2024-08-21T17:15:25.308Z"
   },
   {
    "duration": 0,
    "start_time": "2024-08-21T17:15:25.309Z"
   },
   {
    "duration": 0,
    "start_time": "2024-08-21T17:15:25.310Z"
   },
   {
    "duration": 0,
    "start_time": "2024-08-21T17:15:25.311Z"
   },
   {
    "duration": 0,
    "start_time": "2024-08-21T17:15:25.313Z"
   },
   {
    "duration": 4277,
    "start_time": "2024-08-21T17:15:52.562Z"
   },
   {
    "duration": 23,
    "start_time": "2024-08-21T17:15:59.226Z"
   },
   {
    "duration": 4073,
    "start_time": "2024-08-21T17:18:36.508Z"
   },
   {
    "duration": 3,
    "start_time": "2024-08-21T17:18:57.646Z"
   },
   {
    "duration": 98,
    "start_time": "2024-08-21T17:23:53.840Z"
   },
   {
    "duration": 32,
    "start_time": "2024-08-21T17:25:04.357Z"
   },
   {
    "duration": 3,
    "start_time": "2024-08-21T17:39:48.931Z"
   },
   {
    "duration": 1730,
    "start_time": "2024-08-21T17:39:48.952Z"
   },
   {
    "duration": 0,
    "start_time": "2024-08-21T17:39:50.685Z"
   },
   {
    "duration": 0,
    "start_time": "2024-08-21T17:39:50.686Z"
   },
   {
    "duration": 0,
    "start_time": "2024-08-21T17:39:50.687Z"
   },
   {
    "duration": 0,
    "start_time": "2024-08-21T17:39:50.688Z"
   },
   {
    "duration": 0,
    "start_time": "2024-08-21T17:39:50.689Z"
   },
   {
    "duration": 0,
    "start_time": "2024-08-21T17:39:50.691Z"
   },
   {
    "duration": 0,
    "start_time": "2024-08-21T17:39:50.692Z"
   },
   {
    "duration": 0,
    "start_time": "2024-08-21T17:39:50.693Z"
   },
   {
    "duration": 0,
    "start_time": "2024-08-21T17:39:50.694Z"
   },
   {
    "duration": 0,
    "start_time": "2024-08-21T17:39:50.696Z"
   },
   {
    "duration": 0,
    "start_time": "2024-08-21T17:39:50.697Z"
   },
   {
    "duration": 0,
    "start_time": "2024-08-21T17:39:50.698Z"
   },
   {
    "duration": 0,
    "start_time": "2024-08-21T17:39:50.699Z"
   },
   {
    "duration": 0,
    "start_time": "2024-08-21T17:39:50.700Z"
   },
   {
    "duration": 0,
    "start_time": "2024-08-21T17:39:50.701Z"
   },
   {
    "duration": 0,
    "start_time": "2024-08-21T17:39:50.702Z"
   },
   {
    "duration": 0,
    "start_time": "2024-08-21T17:39:50.703Z"
   },
   {
    "duration": 0,
    "start_time": "2024-08-21T17:39:50.704Z"
   },
   {
    "duration": 0,
    "start_time": "2024-08-21T17:39:50.705Z"
   },
   {
    "duration": 3,
    "start_time": "2024-08-22T15:37:50.032Z"
   },
   {
    "duration": 1630,
    "start_time": "2024-08-22T15:37:50.037Z"
   },
   {
    "duration": 0,
    "start_time": "2024-08-22T15:37:51.670Z"
   },
   {
    "duration": 0,
    "start_time": "2024-08-22T15:37:51.671Z"
   },
   {
    "duration": 0,
    "start_time": "2024-08-22T15:37:51.672Z"
   },
   {
    "duration": 0,
    "start_time": "2024-08-22T15:37:51.673Z"
   },
   {
    "duration": 0,
    "start_time": "2024-08-22T15:37:51.674Z"
   },
   {
    "duration": 0,
    "start_time": "2024-08-22T15:37:51.675Z"
   },
   {
    "duration": 0,
    "start_time": "2024-08-22T15:37:51.676Z"
   },
   {
    "duration": 0,
    "start_time": "2024-08-22T15:37:51.677Z"
   },
   {
    "duration": 0,
    "start_time": "2024-08-22T15:37:51.678Z"
   },
   {
    "duration": 0,
    "start_time": "2024-08-22T15:37:51.679Z"
   },
   {
    "duration": 0,
    "start_time": "2024-08-22T15:37:51.680Z"
   },
   {
    "duration": 0,
    "start_time": "2024-08-22T15:37:51.682Z"
   },
   {
    "duration": 0,
    "start_time": "2024-08-22T15:37:51.683Z"
   },
   {
    "duration": 0,
    "start_time": "2024-08-22T15:37:51.684Z"
   },
   {
    "duration": 0,
    "start_time": "2024-08-22T15:37:51.685Z"
   },
   {
    "duration": 0,
    "start_time": "2024-08-22T15:37:51.686Z"
   },
   {
    "duration": 0,
    "start_time": "2024-08-22T15:37:51.687Z"
   },
   {
    "duration": 0,
    "start_time": "2024-08-22T15:37:51.688Z"
   },
   {
    "duration": 0,
    "start_time": "2024-08-22T15:37:51.689Z"
   },
   {
    "duration": 3,
    "start_time": "2024-08-26T15:35:18.989Z"
   },
   {
    "duration": 1694,
    "start_time": "2024-08-26T15:35:19.009Z"
   },
   {
    "duration": 2905,
    "start_time": "2024-08-26T15:35:20.705Z"
   },
   {
    "duration": 14,
    "start_time": "2024-08-26T15:35:23.612Z"
   },
   {
    "duration": 169,
    "start_time": "2024-08-26T15:35:23.627Z"
   },
   {
    "duration": 6533,
    "start_time": "2024-08-26T15:35:23.798Z"
   },
   {
    "duration": 474,
    "start_time": "2024-08-26T15:35:30.354Z"
   },
   {
    "duration": 309,
    "start_time": "2024-08-26T15:35:30.830Z"
   },
   {
    "duration": 147,
    "start_time": "2024-08-26T15:35:31.140Z"
   },
   {
    "duration": 1153,
    "start_time": "2024-08-26T15:35:31.288Z"
   },
   {
    "duration": 20,
    "start_time": "2024-08-26T15:35:32.443Z"
   },
   {
    "duration": 88,
    "start_time": "2024-08-26T15:35:32.465Z"
   },
   {
    "duration": 652,
    "start_time": "2024-08-26T15:35:32.556Z"
   },
   {
    "duration": 23,
    "start_time": "2024-08-26T15:35:33.209Z"
   },
   {
    "duration": 108,
    "start_time": "2024-08-26T15:35:33.235Z"
   },
   {
    "duration": 3,
    "start_time": "2024-08-26T15:35:33.344Z"
   },
   {
    "duration": 126,
    "start_time": "2024-08-26T15:35:33.354Z"
   },
   {
    "duration": 0,
    "start_time": "2024-08-26T15:35:33.482Z"
   },
   {
    "duration": 0,
    "start_time": "2024-08-26T15:35:33.484Z"
   },
   {
    "duration": 0,
    "start_time": "2024-08-26T15:35:33.485Z"
   },
   {
    "duration": 0,
    "start_time": "2024-08-26T15:35:33.487Z"
   },
   {
    "duration": 7297,
    "start_time": "2024-08-26T15:35:57.613Z"
   },
   {
    "duration": 3234,
    "start_time": "2024-08-26T15:36:09.561Z"
   },
   {
    "duration": 1340,
    "start_time": "2024-08-26T15:36:12.797Z"
   },
   {
    "duration": 954,
    "start_time": "2024-08-26T15:36:14.139Z"
   },
   {
    "duration": 18,
    "start_time": "2024-08-26T15:36:15.095Z"
   },
   {
    "duration": 193,
    "start_time": "2024-08-26T15:36:15.114Z"
   },
   {
    "duration": 6165,
    "start_time": "2024-08-26T15:36:15.309Z"
   },
   {
    "duration": 305,
    "start_time": "2024-08-26T15:36:21.476Z"
   },
   {
    "duration": 318,
    "start_time": "2024-08-26T15:36:21.783Z"
   },
   {
    "duration": 117,
    "start_time": "2024-08-26T15:36:22.103Z"
   },
   {
    "duration": 1251,
    "start_time": "2024-08-26T15:36:22.223Z"
   },
   {
    "duration": 11,
    "start_time": "2024-08-26T15:36:23.476Z"
   },
   {
    "duration": 39,
    "start_time": "2024-08-26T15:36:23.488Z"
   },
   {
    "duration": 627,
    "start_time": "2024-08-26T15:36:23.528Z"
   },
   {
    "duration": 26,
    "start_time": "2024-08-26T15:36:24.157Z"
   },
   {
    "duration": 109,
    "start_time": "2024-08-26T15:36:24.184Z"
   },
   {
    "duration": 2,
    "start_time": "2024-08-26T15:36:24.295Z"
   },
   {
    "duration": 5,
    "start_time": "2024-08-26T15:36:24.299Z"
   },
   {
    "duration": 10,
    "start_time": "2024-08-26T15:36:24.306Z"
   },
   {
    "duration": 195395,
    "start_time": "2024-08-26T15:36:24.317Z"
   },
   {
    "duration": 119,
    "start_time": "2024-08-26T15:39:39.713Z"
   },
   {
    "duration": 0,
    "start_time": "2024-08-26T15:39:39.833Z"
   },
   {
    "duration": 12,
    "start_time": "2024-08-26T15:41:35.385Z"
   },
   {
    "duration": 19,
    "start_time": "2024-08-26T15:41:51.985Z"
   },
   {
    "duration": 23,
    "start_time": "2024-08-26T15:42:08.537Z"
   },
   {
    "duration": 34,
    "start_time": "2024-08-26T15:42:27.963Z"
   },
   {
    "duration": 54150,
    "start_time": "2024-08-26T15:43:38.365Z"
   },
   {
    "duration": 1118,
    "start_time": "2024-08-26T15:46:41.628Z"
   },
   {
    "duration": 12,
    "start_time": "2024-08-26T15:47:28.333Z"
   },
   {
    "duration": 1014,
    "start_time": "2024-08-26T15:47:37.342Z"
   },
   {
    "duration": 23,
    "start_time": "2024-08-26T15:53:46.970Z"
   },
   {
    "duration": 2875,
    "start_time": "2024-08-26T15:53:56.489Z"
   },
   {
    "duration": 1286,
    "start_time": "2024-08-26T15:53:59.367Z"
   },
   {
    "duration": 953,
    "start_time": "2024-08-26T15:54:00.654Z"
   },
   {
    "duration": 18,
    "start_time": "2024-08-26T15:54:01.610Z"
   },
   {
    "duration": 156,
    "start_time": "2024-08-26T15:54:01.629Z"
   },
   {
    "duration": 5624,
    "start_time": "2024-08-26T15:54:01.787Z"
   },
   {
    "duration": 267,
    "start_time": "2024-08-26T15:54:07.413Z"
   },
   {
    "duration": 276,
    "start_time": "2024-08-26T15:54:07.682Z"
   },
   {
    "duration": 120,
    "start_time": "2024-08-26T15:54:07.960Z"
   },
   {
    "duration": 1091,
    "start_time": "2024-08-26T15:54:08.082Z"
   },
   {
    "duration": 8,
    "start_time": "2024-08-26T15:54:09.175Z"
   },
   {
    "duration": 43,
    "start_time": "2024-08-26T15:54:09.184Z"
   },
   {
    "duration": 606,
    "start_time": "2024-08-26T15:54:09.229Z"
   },
   {
    "duration": 30,
    "start_time": "2024-08-26T15:54:09.837Z"
   },
   {
    "duration": 108,
    "start_time": "2024-08-26T15:54:09.869Z"
   },
   {
    "duration": 2,
    "start_time": "2024-08-26T15:54:09.979Z"
   },
   {
    "duration": 6,
    "start_time": "2024-08-26T15:54:09.983Z"
   },
   {
    "duration": 26,
    "start_time": "2024-08-26T15:54:09.990Z"
   },
   {
    "duration": 93806,
    "start_time": "2024-08-26T15:54:10.017Z"
   },
   {
    "duration": 51920,
    "start_time": "2024-08-26T15:55:43.825Z"
   },
   {
    "duration": 1223,
    "start_time": "2024-08-26T15:56:35.747Z"
   },
   {
    "duration": 0,
    "start_time": "2024-08-26T15:56:36.972Z"
   },
   {
    "duration": 4,
    "start_time": "2024-08-26T15:56:56.956Z"
   },
   {
    "duration": 4,
    "start_time": "2024-08-26T15:56:59.842Z"
   },
   {
    "duration": 88192,
    "start_time": "2024-08-26T15:57:03.081Z"
   },
   {
    "duration": 21,
    "start_time": "2024-08-26T15:59:28.311Z"
   },
   {
    "duration": 19,
    "start_time": "2024-08-26T16:00:26.289Z"
   },
   {
    "duration": 7,
    "start_time": "2024-08-26T16:00:36.121Z"
   },
   {
    "duration": 277,
    "start_time": "2024-08-26T16:00:42.571Z"
   },
   {
    "duration": 732,
    "start_time": "2024-08-26T16:02:11.980Z"
   },
   {
    "duration": 14,
    "start_time": "2024-08-26T16:03:15.945Z"
   },
   {
    "duration": 8,
    "start_time": "2024-08-26T16:03:33.831Z"
   },
   {
    "duration": 9,
    "start_time": "2024-08-26T16:04:09.280Z"
   },
   {
    "duration": 8,
    "start_time": "2024-08-26T16:04:20.617Z"
   },
   {
    "duration": 11,
    "start_time": "2024-08-26T16:04:28.049Z"
   },
   {
    "duration": 8,
    "start_time": "2024-08-26T16:04:43.849Z"
   },
   {
    "duration": 10,
    "start_time": "2024-08-26T16:04:49.995Z"
   },
   {
    "duration": 7,
    "start_time": "2024-08-26T16:12:03.218Z"
   },
   {
    "duration": 24,
    "start_time": "2024-08-26T16:14:22.103Z"
   },
   {
    "duration": 5,
    "start_time": "2024-08-26T16:15:12.112Z"
   },
   {
    "duration": 50133,
    "start_time": "2024-08-26T16:15:15.137Z"
   },
   {
    "duration": 7,
    "start_time": "2024-08-26T16:16:56.061Z"
   },
   {
    "duration": 90526,
    "start_time": "2024-08-26T16:16:59.109Z"
   },
   {
    "duration": 20,
    "start_time": "2024-08-26T16:19:00.008Z"
   },
   {
    "duration": 4,
    "start_time": "2024-08-26T16:19:01.985Z"
   },
   {
    "duration": 4,
    "start_time": "2024-08-26T16:19:04.273Z"
   },
   {
    "duration": 88941,
    "start_time": "2024-08-26T16:19:10.609Z"
   },
   {
    "duration": 4,
    "start_time": "2024-08-26T16:24:39.551Z"
   },
   {
    "duration": 4,
    "start_time": "2024-08-26T16:24:48.683Z"
   },
   {
    "duration": 4,
    "start_time": "2024-08-26T16:24:54.723Z"
   },
   {
    "duration": 2995,
    "start_time": "2024-08-26T16:25:26.846Z"
   },
   {
    "duration": 1279,
    "start_time": "2024-08-26T16:25:29.844Z"
   },
   {
    "duration": 867,
    "start_time": "2024-08-26T16:25:31.125Z"
   },
   {
    "duration": 17,
    "start_time": "2024-08-26T16:25:31.994Z"
   },
   {
    "duration": 163,
    "start_time": "2024-08-26T16:25:32.013Z"
   },
   {
    "duration": 5598,
    "start_time": "2024-08-26T16:25:32.177Z"
   },
   {
    "duration": 265,
    "start_time": "2024-08-26T16:25:37.777Z"
   },
   {
    "duration": 272,
    "start_time": "2024-08-26T16:25:38.043Z"
   },
   {
    "duration": 125,
    "start_time": "2024-08-26T16:25:38.317Z"
   },
   {
    "duration": 1075,
    "start_time": "2024-08-26T16:25:38.445Z"
   },
   {
    "duration": 9,
    "start_time": "2024-08-26T16:25:39.521Z"
   },
   {
    "duration": 53,
    "start_time": "2024-08-26T16:25:39.531Z"
   },
   {
    "duration": 582,
    "start_time": "2024-08-26T16:25:39.586Z"
   },
   {
    "duration": 22,
    "start_time": "2024-08-26T16:25:40.169Z"
   },
   {
    "duration": 18,
    "start_time": "2024-08-26T16:25:40.193Z"
   },
   {
    "duration": 116,
    "start_time": "2024-08-26T16:25:40.213Z"
   },
   {
    "duration": 23,
    "start_time": "2024-08-26T16:25:40.330Z"
   },
   {
    "duration": 4,
    "start_time": "2024-08-26T16:25:40.355Z"
   },
   {
    "duration": 12,
    "start_time": "2024-08-26T16:25:40.360Z"
   },
   {
    "duration": 87891,
    "start_time": "2024-08-26T16:25:40.373Z"
   },
   {
    "duration": 52927,
    "start_time": "2024-08-26T16:27:08.266Z"
   },
   {
    "duration": 1231,
    "start_time": "2024-08-26T16:28:01.195Z"
   },
   {
    "duration": 78,
    "start_time": "2024-08-26T16:34:05.267Z"
   },
   {
    "duration": 46,
    "start_time": "2024-08-26T16:34:08.595Z"
   },
   {
    "duration": 2985,
    "start_time": "2024-08-26T16:37:19.822Z"
   },
   {
    "duration": 1286,
    "start_time": "2024-08-26T16:37:22.809Z"
   },
   {
    "duration": 901,
    "start_time": "2024-08-26T16:37:24.096Z"
   },
   {
    "duration": 16,
    "start_time": "2024-08-26T16:37:24.999Z"
   },
   {
    "duration": 183,
    "start_time": "2024-08-26T16:37:25.017Z"
   },
   {
    "duration": 5955,
    "start_time": "2024-08-26T16:37:25.201Z"
   },
   {
    "duration": 323,
    "start_time": "2024-08-26T16:37:31.159Z"
   },
   {
    "duration": 315,
    "start_time": "2024-08-26T16:37:31.484Z"
   },
   {
    "duration": 133,
    "start_time": "2024-08-26T16:37:31.801Z"
   },
   {
    "duration": 1230,
    "start_time": "2024-08-26T16:37:31.937Z"
   },
   {
    "duration": 13,
    "start_time": "2024-08-26T16:37:33.169Z"
   },
   {
    "duration": 43,
    "start_time": "2024-08-26T16:37:33.184Z"
   },
   {
    "duration": 676,
    "start_time": "2024-08-26T16:37:33.229Z"
   },
   {
    "duration": 23,
    "start_time": "2024-08-26T16:37:33.906Z"
   },
   {
    "duration": 38,
    "start_time": "2024-08-26T16:37:33.931Z"
   },
   {
    "duration": 111,
    "start_time": "2024-08-26T16:37:33.971Z"
   },
   {
    "duration": 23,
    "start_time": "2024-08-26T16:37:34.083Z"
   },
   {
    "duration": 5,
    "start_time": "2024-08-26T16:37:34.107Z"
   },
   {
    "duration": 5,
    "start_time": "2024-08-26T16:37:34.113Z"
   },
   {
    "duration": 85750,
    "start_time": "2024-08-26T16:37:34.119Z"
   },
   {
    "duration": 48989,
    "start_time": "2024-08-26T16:38:59.871Z"
   },
   {
    "duration": 1077,
    "start_time": "2024-08-26T16:39:48.862Z"
   },
   {
    "duration": 973,
    "start_time": "2024-08-26T16:43:54.594Z"
   },
   {
    "duration": 2,
    "start_time": "2024-08-26T16:44:20.384Z"
   },
   {
    "duration": 2834,
    "start_time": "2024-08-26T16:44:25.902Z"
   },
   {
    "duration": 1271,
    "start_time": "2024-08-26T16:44:28.738Z"
   },
   {
    "duration": 853,
    "start_time": "2024-08-26T16:44:30.011Z"
   },
   {
    "duration": 16,
    "start_time": "2024-08-26T16:44:30.866Z"
   },
   {
    "duration": 172,
    "start_time": "2024-08-26T16:44:30.883Z"
   },
   {
    "duration": 5467,
    "start_time": "2024-08-26T16:44:31.056Z"
   },
   {
    "duration": 261,
    "start_time": "2024-08-26T16:44:36.525Z"
   },
   {
    "duration": 278,
    "start_time": "2024-08-26T16:44:36.788Z"
   },
   {
    "duration": 131,
    "start_time": "2024-08-26T16:44:37.067Z"
   },
   {
    "duration": 1120,
    "start_time": "2024-08-26T16:44:37.201Z"
   },
   {
    "duration": 10,
    "start_time": "2024-08-26T16:44:38.324Z"
   },
   {
    "duration": 56,
    "start_time": "2024-08-26T16:44:38.335Z"
   },
   {
    "duration": 555,
    "start_time": "2024-08-26T16:44:38.392Z"
   },
   {
    "duration": 24,
    "start_time": "2024-08-26T16:44:38.948Z"
   },
   {
    "duration": 19,
    "start_time": "2024-08-26T16:44:38.973Z"
   },
   {
    "duration": 108,
    "start_time": "2024-08-26T16:44:38.993Z"
   },
   {
    "duration": 20,
    "start_time": "2024-08-26T16:44:39.102Z"
   },
   {
    "duration": 4,
    "start_time": "2024-08-26T16:44:39.124Z"
   },
   {
    "duration": 23,
    "start_time": "2024-08-26T16:44:39.130Z"
   },
   {
    "duration": 112,
    "start_time": "2024-08-26T16:44:39.154Z"
   },
   {
    "duration": 0,
    "start_time": "2024-08-26T16:44:39.268Z"
   },
   {
    "duration": 0,
    "start_time": "2024-08-26T16:44:39.269Z"
   },
   {
    "duration": 83603,
    "start_time": "2024-08-26T16:45:37.953Z"
   },
   {
    "duration": 11,
    "start_time": "2024-08-26T16:47:57.567Z"
   },
   {
    "duration": 52158,
    "start_time": "2024-08-26T16:48:09.431Z"
   },
   {
    "duration": 8,
    "start_time": "2024-08-26T16:50:40.389Z"
   },
   {
    "duration": 7,
    "start_time": "2024-08-26T16:51:32.336Z"
   },
   {
    "duration": 72683,
    "start_time": "2024-08-26T16:51:37.065Z"
   },
   {
    "duration": 3118,
    "start_time": "2024-08-26T16:56:43.845Z"
   },
   {
    "duration": 1318,
    "start_time": "2024-08-26T16:56:46.967Z"
   },
   {
    "duration": 1017,
    "start_time": "2024-08-26T16:56:48.287Z"
   },
   {
    "duration": 18,
    "start_time": "2024-08-26T16:56:49.306Z"
   },
   {
    "duration": 182,
    "start_time": "2024-08-26T16:56:49.325Z"
   },
   {
    "duration": 5887,
    "start_time": "2024-08-26T16:56:49.508Z"
   },
   {
    "duration": 263,
    "start_time": "2024-08-26T16:56:55.397Z"
   },
   {
    "duration": 280,
    "start_time": "2024-08-26T16:56:55.661Z"
   },
   {
    "duration": 145,
    "start_time": "2024-08-26T16:56:55.943Z"
   },
   {
    "duration": 1243,
    "start_time": "2024-08-26T16:56:56.090Z"
   },
   {
    "duration": 9,
    "start_time": "2024-08-26T16:56:57.334Z"
   },
   {
    "duration": 64,
    "start_time": "2024-08-26T16:56:57.353Z"
   },
   {
    "duration": 621,
    "start_time": "2024-08-26T16:56:57.419Z"
   },
   {
    "duration": 39,
    "start_time": "2024-08-26T16:56:58.041Z"
   },
   {
    "duration": 18,
    "start_time": "2024-08-26T16:56:58.082Z"
   },
   {
    "duration": 119,
    "start_time": "2024-08-26T16:56:58.101Z"
   },
   {
    "duration": 22,
    "start_time": "2024-08-26T16:56:58.221Z"
   },
   {
    "duration": 12,
    "start_time": "2024-08-26T16:56:58.244Z"
   },
   {
    "duration": 20,
    "start_time": "2024-08-26T16:56:58.258Z"
   },
   {
    "duration": 71820,
    "start_time": "2024-08-26T16:56:58.280Z"
   },
   {
    "duration": 53362,
    "start_time": "2024-08-26T16:58:10.102Z"
   },
   {
    "duration": 3,
    "start_time": "2024-08-26T16:59:03.466Z"
   },
   {
    "duration": 113,
    "start_time": "2024-08-26T16:59:17.879Z"
   },
   {
    "duration": 29,
    "start_time": "2024-08-26T16:59:40.954Z"
   },
   {
    "duration": 86,
    "start_time": "2024-08-26T17:01:08.563Z"
   },
   {
    "duration": 82789,
    "start_time": "2024-08-26T17:01:16.595Z"
   },
   {
    "duration": 3,
    "start_time": "2024-08-26T17:02:39.385Z"
   },
   {
    "duration": 79,
    "start_time": "2024-08-26T17:03:03.520Z"
   },
   {
    "duration": 84326,
    "start_time": "2024-08-26T17:03:06.561Z"
   },
   {
    "duration": 4,
    "start_time": "2024-08-26T17:05:40.228Z"
   },
   {
    "duration": 88535,
    "start_time": "2024-08-26T17:05:42.382Z"
   },
   {
    "duration": 4,
    "start_time": "2024-08-26T17:09:03.862Z"
   },
   {
    "duration": 93474,
    "start_time": "2024-08-26T17:09:05.772Z"
   },
   {
    "duration": 4,
    "start_time": "2024-08-26T17:12:11.787Z"
   },
   {
    "duration": 4,
    "start_time": "2024-08-26T17:12:38.663Z"
   },
   {
    "duration": 97043,
    "start_time": "2024-08-26T17:12:40.721Z"
   },
   {
    "duration": 81046,
    "start_time": "2024-08-26T17:16:08.244Z"
   },
   {
    "duration": 3,
    "start_time": "2024-08-26T17:17:53.739Z"
   },
   {
    "duration": 89367,
    "start_time": "2024-08-26T17:18:06.700Z"
   },
   {
    "duration": 95,
    "start_time": "2024-08-26T17:20:02.648Z"
   },
   {
    "duration": 93,
    "start_time": "2024-08-26T17:20:07.606Z"
   },
   {
    "duration": 92544,
    "start_time": "2024-08-26T17:20:11.213Z"
   },
   {
    "duration": 14,
    "start_time": "2024-08-26T17:26:13.380Z"
   },
   {
    "duration": 3048,
    "start_time": "2024-08-26T17:30:14.548Z"
   },
   {
    "duration": 10,
    "start_time": "2024-08-26T17:30:17.598Z"
   },
   {
    "duration": 848,
    "start_time": "2024-08-26T17:30:17.610Z"
   },
   {
    "duration": 15,
    "start_time": "2024-08-26T17:30:18.461Z"
   },
   {
    "duration": 172,
    "start_time": "2024-08-26T17:30:18.477Z"
   },
   {
    "duration": 5943,
    "start_time": "2024-08-26T17:30:18.652Z"
   },
   {
    "duration": 312,
    "start_time": "2024-08-26T17:30:24.597Z"
   },
   {
    "duration": 315,
    "start_time": "2024-08-26T17:30:24.911Z"
   },
   {
    "duration": 136,
    "start_time": "2024-08-26T17:30:25.228Z"
   },
   {
    "duration": 1244,
    "start_time": "2024-08-26T17:30:25.366Z"
   },
   {
    "duration": 9,
    "start_time": "2024-08-26T17:30:26.612Z"
   },
   {
    "duration": 10,
    "start_time": "2024-08-26T17:30:34.709Z"
   },
   {
    "duration": 42,
    "start_time": "2024-08-26T17:30:37.353Z"
   },
   {
    "duration": 44,
    "start_time": "2024-08-26T17:30:39.675Z"
   },
   {
    "duration": 10,
    "start_time": "2024-08-26T17:30:59.419Z"
   },
   {
    "duration": 11,
    "start_time": "2024-08-26T17:31:33.572Z"
   },
   {
    "duration": 133,
    "start_time": "2024-08-26T17:31:43.189Z"
   },
   {
    "duration": 740,
    "start_time": "2024-08-26T17:31:49.239Z"
   },
   {
    "duration": 89885,
    "start_time": "2024-08-26T17:31:59.797Z"
   },
   {
    "duration": 4,
    "start_time": "2024-08-26T17:34:20.090Z"
   },
   {
    "duration": 10,
    "start_time": "2024-08-26T17:34:22.485Z"
   },
   {
    "duration": 8,
    "start_time": "2024-08-26T17:34:27.126Z"
   },
   {
    "duration": 11,
    "start_time": "2024-08-26T17:35:08.464Z"
   },
   {
    "duration": 3,
    "start_time": "2024-08-26T17:35:20.936Z"
   },
   {
    "duration": 18,
    "start_time": "2024-08-26T17:35:22.852Z"
   },
   {
    "duration": 17,
    "start_time": "2024-08-26T17:35:54.157Z"
   },
   {
    "duration": 9,
    "start_time": "2024-08-26T17:36:37.145Z"
   },
   {
    "duration": 3736,
    "start_time": "2024-08-26T17:36:45.844Z"
   },
   {
    "duration": 30,
    "start_time": "2024-08-26T17:37:13.649Z"
   },
   {
    "duration": 15,
    "start_time": "2024-08-26T18:13:12.088Z"
   },
   {
    "duration": 9,
    "start_time": "2024-08-26T18:13:49.482Z"
   },
   {
    "duration": 9,
    "start_time": "2024-08-26T18:13:56.240Z"
   },
   {
    "duration": 10,
    "start_time": "2024-08-26T18:14:39.048Z"
   },
   {
    "duration": 10,
    "start_time": "2024-08-26T18:15:05.682Z"
   },
   {
    "duration": 9,
    "start_time": "2024-08-26T18:15:24.511Z"
   },
   {
    "duration": 348,
    "start_time": "2024-08-26T18:16:12.940Z"
   },
   {
    "duration": 363,
    "start_time": "2024-08-26T18:17:41.696Z"
   },
   {
    "duration": 553,
    "start_time": "2024-08-26T18:18:28.216Z"
   },
   {
    "duration": 4,
    "start_time": "2024-08-26T18:18:32.051Z"
   },
   {
    "duration": 2,
    "start_time": "2024-08-26T18:18:34.797Z"
   },
   {
    "duration": 3242,
    "start_time": "2024-08-26T18:18:36.641Z"
   },
   {
    "duration": 2968,
    "start_time": "2024-08-26T18:33:44.083Z"
   },
   {
    "duration": 1294,
    "start_time": "2024-08-26T18:33:47.054Z"
   },
   {
    "duration": 837,
    "start_time": "2024-08-26T18:33:48.349Z"
   },
   {
    "duration": 17,
    "start_time": "2024-08-26T18:33:49.189Z"
   },
   {
    "duration": 194,
    "start_time": "2024-08-26T18:33:49.208Z"
   },
   {
    "duration": 5532,
    "start_time": "2024-08-26T18:33:49.403Z"
   },
   {
    "duration": 270,
    "start_time": "2024-08-26T18:33:54.937Z"
   },
   {
    "duration": 277,
    "start_time": "2024-08-26T18:33:55.209Z"
   },
   {
    "duration": 126,
    "start_time": "2024-08-26T18:33:55.488Z"
   },
   {
    "duration": 1113,
    "start_time": "2024-08-26T18:33:55.616Z"
   },
   {
    "duration": 11,
    "start_time": "2024-08-26T18:33:56.730Z"
   },
   {
    "duration": 42,
    "start_time": "2024-08-26T18:33:56.752Z"
   },
   {
    "duration": 131,
    "start_time": "2024-08-26T18:33:56.795Z"
   },
   {
    "duration": 759,
    "start_time": "2024-08-26T18:33:56.927Z"
   },
   {
    "duration": 80,
    "start_time": "2024-08-26T18:33:57.687Z"
   },
   {
    "duration": 18,
    "start_time": "2024-08-26T18:33:57.768Z"
   },
   {
    "duration": 5,
    "start_time": "2024-08-26T18:33:57.787Z"
   },
   {
    "duration": 127,
    "start_time": "2024-08-26T18:33:57.793Z"
   },
   {
    "duration": 0,
    "start_time": "2024-08-26T18:33:57.922Z"
   },
   {
    "duration": 0,
    "start_time": "2024-08-26T18:33:57.923Z"
   },
   {
    "duration": 0,
    "start_time": "2024-08-26T18:33:57.924Z"
   },
   {
    "duration": 0,
    "start_time": "2024-08-26T18:33:57.926Z"
   },
   {
    "duration": 0,
    "start_time": "2024-08-26T18:33:57.927Z"
   },
   {
    "duration": 0,
    "start_time": "2024-08-26T18:33:57.928Z"
   },
   {
    "duration": 4,
    "start_time": "2024-08-26T18:34:11.547Z"
   },
   {
    "duration": 86650,
    "start_time": "2024-08-26T18:34:14.631Z"
   },
   {
    "duration": 587,
    "start_time": "2024-08-26T18:36:05.727Z"
   },
   {
    "duration": 5,
    "start_time": "2024-08-26T18:36:10.286Z"
   },
   {
    "duration": 2,
    "start_time": "2024-08-26T18:36:12.919Z"
   },
   {
    "duration": 2861,
    "start_time": "2024-08-26T18:56:28.965Z"
   },
   {
    "duration": 1312,
    "start_time": "2024-08-26T18:56:31.828Z"
   },
   {
    "duration": 859,
    "start_time": "2024-08-26T18:56:33.141Z"
   },
   {
    "duration": 18,
    "start_time": "2024-08-26T18:56:34.002Z"
   },
   {
    "duration": 164,
    "start_time": "2024-08-26T18:56:34.021Z"
   },
   {
    "duration": 5649,
    "start_time": "2024-08-26T18:56:34.187Z"
   },
   {
    "duration": 272,
    "start_time": "2024-08-26T18:56:39.837Z"
   },
   {
    "duration": 297,
    "start_time": "2024-08-26T18:56:40.110Z"
   },
   {
    "duration": 122,
    "start_time": "2024-08-26T18:56:40.409Z"
   },
   {
    "duration": 1065,
    "start_time": "2024-08-26T18:56:40.534Z"
   },
   {
    "duration": 10,
    "start_time": "2024-08-26T18:56:41.600Z"
   },
   {
    "duration": 51,
    "start_time": "2024-08-26T18:56:41.612Z"
   },
   {
    "duration": 134,
    "start_time": "2024-08-26T18:56:41.665Z"
   },
   {
    "duration": 778,
    "start_time": "2024-08-26T18:56:41.801Z"
   },
   {
    "duration": 81,
    "start_time": "2024-08-26T18:56:42.580Z"
   },
   {
    "duration": 19,
    "start_time": "2024-08-26T18:56:42.663Z"
   },
   {
    "duration": 12,
    "start_time": "2024-08-26T18:56:42.683Z"
   },
   {
    "duration": 5,
    "start_time": "2024-08-26T18:56:42.696Z"
   },
   {
    "duration": 85399,
    "start_time": "2024-08-26T18:56:42.703Z"
   },
   {
    "duration": 602,
    "start_time": "2024-08-26T18:58:08.104Z"
   },
   {
    "duration": 4,
    "start_time": "2024-08-26T18:58:08.707Z"
   },
   {
    "duration": 19,
    "start_time": "2024-08-26T18:58:08.713Z"
   },
   {
    "duration": 2934,
    "start_time": "2024-08-26T19:29:13.830Z"
   },
   {
    "duration": 1269,
    "start_time": "2024-08-26T19:29:16.766Z"
   },
   {
    "duration": 871,
    "start_time": "2024-08-26T19:29:18.036Z"
   },
   {
    "duration": 18,
    "start_time": "2024-08-26T19:29:18.909Z"
   },
   {
    "duration": 163,
    "start_time": "2024-08-26T19:29:18.928Z"
   },
   {
    "duration": 5838,
    "start_time": "2024-08-26T19:29:19.093Z"
   },
   {
    "duration": 282,
    "start_time": "2024-08-26T19:29:24.932Z"
   },
   {
    "duration": 423,
    "start_time": "2024-08-26T19:29:25.216Z"
   },
   {
    "duration": 0,
    "start_time": "2024-08-26T19:29:25.641Z"
   },
   {
    "duration": 0,
    "start_time": "2024-08-26T19:29:25.643Z"
   },
   {
    "duration": 0,
    "start_time": "2024-08-26T19:29:25.644Z"
   },
   {
    "duration": 0,
    "start_time": "2024-08-26T19:29:25.645Z"
   },
   {
    "duration": 0,
    "start_time": "2024-08-26T19:29:25.646Z"
   },
   {
    "duration": 0,
    "start_time": "2024-08-26T19:29:25.659Z"
   },
   {
    "duration": 0,
    "start_time": "2024-08-26T19:29:25.659Z"
   },
   {
    "duration": 0,
    "start_time": "2024-08-26T19:29:25.660Z"
   },
   {
    "duration": 0,
    "start_time": "2024-08-26T19:29:25.660Z"
   },
   {
    "duration": 0,
    "start_time": "2024-08-26T19:29:25.662Z"
   },
   {
    "duration": 0,
    "start_time": "2024-08-26T19:29:25.667Z"
   },
   {
    "duration": 0,
    "start_time": "2024-08-26T19:29:25.670Z"
   },
   {
    "duration": 0,
    "start_time": "2024-08-26T19:29:25.673Z"
   },
   {
    "duration": 0,
    "start_time": "2024-08-26T19:29:25.674Z"
   },
   {
    "duration": 0,
    "start_time": "2024-08-26T19:29:25.676Z"
   },
   {
    "duration": 0,
    "start_time": "2024-08-26T19:29:25.677Z"
   },
   {
    "duration": 0,
    "start_time": "2024-08-26T19:29:25.678Z"
   },
   {
    "duration": 2872,
    "start_time": "2024-08-26T19:30:11.464Z"
   },
   {
    "duration": 1302,
    "start_time": "2024-08-26T19:30:14.338Z"
   },
   {
    "duration": 832,
    "start_time": "2024-08-26T19:30:15.642Z"
   },
   {
    "duration": 16,
    "start_time": "2024-08-26T19:30:16.476Z"
   },
   {
    "duration": 152,
    "start_time": "2024-08-26T19:30:16.493Z"
   },
   {
    "duration": 5900,
    "start_time": "2024-08-26T19:30:16.647Z"
   },
   {
    "duration": 286,
    "start_time": "2024-08-26T19:30:22.549Z"
   },
   {
    "duration": 292,
    "start_time": "2024-08-26T19:30:22.836Z"
   },
   {
    "duration": 121,
    "start_time": "2024-08-26T19:30:23.129Z"
   },
   {
    "duration": 1151,
    "start_time": "2024-08-26T19:30:23.252Z"
   },
   {
    "duration": 9,
    "start_time": "2024-08-26T19:30:24.404Z"
   },
   {
    "duration": 53,
    "start_time": "2024-08-26T19:30:24.414Z"
   },
   {
    "duration": 131,
    "start_time": "2024-08-26T19:30:24.469Z"
   },
   {
    "duration": 775,
    "start_time": "2024-08-26T19:30:24.601Z"
   },
   {
    "duration": 89,
    "start_time": "2024-08-26T19:30:25.378Z"
   },
   {
    "duration": 18,
    "start_time": "2024-08-26T19:30:25.469Z"
   },
   {
    "duration": 4,
    "start_time": "2024-08-26T19:30:25.488Z"
   },
   {
    "duration": 7,
    "start_time": "2024-08-26T19:30:25.493Z"
   },
   {
    "duration": 87112,
    "start_time": "2024-08-26T19:30:25.501Z"
   },
   {
    "duration": 0,
    "start_time": "2024-08-26T19:31:52.615Z"
   },
   {
    "duration": 0,
    "start_time": "2024-08-26T19:31:52.616Z"
   },
   {
    "duration": 0,
    "start_time": "2024-08-26T19:31:52.617Z"
   },
   {
    "duration": 0,
    "start_time": "2024-08-26T19:31:52.619Z"
   },
   {
    "duration": 0,
    "start_time": "2024-08-26T19:31:52.620Z"
   },
   {
    "duration": 0,
    "start_time": "2024-08-26T19:31:52.621Z"
   },
   {
    "duration": 5,
    "start_time": "2024-08-26T19:32:53.983Z"
   },
   {
    "duration": 87683,
    "start_time": "2024-08-26T19:33:00.431Z"
   },
   {
    "duration": 4,
    "start_time": "2024-08-26T19:39:10.593Z"
   },
   {
    "duration": 8,
    "start_time": "2024-08-26T19:40:05.757Z"
   },
   {
    "duration": 2965,
    "start_time": "2024-08-26T19:46:37.797Z"
   },
   {
    "duration": 1298,
    "start_time": "2024-08-26T19:46:40.765Z"
   },
   {
    "duration": 868,
    "start_time": "2024-08-26T19:46:42.064Z"
   },
   {
    "duration": 28,
    "start_time": "2024-08-26T19:46:42.934Z"
   },
   {
    "duration": 163,
    "start_time": "2024-08-26T19:46:42.963Z"
   },
   {
    "duration": 5959,
    "start_time": "2024-08-26T19:46:43.128Z"
   },
   {
    "duration": 339,
    "start_time": "2024-08-26T19:46:49.089Z"
   },
   {
    "duration": 318,
    "start_time": "2024-08-26T19:46:49.430Z"
   },
   {
    "duration": 119,
    "start_time": "2024-08-26T19:46:49.752Z"
   },
   {
    "duration": 1138,
    "start_time": "2024-08-26T19:46:49.874Z"
   },
   {
    "duration": 9,
    "start_time": "2024-08-26T19:46:51.014Z"
   },
   {
    "duration": 62,
    "start_time": "2024-08-26T19:46:51.024Z"
   },
   {
    "duration": 131,
    "start_time": "2024-08-26T19:46:51.088Z"
   },
   {
    "duration": 766,
    "start_time": "2024-08-26T19:46:51.220Z"
   },
   {
    "duration": 87,
    "start_time": "2024-08-26T19:46:51.988Z"
   },
   {
    "duration": 19,
    "start_time": "2024-08-26T19:46:52.077Z"
   },
   {
    "duration": 7,
    "start_time": "2024-08-26T19:46:52.097Z"
   },
   {
    "duration": 8,
    "start_time": "2024-08-26T19:46:52.105Z"
   },
   {
    "duration": 129,
    "start_time": "2024-08-26T19:46:52.115Z"
   },
   {
    "duration": 0,
    "start_time": "2024-08-26T19:46:52.245Z"
   },
   {
    "duration": 0,
    "start_time": "2024-08-26T19:46:52.246Z"
   },
   {
    "duration": 0,
    "start_time": "2024-08-26T19:46:52.247Z"
   },
   {
    "duration": 0,
    "start_time": "2024-08-26T19:46:52.248Z"
   },
   {
    "duration": 0,
    "start_time": "2024-08-26T19:46:52.263Z"
   },
   {
    "duration": 0,
    "start_time": "2024-08-26T19:46:52.264Z"
   },
   {
    "duration": 110967,
    "start_time": "2024-08-26T19:48:19.268Z"
   },
   {
    "duration": 3038,
    "start_time": "2024-08-26T20:03:48.874Z"
   },
   {
    "duration": 1273,
    "start_time": "2024-08-26T20:03:51.914Z"
   },
   {
    "duration": 865,
    "start_time": "2024-08-26T20:03:53.189Z"
   },
   {
    "duration": 20,
    "start_time": "2024-08-26T20:03:54.057Z"
   },
   {
    "duration": 158,
    "start_time": "2024-08-26T20:03:54.078Z"
   },
   {
    "duration": 5950,
    "start_time": "2024-08-26T20:03:54.237Z"
   },
   {
    "duration": 285,
    "start_time": "2024-08-26T20:04:00.189Z"
   },
   {
    "duration": 308,
    "start_time": "2024-08-26T20:04:00.475Z"
   },
   {
    "duration": 131,
    "start_time": "2024-08-26T20:04:00.785Z"
   },
   {
    "duration": 1115,
    "start_time": "2024-08-26T20:04:00.919Z"
   },
   {
    "duration": 22,
    "start_time": "2024-08-26T20:04:02.036Z"
   },
   {
    "duration": 41,
    "start_time": "2024-08-26T20:04:02.060Z"
   },
   {
    "duration": 150,
    "start_time": "2024-08-26T20:04:02.103Z"
   },
   {
    "duration": 829,
    "start_time": "2024-08-26T20:04:02.256Z"
   },
   {
    "duration": 103,
    "start_time": "2024-08-26T20:04:03.086Z"
   },
   {
    "duration": 20,
    "start_time": "2024-08-26T20:04:03.191Z"
   },
   {
    "duration": 7,
    "start_time": "2024-08-26T20:04:03.213Z"
   },
   {
    "duration": 8,
    "start_time": "2024-08-26T20:04:03.222Z"
   },
   {
    "duration": 89752,
    "start_time": "2024-08-26T20:04:03.231Z"
   },
   {
    "duration": 0,
    "start_time": "2024-08-26T20:05:32.985Z"
   },
   {
    "duration": 0,
    "start_time": "2024-08-26T20:05:32.986Z"
   },
   {
    "duration": 0,
    "start_time": "2024-08-26T20:05:32.987Z"
   },
   {
    "duration": 0,
    "start_time": "2024-08-26T20:05:32.988Z"
   },
   {
    "duration": 0,
    "start_time": "2024-08-26T20:05:32.989Z"
   },
   {
    "duration": 0,
    "start_time": "2024-08-26T20:05:32.990Z"
   },
   {
    "duration": 0,
    "start_time": "2024-08-26T20:05:32.992Z"
   },
   {
    "duration": 92822,
    "start_time": "2024-08-26T20:06:19.375Z"
   },
   {
    "duration": 13,
    "start_time": "2024-08-26T20:13:44.760Z"
   },
   {
    "duration": 83,
    "start_time": "2024-08-26T20:14:41.254Z"
   },
   {
    "duration": 5,
    "start_time": "2024-08-26T20:15:05.478Z"
   },
   {
    "duration": 4,
    "start_time": "2024-08-26T20:15:23.579Z"
   },
   {
    "duration": 90253,
    "start_time": "2024-08-26T20:15:29.914Z"
   },
   {
    "duration": 11,
    "start_time": "2024-08-26T20:22:20.769Z"
   },
   {
    "duration": 24,
    "start_time": "2024-08-26T20:22:40.341Z"
   },
   {
    "duration": 13,
    "start_time": "2024-08-26T20:22:47.226Z"
   },
   {
    "duration": 550,
    "start_time": "2024-08-26T20:22:51.178Z"
   },
   {
    "duration": 9,
    "start_time": "2024-08-26T20:22:53.827Z"
   },
   {
    "duration": 136405,
    "start_time": "2024-08-26T20:23:04.330Z"
   },
   {
    "duration": 2,
    "start_time": "2024-08-26T20:26:56.627Z"
   },
   {
    "duration": 705485,
    "start_time": "2024-08-26T20:26:58.771Z"
   },
   {
    "duration": 8,
    "start_time": "2024-08-26T20:39:18.998Z"
   },
   {
    "duration": 9,
    "start_time": "2024-08-26T20:40:01.187Z"
   },
   {
    "duration": 756,
    "start_time": "2024-08-26T20:42:11.276Z"
   },
   {
    "duration": 61,
    "start_time": "2024-08-26T20:42:40.060Z"
   },
   {
    "duration": 10,
    "start_time": "2024-08-26T20:43:50.439Z"
   },
   {
    "duration": 4,
    "start_time": "2024-08-26T20:43:59.875Z"
   },
   {
    "duration": 7,
    "start_time": "2024-08-26T20:44:05.752Z"
   },
   {
    "duration": 9,
    "start_time": "2024-08-26T20:46:01.563Z"
   },
   {
    "duration": 9,
    "start_time": "2024-08-26T20:46:16.396Z"
   },
   {
    "duration": 4,
    "start_time": "2024-08-26T20:46:21.932Z"
   },
   {
    "duration": 2797,
    "start_time": "2024-08-26T20:46:27.299Z"
   },
   {
    "duration": 1342,
    "start_time": "2024-08-26T20:46:30.099Z"
   },
   {
    "duration": 900,
    "start_time": "2024-08-26T20:46:31.442Z"
   },
   {
    "duration": 20,
    "start_time": "2024-08-26T20:46:32.344Z"
   },
   {
    "duration": 151,
    "start_time": "2024-08-26T20:46:32.366Z"
   },
   {
    "duration": 5732,
    "start_time": "2024-08-26T20:46:32.519Z"
   },
   {
    "duration": 294,
    "start_time": "2024-08-26T20:46:38.253Z"
   },
   {
    "duration": 280,
    "start_time": "2024-08-26T20:46:38.552Z"
   },
   {
    "duration": 128,
    "start_time": "2024-08-26T20:46:38.834Z"
   },
   {
    "duration": 1128,
    "start_time": "2024-08-26T20:46:38.964Z"
   },
   {
    "duration": 8,
    "start_time": "2024-08-26T20:46:40.093Z"
   },
   {
    "duration": 50,
    "start_time": "2024-08-26T20:46:40.103Z"
   },
   {
    "duration": 139,
    "start_time": "2024-08-26T20:46:40.155Z"
   },
   {
    "duration": 798,
    "start_time": "2024-08-26T20:46:40.296Z"
   },
   {
    "duration": 85,
    "start_time": "2024-08-26T20:46:41.096Z"
   },
   {
    "duration": 27,
    "start_time": "2024-08-26T20:46:41.182Z"
   },
   {
    "duration": 8,
    "start_time": "2024-08-26T20:46:41.211Z"
   },
   {
    "duration": 15,
    "start_time": "2024-08-26T20:46:41.220Z"
   },
   {
    "duration": 91753,
    "start_time": "2024-08-26T20:46:41.237Z"
   },
   {
    "duration": 3,
    "start_time": "2024-08-26T20:48:12.991Z"
   },
   {
    "duration": 778,
    "start_time": "2024-08-26T20:48:12.995Z"
   },
   {
    "duration": 3,
    "start_time": "2024-08-26T20:48:13.775Z"
   },
   {
    "duration": 3499,
    "start_time": "2024-08-26T21:17:00.251Z"
   },
   {
    "duration": 1472,
    "start_time": "2024-08-26T21:17:03.755Z"
   },
   {
    "duration": 1082,
    "start_time": "2024-08-26T21:17:05.229Z"
   },
   {
    "duration": 23,
    "start_time": "2024-08-26T21:17:06.313Z"
   },
   {
    "duration": 227,
    "start_time": "2024-08-26T21:17:06.338Z"
   },
   {
    "duration": 6744,
    "start_time": "2024-08-26T21:17:06.567Z"
   },
   {
    "duration": 320,
    "start_time": "2024-08-26T21:17:13.314Z"
   },
   {
    "duration": 374,
    "start_time": "2024-08-26T21:17:13.636Z"
   },
   {
    "duration": 136,
    "start_time": "2024-08-26T21:17:14.012Z"
   },
   {
    "duration": 1401,
    "start_time": "2024-08-26T21:17:14.152Z"
   },
   {
    "duration": 11,
    "start_time": "2024-08-26T21:17:15.555Z"
   },
   {
    "duration": 66,
    "start_time": "2024-08-26T21:17:15.568Z"
   },
   {
    "duration": 158,
    "start_time": "2024-08-26T21:17:15.637Z"
   },
   {
    "duration": 901,
    "start_time": "2024-08-26T21:17:15.797Z"
   },
   {
    "duration": 121,
    "start_time": "2024-08-26T21:17:16.700Z"
   },
   {
    "duration": 23,
    "start_time": "2024-08-26T21:17:16.822Z"
   },
   {
    "duration": 6,
    "start_time": "2024-08-26T21:17:16.852Z"
   },
   {
    "duration": 7,
    "start_time": "2024-08-26T21:17:16.860Z"
   },
   {
    "duration": 100786,
    "start_time": "2024-08-26T21:17:16.869Z"
   },
   {
    "duration": 845,
    "start_time": "2024-08-26T21:18:57.657Z"
   },
   {
    "duration": 4,
    "start_time": "2024-08-26T21:18:58.504Z"
   },
   {
    "duration": 3381,
    "start_time": "2024-08-26T21:19:02.590Z"
   },
   {
    "duration": 1453,
    "start_time": "2024-08-26T21:19:05.974Z"
   },
   {
    "duration": 1098,
    "start_time": "2024-08-26T21:19:07.429Z"
   },
   {
    "duration": 32,
    "start_time": "2024-08-26T21:19:08.530Z"
   },
   {
    "duration": 155,
    "start_time": "2024-08-26T21:19:08.569Z"
   },
   {
    "duration": 6649,
    "start_time": "2024-08-26T21:19:08.726Z"
   },
   {
    "duration": 324,
    "start_time": "2024-08-26T21:19:15.377Z"
   },
   {
    "duration": 397,
    "start_time": "2024-08-26T21:19:15.703Z"
   },
   {
    "duration": 164,
    "start_time": "2024-08-26T21:19:16.102Z"
   },
   {
    "duration": 1222,
    "start_time": "2024-08-26T21:19:16.281Z"
   },
   {
    "duration": 11,
    "start_time": "2024-08-26T21:19:17.504Z"
   },
   {
    "duration": 64,
    "start_time": "2024-08-26T21:19:17.516Z"
   },
   {
    "duration": 178,
    "start_time": "2024-08-26T21:19:17.582Z"
   },
   {
    "duration": 858,
    "start_time": "2024-08-26T21:19:17.764Z"
   },
   {
    "duration": 104,
    "start_time": "2024-08-26T21:19:18.624Z"
   },
   {
    "duration": 42,
    "start_time": "2024-08-26T21:19:18.730Z"
   },
   {
    "duration": 26,
    "start_time": "2024-08-26T21:19:18.774Z"
   },
   {
    "duration": 7,
    "start_time": "2024-08-26T21:19:18.802Z"
   },
   {
    "duration": 27331,
    "start_time": "2024-08-26T21:19:18.810Z"
   },
   {
    "duration": 0,
    "start_time": "2024-08-26T21:19:46.144Z"
   },
   {
    "duration": 0,
    "start_time": "2024-08-26T21:19:46.146Z"
   },
   {
    "duration": 0,
    "start_time": "2024-08-26T21:19:46.159Z"
   },
   {
    "duration": 0,
    "start_time": "2024-08-26T21:19:46.160Z"
   },
   {
    "duration": 0,
    "start_time": "2024-08-26T21:19:46.163Z"
   },
   {
    "duration": 0,
    "start_time": "2024-08-26T21:19:46.164Z"
   },
   {
    "duration": 0,
    "start_time": "2024-08-26T21:19:46.165Z"
   },
   {
    "duration": 0,
    "start_time": "2024-08-26T21:19:46.167Z"
   },
   {
    "duration": 6960,
    "start_time": "2024-08-27T15:48:12.969Z"
   },
   {
    "duration": 1572,
    "start_time": "2024-08-27T15:48:19.931Z"
   },
   {
    "duration": 3034,
    "start_time": "2024-08-27T15:48:21.505Z"
   },
   {
    "duration": 24,
    "start_time": "2024-08-27T15:48:24.542Z"
   },
   {
    "duration": 149,
    "start_time": "2024-08-27T15:48:24.568Z"
   },
   {
    "duration": 6158,
    "start_time": "2024-08-27T15:48:24.719Z"
   },
   {
    "duration": 317,
    "start_time": "2024-08-27T15:48:30.879Z"
   },
   {
    "duration": 318,
    "start_time": "2024-08-27T15:48:31.198Z"
   },
   {
    "duration": 136,
    "start_time": "2024-08-27T15:48:31.519Z"
   },
   {
    "duration": 1254,
    "start_time": "2024-08-27T15:48:31.658Z"
   },
   {
    "duration": 11,
    "start_time": "2024-08-27T15:48:32.914Z"
   },
   {
    "duration": 48,
    "start_time": "2024-08-27T15:48:32.927Z"
   },
   {
    "duration": 153,
    "start_time": "2024-08-27T15:48:32.977Z"
   },
   {
    "duration": 843,
    "start_time": "2024-08-27T15:48:33.132Z"
   },
   {
    "duration": 94,
    "start_time": "2024-08-27T15:48:33.976Z"
   },
   {
    "duration": 29,
    "start_time": "2024-08-27T15:48:34.072Z"
   },
   {
    "duration": 78,
    "start_time": "2024-08-27T15:48:34.108Z"
   },
   {
    "duration": 20,
    "start_time": "2024-08-27T15:48:34.188Z"
   },
   {
    "duration": 96140,
    "start_time": "2024-08-27T15:48:34.209Z"
   },
   {
    "duration": 814,
    "start_time": "2024-08-27T15:50:10.351Z"
   },
   {
    "duration": 3,
    "start_time": "2024-08-27T15:50:11.167Z"
   },
   {
    "duration": 622856,
    "start_time": "2024-08-27T15:50:11.171Z"
   },
   {
    "duration": 149872,
    "start_time": "2024-08-27T16:00:34.029Z"
   },
   {
    "duration": 10,
    "start_time": "2024-08-27T16:03:03.902Z"
   },
   {
    "duration": 78,
    "start_time": "2024-08-27T16:03:03.914Z"
   },
   {
    "duration": 14,
    "start_time": "2024-08-27T16:03:03.994Z"
   },
   {
    "duration": 4,
    "start_time": "2024-08-27T16:03:04.010Z"
   },
   {
    "duration": 8896,
    "start_time": "2024-08-28T16:52:23.391Z"
   },
   {
    "duration": 1999,
    "start_time": "2024-08-28T16:52:32.291Z"
   },
   {
    "duration": 3391,
    "start_time": "2024-08-28T16:52:34.297Z"
   },
   {
    "duration": 29,
    "start_time": "2024-08-28T16:52:37.696Z"
   },
   {
    "duration": 291,
    "start_time": "2024-08-28T16:52:37.729Z"
   },
   {
    "duration": 9862,
    "start_time": "2024-08-28T16:52:38.024Z"
   },
   {
    "duration": 452,
    "start_time": "2024-08-28T16:52:47.890Z"
   },
   {
    "duration": 449,
    "start_time": "2024-08-28T16:52:48.346Z"
   },
   {
    "duration": 250,
    "start_time": "2024-08-28T16:52:48.797Z"
   },
   {
    "duration": 1463,
    "start_time": "2024-08-28T16:52:49.048Z"
   },
   {
    "duration": 13,
    "start_time": "2024-08-28T16:52:50.513Z"
   },
   {
    "duration": 7,
    "start_time": "2024-08-28T16:53:09.657Z"
   },
   {
    "duration": 349,
    "start_time": "2024-08-28T16:53:18.472Z"
   },
   {
    "duration": 3923,
    "start_time": "2024-08-28T16:59:13.622Z"
   },
   {
    "duration": 1762,
    "start_time": "2024-08-28T16:59:17.548Z"
   },
   {
    "duration": 1150,
    "start_time": "2024-08-28T16:59:19.320Z"
   },
   {
    "duration": 33,
    "start_time": "2024-08-28T16:59:20.472Z"
   },
   {
    "duration": 297,
    "start_time": "2024-08-28T16:59:20.510Z"
   },
   {
    "duration": 3841,
    "start_time": "2024-08-28T16:59:30.894Z"
   },
   {
    "duration": 9,
    "start_time": "2024-08-28T16:59:34.738Z"
   },
   {
    "duration": 1293,
    "start_time": "2024-08-28T16:59:34.749Z"
   },
   {
    "duration": 15,
    "start_time": "2024-08-28T16:59:36.044Z"
   },
   {
    "duration": 262,
    "start_time": "2024-08-28T16:59:36.068Z"
   },
   {
    "duration": 9693,
    "start_time": "2024-08-28T16:59:36.333Z"
   },
   {
    "duration": 427,
    "start_time": "2024-08-28T16:59:46.029Z"
   },
   {
    "duration": 438,
    "start_time": "2024-08-28T16:59:46.458Z"
   },
   {
    "duration": 201,
    "start_time": "2024-08-28T16:59:46.901Z"
   },
   {
    "duration": 1510,
    "start_time": "2024-08-28T16:59:47.104Z"
   },
   {
    "duration": 17,
    "start_time": "2024-08-28T16:59:48.616Z"
   },
   {
    "duration": 80,
    "start_time": "2024-08-28T17:15:45.665Z"
   },
   {
    "duration": 3688,
    "start_time": "2024-08-28T17:15:49.360Z"
   },
   {
    "duration": 2388,
    "start_time": "2024-08-28T17:15:53.051Z"
   },
   {
    "duration": 3394,
    "start_time": "2024-08-28T17:15:55.441Z"
   },
   {
    "duration": 21,
    "start_time": "2024-08-28T17:15:58.845Z"
   },
   {
    "duration": 280,
    "start_time": "2024-08-28T17:15:58.873Z"
   },
   {
    "duration": 8158,
    "start_time": "2024-08-28T17:15:59.155Z"
   },
   {
    "duration": 421,
    "start_time": "2024-08-28T17:16:07.317Z"
   },
   {
    "duration": 421,
    "start_time": "2024-08-28T17:16:07.739Z"
   },
   {
    "duration": 165,
    "start_time": "2024-08-28T17:16:08.162Z"
   },
   {
    "duration": 1393,
    "start_time": "2024-08-28T17:16:08.329Z"
   },
   {
    "duration": 12,
    "start_time": "2024-08-28T17:16:09.726Z"
   },
   {
    "duration": 3295,
    "start_time": "2024-08-28T18:22:44.388Z"
   },
   {
    "duration": 1950,
    "start_time": "2024-08-28T18:22:47.686Z"
   },
   {
    "duration": 3074,
    "start_time": "2024-08-28T18:22:49.638Z"
   },
   {
    "duration": 17,
    "start_time": "2024-08-28T18:22:52.714Z"
   },
   {
    "duration": 181,
    "start_time": "2024-08-28T18:22:52.733Z"
   },
   {
    "duration": 6825,
    "start_time": "2024-08-28T18:22:52.915Z"
   },
   {
    "duration": 381,
    "start_time": "2024-08-28T18:22:59.742Z"
   },
   {
    "duration": 349,
    "start_time": "2024-08-28T18:23:00.125Z"
   },
   {
    "duration": 126,
    "start_time": "2024-08-28T18:23:00.478Z"
   },
   {
    "duration": 1212,
    "start_time": "2024-08-28T18:23:00.607Z"
   },
   {
    "duration": 11,
    "start_time": "2024-08-28T18:23:01.821Z"
   },
   {
    "duration": 3394,
    "start_time": "2024-08-28T19:17:42.458Z"
   },
   {
    "duration": 2307,
    "start_time": "2024-08-28T19:17:45.854Z"
   },
   {
    "duration": 3106,
    "start_time": "2024-08-28T19:17:48.163Z"
   },
   {
    "duration": 30,
    "start_time": "2024-08-28T19:17:51.275Z"
   },
   {
    "duration": 252,
    "start_time": "2024-08-28T19:17:51.307Z"
   },
   {
    "duration": 6709,
    "start_time": "2024-08-28T19:17:51.571Z"
   },
   {
    "duration": 342,
    "start_time": "2024-08-28T19:17:58.282Z"
   },
   {
    "duration": 318,
    "start_time": "2024-08-28T19:17:58.626Z"
   },
   {
    "duration": 163,
    "start_time": "2024-08-28T19:17:58.946Z"
   },
   {
    "duration": 1227,
    "start_time": "2024-08-28T19:17:59.112Z"
   },
   {
    "duration": 10,
    "start_time": "2024-08-28T19:18:00.340Z"
   },
   {
    "duration": 271060,
    "start_time": "2024-08-28T19:18:00.352Z"
   },
   {
    "duration": 61665,
    "start_time": "2024-08-29T14:11:56.363Z"
   },
   {
    "duration": 1459,
    "start_time": "2024-08-29T14:12:58.031Z"
   },
   {
    "duration": 2925,
    "start_time": "2024-08-29T14:12:59.492Z"
   },
   {
    "duration": 17,
    "start_time": "2024-08-29T14:13:02.419Z"
   },
   {
    "duration": 148,
    "start_time": "2024-08-29T14:13:02.437Z"
   },
   {
    "duration": 5588,
    "start_time": "2024-08-29T14:13:02.587Z"
   },
   {
    "duration": 298,
    "start_time": "2024-08-29T14:13:08.176Z"
   },
   {
    "duration": 263,
    "start_time": "2024-08-29T14:13:08.476Z"
   },
   {
    "duration": 115,
    "start_time": "2024-08-29T14:13:08.741Z"
   },
   {
    "duration": 1081,
    "start_time": "2024-08-29T14:13:08.858Z"
   },
   {
    "duration": 11,
    "start_time": "2024-08-29T14:13:09.941Z"
   },
   {
    "duration": 3857,
    "start_time": "2024-08-29T14:15:12.859Z"
   },
   {
    "duration": 1315,
    "start_time": "2024-08-29T14:15:16.718Z"
   },
   {
    "duration": 852,
    "start_time": "2024-08-29T14:15:18.034Z"
   },
   {
    "duration": 16,
    "start_time": "2024-08-29T14:15:18.887Z"
   },
   {
    "duration": 162,
    "start_time": "2024-08-29T14:15:18.905Z"
   },
   {
    "duration": 5579,
    "start_time": "2024-08-29T14:15:19.069Z"
   },
   {
    "duration": 258,
    "start_time": "2024-08-29T14:15:24.649Z"
   },
   {
    "duration": 295,
    "start_time": "2024-08-29T14:15:24.909Z"
   },
   {
    "duration": 134,
    "start_time": "2024-08-29T14:15:25.206Z"
   },
   {
    "duration": 1067,
    "start_time": "2024-08-29T14:15:25.342Z"
   },
   {
    "duration": 11,
    "start_time": "2024-08-29T14:15:26.410Z"
   },
   {
    "duration": 2810,
    "start_time": "2024-08-29T14:25:13.552Z"
   },
   {
    "duration": 1270,
    "start_time": "2024-08-29T14:25:18.432Z"
   },
   {
    "duration": 830,
    "start_time": "2024-08-29T14:25:24.387Z"
   },
   {
    "duration": 17,
    "start_time": "2024-08-29T14:25:27.361Z"
   },
   {
    "duration": 136,
    "start_time": "2024-08-29T14:25:29.566Z"
   },
   {
    "duration": 5605,
    "start_time": "2024-08-29T14:25:32.986Z"
   },
   {
    "duration": 264,
    "start_time": "2024-08-29T14:25:49.137Z"
   },
   {
    "duration": 330,
    "start_time": "2024-08-29T14:25:53.138Z"
   },
   {
    "duration": 119,
    "start_time": "2024-08-29T14:25:59.785Z"
   },
   {
    "duration": 1043,
    "start_time": "2024-08-29T14:26:03.043Z"
   },
   {
    "duration": 11,
    "start_time": "2024-08-29T14:26:08.794Z"
   },
   {
    "duration": 258,
    "start_time": "2024-08-29T14:26:12.458Z"
   },
   {
    "duration": 1074,
    "start_time": "2024-08-29T14:26:36.804Z"
   },
   {
    "duration": 247,
    "start_time": "2024-08-29T14:26:53.196Z"
   },
   {
    "duration": 1184,
    "start_time": "2024-08-29T14:26:57.612Z"
   },
   {
    "duration": 46,
    "start_time": "2024-08-29T14:28:05.893Z"
   },
   {
    "duration": 84,
    "start_time": "2024-08-29T14:29:01.700Z"
   },
   {
    "duration": 81,
    "start_time": "2024-08-29T14:29:06.656Z"
   },
   {
    "duration": 94,
    "start_time": "2024-08-29T14:29:19.912Z"
   },
   {
    "duration": 79,
    "start_time": "2024-08-29T14:29:33.140Z"
   },
   {
    "duration": 292,
    "start_time": "2024-08-29T14:33:10.866Z"
   },
   {
    "duration": 90,
    "start_time": "2024-08-29T14:33:16.384Z"
   },
   {
    "duration": 128,
    "start_time": "2024-08-29T14:33:37.234Z"
   },
   {
    "duration": 2811,
    "start_time": "2024-08-29T14:34:03.513Z"
   },
   {
    "duration": 1289,
    "start_time": "2024-08-29T14:34:06.327Z"
   },
   {
    "duration": 901,
    "start_time": "2024-08-29T14:34:07.618Z"
   },
   {
    "duration": 19,
    "start_time": "2024-08-29T14:34:08.521Z"
   },
   {
    "duration": 162,
    "start_time": "2024-08-29T14:34:08.541Z"
   },
   {
    "duration": 5578,
    "start_time": "2024-08-29T14:34:08.705Z"
   },
   {
    "duration": 271,
    "start_time": "2024-08-29T14:34:14.285Z"
   },
   {
    "duration": 302,
    "start_time": "2024-08-29T14:34:14.557Z"
   },
   {
    "duration": 125,
    "start_time": "2024-08-29T14:34:14.861Z"
   },
   {
    "duration": 1101,
    "start_time": "2024-08-29T14:34:14.988Z"
   },
   {
    "duration": 11,
    "start_time": "2024-08-29T14:34:16.091Z"
   },
   {
    "duration": 105,
    "start_time": "2024-08-29T14:37:04.354Z"
   },
   {
    "duration": 122,
    "start_time": "2024-08-29T14:38:08.788Z"
   },
   {
    "duration": 109,
    "start_time": "2024-08-29T14:38:15.084Z"
   },
   {
    "duration": 106,
    "start_time": "2024-08-29T14:38:18.588Z"
   },
   {
    "duration": 109,
    "start_time": "2024-08-29T14:38:22.381Z"
   },
   {
    "duration": 103,
    "start_time": "2024-08-29T14:38:25.884Z"
   },
   {
    "duration": 107,
    "start_time": "2024-08-29T14:38:29.345Z"
   },
   {
    "duration": 104,
    "start_time": "2024-08-29T14:38:32.485Z"
   },
   {
    "duration": 104,
    "start_time": "2024-08-29T14:38:35.703Z"
   },
   {
    "duration": 105,
    "start_time": "2024-08-29T14:38:39.901Z"
   },
   {
    "duration": 112,
    "start_time": "2024-08-29T14:38:42.989Z"
   },
   {
    "duration": 107,
    "start_time": "2024-08-29T14:38:45.797Z"
   },
   {
    "duration": 105,
    "start_time": "2024-08-29T14:38:56.703Z"
   },
   {
    "duration": 107,
    "start_time": "2024-08-29T14:39:02.270Z"
   },
   {
    "duration": 118,
    "start_time": "2024-08-29T14:39:09.487Z"
   },
   {
    "duration": 10,
    "start_time": "2024-08-29T14:39:21.085Z"
   },
   {
    "duration": 87,
    "start_time": "2024-08-29T14:39:56.024Z"
   },
   {
    "duration": 210,
    "start_time": "2024-08-29T14:40:00.100Z"
   },
   {
    "duration": 1053,
    "start_time": "2024-08-29T14:40:43.415Z"
   },
   {
    "duration": 125,
    "start_time": "2024-08-29T14:46:50.759Z"
   },
   {
    "duration": 12,
    "start_time": "2024-08-29T14:50:01.445Z"
   },
   {
    "duration": 109,
    "start_time": "2024-08-29T14:50:06.446Z"
   },
   {
    "duration": 2780,
    "start_time": "2024-08-29T14:50:13.089Z"
   },
   {
    "duration": 9,
    "start_time": "2024-08-29T14:50:15.872Z"
   },
   {
    "duration": 822,
    "start_time": "2024-08-29T14:50:15.883Z"
   },
   {
    "duration": 14,
    "start_time": "2024-08-29T14:50:16.707Z"
   },
   {
    "duration": 151,
    "start_time": "2024-08-29T14:50:16.723Z"
   },
   {
    "duration": 5666,
    "start_time": "2024-08-29T14:50:16.876Z"
   },
   {
    "duration": 272,
    "start_time": "2024-08-29T14:50:22.544Z"
   },
   {
    "duration": 278,
    "start_time": "2024-08-29T14:50:22.818Z"
   },
   {
    "duration": 118,
    "start_time": "2024-08-29T14:50:23.098Z"
   },
   {
    "duration": 994,
    "start_time": "2024-08-29T14:50:23.218Z"
   },
   {
    "duration": 11,
    "start_time": "2024-08-29T14:50:28.942Z"
   },
   {
    "duration": 129,
    "start_time": "2024-08-29T14:50:31.462Z"
   },
   {
    "duration": 1035,
    "start_time": "2024-08-29T14:50:34.941Z"
   },
   {
    "duration": 184,
    "start_time": "2024-08-29T14:51:15.641Z"
   },
   {
    "duration": 138,
    "start_time": "2024-08-29T14:51:35.600Z"
   },
   {
    "duration": 2744,
    "start_time": "2024-08-29T14:59:28.414Z"
   },
   {
    "duration": 10,
    "start_time": "2024-08-29T14:59:31.161Z"
   },
   {
    "duration": 800,
    "start_time": "2024-08-29T14:59:31.173Z"
   },
   {
    "duration": 13,
    "start_time": "2024-08-29T14:59:31.975Z"
   },
   {
    "duration": 192,
    "start_time": "2024-08-29T14:59:31.989Z"
   },
   {
    "duration": 5727,
    "start_time": "2024-08-29T14:59:32.182Z"
   },
   {
    "duration": 333,
    "start_time": "2024-08-29T14:59:37.910Z"
   },
   {
    "duration": 320,
    "start_time": "2024-08-29T14:59:38.245Z"
   },
   {
    "duration": 115,
    "start_time": "2024-08-29T14:59:38.567Z"
   },
   {
    "duration": 1018,
    "start_time": "2024-08-29T14:59:38.685Z"
   },
   {
    "duration": 11,
    "start_time": "2024-08-29T14:59:39.705Z"
   },
   {
    "duration": 147,
    "start_time": "2024-08-29T14:59:39.718Z"
   },
   {
    "duration": 31,
    "start_time": "2024-08-29T14:59:39.867Z"
   },
   {
    "duration": 141,
    "start_time": "2024-08-29T14:59:39.900Z"
   },
   {
    "duration": 695,
    "start_time": "2024-08-29T14:59:40.042Z"
   },
   {
    "duration": 63,
    "start_time": "2024-08-29T14:59:40.739Z"
   },
   {
    "duration": 13,
    "start_time": "2024-08-29T14:59:40.804Z"
   },
   {
    "duration": 4,
    "start_time": "2024-08-29T14:59:40.837Z"
   },
   {
    "duration": 4,
    "start_time": "2024-08-29T14:59:40.843Z"
   },
   {
    "duration": 292492,
    "start_time": "2024-08-29T14:59:40.849Z"
   },
   {
    "duration": 100,
    "start_time": "2024-08-29T15:05:13.989Z"
   },
   {
    "duration": 18,
    "start_time": "2024-08-29T15:10:48.473Z"
   },
   {
    "duration": 91,
    "start_time": "2024-08-29T15:12:12.175Z"
   },
   {
    "duration": 128,
    "start_time": "2024-08-29T15:12:21.237Z"
   },
   {
    "duration": 17,
    "start_time": "2024-08-29T15:13:33.063Z"
   },
   {
    "duration": 252,
    "start_time": "2024-08-29T15:14:07.385Z"
   },
   {
    "duration": 119,
    "start_time": "2024-08-29T15:14:42.953Z"
   },
   {
    "duration": 646,
    "start_time": "2024-08-29T15:17:31.992Z"
   },
   {
    "duration": 19,
    "start_time": "2024-08-29T15:18:05.521Z"
   },
   {
    "duration": 38,
    "start_time": "2024-08-29T15:18:13.689Z"
   },
   {
    "duration": 310,
    "start_time": "2024-08-29T15:18:34.075Z"
   },
   {
    "duration": 156,
    "start_time": "2024-08-29T15:21:25.616Z"
   },
   {
    "duration": 183,
    "start_time": "2024-08-29T15:21:37.240Z"
   },
   {
    "duration": 3,
    "start_time": "2024-08-29T15:21:40.945Z"
   },
   {
    "duration": 1783,
    "start_time": "2024-08-29T15:21:45.080Z"
   },
   {
    "duration": 6,
    "start_time": "2024-08-29T15:28:48.664Z"
   },
   {
    "duration": 1812,
    "start_time": "2024-08-29T15:28:59.135Z"
   },
   {
    "duration": 9,
    "start_time": "2024-08-29T15:29:41.849Z"
   },
   {
    "duration": 13,
    "start_time": "2024-08-29T15:29:55.722Z"
   },
   {
    "duration": 3,
    "start_time": "2024-08-29T15:30:09.379Z"
   },
   {
    "duration": 88,
    "start_time": "2024-08-29T15:33:49.862Z"
   },
   {
    "duration": 2971,
    "start_time": "2024-08-29T15:34:50.018Z"
   },
   {
    "duration": 1282,
    "start_time": "2024-08-29T15:34:52.991Z"
   },
   {
    "duration": 826,
    "start_time": "2024-08-29T15:34:54.274Z"
   },
   {
    "duration": 16,
    "start_time": "2024-08-29T15:34:55.102Z"
   },
   {
    "duration": 174,
    "start_time": "2024-08-29T15:34:55.119Z"
   },
   {
    "duration": 5793,
    "start_time": "2024-08-29T15:34:55.294Z"
   },
   {
    "duration": 262,
    "start_time": "2024-08-29T15:35:01.089Z"
   },
   {
    "duration": 304,
    "start_time": "2024-08-29T15:35:01.353Z"
   },
   {
    "duration": 127,
    "start_time": "2024-08-29T15:35:01.659Z"
   },
   {
    "duration": 1078,
    "start_time": "2024-08-29T15:35:01.789Z"
   },
   {
    "duration": 11,
    "start_time": "2024-08-29T15:35:02.868Z"
   },
   {
    "duration": 146,
    "start_time": "2024-08-29T15:35:02.880Z"
   },
   {
    "duration": 29,
    "start_time": "2024-08-29T15:35:03.028Z"
   },
   {
    "duration": 147,
    "start_time": "2024-08-29T15:35:03.059Z"
   },
   {
    "duration": 695,
    "start_time": "2024-08-29T15:35:03.208Z"
   },
   {
    "duration": 77,
    "start_time": "2024-08-29T15:35:03.905Z"
   },
   {
    "duration": 17,
    "start_time": "2024-08-29T15:35:03.984Z"
   },
   {
    "duration": 5,
    "start_time": "2024-08-29T15:35:04.003Z"
   },
   {
    "duration": 4,
    "start_time": "2024-08-29T15:35:04.009Z"
   },
   {
    "duration": 288526,
    "start_time": "2024-08-29T15:35:04.014Z"
   },
   {
    "duration": 209,
    "start_time": "2024-08-29T15:39:52.542Z"
   },
   {
    "duration": 0,
    "start_time": "2024-08-29T15:39:52.752Z"
   },
   {
    "duration": 0,
    "start_time": "2024-08-29T15:39:52.754Z"
   },
   {
    "duration": 0,
    "start_time": "2024-08-29T15:39:52.755Z"
   },
   {
    "duration": 0,
    "start_time": "2024-08-29T15:39:52.756Z"
   },
   {
    "duration": 0,
    "start_time": "2024-08-29T15:39:52.757Z"
   },
   {
    "duration": 0,
    "start_time": "2024-08-29T15:39:52.758Z"
   },
   {
    "duration": 0,
    "start_time": "2024-08-29T15:39:52.759Z"
   },
   {
    "duration": 0,
    "start_time": "2024-08-29T15:39:52.760Z"
   },
   {
    "duration": 0,
    "start_time": "2024-08-29T15:39:52.761Z"
   },
   {
    "duration": 5,
    "start_time": "2024-08-29T15:40:13.079Z"
   },
   {
    "duration": 198,
    "start_time": "2024-08-29T15:40:16.880Z"
   },
   {
    "duration": 3,
    "start_time": "2024-08-29T15:40:19.495Z"
   },
   {
    "duration": 12,
    "start_time": "2024-08-29T15:40:22.296Z"
   },
   {
    "duration": 4,
    "start_time": "2024-08-29T15:41:10.913Z"
   },
   {
    "duration": 12,
    "start_time": "2024-08-29T15:41:14.084Z"
   },
   {
    "duration": 4,
    "start_time": "2024-08-29T15:41:28.306Z"
   },
   {
    "duration": 15,
    "start_time": "2024-08-29T15:41:31.243Z"
   },
   {
    "duration": 5,
    "start_time": "2024-08-29T15:42:48.397Z"
   },
   {
    "duration": 1837,
    "start_time": "2024-08-29T15:42:52.591Z"
   },
   {
    "duration": 14,
    "start_time": "2024-08-29T15:43:26.166Z"
   },
   {
    "duration": 13,
    "start_time": "2024-08-29T15:43:43.327Z"
   },
   {
    "duration": 8,
    "start_time": "2024-08-29T15:43:55.232Z"
   },
   {
    "duration": 20,
    "start_time": "2024-08-29T15:44:07.792Z"
   },
   {
    "duration": 13,
    "start_time": "2024-08-29T15:44:23.073Z"
   },
   {
    "duration": 16,
    "start_time": "2024-08-29T15:44:27.472Z"
   },
   {
    "duration": 5,
    "start_time": "2024-08-29T15:47:34.074Z"
   },
   {
    "duration": 184,
    "start_time": "2024-08-29T15:48:19.418Z"
   },
   {
    "duration": 1848,
    "start_time": "2024-08-29T15:48:22.753Z"
   },
   {
    "duration": 18,
    "start_time": "2024-08-29T15:48:32.745Z"
   },
   {
    "duration": 86,
    "start_time": "2024-08-29T15:49:13.946Z"
   },
   {
    "duration": 904,
    "start_time": "2024-08-29T15:59:45.695Z"
   },
   {
    "duration": 131,
    "start_time": "2024-08-29T16:00:06.243Z"
   },
   {
    "duration": 135,
    "start_time": "2024-08-29T16:00:34.003Z"
   },
   {
    "duration": 120,
    "start_time": "2024-08-29T16:01:06.764Z"
   },
   {
    "duration": 168,
    "start_time": "2024-08-29T16:01:36.158Z"
   },
   {
    "duration": 135,
    "start_time": "2024-08-29T16:02:34.368Z"
   },
   {
    "duration": 132,
    "start_time": "2024-08-29T16:02:49.360Z"
   },
   {
    "duration": 3080,
    "start_time": "2024-08-29T16:03:37.158Z"
   },
   {
    "duration": 1325,
    "start_time": "2024-08-29T16:03:40.241Z"
   },
   {
    "duration": 936,
    "start_time": "2024-08-29T16:03:41.568Z"
   },
   {
    "duration": 16,
    "start_time": "2024-08-29T16:03:42.506Z"
   },
   {
    "duration": 158,
    "start_time": "2024-08-29T16:03:42.523Z"
   },
   {
    "duration": 6133,
    "start_time": "2024-08-29T16:03:42.682Z"
   },
   {
    "duration": 312,
    "start_time": "2024-08-29T16:03:48.816Z"
   },
   {
    "duration": 265,
    "start_time": "2024-08-29T16:03:49.130Z"
   },
   {
    "duration": 128,
    "start_time": "2024-08-29T16:03:49.397Z"
   },
   {
    "duration": 1075,
    "start_time": "2024-08-29T16:03:49.527Z"
   },
   {
    "duration": 10,
    "start_time": "2024-08-29T16:03:50.604Z"
   },
   {
    "duration": 164,
    "start_time": "2024-08-29T16:03:50.615Z"
   },
   {
    "duration": 30,
    "start_time": "2024-08-29T16:03:50.780Z"
   },
   {
    "duration": 129,
    "start_time": "2024-08-29T16:03:50.811Z"
   },
   {
    "duration": 720,
    "start_time": "2024-08-29T16:03:50.942Z"
   },
   {
    "duration": 75,
    "start_time": "2024-08-29T16:03:51.664Z"
   },
   {
    "duration": 17,
    "start_time": "2024-08-29T16:03:51.740Z"
   },
   {
    "duration": 18,
    "start_time": "2024-08-29T16:03:51.758Z"
   },
   {
    "duration": 12,
    "start_time": "2024-08-29T16:03:51.778Z"
   },
   {
    "duration": 124,
    "start_time": "2024-08-29T16:03:51.791Z"
   },
   {
    "duration": 0,
    "start_time": "2024-08-29T16:03:51.917Z"
   },
   {
    "duration": 0,
    "start_time": "2024-08-29T16:03:51.918Z"
   },
   {
    "duration": 0,
    "start_time": "2024-08-29T16:03:51.919Z"
   },
   {
    "duration": 0,
    "start_time": "2024-08-29T16:03:51.920Z"
   },
   {
    "duration": 0,
    "start_time": "2024-08-29T16:03:51.922Z"
   },
   {
    "duration": 0,
    "start_time": "2024-08-29T16:03:51.923Z"
   },
   {
    "duration": 0,
    "start_time": "2024-08-29T16:03:51.924Z"
   },
   {
    "duration": 0,
    "start_time": "2024-08-29T16:03:51.938Z"
   },
   {
    "duration": 0,
    "start_time": "2024-08-29T16:03:51.939Z"
   },
   {
    "duration": 5,
    "start_time": "2024-08-29T16:04:55.620Z"
   },
   {
    "duration": 319808,
    "start_time": "2024-08-29T16:05:03.039Z"
   },
   {
    "duration": 318,
    "start_time": "2024-08-29T17:14:12.404Z"
   },
   {
    "duration": 2,
    "start_time": "2024-08-29T17:14:15.437Z"
   },
   {
    "duration": 997,
    "start_time": "2024-08-29T17:14:17.674Z"
   },
   {
    "duration": 5,
    "start_time": "2024-08-29T17:15:24.531Z"
   },
   {
    "duration": 310,
    "start_time": "2024-08-29T17:15:26.684Z"
   },
   {
    "duration": 3,
    "start_time": "2024-08-29T17:15:29.095Z"
   },
   {
    "duration": 68,
    "start_time": "2024-08-29T17:15:31.172Z"
   },
   {
    "duration": 60,
    "start_time": "2024-08-29T17:16:20.622Z"
   },
   {
    "duration": 32,
    "start_time": "2024-08-29T17:19:25.763Z"
   },
   {
    "duration": 127,
    "start_time": "2024-08-29T17:20:35.932Z"
   },
   {
    "duration": 81,
    "start_time": "2024-08-29T17:21:08.773Z"
   },
   {
    "duration": 103,
    "start_time": "2024-08-29T17:21:34.467Z"
   },
   {
    "duration": 78,
    "start_time": "2024-08-29T17:32:47.792Z"
   },
   {
    "duration": 144,
    "start_time": "2024-08-29T17:32:52.712Z"
   },
   {
    "duration": 103,
    "start_time": "2024-08-29T17:33:52.639Z"
   },
   {
    "duration": 34,
    "start_time": "2024-08-29T17:34:54.154Z"
   },
   {
    "duration": 41,
    "start_time": "2024-08-29T17:39:51.273Z"
   },
   {
    "duration": 2872,
    "start_time": "2024-08-29T17:44:33.419Z"
   },
   {
    "duration": 3102,
    "start_time": "2024-08-29T17:46:09.477Z"
   },
   {
    "duration": 1278,
    "start_time": "2024-08-29T17:46:12.582Z"
   },
   {
    "duration": 858,
    "start_time": "2024-08-29T17:46:13.862Z"
   },
   {
    "duration": 23,
    "start_time": "2024-08-29T17:46:14.722Z"
   },
   {
    "duration": 144,
    "start_time": "2024-08-29T17:46:14.746Z"
   },
   {
    "duration": 5636,
    "start_time": "2024-08-29T17:46:14.891Z"
   },
   {
    "duration": 293,
    "start_time": "2024-08-29T17:46:20.528Z"
   },
   {
    "duration": 292,
    "start_time": "2024-08-29T17:46:20.822Z"
   },
   {
    "duration": 125,
    "start_time": "2024-08-29T17:46:21.115Z"
   },
   {
    "duration": 1141,
    "start_time": "2024-08-29T17:46:21.243Z"
   },
   {
    "duration": 14,
    "start_time": "2024-08-29T17:46:22.386Z"
   },
   {
    "duration": 136,
    "start_time": "2024-08-29T17:46:22.402Z"
   },
   {
    "duration": 30,
    "start_time": "2024-08-29T17:46:22.540Z"
   },
   {
    "duration": 139,
    "start_time": "2024-08-29T17:46:22.572Z"
   },
   {
    "duration": 851,
    "start_time": "2024-08-29T17:46:22.713Z"
   },
   {
    "duration": 79,
    "start_time": "2024-08-29T17:46:23.565Z"
   },
   {
    "duration": 18,
    "start_time": "2024-08-29T17:46:23.646Z"
   },
   {
    "duration": 16,
    "start_time": "2024-08-29T17:46:23.665Z"
   },
   {
    "duration": 4,
    "start_time": "2024-08-29T17:46:23.682Z"
   },
   {
    "duration": 310158,
    "start_time": "2024-08-29T17:46:23.688Z"
   },
   {
    "duration": 4,
    "start_time": "2024-08-29T17:51:33.939Z"
   },
   {
    "duration": 211,
    "start_time": "2024-08-29T17:51:33.945Z"
   },
   {
    "duration": 0,
    "start_time": "2024-08-29T17:51:34.157Z"
   },
   {
    "duration": 0,
    "start_time": "2024-08-29T17:51:34.158Z"
   },
   {
    "duration": 0,
    "start_time": "2024-08-29T17:51:34.160Z"
   },
   {
    "duration": 0,
    "start_time": "2024-08-29T17:51:34.161Z"
   },
   {
    "duration": 0,
    "start_time": "2024-08-29T17:51:34.162Z"
   },
   {
    "duration": 0,
    "start_time": "2024-08-29T17:51:34.163Z"
   },
   {
    "duration": 52,
    "start_time": "2024-08-29T17:52:07.851Z"
   },
   {
    "duration": 55,
    "start_time": "2024-08-29T17:59:02.185Z"
   },
   {
    "duration": 61,
    "start_time": "2024-08-29T18:04:28.165Z"
   },
   {
    "duration": 63,
    "start_time": "2024-08-29T18:09:34.745Z"
   },
   {
    "duration": 15,
    "start_time": "2024-08-29T18:10:18.994Z"
   },
   {
    "duration": 80,
    "start_time": "2024-08-29T18:12:58.345Z"
   },
   {
    "duration": 77,
    "start_time": "2024-08-29T18:14:52.172Z"
   },
   {
    "duration": 8,
    "start_time": "2024-08-29T18:19:07.083Z"
   },
   {
    "duration": 2,
    "start_time": "2024-08-29T18:19:13.828Z"
   },
   {
    "duration": 9,
    "start_time": "2024-08-29T18:21:49.098Z"
   },
   {
    "duration": 3,
    "start_time": "2024-08-29T18:21:54.690Z"
   },
   {
    "duration": 2,
    "start_time": "2024-08-29T18:22:10.317Z"
   },
   {
    "duration": 10,
    "start_time": "2024-08-29T18:22:12.602Z"
   },
   {
    "duration": 10,
    "start_time": "2024-08-29T18:22:50.191Z"
   },
   {
    "duration": 5,
    "start_time": "2024-08-29T18:24:02.143Z"
   },
   {
    "duration": 2,
    "start_time": "2024-08-29T18:24:05.503Z"
   },
   {
    "duration": 33,
    "start_time": "2024-08-29T18:24:07.628Z"
   },
   {
    "duration": 17,
    "start_time": "2024-08-29T18:27:25.543Z"
   },
   {
    "duration": 3,
    "start_time": "2024-08-29T18:27:30.670Z"
   },
   {
    "duration": 26,
    "start_time": "2024-08-29T18:27:33.135Z"
   },
   {
    "duration": 12,
    "start_time": "2024-08-29T18:28:22.344Z"
   },
   {
    "duration": 7,
    "start_time": "2024-08-29T18:28:26.305Z"
   },
   {
    "duration": 3,
    "start_time": "2024-08-29T18:28:28.792Z"
   },
   {
    "duration": 16,
    "start_time": "2024-08-29T18:28:30.816Z"
   },
   {
    "duration": 16,
    "start_time": "2024-08-29T18:30:10.884Z"
   },
   {
    "duration": 2,
    "start_time": "2024-08-29T18:30:13.977Z"
   },
   {
    "duration": 22,
    "start_time": "2024-08-29T18:30:15.908Z"
   },
   {
    "duration": 4,
    "start_time": "2024-08-29T18:31:48.031Z"
   },
   {
    "duration": 166,
    "start_time": "2024-08-29T18:32:29.796Z"
   },
   {
    "duration": 13,
    "start_time": "2024-08-29T18:33:41.195Z"
   },
   {
    "duration": 16,
    "start_time": "2024-08-29T18:34:12.216Z"
   },
   {
    "duration": 70,
    "start_time": "2024-08-29T18:34:32.575Z"
   },
   {
    "duration": 12,
    "start_time": "2024-08-29T18:34:34.909Z"
   },
   {
    "duration": 16,
    "start_time": "2024-08-29T18:34:41.086Z"
   },
   {
    "duration": 17,
    "start_time": "2024-08-29T18:35:05.279Z"
   },
   {
    "duration": 27,
    "start_time": "2024-08-29T18:35:29.561Z"
   },
   {
    "duration": 2865,
    "start_time": "2024-08-29T18:36:35.707Z"
   },
   {
    "duration": 1917,
    "start_time": "2024-08-29T18:36:38.574Z"
   },
   {
    "duration": 2975,
    "start_time": "2024-08-29T18:36:40.493Z"
   },
   {
    "duration": 16,
    "start_time": "2024-08-29T18:36:43.470Z"
   },
   {
    "duration": 146,
    "start_time": "2024-08-29T18:36:43.487Z"
   },
   {
    "duration": 5581,
    "start_time": "2024-08-29T18:36:43.634Z"
   },
   {
    "duration": 275,
    "start_time": "2024-08-29T18:36:49.216Z"
   },
   {
    "duration": 305,
    "start_time": "2024-08-29T18:36:49.493Z"
   },
   {
    "duration": 128,
    "start_time": "2024-08-29T18:36:49.800Z"
   },
   {
    "duration": 1043,
    "start_time": "2024-08-29T18:36:49.931Z"
   },
   {
    "duration": 11,
    "start_time": "2024-08-29T18:36:50.975Z"
   },
   {
    "duration": 139,
    "start_time": "2024-08-29T18:36:50.987Z"
   },
   {
    "duration": 29,
    "start_time": "2024-08-29T18:36:51.128Z"
   },
   {
    "duration": 143,
    "start_time": "2024-08-29T18:36:51.159Z"
   },
   {
    "duration": 725,
    "start_time": "2024-08-29T18:36:51.303Z"
   },
   {
    "duration": 71,
    "start_time": "2024-08-29T18:36:52.030Z"
   },
   {
    "duration": 16,
    "start_time": "2024-08-29T18:36:52.103Z"
   },
   {
    "duration": 21,
    "start_time": "2024-08-29T18:36:52.120Z"
   },
   {
    "duration": 34,
    "start_time": "2024-08-29T18:36:52.142Z"
   },
   {
    "duration": 305664,
    "start_time": "2024-08-29T18:36:52.178Z"
   },
   {
    "duration": 4,
    "start_time": "2024-08-29T18:41:57.845Z"
   },
   {
    "duration": 33,
    "start_time": "2024-08-29T18:41:57.938Z"
   },
   {
    "duration": 47,
    "start_time": "2024-08-29T18:42:55.374Z"
   },
   {
    "duration": 2957,
    "start_time": "2024-08-29T18:43:05.922Z"
   },
   {
    "duration": 1841,
    "start_time": "2024-08-29T18:43:08.882Z"
   },
   {
    "duration": 2954,
    "start_time": "2024-08-29T18:43:10.724Z"
   },
   {
    "duration": 14,
    "start_time": "2024-08-29T18:43:13.681Z"
   },
   {
    "duration": 139,
    "start_time": "2024-08-29T18:43:13.697Z"
   },
   {
    "duration": 5670,
    "start_time": "2024-08-29T18:43:13.837Z"
   },
   {
    "duration": 265,
    "start_time": "2024-08-29T18:43:19.508Z"
   },
   {
    "duration": 273,
    "start_time": "2024-08-29T18:43:19.775Z"
   },
   {
    "duration": 127,
    "start_time": "2024-08-29T18:43:20.050Z"
   },
   {
    "duration": 1070,
    "start_time": "2024-08-29T18:43:20.179Z"
   },
   {
    "duration": 10,
    "start_time": "2024-08-29T18:43:21.251Z"
   },
   {
    "duration": 136,
    "start_time": "2024-08-29T18:43:21.263Z"
   },
   {
    "duration": 37,
    "start_time": "2024-08-29T18:43:21.401Z"
   },
   {
    "duration": 147,
    "start_time": "2024-08-29T18:43:21.441Z"
   },
   {
    "duration": 66,
    "start_time": "2024-08-29T18:43:26.064Z"
   },
   {
    "duration": 3713,
    "start_time": "2024-08-29T19:00:28.682Z"
   },
   {
    "duration": 2017,
    "start_time": "2024-08-29T19:00:32.397Z"
   },
   {
    "duration": 3003,
    "start_time": "2024-08-29T19:00:34.416Z"
   },
   {
    "duration": 17,
    "start_time": "2024-08-29T19:00:37.421Z"
   },
   {
    "duration": 174,
    "start_time": "2024-08-29T19:00:37.440Z"
   },
   {
    "duration": 5619,
    "start_time": "2024-08-29T19:00:37.616Z"
   },
   {
    "duration": 288,
    "start_time": "2024-08-29T19:00:43.237Z"
   },
   {
    "duration": 290,
    "start_time": "2024-08-29T19:00:43.527Z"
   },
   {
    "duration": 122,
    "start_time": "2024-08-29T19:00:43.818Z"
   },
   {
    "duration": 1056,
    "start_time": "2024-08-29T19:00:43.942Z"
   },
   {
    "duration": 11,
    "start_time": "2024-08-29T19:00:45.000Z"
   },
   {
    "duration": 184,
    "start_time": "2024-08-29T19:00:45.012Z"
   },
   {
    "duration": 29,
    "start_time": "2024-08-29T19:00:45.198Z"
   },
   {
    "duration": 181,
    "start_time": "2024-08-29T19:00:45.229Z"
   },
   {
    "duration": 73,
    "start_time": "2024-08-29T19:01:50.872Z"
   },
   {
    "duration": 169,
    "start_time": "2024-08-29T19:02:05.152Z"
   },
   {
    "duration": 722,
    "start_time": "2024-08-29T19:02:20.121Z"
   },
   {
    "duration": 560,
    "start_time": "2024-08-29T19:02:45.140Z"
   },
   {
    "duration": 2138,
    "start_time": "2024-08-29T19:03:03.013Z"
   },
   {
    "duration": 1906,
    "start_time": "2024-08-29T19:03:34.543Z"
   },
   {
    "duration": 1257,
    "start_time": "2024-08-29T19:03:42.604Z"
   },
   {
    "duration": 531676,
    "start_time": "2024-08-29T19:05:01.984Z"
   },
   {
    "duration": 3,
    "start_time": "2024-08-29T19:14:01.450Z"
   },
   {
    "duration": 20,
    "start_time": "2024-08-29T19:14:51.641Z"
   },
   {
    "duration": 73,
    "start_time": "2024-08-29T19:15:02.678Z"
   },
   {
    "duration": 13,
    "start_time": "2024-08-29T19:15:04.523Z"
   },
   {
    "duration": 21,
    "start_time": "2024-08-29T19:15:10.725Z"
   },
   {
    "duration": 776,
    "start_time": "2024-08-29T19:16:37.801Z"
   },
   {
    "duration": 680504,
    "start_time": "2024-08-29T19:16:54.434Z"
   },
   {
    "duration": 10,
    "start_time": "2024-08-29T19:31:03.215Z"
   },
   {
    "duration": 3,
    "start_time": "2024-08-29T19:31:24.879Z"
   },
   {
    "duration": 9,
    "start_time": "2024-08-29T19:31:38.672Z"
   },
   {
    "duration": 45,
    "start_time": "2024-08-29T19:31:45.472Z"
   },
   {
    "duration": 4,
    "start_time": "2024-08-29T19:32:31.834Z"
   },
   {
    "duration": 32,
    "start_time": "2024-08-29T19:32:36.018Z"
   },
   {
    "duration": 5,
    "start_time": "2024-08-29T19:33:00.899Z"
   },
   {
    "duration": 5742,
    "start_time": "2024-08-29T19:33:06.277Z"
   },
   {
    "duration": 6806,
    "start_time": "2024-08-30T05:44:42.930Z"
   },
   {
    "duration": 1443,
    "start_time": "2024-08-30T05:44:49.739Z"
   },
   {
    "duration": 3046,
    "start_time": "2024-08-30T05:44:51.184Z"
   },
   {
    "duration": 17,
    "start_time": "2024-08-30T05:44:54.232Z"
   },
   {
    "duration": 176,
    "start_time": "2024-08-30T05:44:54.251Z"
   },
   {
    "duration": 5766,
    "start_time": "2024-08-30T05:44:54.429Z"
   },
   {
    "duration": 274,
    "start_time": "2024-08-30T05:45:00.197Z"
   },
   {
    "duration": 328,
    "start_time": "2024-08-30T05:45:00.473Z"
   },
   {
    "duration": 133,
    "start_time": "2024-08-30T05:45:00.803Z"
   },
   {
    "duration": 1194,
    "start_time": "2024-08-30T05:45:00.938Z"
   },
   {
    "duration": 11,
    "start_time": "2024-08-30T05:45:02.134Z"
   },
   {
    "duration": 162,
    "start_time": "2024-08-30T05:45:02.164Z"
   },
   {
    "duration": 44,
    "start_time": "2024-08-30T05:45:02.328Z"
   },
   {
    "duration": 144,
    "start_time": "2024-08-30T05:45:02.375Z"
   },
   {
    "duration": 770,
    "start_time": "2024-08-30T05:45:02.521Z"
   },
   {
    "duration": 87,
    "start_time": "2024-08-30T05:45:03.293Z"
   },
   {
    "duration": 19,
    "start_time": "2024-08-30T05:45:03.382Z"
   },
   {
    "duration": 26,
    "start_time": "2024-08-30T05:45:03.402Z"
   },
   {
    "duration": 8,
    "start_time": "2024-08-30T05:45:03.430Z"
   },
   {
    "duration": 332026,
    "start_time": "2024-08-30T05:45:03.440Z"
   },
   {
    "duration": 5,
    "start_time": "2024-08-30T05:50:35.468Z"
   },
   {
    "duration": 915,
    "start_time": "2024-08-30T05:50:35.474Z"
   },
   {
    "duration": 0,
    "start_time": "2024-08-30T05:50:36.390Z"
   },
   {
    "duration": 0,
    "start_time": "2024-08-30T05:50:36.392Z"
   },
   {
    "duration": 0,
    "start_time": "2024-08-30T05:50:36.393Z"
   },
   {
    "duration": 0,
    "start_time": "2024-08-30T05:50:36.394Z"
   },
   {
    "duration": 0,
    "start_time": "2024-08-30T05:50:36.395Z"
   },
   {
    "duration": 0,
    "start_time": "2024-08-30T05:50:36.396Z"
   },
   {
    "duration": 0,
    "start_time": "2024-08-30T05:50:36.397Z"
   },
   {
    "duration": 6593,
    "start_time": "2024-08-31T09:23:03.121Z"
   },
   {
    "duration": 1426,
    "start_time": "2024-08-31T09:23:09.717Z"
   },
   {
    "duration": 2821,
    "start_time": "2024-08-31T09:23:11.145Z"
   },
   {
    "duration": 16,
    "start_time": "2024-08-31T09:23:13.968Z"
   },
   {
    "duration": 146,
    "start_time": "2024-08-31T09:23:13.985Z"
   },
   {
    "duration": 5494,
    "start_time": "2024-08-31T09:23:14.133Z"
   },
   {
    "duration": 280,
    "start_time": "2024-08-31T09:23:19.630Z"
   },
   {
    "duration": 309,
    "start_time": "2024-08-31T09:23:19.912Z"
   },
   {
    "duration": 132,
    "start_time": "2024-08-31T09:23:20.223Z"
   },
   {
    "duration": 1127,
    "start_time": "2024-08-31T09:23:20.357Z"
   },
   {
    "duration": 10,
    "start_time": "2024-08-31T09:23:21.485Z"
   },
   {
    "duration": 193,
    "start_time": "2024-08-31T09:23:21.497Z"
   },
   {
    "duration": 27,
    "start_time": "2024-08-31T09:23:21.691Z"
   },
   {
    "duration": 109,
    "start_time": "2024-08-31T09:23:21.720Z"
   },
   {
    "duration": 695,
    "start_time": "2024-08-31T09:23:21.830Z"
   },
   {
    "duration": 71,
    "start_time": "2024-08-31T09:23:22.526Z"
   },
   {
    "duration": 17,
    "start_time": "2024-08-31T09:23:22.599Z"
   },
   {
    "duration": 4,
    "start_time": "2024-08-31T09:23:22.617Z"
   },
   {
    "duration": 4,
    "start_time": "2024-08-31T09:23:22.623Z"
   },
   {
    "duration": 5,
    "start_time": "2024-08-31T09:23:31.972Z"
   },
   {
    "duration": 720,
    "start_time": "2024-08-31T09:23:45.469Z"
   },
   {
    "duration": 473,
    "start_time": "2024-08-31T09:24:36.205Z"
   },
   {
    "duration": 117,
    "start_time": "2024-08-31T09:24:42.282Z"
   },
   {
    "duration": 8,
    "start_time": "2024-08-31T09:25:28.448Z"
   },
   {
    "duration": 15,
    "start_time": "2024-08-31T09:27:04.325Z"
   },
   {
    "duration": 14,
    "start_time": "2024-08-31T09:27:19.580Z"
   },
   {
    "duration": 45,
    "start_time": "2024-08-31T09:27:56.557Z"
   },
   {
    "duration": 20,
    "start_time": "2024-08-31T09:28:02.819Z"
   },
   {
    "duration": 66,
    "start_time": "2024-08-31T09:28:17.895Z"
   },
   {
    "duration": 22,
    "start_time": "2024-08-31T09:28:40.599Z"
   },
   {
    "duration": 6,
    "start_time": "2024-08-31T09:29:21.408Z"
   },
   {
    "duration": 9,
    "start_time": "2024-08-31T09:29:32.760Z"
   },
   {
    "duration": 68,
    "start_time": "2024-08-31T09:30:02.034Z"
   },
   {
    "duration": 19,
    "start_time": "2024-08-31T09:30:07.362Z"
   },
   {
    "duration": 132,
    "start_time": "2024-08-31T09:30:24.604Z"
   },
   {
    "duration": 17,
    "start_time": "2024-08-31T09:30:31.869Z"
   },
   {
    "duration": 2,
    "start_time": "2024-08-31T09:32:21.823Z"
   },
   {
    "duration": 2818,
    "start_time": "2024-08-31T09:38:23.076Z"
   },
   {
    "duration": 9,
    "start_time": "2024-08-31T09:38:25.897Z"
   },
   {
    "duration": 824,
    "start_time": "2024-08-31T09:38:25.907Z"
   },
   {
    "duration": 20,
    "start_time": "2024-08-31T09:38:26.733Z"
   },
   {
    "duration": 147,
    "start_time": "2024-08-31T09:38:26.754Z"
   },
   {
    "duration": 5368,
    "start_time": "2024-08-31T09:38:26.903Z"
   },
   {
    "duration": 269,
    "start_time": "2024-08-31T09:38:32.273Z"
   },
   {
    "duration": 284,
    "start_time": "2024-08-31T09:38:32.544Z"
   },
   {
    "duration": 112,
    "start_time": "2024-08-31T09:38:32.829Z"
   },
   {
    "duration": 1124,
    "start_time": "2024-08-31T09:38:32.943Z"
   },
   {
    "duration": 10,
    "start_time": "2024-08-31T09:38:34.068Z"
   },
   {
    "duration": 122,
    "start_time": "2024-08-31T09:38:39.468Z"
   },
   {
    "duration": 42,
    "start_time": "2024-08-31T09:39:04.724Z"
   },
   {
    "duration": 121,
    "start_time": "2024-08-31T09:39:06.756Z"
   },
   {
    "duration": 80,
    "start_time": "2024-08-31T09:39:16.597Z"
   },
   {
    "duration": 12,
    "start_time": "2024-08-31T09:39:37.422Z"
   },
   {
    "duration": 2768,
    "start_time": "2024-08-31T09:42:17.841Z"
   },
   {
    "duration": 1247,
    "start_time": "2024-08-31T09:42:20.612Z"
   },
   {
    "duration": 824,
    "start_time": "2024-08-31T09:42:21.860Z"
   },
   {
    "duration": 17,
    "start_time": "2024-08-31T09:42:22.686Z"
   },
   {
    "duration": 186,
    "start_time": "2024-08-31T09:42:22.704Z"
   },
   {
    "duration": 5583,
    "start_time": "2024-08-31T09:42:22.892Z"
   },
   {
    "duration": 264,
    "start_time": "2024-08-31T09:42:28.477Z"
   },
   {
    "duration": 265,
    "start_time": "2024-08-31T09:42:28.742Z"
   },
   {
    "duration": 132,
    "start_time": "2024-08-31T09:42:29.008Z"
   },
   {
    "duration": 1014,
    "start_time": "2024-08-31T09:42:29.143Z"
   },
   {
    "duration": 11,
    "start_time": "2024-08-31T09:42:30.159Z"
   },
   {
    "duration": 160,
    "start_time": "2024-08-31T09:42:30.171Z"
   },
   {
    "duration": 30,
    "start_time": "2024-08-31T09:42:30.332Z"
   },
   {
    "duration": 122,
    "start_time": "2024-08-31T09:42:35.816Z"
   },
   {
    "duration": 114,
    "start_time": "2024-08-31T09:42:40.164Z"
   },
   {
    "duration": 179,
    "start_time": "2024-08-31T09:42:42.583Z"
   },
   {
    "duration": 2,
    "start_time": "2024-08-31T09:43:06.827Z"
   },
   {
    "duration": 2897,
    "start_time": "2024-08-31T09:43:12.980Z"
   },
   {
    "duration": 10,
    "start_time": "2024-08-31T09:43:15.879Z"
   },
   {
    "duration": 815,
    "start_time": "2024-08-31T09:43:15.890Z"
   },
   {
    "duration": 16,
    "start_time": "2024-08-31T09:43:16.707Z"
   },
   {
    "duration": 207,
    "start_time": "2024-08-31T09:43:16.725Z"
   },
   {
    "duration": 5413,
    "start_time": "2024-08-31T09:43:16.933Z"
   },
   {
    "duration": 278,
    "start_time": "2024-08-31T09:43:22.347Z"
   },
   {
    "duration": 294,
    "start_time": "2024-08-31T09:43:22.626Z"
   },
   {
    "duration": 107,
    "start_time": "2024-08-31T09:43:22.922Z"
   },
   {
    "duration": 1060,
    "start_time": "2024-08-31T09:43:23.031Z"
   },
   {
    "duration": 10,
    "start_time": "2024-08-31T09:43:24.092Z"
   },
   {
    "duration": 123,
    "start_time": "2024-08-31T09:43:24.103Z"
   },
   {
    "duration": 36,
    "start_time": "2024-08-31T09:43:24.228Z"
   },
   {
    "duration": 83,
    "start_time": "2024-08-31T09:47:11.622Z"
   },
   {
    "duration": 5,
    "start_time": "2024-08-31T09:47:19.646Z"
   },
   {
    "duration": 26,
    "start_time": "2024-08-31T09:47:23.583Z"
   },
   {
    "duration": 1398,
    "start_time": "2024-08-31T09:47:30.767Z"
   },
   {
    "duration": 12,
    "start_time": "2024-08-31T09:47:38.823Z"
   },
   {
    "duration": 318990,
    "start_time": "2024-08-31T09:47:57.887Z"
   },
   {
    "duration": 5,
    "start_time": "2024-08-31T09:56:29.116Z"
   },
   {
    "duration": 5,
    "start_time": "2024-08-31T10:05:02.172Z"
   },
   {
    "duration": 12,
    "start_time": "2024-08-31T10:05:04.443Z"
   },
   {
    "duration": 11,
    "start_time": "2024-08-31T10:05:25.276Z"
   },
   {
    "duration": 90,
    "start_time": "2024-08-31T10:05:29.036Z"
   },
   {
    "duration": 24,
    "start_time": "2024-08-31T10:05:31.403Z"
   },
   {
    "duration": 3,
    "start_time": "2024-08-31T10:05:33.237Z"
   },
   {
    "duration": 3,
    "start_time": "2024-08-31T10:05:35.405Z"
   },
   {
    "duration": 4,
    "start_time": "2024-08-31T10:05:37.901Z"
   },
   {
    "duration": 15,
    "start_time": "2024-08-31T10:05:40.337Z"
   },
   {
    "duration": 2855,
    "start_time": "2024-08-31T10:06:03.948Z"
   },
   {
    "duration": 10,
    "start_time": "2024-08-31T10:06:06.806Z"
   },
   {
    "duration": 924,
    "start_time": "2024-08-31T10:06:06.818Z"
   },
   {
    "duration": 16,
    "start_time": "2024-08-31T10:06:07.744Z"
   },
   {
    "duration": 162,
    "start_time": "2024-08-31T10:06:07.761Z"
   },
   {
    "duration": 5630,
    "start_time": "2024-08-31T10:06:07.925Z"
   },
   {
    "duration": 297,
    "start_time": "2024-08-31T10:06:13.557Z"
   },
   {
    "duration": 319,
    "start_time": "2024-08-31T10:06:13.856Z"
   },
   {
    "duration": 127,
    "start_time": "2024-08-31T10:06:14.176Z"
   },
   {
    "duration": 1068,
    "start_time": "2024-08-31T10:06:14.306Z"
   },
   {
    "duration": 12,
    "start_time": "2024-08-31T10:06:15.376Z"
   },
   {
    "duration": 172,
    "start_time": "2024-08-31T10:06:15.390Z"
   },
   {
    "duration": 33,
    "start_time": "2024-08-31T10:06:15.563Z"
   },
   {
    "duration": 2,
    "start_time": "2024-08-31T10:06:15.598Z"
   },
   {
    "duration": 538,
    "start_time": "2024-08-31T10:06:15.602Z"
   },
   {
    "duration": 100,
    "start_time": "2024-08-31T10:06:16.141Z"
   },
   {
    "duration": 40,
    "start_time": "2024-08-31T10:06:16.243Z"
   },
   {
    "duration": 4,
    "start_time": "2024-08-31T10:06:16.284Z"
   },
   {
    "duration": 4,
    "start_time": "2024-08-31T10:06:16.289Z"
   },
   {
    "duration": 6,
    "start_time": "2024-08-31T10:06:52.736Z"
   },
   {
    "duration": 2907,
    "start_time": "2024-08-31T10:07:19.729Z"
   },
   {
    "duration": 1998,
    "start_time": "2024-08-31T10:07:22.637Z"
   },
   {
    "duration": 2811,
    "start_time": "2024-08-31T10:07:24.637Z"
   },
   {
    "duration": 15,
    "start_time": "2024-08-31T10:07:27.450Z"
   },
   {
    "duration": 143,
    "start_time": "2024-08-31T10:07:27.467Z"
   },
   {
    "duration": 5408,
    "start_time": "2024-08-31T10:07:27.611Z"
   },
   {
    "duration": 260,
    "start_time": "2024-08-31T10:07:33.021Z"
   },
   {
    "duration": 294,
    "start_time": "2024-08-31T10:07:33.283Z"
   },
   {
    "duration": 129,
    "start_time": "2024-08-31T10:07:33.579Z"
   },
   {
    "duration": 1087,
    "start_time": "2024-08-31T10:07:33.710Z"
   },
   {
    "duration": 10,
    "start_time": "2024-08-31T10:07:34.799Z"
   },
   {
    "duration": 135,
    "start_time": "2024-08-31T10:07:34.811Z"
   },
   {
    "duration": 32,
    "start_time": "2024-08-31T10:07:34.947Z"
   },
   {
    "duration": 13,
    "start_time": "2024-08-31T10:07:34.980Z"
   },
   {
    "duration": 552,
    "start_time": "2024-08-31T10:07:34.995Z"
   },
   {
    "duration": 105,
    "start_time": "2024-08-31T10:07:35.548Z"
   },
   {
    "duration": 30,
    "start_time": "2024-08-31T10:07:35.655Z"
   },
   {
    "duration": 4,
    "start_time": "2024-08-31T10:07:35.686Z"
   },
   {
    "duration": 18,
    "start_time": "2024-08-31T10:07:35.692Z"
   },
   {
    "duration": 5,
    "start_time": "2024-08-31T10:07:46.377Z"
   },
   {
    "duration": 10,
    "start_time": "2024-08-31T10:08:56.590Z"
   },
   {
    "duration": 59,
    "start_time": "2024-08-31T10:09:01.884Z"
   },
   {
    "duration": 2943,
    "start_time": "2024-08-31T10:09:08.061Z"
   },
   {
    "duration": 1878,
    "start_time": "2024-08-31T10:09:11.007Z"
   },
   {
    "duration": 2835,
    "start_time": "2024-08-31T10:09:12.887Z"
   },
   {
    "duration": 17,
    "start_time": "2024-08-31T10:09:15.724Z"
   },
   {
    "duration": 192,
    "start_time": "2024-08-31T10:09:15.742Z"
   },
   {
    "duration": 5583,
    "start_time": "2024-08-31T10:09:15.936Z"
   },
   {
    "duration": 255,
    "start_time": "2024-08-31T10:09:21.521Z"
   },
   {
    "duration": 284,
    "start_time": "2024-08-31T10:09:21.778Z"
   },
   {
    "duration": 130,
    "start_time": "2024-08-31T10:09:22.064Z"
   },
   {
    "duration": 1059,
    "start_time": "2024-08-31T10:09:22.196Z"
   },
   {
    "duration": 12,
    "start_time": "2024-08-31T10:09:23.256Z"
   },
   {
    "duration": 157,
    "start_time": "2024-08-31T10:09:23.270Z"
   },
   {
    "duration": 34,
    "start_time": "2024-08-31T10:09:23.428Z"
   },
   {
    "duration": 2,
    "start_time": "2024-08-31T10:09:23.464Z"
   },
   {
    "duration": 581,
    "start_time": "2024-08-31T10:09:23.467Z"
   },
   {
    "duration": 106,
    "start_time": "2024-08-31T10:09:24.049Z"
   },
   {
    "duration": 30,
    "start_time": "2024-08-31T10:09:24.156Z"
   },
   {
    "duration": 6,
    "start_time": "2024-08-31T10:09:24.187Z"
   },
   {
    "duration": 7,
    "start_time": "2024-08-31T10:09:24.194Z"
   },
   {
    "duration": 4,
    "start_time": "2024-08-31T10:09:38.358Z"
   },
   {
    "duration": 10,
    "start_time": "2024-08-31T10:10:55.232Z"
   },
   {
    "duration": 46,
    "start_time": "2024-08-31T10:10:57.440Z"
   },
   {
    "duration": 3076,
    "start_time": "2024-08-31T10:11:01.543Z"
   },
   {
    "duration": 2212,
    "start_time": "2024-08-31T10:11:04.622Z"
   },
   {
    "duration": 2924,
    "start_time": "2024-08-31T10:11:06.836Z"
   },
   {
    "duration": 16,
    "start_time": "2024-08-31T10:11:09.763Z"
   },
   {
    "duration": 156,
    "start_time": "2024-08-31T10:11:09.781Z"
   },
   {
    "duration": 5997,
    "start_time": "2024-08-31T10:11:09.939Z"
   },
   {
    "duration": 280,
    "start_time": "2024-08-31T10:11:15.937Z"
   },
   {
    "duration": 322,
    "start_time": "2024-08-31T10:11:16.219Z"
   },
   {
    "duration": 127,
    "start_time": "2024-08-31T10:11:16.554Z"
   },
   {
    "duration": 1185,
    "start_time": "2024-08-31T10:11:16.685Z"
   },
   {
    "duration": 11,
    "start_time": "2024-08-31T10:11:17.872Z"
   },
   {
    "duration": 163,
    "start_time": "2024-08-31T10:11:17.884Z"
   },
   {
    "duration": 28,
    "start_time": "2024-08-31T10:11:18.049Z"
   },
   {
    "duration": 2,
    "start_time": "2024-08-31T10:11:18.079Z"
   },
   {
    "duration": 610,
    "start_time": "2024-08-31T10:11:18.083Z"
   },
   {
    "duration": 92,
    "start_time": "2024-08-31T10:11:18.695Z"
   },
   {
    "duration": 31,
    "start_time": "2024-08-31T10:11:18.789Z"
   },
   {
    "duration": 10,
    "start_time": "2024-08-31T10:11:18.821Z"
   },
   {
    "duration": 28,
    "start_time": "2024-08-31T10:11:18.833Z"
   },
   {
    "duration": 5,
    "start_time": "2024-08-31T10:11:21.449Z"
   },
   {
    "duration": 95,
    "start_time": "2024-08-31T10:11:23.688Z"
   },
   {
    "duration": 3095,
    "start_time": "2024-08-31T10:14:54.752Z"
   },
   {
    "duration": 11,
    "start_time": "2024-08-31T10:14:57.849Z"
   },
   {
    "duration": 947,
    "start_time": "2024-08-31T10:14:57.861Z"
   },
   {
    "duration": 15,
    "start_time": "2024-08-31T10:14:58.810Z"
   },
   {
    "duration": 161,
    "start_time": "2024-08-31T10:14:58.827Z"
   },
   {
    "duration": 5876,
    "start_time": "2024-08-31T10:14:58.990Z"
   },
   {
    "duration": 300,
    "start_time": "2024-08-31T10:15:04.868Z"
   },
   {
    "duration": 316,
    "start_time": "2024-08-31T10:15:05.169Z"
   },
   {
    "duration": 128,
    "start_time": "2024-08-31T10:15:05.487Z"
   },
   {
    "duration": 1248,
    "start_time": "2024-08-31T10:15:05.617Z"
   },
   {
    "duration": 12,
    "start_time": "2024-08-31T10:15:06.866Z"
   },
   {
    "duration": 149,
    "start_time": "2024-08-31T10:15:06.879Z"
   },
   {
    "duration": 37,
    "start_time": "2024-08-31T10:15:07.029Z"
   },
   {
    "duration": 3,
    "start_time": "2024-08-31T10:15:07.067Z"
   },
   {
    "duration": 610,
    "start_time": "2024-08-31T10:15:07.072Z"
   },
   {
    "duration": 115,
    "start_time": "2024-08-31T10:15:07.683Z"
   },
   {
    "duration": 25,
    "start_time": "2024-08-31T10:15:07.800Z"
   },
   {
    "duration": 4,
    "start_time": "2024-08-31T10:15:07.826Z"
   },
   {
    "duration": 22,
    "start_time": "2024-08-31T10:15:07.831Z"
   },
   {
    "duration": 5,
    "start_time": "2024-08-31T10:15:14.090Z"
   },
   {
    "duration": 2810,
    "start_time": "2024-08-31T10:19:32.486Z"
   },
   {
    "duration": 2082,
    "start_time": "2024-08-31T10:19:35.298Z"
   },
   {
    "duration": 2779,
    "start_time": "2024-08-31T10:19:37.381Z"
   },
   {
    "duration": 16,
    "start_time": "2024-08-31T10:19:40.162Z"
   },
   {
    "duration": 177,
    "start_time": "2024-08-31T10:19:40.179Z"
   },
   {
    "duration": 5337,
    "start_time": "2024-08-31T10:19:40.358Z"
   },
   {
    "duration": 253,
    "start_time": "2024-08-31T10:19:45.697Z"
   },
   {
    "duration": 263,
    "start_time": "2024-08-31T10:19:45.952Z"
   },
   {
    "duration": 124,
    "start_time": "2024-08-31T10:19:46.217Z"
   },
   {
    "duration": 1096,
    "start_time": "2024-08-31T10:19:46.343Z"
   },
   {
    "duration": 17,
    "start_time": "2024-08-31T10:19:47.441Z"
   },
   {
    "duration": 137,
    "start_time": "2024-08-31T10:19:47.459Z"
   },
   {
    "duration": 30,
    "start_time": "2024-08-31T10:19:47.597Z"
   },
   {
    "duration": 3,
    "start_time": "2024-08-31T10:19:47.629Z"
   },
   {
    "duration": 529,
    "start_time": "2024-08-31T10:19:47.633Z"
   },
   {
    "duration": 97,
    "start_time": "2024-08-31T10:19:48.164Z"
   },
   {
    "duration": 30,
    "start_time": "2024-08-31T10:19:48.263Z"
   },
   {
    "duration": 5,
    "start_time": "2024-08-31T10:19:48.295Z"
   },
   {
    "duration": 12,
    "start_time": "2024-08-31T10:19:48.301Z"
   },
   {
    "duration": 4,
    "start_time": "2024-08-31T10:19:55.780Z"
   },
   {
    "duration": 9,
    "start_time": "2024-08-31T10:20:15.341Z"
   },
   {
    "duration": 2789,
    "start_time": "2024-08-31T10:20:28.521Z"
   },
   {
    "duration": 2124,
    "start_time": "2024-08-31T10:20:31.312Z"
   },
   {
    "duration": 2851,
    "start_time": "2024-08-31T10:20:33.437Z"
   },
   {
    "duration": 16,
    "start_time": "2024-08-31T10:20:36.290Z"
   },
   {
    "duration": 139,
    "start_time": "2024-08-31T10:20:36.308Z"
   },
   {
    "duration": 5498,
    "start_time": "2024-08-31T10:20:36.449Z"
   },
   {
    "duration": 258,
    "start_time": "2024-08-31T10:20:41.949Z"
   },
   {
    "duration": 277,
    "start_time": "2024-08-31T10:20:42.209Z"
   },
   {
    "duration": 121,
    "start_time": "2024-08-31T10:20:42.488Z"
   },
   {
    "duration": 1061,
    "start_time": "2024-08-31T10:20:42.612Z"
   },
   {
    "duration": 10,
    "start_time": "2024-08-31T10:20:43.675Z"
   },
   {
    "duration": 156,
    "start_time": "2024-08-31T10:20:43.687Z"
   },
   {
    "duration": 34,
    "start_time": "2024-08-31T10:20:43.845Z"
   },
   {
    "duration": 14,
    "start_time": "2024-08-31T10:20:43.882Z"
   },
   {
    "duration": 556,
    "start_time": "2024-08-31T10:20:43.898Z"
   },
   {
    "duration": 77,
    "start_time": "2024-08-31T10:20:44.456Z"
   },
   {
    "duration": 34,
    "start_time": "2024-08-31T10:20:44.535Z"
   },
   {
    "duration": 17,
    "start_time": "2024-08-31T10:20:44.571Z"
   },
   {
    "duration": 32,
    "start_time": "2024-08-31T10:20:44.590Z"
   },
   {
    "duration": 4,
    "start_time": "2024-08-31T10:20:51.582Z"
   },
   {
    "duration": 2924,
    "start_time": "2024-08-31T10:21:40.624Z"
   },
   {
    "duration": 2234,
    "start_time": "2024-08-31T10:21:43.550Z"
   },
   {
    "duration": 2801,
    "start_time": "2024-08-31T10:21:45.785Z"
   },
   {
    "duration": 16,
    "start_time": "2024-08-31T10:21:48.588Z"
   },
   {
    "duration": 148,
    "start_time": "2024-08-31T10:21:48.606Z"
   },
   {
    "duration": 5435,
    "start_time": "2024-08-31T10:21:48.756Z"
   },
   {
    "duration": 292,
    "start_time": "2024-08-31T10:21:54.194Z"
   },
   {
    "duration": 259,
    "start_time": "2024-08-31T10:21:54.488Z"
   },
   {
    "duration": 116,
    "start_time": "2024-08-31T10:21:54.753Z"
   },
   {
    "duration": 1056,
    "start_time": "2024-08-31T10:21:54.871Z"
   },
   {
    "duration": 26,
    "start_time": "2024-08-31T10:21:55.929Z"
   },
   {
    "duration": 132,
    "start_time": "2024-08-31T10:21:55.957Z"
   },
   {
    "duration": 30,
    "start_time": "2024-08-31T10:21:56.091Z"
   },
   {
    "duration": 3,
    "start_time": "2024-08-31T10:21:56.124Z"
   },
   {
    "duration": 594,
    "start_time": "2024-08-31T10:21:56.129Z"
   },
   {
    "duration": 101,
    "start_time": "2024-08-31T10:21:56.725Z"
   },
   {
    "duration": 30,
    "start_time": "2024-08-31T10:21:56.828Z"
   },
   {
    "duration": 4,
    "start_time": "2024-08-31T10:21:56.860Z"
   },
   {
    "duration": 14,
    "start_time": "2024-08-31T10:21:56.866Z"
   },
   {
    "duration": 2749,
    "start_time": "2024-08-31T10:22:13.779Z"
   },
   {
    "duration": 1307,
    "start_time": "2024-08-31T10:22:16.530Z"
   },
   {
    "duration": 836,
    "start_time": "2024-08-31T10:22:17.839Z"
   },
   {
    "duration": 16,
    "start_time": "2024-08-31T10:22:18.677Z"
   },
   {
    "duration": 159,
    "start_time": "2024-08-31T10:22:18.694Z"
   },
   {
    "duration": 5645,
    "start_time": "2024-08-31T10:22:18.854Z"
   },
   {
    "duration": 248,
    "start_time": "2024-08-31T10:22:24.501Z"
   },
   {
    "duration": 269,
    "start_time": "2024-08-31T10:22:24.751Z"
   },
   {
    "duration": 121,
    "start_time": "2024-08-31T10:22:25.022Z"
   },
   {
    "duration": 1055,
    "start_time": "2024-08-31T10:22:25.146Z"
   },
   {
    "duration": 10,
    "start_time": "2024-08-31T10:22:26.203Z"
   },
   {
    "duration": 162,
    "start_time": "2024-08-31T10:22:26.215Z"
   },
   {
    "duration": 28,
    "start_time": "2024-08-31T10:22:26.379Z"
   },
   {
    "duration": 2,
    "start_time": "2024-08-31T10:22:26.409Z"
   },
   {
    "duration": 547,
    "start_time": "2024-08-31T10:22:26.413Z"
   },
   {
    "duration": 91,
    "start_time": "2024-08-31T10:22:26.962Z"
   },
   {
    "duration": 31,
    "start_time": "2024-08-31T10:22:27.055Z"
   },
   {
    "duration": 6,
    "start_time": "2024-08-31T10:22:27.087Z"
   },
   {
    "duration": 11,
    "start_time": "2024-08-31T10:22:27.094Z"
   },
   {
    "duration": 5,
    "start_time": "2024-08-31T10:22:42.577Z"
   },
   {
    "duration": 3576,
    "start_time": "2024-08-31T10:23:40.228Z"
   },
   {
    "duration": 2183,
    "start_time": "2024-08-31T10:23:43.806Z"
   },
   {
    "duration": 2856,
    "start_time": "2024-08-31T10:23:45.990Z"
   },
   {
    "duration": 17,
    "start_time": "2024-08-31T10:23:48.847Z"
   },
   {
    "duration": 143,
    "start_time": "2024-08-31T10:23:48.866Z"
   },
   {
    "duration": 5672,
    "start_time": "2024-08-31T10:23:49.011Z"
   },
   {
    "duration": 270,
    "start_time": "2024-08-31T10:23:54.685Z"
   },
   {
    "duration": 314,
    "start_time": "2024-08-31T10:23:54.957Z"
   },
   {
    "duration": 124,
    "start_time": "2024-08-31T10:23:55.272Z"
   },
   {
    "duration": 1123,
    "start_time": "2024-08-31T10:23:55.398Z"
   },
   {
    "duration": 13,
    "start_time": "2024-08-31T10:23:56.522Z"
   },
   {
    "duration": 156,
    "start_time": "2024-08-31T10:23:56.537Z"
   },
   {
    "duration": 36,
    "start_time": "2024-08-31T10:23:56.695Z"
   },
   {
    "duration": 2,
    "start_time": "2024-08-31T10:23:56.732Z"
   },
   {
    "duration": 639,
    "start_time": "2024-08-31T10:23:56.735Z"
   },
   {
    "duration": 95,
    "start_time": "2024-08-31T10:23:57.376Z"
   },
   {
    "duration": 31,
    "start_time": "2024-08-31T10:23:57.473Z"
   },
   {
    "duration": 3,
    "start_time": "2024-08-31T10:23:57.506Z"
   },
   {
    "duration": 4,
    "start_time": "2024-08-31T10:23:57.510Z"
   },
   {
    "duration": 5,
    "start_time": "2024-08-31T10:24:05.261Z"
   },
   {
    "duration": 10,
    "start_time": "2024-08-31T10:32:10.885Z"
   },
   {
    "duration": 2816,
    "start_time": "2024-08-31T10:37:40.639Z"
   },
   {
    "duration": 2139,
    "start_time": "2024-08-31T10:37:43.458Z"
   },
   {
    "duration": 2815,
    "start_time": "2024-08-31T10:37:45.599Z"
   },
   {
    "duration": 15,
    "start_time": "2024-08-31T10:37:48.416Z"
   },
   {
    "duration": 145,
    "start_time": "2024-08-31T10:37:48.432Z"
   },
   {
    "duration": 5425,
    "start_time": "2024-08-31T10:37:48.578Z"
   },
   {
    "duration": 252,
    "start_time": "2024-08-31T10:37:54.005Z"
   },
   {
    "duration": 264,
    "start_time": "2024-08-31T10:37:54.260Z"
   },
   {
    "duration": 121,
    "start_time": "2024-08-31T10:37:54.525Z"
   },
   {
    "duration": 1038,
    "start_time": "2024-08-31T10:37:54.648Z"
   },
   {
    "duration": 11,
    "start_time": "2024-08-31T10:37:55.687Z"
   },
   {
    "duration": 155,
    "start_time": "2024-08-31T10:37:55.700Z"
   },
   {
    "duration": 29,
    "start_time": "2024-08-31T10:37:55.856Z"
   },
   {
    "duration": 2,
    "start_time": "2024-08-31T10:37:55.886Z"
   },
   {
    "duration": 547,
    "start_time": "2024-08-31T10:37:55.890Z"
   },
   {
    "duration": 78,
    "start_time": "2024-08-31T10:37:56.439Z"
   },
   {
    "duration": 35,
    "start_time": "2024-08-31T10:37:56.518Z"
   },
   {
    "duration": 13,
    "start_time": "2024-08-31T10:37:56.555Z"
   },
   {
    "duration": 15,
    "start_time": "2024-08-31T10:37:56.569Z"
   },
   {
    "duration": 4,
    "start_time": "2024-08-31T10:38:02.727Z"
   },
   {
    "duration": 2806,
    "start_time": "2024-08-31T10:38:39.693Z"
   },
   {
    "duration": 1921,
    "start_time": "2024-08-31T10:38:42.501Z"
   },
   {
    "duration": 2809,
    "start_time": "2024-08-31T10:38:44.424Z"
   },
   {
    "duration": 21,
    "start_time": "2024-08-31T10:38:47.235Z"
   },
   {
    "duration": 147,
    "start_time": "2024-08-31T10:38:47.258Z"
   },
   {
    "duration": 5532,
    "start_time": "2024-08-31T10:38:47.407Z"
   },
   {
    "duration": 261,
    "start_time": "2024-08-31T10:38:52.941Z"
   },
   {
    "duration": 304,
    "start_time": "2024-08-31T10:38:53.204Z"
   },
   {
    "duration": 146,
    "start_time": "2024-08-31T10:38:53.510Z"
   },
   {
    "duration": 1115,
    "start_time": "2024-08-31T10:38:53.658Z"
   },
   {
    "duration": 10,
    "start_time": "2024-08-31T10:38:54.775Z"
   },
   {
    "duration": 150,
    "start_time": "2024-08-31T10:38:54.787Z"
   },
   {
    "duration": 29,
    "start_time": "2024-08-31T10:38:54.938Z"
   },
   {
    "duration": 2,
    "start_time": "2024-08-31T10:38:54.969Z"
   },
   {
    "duration": 557,
    "start_time": "2024-08-31T10:38:54.973Z"
   },
   {
    "duration": 105,
    "start_time": "2024-08-31T10:38:55.532Z"
   },
   {
    "duration": 32,
    "start_time": "2024-08-31T10:38:55.639Z"
   },
   {
    "duration": 5,
    "start_time": "2024-08-31T10:38:55.672Z"
   },
   {
    "duration": 12,
    "start_time": "2024-08-31T10:38:55.678Z"
   },
   {
    "duration": 3,
    "start_time": "2024-08-31T10:39:05.523Z"
   },
   {
    "duration": 48,
    "start_time": "2024-08-31T10:41:46.697Z"
   },
   {
    "duration": 2762,
    "start_time": "2024-08-31T10:43:40.172Z"
   },
   {
    "duration": 2187,
    "start_time": "2024-08-31T10:43:42.938Z"
   },
   {
    "duration": 2803,
    "start_time": "2024-08-31T10:43:45.127Z"
   },
   {
    "duration": 15,
    "start_time": "2024-08-31T10:43:47.932Z"
   },
   {
    "duration": 146,
    "start_time": "2024-08-31T10:43:47.949Z"
   },
   {
    "duration": 5291,
    "start_time": "2024-08-31T10:43:48.096Z"
   },
   {
    "duration": 260,
    "start_time": "2024-08-31T10:43:53.389Z"
   },
   {
    "duration": 281,
    "start_time": "2024-08-31T10:43:53.651Z"
   },
   {
    "duration": 119,
    "start_time": "2024-08-31T10:43:53.934Z"
   },
   {
    "duration": 1028,
    "start_time": "2024-08-31T10:43:54.055Z"
   },
   {
    "duration": 10,
    "start_time": "2024-08-31T10:43:55.085Z"
   },
   {
    "duration": 178,
    "start_time": "2024-08-31T10:43:55.096Z"
   },
   {
    "duration": 28,
    "start_time": "2024-08-31T10:43:55.275Z"
   },
   {
    "duration": 72,
    "start_time": "2024-08-31T10:43:55.305Z"
   },
   {
    "duration": 527,
    "start_time": "2024-08-31T10:43:55.378Z"
   },
   {
    "duration": 95,
    "start_time": "2024-08-31T10:43:55.906Z"
   },
   {
    "duration": 29,
    "start_time": "2024-08-31T10:43:56.003Z"
   },
   {
    "duration": 5,
    "start_time": "2024-08-31T10:43:56.034Z"
   },
   {
    "duration": 4,
    "start_time": "2024-08-31T10:43:56.052Z"
   },
   {
    "duration": 5,
    "start_time": "2024-08-31T10:43:56.057Z"
   },
   {
    "duration": 2773,
    "start_time": "2024-08-31T11:28:58.529Z"
   },
   {
    "duration": 2245,
    "start_time": "2024-08-31T11:29:01.305Z"
   },
   {
    "duration": 2848,
    "start_time": "2024-08-31T11:29:03.552Z"
   },
   {
    "duration": 17,
    "start_time": "2024-08-31T11:29:06.403Z"
   },
   {
    "duration": 154,
    "start_time": "2024-08-31T11:29:06.421Z"
   },
   {
    "duration": 5534,
    "start_time": "2024-08-31T11:29:06.577Z"
   },
   {
    "duration": 267,
    "start_time": "2024-08-31T11:29:12.113Z"
   },
   {
    "duration": 266,
    "start_time": "2024-08-31T11:29:12.381Z"
   },
   {
    "duration": 118,
    "start_time": "2024-08-31T11:29:12.652Z"
   },
   {
    "duration": 1093,
    "start_time": "2024-08-31T11:29:12.772Z"
   },
   {
    "duration": 10,
    "start_time": "2024-08-31T11:29:13.867Z"
   },
   {
    "duration": 149,
    "start_time": "2024-08-31T11:29:13.879Z"
   },
   {
    "duration": 34,
    "start_time": "2024-08-31T11:29:14.029Z"
   },
   {
    "duration": 3,
    "start_time": "2024-08-31T11:29:14.064Z"
   },
   {
    "duration": 561,
    "start_time": "2024-08-31T11:29:14.068Z"
   },
   {
    "duration": 84,
    "start_time": "2024-08-31T11:29:14.631Z"
   },
   {
    "duration": 37,
    "start_time": "2024-08-31T11:29:14.716Z"
   },
   {
    "duration": 19,
    "start_time": "2024-08-31T11:29:14.754Z"
   },
   {
    "duration": 11,
    "start_time": "2024-08-31T11:29:14.775Z"
   },
   {
    "duration": 109,
    "start_time": "2024-08-31T11:29:48.867Z"
   },
   {
    "duration": 88,
    "start_time": "2024-08-31T11:30:00.590Z"
   },
   {
    "duration": 100,
    "start_time": "2024-08-31T11:30:58.560Z"
   },
   {
    "duration": 87,
    "start_time": "2024-08-31T11:31:08.601Z"
   },
   {
    "duration": 4,
    "start_time": "2024-08-31T11:31:12.369Z"
   },
   {
    "duration": 7008,
    "start_time": "2024-09-01T09:08:34.100Z"
   },
   {
    "duration": 1595,
    "start_time": "2024-09-01T09:08:41.111Z"
   },
   {
    "duration": 3155,
    "start_time": "2024-09-01T09:08:42.708Z"
   },
   {
    "duration": 21,
    "start_time": "2024-09-01T09:08:45.865Z"
   },
   {
    "duration": 186,
    "start_time": "2024-09-01T09:08:45.888Z"
   },
   {
    "duration": 6531,
    "start_time": "2024-09-01T09:08:46.077Z"
   },
   {
    "duration": 307,
    "start_time": "2024-09-01T09:08:52.610Z"
   },
   {
    "duration": 354,
    "start_time": "2024-09-01T09:08:52.919Z"
   },
   {
    "duration": 161,
    "start_time": "2024-09-01T09:08:53.276Z"
   },
   {
    "duration": 1252,
    "start_time": "2024-09-01T09:08:53.438Z"
   },
   {
    "duration": 12,
    "start_time": "2024-09-01T09:08:54.692Z"
   },
   {
    "duration": 173,
    "start_time": "2024-09-01T09:08:54.706Z"
   },
   {
    "duration": 29,
    "start_time": "2024-09-01T09:08:54.881Z"
   },
   {
    "duration": 370,
    "start_time": "2024-09-01T09:08:56.745Z"
   },
   {
    "duration": 913,
    "start_time": "2024-09-01T09:09:15.760Z"
   },
   {
    "duration": 25,
    "start_time": "2024-09-01T09:09:32.061Z"
   },
   {
    "duration": 760,
    "start_time": "2024-09-01T09:09:54.906Z"
   },
   {
    "duration": 86,
    "start_time": "2024-09-01T09:09:58.657Z"
   },
   {
    "duration": 19,
    "start_time": "2024-09-01T09:10:00.883Z"
   },
   {
    "duration": 3,
    "start_time": "2024-09-01T09:10:04.553Z"
   },
   {
    "duration": 4,
    "start_time": "2024-09-01T09:10:06.072Z"
   },
   {
    "duration": 5,
    "start_time": "2024-09-01T09:10:25.042Z"
   },
   {
    "duration": 690955,
    "start_time": "2024-09-01T09:10:27.425Z"
   },
   {
    "duration": 7,
    "start_time": "2024-09-01T09:27:14.864Z"
   },
   {
    "duration": 159,
    "start_time": "2024-09-01T09:27:17.304Z"
   },
   {
    "duration": 3279,
    "start_time": "2024-09-01T10:21:29.775Z"
   },
   {
    "duration": 1541,
    "start_time": "2024-09-01T10:21:33.056Z"
   },
   {
    "duration": 953,
    "start_time": "2024-09-01T10:21:34.599Z"
   },
   {
    "duration": 23,
    "start_time": "2024-09-01T10:21:35.557Z"
   },
   {
    "duration": 196,
    "start_time": "2024-09-01T10:21:35.581Z"
   },
   {
    "duration": 6421,
    "start_time": "2024-09-01T10:21:35.779Z"
   },
   {
    "duration": 297,
    "start_time": "2024-09-01T10:21:42.201Z"
   },
   {
    "duration": 296,
    "start_time": "2024-09-01T10:21:42.499Z"
   },
   {
    "duration": 134,
    "start_time": "2024-09-01T10:21:42.796Z"
   },
   {
    "duration": 1204,
    "start_time": "2024-09-01T10:21:42.932Z"
   },
   {
    "duration": 11,
    "start_time": "2024-09-01T10:21:44.138Z"
   },
   {
    "duration": 239,
    "start_time": "2024-09-01T10:21:44.151Z"
   },
   {
    "duration": 32,
    "start_time": "2024-09-01T10:21:44.393Z"
   },
   {
    "duration": 376,
    "start_time": "2024-09-01T10:21:44.427Z"
   },
   {
    "duration": 733,
    "start_time": "2024-09-01T10:21:44.805Z"
   },
   {
    "duration": 85,
    "start_time": "2024-09-01T10:21:45.540Z"
   },
   {
    "duration": 18,
    "start_time": "2024-09-01T10:21:45.627Z"
   },
   {
    "duration": 59,
    "start_time": "2024-09-01T10:21:45.647Z"
   },
   {
    "duration": 10,
    "start_time": "2024-09-01T10:21:45.708Z"
   },
   {
    "duration": 81,
    "start_time": "2024-09-01T10:21:45.719Z"
   },
   {
    "duration": 25,
    "start_time": "2024-09-01T10:21:45.801Z"
   },
   {
    "duration": 507737,
    "start_time": "2024-09-01T10:21:45.827Z"
   },
   {
    "duration": 6,
    "start_time": "2024-09-01T10:30:13.566Z"
   },
   {
    "duration": 266,
    "start_time": "2024-09-01T10:30:13.575Z"
   },
   {
    "duration": 2415743,
    "start_time": "2024-09-01T10:30:13.844Z"
   },
   {
    "duration": 3,
    "start_time": "2024-09-01T11:10:29.590Z"
   },
   {
    "duration": 15,
    "start_time": "2024-09-01T11:10:29.595Z"
   },
   {
    "duration": 1082,
    "start_time": "2024-09-01T11:10:29.615Z"
   },
   {
    "duration": 0,
    "start_time": "2024-09-01T11:10:30.699Z"
   },
   {
    "duration": 0,
    "start_time": "2024-09-01T11:10:30.700Z"
   },
   {
    "duration": 0,
    "start_time": "2024-09-01T11:10:30.701Z"
   },
   {
    "duration": 0,
    "start_time": "2024-09-01T11:10:30.702Z"
   },
   {
    "duration": 2143,
    "start_time": "2024-09-01T11:13:23.560Z"
   },
   {
    "duration": 788,
    "start_time": "2024-09-01T11:17:55.882Z"
   },
   {
    "duration": 5,
    "start_time": "2024-09-01T11:19:36.485Z"
   },
   {
    "duration": 44,
    "start_time": "2024-09-01T11:19:38.836Z"
   },
   {
    "duration": 5,
    "start_time": "2024-09-01T11:20:36.592Z"
   },
   {
    "duration": 865,
    "start_time": "2024-09-01T11:20:38.817Z"
   },
   {
    "duration": 12,
    "start_time": "2024-09-01T11:21:28.642Z"
   },
   {
    "duration": 26,
    "start_time": "2024-09-01T11:21:33.826Z"
   },
   {
    "duration": 28,
    "start_time": "2024-09-01T11:23:58.998Z"
   },
   {
    "duration": 970167,
    "start_time": "2024-09-01T11:24:15.952Z"
   },
   {
    "duration": 0,
    "start_time": "2024-09-01T11:40:26.120Z"
   },
   {
    "duration": 7,
    "start_time": "2024-09-01T11:55:44.813Z"
   },
   {
    "duration": 3018,
    "start_time": "2024-09-01T12:14:24.485Z"
   },
   {
    "duration": 1288,
    "start_time": "2024-09-01T12:14:27.505Z"
   },
   {
    "duration": 887,
    "start_time": "2024-09-01T12:14:28.794Z"
   },
   {
    "duration": 17,
    "start_time": "2024-09-01T12:14:29.683Z"
   },
   {
    "duration": 152,
    "start_time": "2024-09-01T12:14:29.701Z"
   },
   {
    "duration": 6081,
    "start_time": "2024-09-01T12:14:29.855Z"
   },
   {
    "duration": 283,
    "start_time": "2024-09-01T12:14:35.938Z"
   },
   {
    "duration": 302,
    "start_time": "2024-09-01T12:14:36.223Z"
   },
   {
    "duration": 146,
    "start_time": "2024-09-01T12:14:36.527Z"
   },
   {
    "duration": 1164,
    "start_time": "2024-09-01T12:14:36.677Z"
   },
   {
    "duration": 28,
    "start_time": "2024-09-01T12:14:37.843Z"
   },
   {
    "duration": 149,
    "start_time": "2024-09-01T12:14:37.874Z"
   },
   {
    "duration": 31,
    "start_time": "2024-09-01T12:14:38.025Z"
   },
   {
    "duration": 344,
    "start_time": "2024-09-01T12:14:38.065Z"
   },
   {
    "duration": 752,
    "start_time": "2024-09-01T12:14:38.411Z"
   },
   {
    "duration": 73,
    "start_time": "2024-09-01T12:14:39.164Z"
   },
   {
    "duration": 28,
    "start_time": "2024-09-01T12:14:39.239Z"
   },
   {
    "duration": 20,
    "start_time": "2024-09-01T12:14:39.268Z"
   },
   {
    "duration": 22,
    "start_time": "2024-09-01T12:14:39.290Z"
   },
   {
    "duration": 40,
    "start_time": "2024-09-01T12:14:39.313Z"
   },
   {
    "duration": 24,
    "start_time": "2024-09-01T12:14:39.354Z"
   },
   {
    "duration": 398906,
    "start_time": "2024-09-01T12:14:39.380Z"
   },
   {
    "duration": 7,
    "start_time": "2024-09-01T12:21:18.366Z"
   },
   {
    "duration": 235,
    "start_time": "2024-09-01T12:21:18.375Z"
   },
   {
    "duration": 3159,
    "start_time": "2024-09-01T13:03:51.820Z"
   },
   {
    "duration": 1400,
    "start_time": "2024-09-01T13:03:54.981Z"
   },
   {
    "duration": 1023,
    "start_time": "2024-09-01T13:03:56.382Z"
   },
   {
    "duration": 18,
    "start_time": "2024-09-01T13:03:57.408Z"
   },
   {
    "duration": 179,
    "start_time": "2024-09-01T13:03:57.427Z"
   },
   {
    "duration": 6528,
    "start_time": "2024-09-01T13:03:57.608Z"
   },
   {
    "duration": 315,
    "start_time": "2024-09-01T13:04:04.139Z"
   },
   {
    "duration": 325,
    "start_time": "2024-09-01T13:04:04.455Z"
   },
   {
    "duration": 136,
    "start_time": "2024-09-01T13:04:04.782Z"
   },
   {
    "duration": 1285,
    "start_time": "2024-09-01T13:04:04.920Z"
   },
   {
    "duration": 11,
    "start_time": "2024-09-01T13:04:06.207Z"
   },
   {
    "duration": 153,
    "start_time": "2024-09-01T13:04:06.220Z"
   },
   {
    "duration": 32,
    "start_time": "2024-09-01T13:04:06.377Z"
   },
   {
    "duration": 381,
    "start_time": "2024-09-01T13:04:06.411Z"
   },
   {
    "duration": 788,
    "start_time": "2024-09-01T13:04:06.794Z"
   },
   {
    "duration": 73,
    "start_time": "2024-09-01T13:04:07.584Z"
   },
   {
    "duration": 31,
    "start_time": "2024-09-01T13:04:07.659Z"
   },
   {
    "duration": 4,
    "start_time": "2024-09-01T13:04:07.692Z"
   },
   {
    "duration": 29,
    "start_time": "2024-09-01T13:04:07.697Z"
   },
   {
    "duration": 25,
    "start_time": "2024-09-01T13:04:07.728Z"
   },
   {
    "duration": 31,
    "start_time": "2024-09-01T13:04:07.755Z"
   },
   {
    "duration": 506585,
    "start_time": "2024-09-01T13:04:07.787Z"
   },
   {
    "duration": 93,
    "start_time": "2024-09-01T13:12:34.374Z"
   },
   {
    "duration": 249,
    "start_time": "2024-09-01T13:12:34.469Z"
   },
   {
    "duration": 1162834,
    "start_time": "2024-09-01T13:12:34.720Z"
   },
   {
    "duration": 0,
    "start_time": "2024-09-01T13:31:57.556Z"
   },
   {
    "duration": 0,
    "start_time": "2024-09-01T13:31:57.557Z"
   },
   {
    "duration": 0,
    "start_time": "2024-09-01T13:31:57.559Z"
   },
   {
    "duration": 0,
    "start_time": "2024-09-01T13:31:57.564Z"
   },
   {
    "duration": 0,
    "start_time": "2024-09-01T13:31:57.565Z"
   },
   {
    "duration": 0,
    "start_time": "2024-09-01T13:31:57.566Z"
   },
   {
    "duration": 0,
    "start_time": "2024-09-01T13:31:57.568Z"
   },
   {
    "duration": 2969,
    "start_time": "2024-09-01T13:32:54.845Z"
   },
   {
    "duration": 1317,
    "start_time": "2024-09-01T13:32:57.817Z"
   },
   {
    "duration": 895,
    "start_time": "2024-09-01T13:32:59.136Z"
   },
   {
    "duration": 18,
    "start_time": "2024-09-01T13:33:00.033Z"
   },
   {
    "duration": 241,
    "start_time": "2024-09-01T13:33:00.052Z"
   },
   {
    "duration": 5906,
    "start_time": "2024-09-01T13:33:00.294Z"
   },
   {
    "duration": 298,
    "start_time": "2024-09-01T13:33:06.202Z"
   },
   {
    "duration": 285,
    "start_time": "2024-09-01T13:33:06.502Z"
   },
   {
    "duration": 124,
    "start_time": "2024-09-01T13:33:06.789Z"
   },
   {
    "duration": 1163,
    "start_time": "2024-09-01T13:33:06.916Z"
   },
   {
    "duration": 12,
    "start_time": "2024-09-01T13:33:08.080Z"
   },
   {
    "duration": 189,
    "start_time": "2024-09-01T13:33:08.094Z"
   },
   {
    "duration": 31,
    "start_time": "2024-09-01T13:33:08.285Z"
   },
   {
    "duration": 347,
    "start_time": "2024-09-01T13:33:08.318Z"
   },
   {
    "duration": 729,
    "start_time": "2024-09-01T13:33:08.666Z"
   },
   {
    "duration": 75,
    "start_time": "2024-09-01T13:33:09.396Z"
   },
   {
    "duration": 18,
    "start_time": "2024-09-01T13:33:09.472Z"
   },
   {
    "duration": 14,
    "start_time": "2024-09-01T13:33:09.492Z"
   },
   {
    "duration": 5,
    "start_time": "2024-09-01T13:33:39.516Z"
   },
   {
    "duration": 138,
    "start_time": "2024-09-01T13:33:42.070Z"
   },
   {
    "duration": 740220,
    "start_time": "2024-09-01T13:33:45.391Z"
   },
   {
    "duration": 3116,
    "start_time": "2024-09-01T13:49:41.586Z"
   },
   {
    "duration": 1428,
    "start_time": "2024-09-01T13:49:44.705Z"
   },
   {
    "duration": 899,
    "start_time": "2024-09-01T13:49:46.135Z"
   },
   {
    "duration": 16,
    "start_time": "2024-09-01T13:49:47.036Z"
   },
   {
    "duration": 167,
    "start_time": "2024-09-01T13:49:47.054Z"
   },
   {
    "duration": 6061,
    "start_time": "2024-09-01T13:49:47.223Z"
   },
   {
    "duration": 287,
    "start_time": "2024-09-01T13:49:53.286Z"
   },
   {
    "duration": 384,
    "start_time": "2024-09-01T13:49:53.575Z"
   },
   {
    "duration": 143,
    "start_time": "2024-09-01T13:49:53.961Z"
   },
   {
    "duration": 1125,
    "start_time": "2024-09-01T13:49:54.107Z"
   },
   {
    "duration": 11,
    "start_time": "2024-09-01T13:49:55.234Z"
   },
   {
    "duration": 162,
    "start_time": "2024-09-01T13:49:55.246Z"
   },
   {
    "duration": 29,
    "start_time": "2024-09-01T13:49:55.410Z"
   },
   {
    "duration": 345,
    "start_time": "2024-09-01T13:49:55.441Z"
   },
   {
    "duration": 745,
    "start_time": "2024-09-01T13:49:55.788Z"
   },
   {
    "duration": 76,
    "start_time": "2024-09-01T13:49:56.534Z"
   },
   {
    "duration": 23,
    "start_time": "2024-09-01T13:49:56.611Z"
   },
   {
    "duration": 8,
    "start_time": "2024-09-01T13:49:56.636Z"
   },
   {
    "duration": 6,
    "start_time": "2024-09-01T13:49:56.645Z"
   },
   {
    "duration": 5,
    "start_time": "2024-09-01T13:49:56.664Z"
   },
   {
    "duration": 391995,
    "start_time": "2024-09-01T13:49:56.670Z"
   },
   {
    "duration": 5,
    "start_time": "2024-09-01T13:56:28.667Z"
   },
   {
    "duration": 200,
    "start_time": "2024-09-01T13:56:28.673Z"
   },
   {
    "duration": 4881417,
    "start_time": "2024-09-01T13:57:39.873Z"
   },
   {
    "duration": 7,
    "start_time": "2024-09-01T17:18:24.182Z"
   },
   {
    "duration": 959375,
    "start_time": "2024-09-01T17:18:26.761Z"
   },
   {
    "duration": 7272,
    "start_time": "2024-09-02T08:17:35.663Z"
   },
   {
    "duration": 1539,
    "start_time": "2024-09-02T08:17:42.939Z"
   },
   {
    "duration": 2898,
    "start_time": "2024-09-02T08:17:44.480Z"
   },
   {
    "duration": 18,
    "start_time": "2024-09-02T08:17:47.380Z"
   },
   {
    "duration": 161,
    "start_time": "2024-09-02T08:17:47.400Z"
   },
   {
    "duration": 6018,
    "start_time": "2024-09-02T08:17:47.563Z"
   },
   {
    "duration": 281,
    "start_time": "2024-09-02T08:17:53.583Z"
   },
   {
    "duration": 301,
    "start_time": "2024-09-02T08:17:53.866Z"
   },
   {
    "duration": 136,
    "start_time": "2024-09-02T08:17:54.169Z"
   },
   {
    "duration": 1191,
    "start_time": "2024-09-02T08:17:54.307Z"
   },
   {
    "duration": 11,
    "start_time": "2024-09-02T08:17:55.505Z"
   },
   {
    "duration": 142,
    "start_time": "2024-09-02T08:17:55.517Z"
   },
   {
    "duration": 30,
    "start_time": "2024-09-02T08:17:55.660Z"
   },
   {
    "duration": 380,
    "start_time": "2024-09-02T08:17:55.692Z"
   },
   {
    "duration": 779,
    "start_time": "2024-09-02T08:17:56.074Z"
   },
   {
    "duration": 75,
    "start_time": "2024-09-02T08:17:56.855Z"
   },
   {
    "duration": 18,
    "start_time": "2024-09-02T08:17:56.932Z"
   },
   {
    "duration": 7,
    "start_time": "2024-09-02T08:17:56.952Z"
   },
   {
    "duration": 4,
    "start_time": "2024-09-02T08:17:56.961Z"
   },
   {
    "duration": 6,
    "start_time": "2024-09-02T08:17:56.967Z"
   },
   {
    "duration": 365731,
    "start_time": "2024-09-02T08:17:56.975Z"
   },
   {
    "duration": 96,
    "start_time": "2024-09-02T08:24:02.710Z"
   },
   {
    "duration": 177,
    "start_time": "2024-09-02T08:24:02.808Z"
   },
   {
    "duration": 353818,
    "start_time": "2024-09-02T08:24:02.987Z"
   },
   {
    "duration": 6,
    "start_time": "2024-09-02T08:29:56.807Z"
   },
   {
    "duration": 923085,
    "start_time": "2024-09-02T08:29:56.814Z"
   },
   {
    "duration": 0,
    "start_time": "2024-09-02T08:45:19.901Z"
   },
   {
    "duration": 0,
    "start_time": "2024-09-02T08:45:19.902Z"
   },
   {
    "duration": 0,
    "start_time": "2024-09-02T08:45:19.904Z"
   },
   {
    "duration": 0,
    "start_time": "2024-09-02T08:45:19.905Z"
   },
   {
    "duration": 7044,
    "start_time": "2024-09-04T06:28:15.923Z"
   },
   {
    "duration": 1590,
    "start_time": "2024-09-04T06:28:22.969Z"
   },
   {
    "duration": 2985,
    "start_time": "2024-09-04T06:28:24.560Z"
   },
   {
    "duration": 17,
    "start_time": "2024-09-04T06:28:27.547Z"
   },
   {
    "duration": 171,
    "start_time": "2024-09-04T06:28:27.566Z"
   },
   {
    "duration": 6130,
    "start_time": "2024-09-04T06:28:27.739Z"
   },
   {
    "duration": 292,
    "start_time": "2024-09-04T06:28:33.871Z"
   },
   {
    "duration": 315,
    "start_time": "2024-09-04T06:28:34.164Z"
   },
   {
    "duration": 135,
    "start_time": "2024-09-04T06:28:34.481Z"
   },
   {
    "duration": 1256,
    "start_time": "2024-09-04T06:28:34.619Z"
   },
   {
    "duration": 12,
    "start_time": "2024-09-04T06:28:35.877Z"
   },
   {
    "duration": 171,
    "start_time": "2024-09-04T06:28:35.890Z"
   },
   {
    "duration": 42,
    "start_time": "2024-09-04T06:28:36.063Z"
   },
   {
    "duration": 330,
    "start_time": "2024-09-04T06:28:36.107Z"
   },
   {
    "duration": 755,
    "start_time": "2024-09-04T06:28:36.439Z"
   },
   {
    "duration": 70,
    "start_time": "2024-09-04T06:28:37.195Z"
   },
   {
    "duration": 18,
    "start_time": "2024-09-04T06:28:37.267Z"
   },
   {
    "duration": 18,
    "start_time": "2024-09-04T06:28:37.287Z"
   },
   {
    "duration": 33,
    "start_time": "2024-09-04T06:28:37.307Z"
   },
   {
    "duration": 5,
    "start_time": "2024-09-04T06:28:37.342Z"
   },
   {
    "duration": 357356,
    "start_time": "2024-09-04T06:28:37.348Z"
   },
   {
    "duration": 10,
    "start_time": "2024-09-04T06:34:34.707Z"
   },
   {
    "duration": 236,
    "start_time": "2024-09-04T06:34:34.720Z"
   },
   {
    "duration": 751573,
    "start_time": "2024-09-04T06:34:34.958Z"
   },
   {
    "duration": 5,
    "start_time": "2024-09-04T06:47:06.532Z"
   },
   {
    "duration": 924731,
    "start_time": "2024-09-04T06:47:06.538Z"
   },
   {
    "duration": 0,
    "start_time": "2024-09-04T07:02:31.271Z"
   },
   {
    "duration": 0,
    "start_time": "2024-09-04T07:02:31.272Z"
   },
   {
    "duration": 0,
    "start_time": "2024-09-04T07:02:31.273Z"
   },
   {
    "duration": 0,
    "start_time": "2024-09-04T07:02:31.274Z"
   },
   {
    "duration": 50,
    "start_time": "2024-09-04T10:25:02.443Z"
   },
   {
    "duration": 5,
    "start_time": "2024-09-04T10:25:42.018Z"
   },
   {
    "duration": 13,
    "start_time": "2024-09-04T10:25:44.771Z"
   },
   {
    "duration": 5,
    "start_time": "2024-09-04T10:26:22.795Z"
   },
   {
    "duration": 942966,
    "start_time": "2024-09-04T10:26:25.204Z"
   },
   {
    "duration": 0,
    "start_time": "2024-09-04T10:42:08.172Z"
   },
   {
    "duration": 7422,
    "start_time": "2024-09-05T06:14:31.140Z"
   },
   {
    "duration": 1606,
    "start_time": "2024-09-05T06:14:38.565Z"
   },
   {
    "duration": 3026,
    "start_time": "2024-09-05T06:14:40.173Z"
   },
   {
    "duration": 21,
    "start_time": "2024-09-05T06:14:43.201Z"
   },
   {
    "duration": 167,
    "start_time": "2024-09-05T06:14:43.224Z"
   },
   {
    "duration": 6245,
    "start_time": "2024-09-05T06:14:43.392Z"
   },
   {
    "duration": 330,
    "start_time": "2024-09-05T06:14:49.639Z"
   },
   {
    "duration": 340,
    "start_time": "2024-09-05T06:14:49.971Z"
   },
   {
    "duration": 152,
    "start_time": "2024-09-05T06:14:50.312Z"
   },
   {
    "duration": 1285,
    "start_time": "2024-09-05T06:14:50.467Z"
   },
   {
    "duration": 12,
    "start_time": "2024-09-05T06:14:51.754Z"
   },
   {
    "duration": 171,
    "start_time": "2024-09-05T06:14:51.767Z"
   },
   {
    "duration": 31,
    "start_time": "2024-09-05T06:14:51.939Z"
   },
   {
    "duration": 376,
    "start_time": "2024-09-05T06:14:51.972Z"
   },
   {
    "duration": 764,
    "start_time": "2024-09-05T06:14:52.350Z"
   },
   {
    "duration": 76,
    "start_time": "2024-09-05T06:14:53.115Z"
   },
   {
    "duration": 19,
    "start_time": "2024-09-05T06:14:53.193Z"
   },
   {
    "duration": 20,
    "start_time": "2024-09-05T06:14:53.214Z"
   },
   {
    "duration": 28,
    "start_time": "2024-09-05T06:14:53.236Z"
   },
   {
    "duration": 15,
    "start_time": "2024-09-05T06:14:53.266Z"
   },
   {
    "duration": 445572,
    "start_time": "2024-09-05T06:14:53.283Z"
   },
   {
    "duration": 89,
    "start_time": "2024-09-05T06:22:18.857Z"
   },
   {
    "duration": 366,
    "start_time": "2024-09-05T06:22:18.948Z"
   },
   {
    "duration": 921156,
    "start_time": "2024-09-05T06:22:19.316Z"
   },
   {
    "duration": 6,
    "start_time": "2024-09-05T06:37:40.474Z"
   },
   {
    "duration": 986133,
    "start_time": "2024-09-05T06:37:40.481Z"
   },
   {
    "duration": 0,
    "start_time": "2024-09-05T06:54:06.616Z"
   },
   {
    "duration": 0,
    "start_time": "2024-09-05T06:54:06.617Z"
   },
   {
    "duration": 0,
    "start_time": "2024-09-05T06:54:06.618Z"
   },
   {
    "duration": 0,
    "start_time": "2024-09-05T06:54:06.619Z"
   },
   {
    "duration": 6,
    "start_time": "2024-09-05T15:51:40.242Z"
   },
   {
    "duration": 7002,
    "start_time": "2024-09-09T14:45:13.960Z"
   },
   {
    "duration": 1599,
    "start_time": "2024-09-09T14:45:20.965Z"
   },
   {
    "duration": 1154,
    "start_time": "2024-09-09T14:45:22.566Z"
   },
   {
    "duration": 16,
    "start_time": "2024-09-09T14:45:23.722Z"
   },
   {
    "duration": 150,
    "start_time": "2024-09-09T14:45:23.740Z"
   },
   {
    "duration": 5766,
    "start_time": "2024-09-09T14:45:23.892Z"
   },
   {
    "duration": 276,
    "start_time": "2024-09-09T14:45:29.660Z"
   },
   {
    "duration": 288,
    "start_time": "2024-09-09T14:45:29.938Z"
   },
   {
    "duration": 163,
    "start_time": "2024-09-09T14:45:30.228Z"
   },
   {
    "duration": 1087,
    "start_time": "2024-09-09T14:45:30.394Z"
   },
   {
    "duration": 15,
    "start_time": "2024-09-09T14:45:31.482Z"
   },
   {
    "duration": 143,
    "start_time": "2024-09-09T14:45:31.499Z"
   },
   {
    "duration": 27,
    "start_time": "2024-09-09T14:45:31.644Z"
   },
   {
    "duration": 330,
    "start_time": "2024-09-09T14:45:31.673Z"
   },
   {
    "duration": 698,
    "start_time": "2024-09-09T14:45:32.005Z"
   },
   {
    "duration": 67,
    "start_time": "2024-09-09T14:45:32.705Z"
   },
   {
    "duration": 28,
    "start_time": "2024-09-09T14:45:32.774Z"
   },
   {
    "duration": 4,
    "start_time": "2024-09-09T14:45:32.803Z"
   },
   {
    "duration": 17,
    "start_time": "2024-09-09T14:45:32.808Z"
   },
   {
    "duration": 5,
    "start_time": "2024-09-09T14:45:32.826Z"
   },
   {
    "duration": 386165,
    "start_time": "2024-09-09T14:45:32.832Z"
   },
   {
    "duration": 6,
    "start_time": "2024-09-09T14:51:59.091Z"
   },
   {
    "duration": 235,
    "start_time": "2024-09-09T14:51:59.100Z"
   },
   {
    "duration": 7066,
    "start_time": "2024-09-10T06:04:08.597Z"
   },
   {
    "duration": 1638,
    "start_time": "2024-09-10T06:04:15.666Z"
   },
   {
    "duration": 1257,
    "start_time": "2024-09-10T06:04:17.306Z"
   },
   {
    "duration": 16,
    "start_time": "2024-09-10T06:04:18.566Z"
   },
   {
    "duration": 175,
    "start_time": "2024-09-10T06:04:18.584Z"
   },
   {
    "duration": 6214,
    "start_time": "2024-09-10T06:04:18.760Z"
   },
   {
    "duration": 300,
    "start_time": "2024-09-10T06:04:24.976Z"
   },
   {
    "duration": 306,
    "start_time": "2024-09-10T06:04:25.278Z"
   },
   {
    "duration": 144,
    "start_time": "2024-09-10T06:04:25.585Z"
   },
   {
    "duration": 1216,
    "start_time": "2024-09-10T06:04:25.732Z"
   },
   {
    "duration": 11,
    "start_time": "2024-09-10T06:04:26.950Z"
   },
   {
    "duration": 163,
    "start_time": "2024-09-10T06:04:26.963Z"
   },
   {
    "duration": 29,
    "start_time": "2024-09-10T06:04:27.128Z"
   },
   {
    "duration": 379,
    "start_time": "2024-09-10T06:04:27.158Z"
   },
   {
    "duration": 798,
    "start_time": "2024-09-10T06:04:27.540Z"
   },
   {
    "duration": 115,
    "start_time": "2024-09-10T06:04:28.341Z"
   },
   {
    "duration": 48,
    "start_time": "2024-09-10T06:04:28.458Z"
   },
   {
    "duration": 101,
    "start_time": "2024-09-10T06:04:28.508Z"
   },
   {
    "duration": 12,
    "start_time": "2024-09-10T06:04:28.611Z"
   },
   {
    "duration": 35,
    "start_time": "2024-09-10T06:04:28.624Z"
   },
   {
    "duration": 345141,
    "start_time": "2024-09-10T06:04:28.660Z"
   },
   {
    "duration": 7,
    "start_time": "2024-09-10T06:10:13.804Z"
   },
   {
    "duration": 171,
    "start_time": "2024-09-10T06:10:13.898Z"
   },
   {
    "duration": 233538,
    "start_time": "2024-09-10T06:10:14.071Z"
   },
   {
    "duration": 150,
    "start_time": "2024-09-10T06:14:07.611Z"
   },
   {
    "duration": 0,
    "start_time": "2024-09-10T06:14:07.763Z"
   },
   {
    "duration": 0,
    "start_time": "2024-09-10T06:14:07.764Z"
   },
   {
    "duration": 0,
    "start_time": "2024-09-10T06:14:07.765Z"
   },
   {
    "duration": 0,
    "start_time": "2024-09-10T06:14:07.766Z"
   },
   {
    "duration": 0,
    "start_time": "2024-09-10T06:14:07.767Z"
   },
   {
    "duration": 0,
    "start_time": "2024-09-10T06:14:07.768Z"
   },
   {
    "duration": 8,
    "start_time": "2024-09-10T06:29:40.599Z"
   },
   {
    "duration": 1043734,
    "start_time": "2024-09-10T06:29:43.393Z"
   },
   {
    "duration": 7317,
    "start_time": "2024-09-12T13:10:22.873Z"
   },
   {
    "duration": 1642,
    "start_time": "2024-09-12T13:10:30.193Z"
   },
   {
    "duration": 1238,
    "start_time": "2024-09-12T13:10:31.837Z"
   },
   {
    "duration": 20,
    "start_time": "2024-09-12T13:10:33.077Z"
   },
   {
    "duration": 151,
    "start_time": "2024-09-12T13:10:33.099Z"
   },
   {
    "duration": 6078,
    "start_time": "2024-09-12T13:10:33.252Z"
   },
   {
    "duration": 344,
    "start_time": "2024-09-12T13:10:39.332Z"
   },
   {
    "duration": 321,
    "start_time": "2024-09-12T13:10:39.678Z"
   },
   {
    "duration": 143,
    "start_time": "2024-09-12T13:10:40.001Z"
   },
   {
    "duration": 1196,
    "start_time": "2024-09-12T13:10:40.149Z"
   },
   {
    "duration": 11,
    "start_time": "2024-09-12T13:10:41.346Z"
   },
   {
    "duration": 136,
    "start_time": "2024-09-12T13:10:41.359Z"
   },
   {
    "duration": 38,
    "start_time": "2024-09-12T13:10:41.497Z"
   },
   {
    "duration": 352,
    "start_time": "2024-09-12T13:10:41.537Z"
   },
   {
    "duration": 770,
    "start_time": "2024-09-12T13:10:41.891Z"
   },
   {
    "duration": 85,
    "start_time": "2024-09-12T13:10:42.663Z"
   },
   {
    "duration": 18,
    "start_time": "2024-09-12T13:10:42.749Z"
   },
   {
    "duration": 9,
    "start_time": "2024-09-12T13:10:42.769Z"
   },
   {
    "duration": 20,
    "start_time": "2024-09-12T13:10:42.779Z"
   },
   {
    "duration": 13,
    "start_time": "2024-09-12T13:10:42.801Z"
   },
   {
    "duration": 389415,
    "start_time": "2024-09-12T13:10:42.816Z"
   },
   {
    "duration": 92,
    "start_time": "2024-09-12T13:17:12.234Z"
   },
   {
    "duration": 209,
    "start_time": "2024-09-12T13:17:12.328Z"
   },
   {
    "duration": 407951,
    "start_time": "2024-09-12T13:17:12.539Z"
   },
   {
    "duration": 0,
    "start_time": "2024-09-12T13:24:00.492Z"
   },
   {
    "duration": 0,
    "start_time": "2024-09-12T13:24:00.493Z"
   },
   {
    "duration": 0,
    "start_time": "2024-09-12T13:24:00.495Z"
   },
   {
    "duration": 0,
    "start_time": "2024-09-12T13:24:00.496Z"
   },
   {
    "duration": 0,
    "start_time": "2024-09-12T13:24:00.497Z"
   },
   {
    "duration": 0,
    "start_time": "2024-09-12T13:24:00.498Z"
   },
   {
    "duration": 3002,
    "start_time": "2024-09-12T13:32:54.756Z"
   },
   {
    "duration": 1293,
    "start_time": "2024-09-12T13:32:57.760Z"
   },
   {
    "duration": 926,
    "start_time": "2024-09-12T13:32:59.055Z"
   },
   {
    "duration": 16,
    "start_time": "2024-09-12T13:32:59.983Z"
   },
   {
    "duration": 160,
    "start_time": "2024-09-12T13:33:00.001Z"
   },
   {
    "duration": 5760,
    "start_time": "2024-09-12T13:33:00.162Z"
   },
   {
    "duration": 290,
    "start_time": "2024-09-12T13:33:05.924Z"
   },
   {
    "duration": 322,
    "start_time": "2024-09-12T13:33:06.216Z"
   },
   {
    "duration": 131,
    "start_time": "2024-09-12T13:33:06.539Z"
   },
   {
    "duration": 1146,
    "start_time": "2024-09-12T13:33:06.673Z"
   },
   {
    "duration": 12,
    "start_time": "2024-09-12T13:33:07.825Z"
   },
   {
    "duration": 139,
    "start_time": "2024-09-12T13:33:07.839Z"
   },
   {
    "duration": 29,
    "start_time": "2024-09-12T13:33:07.979Z"
   },
   {
    "duration": 343,
    "start_time": "2024-09-12T13:33:08.010Z"
   },
   {
    "duration": 764,
    "start_time": "2024-09-12T13:33:08.354Z"
   },
   {
    "duration": 78,
    "start_time": "2024-09-12T13:33:09.119Z"
   },
   {
    "duration": 27,
    "start_time": "2024-09-12T13:33:09.199Z"
   },
   {
    "duration": 47,
    "start_time": "2024-09-12T13:33:09.228Z"
   },
   {
    "duration": 14,
    "start_time": "2024-09-12T13:33:09.277Z"
   },
   {
    "duration": 35,
    "start_time": "2024-09-12T13:33:09.293Z"
   },
   {
    "duration": 392209,
    "start_time": "2024-09-12T13:33:09.329Z"
   },
   {
    "duration": 90,
    "start_time": "2024-09-12T13:39:41.540Z"
   },
   {
    "duration": 222,
    "start_time": "2024-09-12T13:39:41.632Z"
   },
   {
    "duration": 277794,
    "start_time": "2024-09-12T13:39:41.856Z"
   },
   {
    "duration": 4,
    "start_time": "2024-09-12T13:44:19.652Z"
   },
   {
    "duration": 897781,
    "start_time": "2024-09-12T13:44:19.657Z"
   },
   {
    "duration": 0,
    "start_time": "2024-09-12T13:59:17.440Z"
   },
   {
    "duration": 0,
    "start_time": "2024-09-12T13:59:17.441Z"
   },
   {
    "duration": 0,
    "start_time": "2024-09-12T13:59:17.442Z"
   },
   {
    "duration": 0,
    "start_time": "2024-09-12T13:59:17.443Z"
   },
   {
    "duration": 5,
    "start_time": "2024-09-12T14:03:55.531Z"
   },
   {
    "duration": 5,
    "start_time": "2024-09-12T14:04:21.916Z"
   },
   {
    "duration": 905658,
    "start_time": "2024-09-12T14:04:24.349Z"
   },
   {
    "duration": 3,
    "start_time": "2024-09-12T14:22:19.337Z"
   },
   {
    "duration": 8,
    "start_time": "2024-09-12T14:22:22.717Z"
   },
   {
    "duration": 9,
    "start_time": "2024-09-12T14:22:33.373Z"
   },
   {
    "duration": 9,
    "start_time": "2024-09-12T14:22:39.406Z"
   },
   {
    "duration": 3237,
    "start_time": "2024-09-12T14:27:18.407Z"
   },
   {
    "duration": 24,
    "start_time": "2024-09-12T14:32:25.313Z"
   },
   {
    "duration": 13,
    "start_time": "2024-09-12T14:33:13.132Z"
   },
   {
    "duration": 11,
    "start_time": "2024-09-12T14:33:57.885Z"
   },
   {
    "duration": 934,
    "start_time": "2024-09-12T14:34:25.942Z"
   },
   {
    "duration": 52,
    "start_time": "2024-09-12T14:35:45.671Z"
   },
   {
    "duration": 3237,
    "start_time": "2024-09-12T14:35:57.873Z"
   },
   {
    "duration": 1484,
    "start_time": "2024-09-12T14:36:01.113Z"
   },
   {
    "duration": 950,
    "start_time": "2024-09-12T14:36:02.599Z"
   },
   {
    "duration": 19,
    "start_time": "2024-09-12T14:36:03.552Z"
   },
   {
    "duration": 175,
    "start_time": "2024-09-12T14:36:03.573Z"
   },
   {
    "duration": 6096,
    "start_time": "2024-09-12T14:36:03.750Z"
   },
   {
    "duration": 270,
    "start_time": "2024-09-12T14:36:09.847Z"
   },
   {
    "duration": 319,
    "start_time": "2024-09-12T14:36:10.119Z"
   },
   {
    "duration": 128,
    "start_time": "2024-09-12T14:36:10.439Z"
   },
   {
    "duration": 1212,
    "start_time": "2024-09-12T14:36:10.570Z"
   },
   {
    "duration": 14,
    "start_time": "2024-09-12T14:36:11.784Z"
   },
   {
    "duration": 163,
    "start_time": "2024-09-12T14:36:11.800Z"
   },
   {
    "duration": 29,
    "start_time": "2024-09-12T14:36:11.965Z"
   },
   {
    "duration": 324,
    "start_time": "2024-09-12T14:36:11.995Z"
   },
   {
    "duration": 714,
    "start_time": "2024-09-12T14:36:12.324Z"
   },
   {
    "duration": 85,
    "start_time": "2024-09-12T14:36:13.040Z"
   },
   {
    "duration": 19,
    "start_time": "2024-09-12T14:36:13.127Z"
   },
   {
    "duration": 57,
    "start_time": "2024-09-12T14:36:13.147Z"
   },
   {
    "duration": 70,
    "start_time": "2024-09-12T14:36:13.205Z"
   },
   {
    "duration": 12,
    "start_time": "2024-09-12T14:36:13.277Z"
   },
   {
    "duration": 397335,
    "start_time": "2024-09-12T14:36:13.291Z"
   },
   {
    "duration": 95,
    "start_time": "2024-09-12T14:42:50.631Z"
   },
   {
    "duration": 148,
    "start_time": "2024-09-12T14:42:50.728Z"
   },
   {
    "duration": 3252,
    "start_time": "2024-09-12T15:37:43.922Z"
   },
   {
    "duration": 1331,
    "start_time": "2024-09-12T15:37:47.176Z"
   },
   {
    "duration": 978,
    "start_time": "2024-09-12T15:37:48.509Z"
   },
   {
    "duration": 19,
    "start_time": "2024-09-12T15:37:49.489Z"
   },
   {
    "duration": 215,
    "start_time": "2024-09-12T15:37:49.510Z"
   },
   {
    "duration": 6263,
    "start_time": "2024-09-12T15:37:49.727Z"
   },
   {
    "duration": 320,
    "start_time": "2024-09-12T15:37:55.992Z"
   },
   {
    "duration": 328,
    "start_time": "2024-09-12T15:37:56.313Z"
   },
   {
    "duration": 145,
    "start_time": "2024-09-12T15:37:56.643Z"
   },
   {
    "duration": 1235,
    "start_time": "2024-09-12T15:37:56.790Z"
   },
   {
    "duration": 12,
    "start_time": "2024-09-12T15:37:58.027Z"
   },
   {
    "duration": 150,
    "start_time": "2024-09-12T15:37:58.041Z"
   },
   {
    "duration": 39,
    "start_time": "2024-09-12T15:37:58.193Z"
   },
   {
    "duration": 367,
    "start_time": "2024-09-12T15:37:58.234Z"
   },
   {
    "duration": 778,
    "start_time": "2024-09-12T15:37:58.603Z"
   },
   {
    "duration": 78,
    "start_time": "2024-09-12T15:37:59.382Z"
   },
   {
    "duration": 18,
    "start_time": "2024-09-12T15:37:59.462Z"
   },
   {
    "duration": 5,
    "start_time": "2024-09-12T15:37:59.482Z"
   },
   {
    "duration": 6,
    "start_time": "2024-09-12T15:37:59.489Z"
   },
   {
    "duration": 5,
    "start_time": "2024-09-12T15:37:59.496Z"
   },
   {
    "duration": 393230,
    "start_time": "2024-09-12T15:37:59.502Z"
   },
   {
    "duration": 93,
    "start_time": "2024-09-12T15:44:32.733Z"
   },
   {
    "duration": 188,
    "start_time": "2024-09-12T15:44:32.828Z"
   },
   {
    "duration": 2985,
    "start_time": "2024-09-12T17:18:36.517Z"
   },
   {
    "duration": 1443,
    "start_time": "2024-09-12T17:18:39.505Z"
   },
   {
    "duration": 958,
    "start_time": "2024-09-12T17:18:40.950Z"
   },
   {
    "duration": 21,
    "start_time": "2024-09-12T17:18:41.910Z"
   },
   {
    "duration": 167,
    "start_time": "2024-09-12T17:18:41.932Z"
   },
   {
    "duration": 6053,
    "start_time": "2024-09-12T17:18:42.101Z"
   },
   {
    "duration": 274,
    "start_time": "2024-09-12T17:18:48.156Z"
   },
   {
    "duration": 301,
    "start_time": "2024-09-12T17:18:48.432Z"
   },
   {
    "duration": 132,
    "start_time": "2024-09-12T17:18:48.735Z"
   },
   {
    "duration": 1216,
    "start_time": "2024-09-12T17:18:48.870Z"
   },
   {
    "duration": 13,
    "start_time": "2024-09-12T17:18:50.087Z"
   },
   {
    "duration": 188,
    "start_time": "2024-09-12T17:18:50.102Z"
   },
   {
    "duration": 39,
    "start_time": "2024-09-12T17:18:50.292Z"
   },
   {
    "duration": 337,
    "start_time": "2024-09-12T17:18:50.333Z"
   },
   {
    "duration": 792,
    "start_time": "2024-09-12T17:18:50.671Z"
   },
   {
    "duration": 82,
    "start_time": "2024-09-12T17:18:51.466Z"
   },
   {
    "duration": 19,
    "start_time": "2024-09-12T17:18:51.549Z"
   },
   {
    "duration": 8,
    "start_time": "2024-09-12T17:18:51.569Z"
   },
   {
    "duration": 6,
    "start_time": "2024-09-12T17:18:51.579Z"
   },
   {
    "duration": 6,
    "start_time": "2024-09-12T17:18:51.587Z"
   },
   {
    "duration": 447350,
    "start_time": "2024-09-12T17:18:51.595Z"
   },
   {
    "duration": 87,
    "start_time": "2024-09-12T17:26:18.948Z"
   },
   {
    "duration": 219,
    "start_time": "2024-09-12T17:26:19.040Z"
   },
   {
    "duration": 341466,
    "start_time": "2024-09-12T17:26:19.260Z"
   },
   {
    "duration": 172631,
    "start_time": "2024-09-12T17:32:00.727Z"
   },
   {
    "duration": 3,
    "start_time": "2024-09-12T17:34:53.360Z"
   },
   {
    "duration": 15,
    "start_time": "2024-09-12T17:34:53.364Z"
   },
   {
    "duration": 119,
    "start_time": "2024-09-12T17:34:53.382Z"
   },
   {
    "duration": 0,
    "start_time": "2024-09-12T17:34:53.502Z"
   },
   {
    "duration": 1,
    "start_time": "2024-09-12T17:34:53.503Z"
   },
   {
    "duration": 0,
    "start_time": "2024-09-12T17:34:53.505Z"
   },
   {
    "duration": 7382,
    "start_time": "2024-09-13T08:21:02.828Z"
   },
   {
    "duration": 1610,
    "start_time": "2024-09-13T08:21:10.212Z"
   },
   {
    "duration": 3080,
    "start_time": "2024-09-13T08:21:11.824Z"
   },
   {
    "duration": 18,
    "start_time": "2024-09-13T08:21:14.906Z"
   },
   {
    "duration": 159,
    "start_time": "2024-09-13T08:21:14.925Z"
   },
   {
    "duration": 6168,
    "start_time": "2024-09-13T08:21:15.085Z"
   },
   {
    "duration": 291,
    "start_time": "2024-09-13T08:21:21.255Z"
   },
   {
    "duration": 311,
    "start_time": "2024-09-13T08:21:21.547Z"
   },
   {
    "duration": 132,
    "start_time": "2024-09-13T08:21:21.860Z"
   },
   {
    "duration": 1229,
    "start_time": "2024-09-13T08:21:21.995Z"
   },
   {
    "duration": 12,
    "start_time": "2024-09-13T08:21:23.225Z"
   },
   {
    "duration": 153,
    "start_time": "2024-09-13T08:21:23.239Z"
   },
   {
    "duration": 31,
    "start_time": "2024-09-13T08:21:23.394Z"
   },
   {
    "duration": 366,
    "start_time": "2024-09-13T08:21:23.426Z"
   },
   {
    "duration": 802,
    "start_time": "2024-09-13T08:21:23.793Z"
   },
   {
    "duration": 71,
    "start_time": "2024-09-13T08:21:24.597Z"
   },
   {
    "duration": 18,
    "start_time": "2024-09-13T08:21:24.669Z"
   },
   {
    "duration": 23,
    "start_time": "2024-09-13T08:21:24.689Z"
   },
   {
    "duration": 25,
    "start_time": "2024-09-13T08:21:24.715Z"
   },
   {
    "duration": 32,
    "start_time": "2024-09-13T08:21:24.741Z"
   },
   {
    "duration": 335835,
    "start_time": "2024-09-13T08:21:24.775Z"
   },
   {
    "duration": 6,
    "start_time": "2024-09-13T08:27:00.704Z"
   },
   {
    "duration": 248,
    "start_time": "2024-09-13T08:27:00.712Z"
   },
   {
    "duration": 394278,
    "start_time": "2024-09-13T08:27:00.962Z"
   },
   {
    "duration": 177797,
    "start_time": "2024-09-13T08:33:35.243Z"
   },
   {
    "duration": 3,
    "start_time": "2024-09-13T08:36:33.041Z"
   },
   {
    "duration": 18,
    "start_time": "2024-09-13T08:36:33.046Z"
   },
   {
    "duration": 116,
    "start_time": "2024-09-13T08:36:33.068Z"
   },
   {
    "duration": 0,
    "start_time": "2024-09-13T08:36:33.186Z"
   },
   {
    "duration": 0,
    "start_time": "2024-09-13T08:36:33.187Z"
   },
   {
    "duration": 0,
    "start_time": "2024-09-13T08:36:33.189Z"
   },
   {
    "duration": 7,
    "start_time": "2024-09-13T18:31:32.164Z"
   },
   {
    "duration": 955278,
    "start_time": "2024-09-13T18:31:37.162Z"
   },
   {
    "duration": 13,
    "start_time": "2024-09-13T18:50:50.859Z"
   },
   {
    "duration": 12,
    "start_time": "2024-09-13T18:51:56.565Z"
   },
   {
    "duration": 9,
    "start_time": "2024-09-13T18:55:34.869Z"
   },
   {
    "duration": 34,
    "start_time": "2024-09-13T19:01:01.835Z"
   },
   {
    "duration": 36,
    "start_time": "2024-09-13T19:01:10.154Z"
   },
   {
    "duration": 223,
    "start_time": "2024-09-13T19:03:47.608Z"
   },
   {
    "duration": 6,
    "start_time": "2024-09-13T19:04:01.139Z"
   },
   {
    "duration": 1047175,
    "start_time": "2024-09-13T19:04:05.208Z"
   },
   {
    "duration": 77,
    "start_time": "2024-09-13T19:24:15.389Z"
   },
   {
    "duration": 17,
    "start_time": "2024-09-13T19:24:49.865Z"
   },
   {
    "duration": 66,
    "start_time": "2024-09-13T19:25:13.118Z"
   },
   {
    "duration": 7,
    "start_time": "2024-09-13T19:26:30.653Z"
   },
   {
    "duration": 13,
    "start_time": "2024-09-13T19:26:38.732Z"
   },
   {
    "duration": 5,
    "start_time": "2024-09-13T19:26:49.467Z"
   },
   {
    "duration": 14,
    "start_time": "2024-09-13T19:28:45.205Z"
   },
   {
    "duration": 1123747,
    "start_time": "2024-09-13T19:28:48.282Z"
   },
   {
    "duration": 10,
    "start_time": "2024-09-13T19:47:55.577Z"
   },
   {
    "duration": 3380,
    "start_time": "2024-09-13T19:48:31.932Z"
   },
   {
    "duration": 1467,
    "start_time": "2024-09-13T19:48:35.315Z"
   },
   {
    "duration": 1064,
    "start_time": "2024-09-13T19:48:36.784Z"
   },
   {
    "duration": 17,
    "start_time": "2024-09-13T19:48:37.850Z"
   },
   {
    "duration": 187,
    "start_time": "2024-09-13T19:48:37.869Z"
   },
   {
    "duration": 6804,
    "start_time": "2024-09-13T19:48:38.057Z"
   },
   {
    "duration": 356,
    "start_time": "2024-09-13T19:48:44.863Z"
   },
   {
    "duration": 322,
    "start_time": "2024-09-13T19:48:45.227Z"
   },
   {
    "duration": 143,
    "start_time": "2024-09-13T19:48:45.550Z"
   },
   {
    "duration": 1304,
    "start_time": "2024-09-13T19:48:45.695Z"
   },
   {
    "duration": 27,
    "start_time": "2024-09-13T19:48:47.005Z"
   },
   {
    "duration": 165,
    "start_time": "2024-09-13T19:48:47.034Z"
   },
   {
    "duration": 38,
    "start_time": "2024-09-13T19:48:47.200Z"
   },
   {
    "duration": 405,
    "start_time": "2024-09-13T19:48:47.239Z"
   },
   {
    "duration": 820,
    "start_time": "2024-09-13T19:48:47.646Z"
   },
   {
    "duration": 87,
    "start_time": "2024-09-13T19:48:48.468Z"
   },
   {
    "duration": 18,
    "start_time": "2024-09-13T19:48:48.556Z"
   },
   {
    "duration": 23,
    "start_time": "2024-09-13T19:48:48.575Z"
   },
   {
    "duration": 8,
    "start_time": "2024-09-13T19:48:48.600Z"
   },
   {
    "duration": 10,
    "start_time": "2024-09-13T19:48:48.610Z"
   },
   {
    "duration": 832513,
    "start_time": "2024-09-13T19:48:48.621Z"
   },
   {
    "duration": 76,
    "start_time": "2024-09-13T20:02:41.138Z"
   },
   {
    "duration": 229,
    "start_time": "2024-09-13T20:02:41.219Z"
   },
   {
    "duration": 2824171,
    "start_time": "2024-09-13T20:02:41.449Z"
   },
   {
    "duration": 137,
    "start_time": "2024-09-13T20:49:45.622Z"
   },
   {
    "duration": 6,
    "start_time": "2024-09-13T20:49:45.761Z"
   },
   {
    "duration": 1032090,
    "start_time": "2024-09-13T20:49:45.769Z"
   },
   {
    "duration": 12,
    "start_time": "2024-09-13T21:06:57.864Z"
   },
   {
    "duration": 132,
    "start_time": "2024-09-13T21:06:57.878Z"
   },
   {
    "duration": 0,
    "start_time": "2024-09-13T21:06:58.012Z"
   },
   {
    "duration": 0,
    "start_time": "2024-09-13T21:06:58.013Z"
   },
   {
    "duration": 108,
    "start_time": "2024-09-13T21:10:31.695Z"
   },
   {
    "duration": 487,
    "start_time": "2024-09-13T21:10:34.465Z"
   },
   {
    "duration": 426,
    "start_time": "2024-09-13T21:11:06.275Z"
   },
   {
    "duration": 13,
    "start_time": "2024-09-13T21:11:16.832Z"
   },
   {
    "duration": 2,
    "start_time": "2024-09-13T21:13:08.319Z"
   },
   {
    "duration": 9,
    "start_time": "2024-09-13T21:13:17.830Z"
   },
   {
    "duration": 9,
    "start_time": "2024-09-13T21:13:29.055Z"
   },
   {
    "duration": 13,
    "start_time": "2024-09-13T21:13:37.592Z"
   },
   {
    "duration": 4,
    "start_time": "2024-09-13T21:14:25.680Z"
   },
   {
    "duration": 3,
    "start_time": "2024-09-13T21:14:49.929Z"
   },
   {
    "duration": 44,
    "start_time": "2024-09-13T21:15:08.242Z"
   },
   {
    "duration": 157,
    "start_time": "2024-09-13T21:15:15.395Z"
   },
   {
    "duration": 4,
    "start_time": "2024-09-13T21:15:17.596Z"
   },
   {
    "duration": 6,
    "start_time": "2024-09-13T21:15:20.453Z"
   },
   {
    "duration": 43,
    "start_time": "2024-09-13T21:15:28.794Z"
   },
   {
    "duration": 163,
    "start_time": "2024-09-13T21:15:31.035Z"
   },
   {
    "duration": 7,
    "start_time": "2024-09-13T21:15:32.922Z"
   }
  ],
  "kernelspec": {
   "display_name": "Python 3 (ipykernel)",
   "language": "python",
   "name": "python3"
  },
  "language_info": {
   "codemirror_mode": {
    "name": "ipython",
    "version": 3
   },
   "file_extension": ".py",
   "mimetype": "text/x-python",
   "name": "python",
   "nbconvert_exporter": "python",
   "pygments_lexer": "ipython3",
   "version": "3.9.5"
  },
  "toc": {
   "base_numbering": 1,
   "nav_menu": {},
   "number_sections": true,
   "sideBar": true,
   "skip_h1_title": true,
   "title_cell": "Table of Contents",
   "title_sidebar": "Contents",
   "toc_cell": false,
   "toc_position": {
    "height": "calc(100% - 180px)",
    "left": "10px",
    "top": "150px",
    "width": "216px"
   },
   "toc_section_display": true,
   "toc_window_display": true
  }
 },
 "nbformat": 4,
 "nbformat_minor": 2
}
