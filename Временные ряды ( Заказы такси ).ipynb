{
 "cells": [
  {
   "cell_type": "markdown",
   "metadata": {
    "toc": true
   },
   "source": [
    "<h1>Содержание<span class=\"tocSkip\"></span></h1>\n",
    "<div class=\"toc\"><ul class=\"toc-item\"><li><span><a href=\"#Подготовка\" data-toc-modified-id=\"Подготовка-1\"><span class=\"toc-item-num\">1&nbsp;&nbsp;</span>Подготовка</a></span></li><li><span><a href=\"#Анализ\" data-toc-modified-id=\"Анализ-2\"><span class=\"toc-item-num\">2&nbsp;&nbsp;</span>Анализ</a></span></li><li><span><a href=\"#Обучение\" data-toc-modified-id=\"Обучение-3\"><span class=\"toc-item-num\">3&nbsp;&nbsp;</span>Обучение</a></span></li><li><span><a href=\"#Тестирование\" data-toc-modified-id=\"Тестирование-4\"><span class=\"toc-item-num\">4&nbsp;&nbsp;</span>Тестирование</a></span></li><li><span><a href=\"#Чек-лист-проверки\" data-toc-modified-id=\"Чек-лист-проверки-5\"><span class=\"toc-item-num\">5&nbsp;&nbsp;</span>Чек-лист проверки</a></span></li></ul></div>"
   ]
  },
  {
   "cell_type": "markdown",
   "metadata": {},
   "source": [
    "#  Прогнозирование заказов такси"
   ]
  },
  {
   "cell_type": "markdown",
   "metadata": {},
   "source": [
    "Компания «Чётенькое такси» собрала исторические данные о заказах такси в аэропортах. Чтобы привлекать больше водителей в период пиковой нагрузки, нужно спрогнозировать количество заказов такси на следующий час. Постройте модель для такого предсказания.\n",
    "\n",
    "Значение метрики *RMSE* на тестовой выборке должно быть не больше 48.\n",
    "\n",
    "Вам нужно:\n",
    "\n",
    "1. Загрузить данные и выполнить их ресемплирование по одному часу.\n",
    "2. Проанализировать данные.\n",
    "3. Обучить разные модели с различными гиперпараметрами. Сделать тестовую выборку размером 10% от исходных данных.\n",
    "4. Проверить данные на тестовой выборке и сделать выводы.\n",
    "\n",
    "\n",
    "Данные лежат в файле `taxi.csv`. Количество заказов находится в столбце `num_orders` (от англ. *number of orders*, «число заказов»)."
   ]
  },
  {
   "cell_type": "markdown",
   "metadata": {},
   "source": [
    "## Подготовка"
   ]
  },
  {
   "cell_type": "code",
   "execution_count": 1,
   "metadata": {},
   "outputs": [],
   "source": [
    "import pandas as pd\n",
    "import numpy as np\n",
    "import seaborn as sb\n",
    "import scipy.stats as st\n",
    "import matplotlib as mp\n",
    "import matplotlib.pyplot as plt\n",
    "\n",
    "RANDOM_STATE = 41\n",
    "\n",
    "from sklearn.model_selection import train_test_split\n",
    "from sklearn.model_selection import RandomizedSearchCV\n",
    "from sklearn.model_selection import GridSearchCV\n",
    "from sklearn.model_selection import TimeSeriesSplit\n",
    "from statsmodels.tsa.seasonal import seasonal_decompose\n",
    "from sklearn.preprocessing import StandardScaler\n",
    "from sklearn.impute import SimpleImputer\n",
    "from sklearn.metrics import mean_squared_error\n",
    "from sklearn.pipeline import Pipeline\n",
    "\n",
    "from sklearn.linear_model import LinearRegression\n",
    "from sklearn.tree import DecisionTreeRegressor"
   ]
  },
  {
   "cell_type": "code",
   "execution_count": 2,
   "metadata": {},
   "outputs": [],
   "source": [
    "data = pd.read_csv('/datasets/taxi.csv' ,index_col=[0], parse_dates=[0])\n",
    "data.sort_index(inplace=True)"
   ]
  },
  {
   "cell_type": "code",
   "execution_count": 3,
   "metadata": {},
   "outputs": [
    {
     "data": {
      "text/html": [
       "<div>\n",
       "<style scoped>\n",
       "    .dataframe tbody tr th:only-of-type {\n",
       "        vertical-align: middle;\n",
       "    }\n",
       "\n",
       "    .dataframe tbody tr th {\n",
       "        vertical-align: top;\n",
       "    }\n",
       "\n",
       "    .dataframe thead th {\n",
       "        text-align: right;\n",
       "    }\n",
       "</style>\n",
       "<table border=\"1\" class=\"dataframe\">\n",
       "  <thead>\n",
       "    <tr style=\"text-align: right;\">\n",
       "      <th></th>\n",
       "      <th>num_orders</th>\n",
       "    </tr>\n",
       "    <tr>\n",
       "      <th>datetime</th>\n",
       "      <th></th>\n",
       "    </tr>\n",
       "  </thead>\n",
       "  <tbody>\n",
       "    <tr>\n",
       "      <th>2018-03-01 00:00:00</th>\n",
       "      <td>9</td>\n",
       "    </tr>\n",
       "    <tr>\n",
       "      <th>2018-03-01 00:10:00</th>\n",
       "      <td>14</td>\n",
       "    </tr>\n",
       "    <tr>\n",
       "      <th>2018-03-01 00:20:00</th>\n",
       "      <td>28</td>\n",
       "    </tr>\n",
       "    <tr>\n",
       "      <th>2018-03-01 00:30:00</th>\n",
       "      <td>20</td>\n",
       "    </tr>\n",
       "    <tr>\n",
       "      <th>2018-03-01 00:40:00</th>\n",
       "      <td>32</td>\n",
       "    </tr>\n",
       "    <tr>\n",
       "      <th>...</th>\n",
       "      <td>...</td>\n",
       "    </tr>\n",
       "    <tr>\n",
       "      <th>2018-08-31 23:10:00</th>\n",
       "      <td>32</td>\n",
       "    </tr>\n",
       "    <tr>\n",
       "      <th>2018-08-31 23:20:00</th>\n",
       "      <td>24</td>\n",
       "    </tr>\n",
       "    <tr>\n",
       "      <th>2018-08-31 23:30:00</th>\n",
       "      <td>27</td>\n",
       "    </tr>\n",
       "    <tr>\n",
       "      <th>2018-08-31 23:40:00</th>\n",
       "      <td>39</td>\n",
       "    </tr>\n",
       "    <tr>\n",
       "      <th>2018-08-31 23:50:00</th>\n",
       "      <td>53</td>\n",
       "    </tr>\n",
       "  </tbody>\n",
       "</table>\n",
       "<p>26496 rows × 1 columns</p>\n",
       "</div>"
      ],
      "text/plain": [
       "                     num_orders\n",
       "datetime                       \n",
       "2018-03-01 00:00:00           9\n",
       "2018-03-01 00:10:00          14\n",
       "2018-03-01 00:20:00          28\n",
       "2018-03-01 00:30:00          20\n",
       "2018-03-01 00:40:00          32\n",
       "...                         ...\n",
       "2018-08-31 23:10:00          32\n",
       "2018-08-31 23:20:00          24\n",
       "2018-08-31 23:30:00          27\n",
       "2018-08-31 23:40:00          39\n",
       "2018-08-31 23:50:00          53\n",
       "\n",
       "[26496 rows x 1 columns]"
      ]
     },
     "metadata": {},
     "output_type": "display_data"
    },
    {
     "name": "stdout",
     "output_type": "stream",
     "text": [
      "<class 'pandas.core.frame.DataFrame'>\n",
      "DatetimeIndex: 26496 entries, 2018-03-01 00:00:00 to 2018-08-31 23:50:00\n",
      "Data columns (total 1 columns):\n",
      " #   Column      Non-Null Count  Dtype\n",
      "---  ------      --------------  -----\n",
      " 0   num_orders  26496 non-null  int64\n",
      "dtypes: int64(1)\n",
      "memory usage: 414.0 KB\n"
     ]
    }
   ],
   "source": [
    "display(data)\n",
    "data.info()"
   ]
  },
  {
   "cell_type": "code",
   "execution_count": 4,
   "metadata": {},
   "outputs": [],
   "source": [
    "data_analisis = data.copy()\n",
    "data_hours = data_analisis.resample('1H').sum()\n",
    "data_days = data_analisis.resample('1D').sum()\n",
    "data_months = data_analisis.resample('1M').sum()"
   ]
  },
  {
   "cell_type": "markdown",
   "metadata": {},
   "source": [
    "Нам предоставлены данные с марта по август 2018-го года. Качество данных хорошее."
   ]
  },
  {
   "cell_type": "markdown",
   "metadata": {},
   "source": [
    "## Анализ"
   ]
  },
  {
   "cell_type": "code",
   "execution_count": 5,
   "metadata": {
    "scrolled": false
   },
   "outputs": [
    {
     "data": {
      "text/plain": [
       "<AxesSubplot:xlabel='datetime'>"
      ]
     },
     "execution_count": 5,
     "metadata": {},
     "output_type": "execute_result"
    },
    {
     "data": {
      "image/png": "[encoded data removed]",
      "text/plain": [
       "<Figure size 432x288 with 1 Axes>"
      ]
     },
     "metadata": {
      "needs_background": "light"
     },
     "output_type": "display_data"
    }
   ],
   "source": [
    "data_days_copy = data_days.copy()\n",
    "data_days_copy['rolling_mean'] = data_days_copy.rolling(10).mean() \n",
    "data_days_copy['std'] = data_days_copy['num_orders'].rolling(10).std()\n",
    "data_days_copy.plot()"
   ]
  },
  {
   "cell_type": "code",
   "execution_count": 6,
   "metadata": {},
   "outputs": [],
   "source": [
    "decomposed = seasonal_decompose(data_days, period=7)\n",
    "data_hours_dec = data_hours.copy()\n",
    "data_hours_dec = data_hours_dec['2018-03-01':'2018-03-03']\n",
    "decomposed_2 = seasonal_decompose(data_hours_dec, period=24)"
   ]
  },
  {
   "cell_type": "code",
   "execution_count": 7,
   "metadata": {
    "scrolled": false
   },
   "outputs": [
    {
     "data": {
      "image/png": "[encoded data removed]",
      "text/plain": [
       "<Figure size 432x576 with 4 Axes>"
      ]
     },
     "metadata": {
      "needs_background": "light"
     },
     "output_type": "display_data"
    }
   ],
   "source": [
    "plt.figure(figsize=(6, 8))\n",
    "plt.subplot(411)\n",
    "decomposed.trend.plot(ax=plt.gca())\n",
    "plt.title('Trend')\n",
    "plt.subplot(412)\n",
    "decomposed.seasonal.plot(ax=plt.gca()) \n",
    "plt.title('Seasonality week')\n",
    "plt.subplot(413)\n",
    "decomposed_2.seasonal.plot(ax=plt.gca()) \n",
    "plt.title('Seasonality day')\n",
    "plt.subplot(414)\n",
    "decomposed.resid.plot(ax=plt.gca()) \n",
    "plt.title('Residuals')\n",
    "plt.tight_layout()"
   ]
  },
  {
   "cell_type": "markdown",
   "metadata": {},
   "source": [
    "По анализу временного ряда можно сделать следующие выводы:\n",
    "- Тренд идет вверх, следовательно количество заказов с каждым месяцем повышается.\n",
    "- Разброс остатков достаточно велик, значит спрос не постоянен. К концу график увеличивается это говорит о том, что модели может быть сложно научиться на данных и в метрики тренировочной и тестовой выборки могут значительно отличаться.\n",
    "- Также в спросе ярко выражены как недельная так и суточная сезонности. Суточная ожидаемо приходится на ночное время, недельная конец недели и выходные."
   ]
  },
  {
   "cell_type": "markdown",
   "metadata": {},
   "source": [
    "## Обучение\n",
    "<a id='1-topoc'></a>"
   ]
  },
  {
   "cell_type": "code",
   "execution_count": 8,
   "metadata": {},
   "outputs": [],
   "source": [
    "# data_ml = data_hours.copy()\n",
    "# data_ml['year'] = pd.DatetimeIndex(data_ml.index).year\n",
    "# data_ml['month'] = pd.DatetimeIndex(data_ml.index).month\n",
    "# data_ml['day'] = pd.DatetimeIndex(data_ml.index).day\n",
    "# data_ml['hour'] = pd.DatetimeIndex(data_ml.index).hour"
   ]
  },
  {
   "cell_type": "code",
   "execution_count": 9,
   "metadata": {},
   "outputs": [],
   "source": [
    "def make_features(df, max_lag):\n",
    "    df['dayofweek'] = df.index.dayofweek\n",
    "#     df['dayofweek_lag'] = df['num_orders'].shift(168)\n",
    "    df['day'] = df.index.day\n",
    "#     df['day_lag'] = df['num_orders'].shift(24)\n",
    "    df['hour'] = df.index.hour\n",
    "    df['rolling_mean'] = df['num_orders'].shift().rolling(12).mean()\n",
    "    \n",
    "    for lag in range(1, max_lag + 1):\n",
    "        df['lag_{}'.format(lag)] = df['num_orders'].shift(lag)\n",
    "    \n",
    "\n",
    "data_ml = data_hours.copy()\n",
    "make_features(data_ml, 168)\n",
    "data_ml = data_ml.reset_index(drop=True)"
   ]
  },
  {
   "cell_type": "code",
   "execution_count": 10,
   "metadata": {},
   "outputs": [
    {
     "data": {
      "image/png": "[encoded data removed]",
      "text/plain": [
       "<Figure size 1332x432 with 1 Axes>"
      ]
     },
     "metadata": {
      "needs_background": "light"
     },
     "output_type": "display_data"
    },
    {
     "data": {
      "image/png": "[encoded data removed]",
      "text/plain": [
       "<Figure size 1332x432 with 1 Axes>"
      ]
     },
     "metadata": {
      "needs_background": "light"
     },
     "output_type": "display_data"
    }
   ],
   "source": [
    "# Код ревьюера (Украдено)\n",
    "from statsmodels.graphics import tsaplots\n",
    "\n",
    "# taxi = pd.read_csv(\"/datasets/taxi.csv\", index_col=[0], parse_dates=[0]).resample('1H').sum()\n",
    "data_isho = data.copy()\n",
    "data_isho = data_isho['num_orders']\n",
    "\n",
    "fig = tsaplots.plot_acf(data_isho,lags= 24)\n",
    "fig.set_size_inches(18.5, 6)\n",
    "plt.ylim(-.1, 1.1)\n",
    "plt.show() \n",
    "\n",
    "fig = tsaplots.plot_acf(data_isho,lags= 168)\n",
    "fig.set_size_inches(18.5, 6)\n",
    "plt.ylim(-.1, 1.1)\n",
    "plt.show() "
   ]
  },
  {
   "cell_type": "code",
   "execution_count": 11,
   "metadata": {},
   "outputs": [],
   "source": [
    "X_train, X_test, y_train, y_test = train_test_split(\n",
    "    data_ml.drop('num_orders', axis=1), \n",
    "    data_ml['num_orders'],\n",
    "    shuffle=False,\n",
    "    test_size = 0.1,\n",
    "    random_state=RANDOM_STATE\n",
    ")"
   ]
  },
  {
   "cell_type": "code",
   "execution_count": 12,
   "metadata": {},
   "outputs": [
    {
     "name": "stderr",
     "output_type": "stream",
     "text": [
      "/opt/conda/lib/python3.9/site-packages/sklearn/impute/_base.py:49: FutureWarning: Unlike other reduction functions (e.g. `skew`, `kurtosis`), the default behavior of `mode` typically preserves the axis it acts along. In SciPy 1.11.0, this behavior will change: the default value of `keepdims` will become False, the `axis` over which the statistic is taken will be eliminated, and the value None will no longer be accepted. Set `keepdims` to True or False to avoid this warning.\n",
      "  mode = stats.mode(array)\n"
     ]
    }
   ],
   "source": [
    "scaler = StandardScaler()\n",
    "X_train = scaler.fit_transform(X_train)\n",
    "X_test = scaler.transform(X_test)\n",
    "\n",
    "imputer = SimpleImputer(\n",
    "    missing_values=np.nan,\n",
    "    strategy='most_frequent'\n",
    ") \n",
    "\n",
    "X_train = imputer.fit_transform(X_train)\n",
    "X_test = imputer.transform(X_test)"
   ]
  },
  {
   "cell_type": "code",
   "execution_count": 13,
   "metadata": {},
   "outputs": [],
   "source": [
    "param_grid = [\n",
    "\n",
    "    # словарь для модели DecisionTreeRegressor()\n",
    "    {\n",
    "        'models': [DecisionTreeRegressor(random_state=RANDOM_STATE)],\n",
    "        'models__max_depth': range(2, 5),\n",
    "        'models__max_features': range(2,5),\n",
    "        'models__min_samples_split': range(2,5),\n",
    "        'models__min_samples_leaf': range(1,5)\n",
    "    },\n",
    "\n",
    "    # словарь для модели LinearRegression()\n",
    "    {\n",
    "        'models': [LinearRegression()]\n",
    "    }\n",
    "]"
   ]
  },
  {
   "cell_type": "code",
   "execution_count": 14,
   "metadata": {},
   "outputs": [],
   "source": [
    "pipe_final = Pipeline([\n",
    "    ('models', LinearRegression())\n",
    "])"
   ]
  },
  {
   "cell_type": "code",
   "execution_count": 15,
   "metadata": {},
   "outputs": [],
   "source": [
    "tscv = TimeSeriesSplit(n_splits=5)\n",
    "grid_search = GridSearchCV(\n",
    "    pipe_final,\n",
    "    param_grid,\n",
    "    cv=tscv,\n",
    "    scoring='neg_root_mean_squared_error',\n",
    "    n_jobs=-1\n",
    ")"
   ]
  },
  {
   "cell_type": "code",
   "execution_count": 16,
   "metadata": {},
   "outputs": [
    {
     "name": "stdout",
     "output_type": "stream",
     "text": [
      "Лучшая модель и её параметры:\n",
      "\n",
      " Pipeline(steps=[('models', LinearRegression())])\n",
      "Метрика лучшей модели, полученная с помощью кросс-валидации: 22.618589530051743\n"
     ]
    }
   ],
   "source": [
    "grid_search.fit(X_train, y_train)\n",
    "\n",
    "print('Лучшая модель и её параметры:\\n\\n', grid_search.best_estimator_)\n",
    "print ('Метрика лучшей модели, полученная с помощью кросс-валидации:', -grid_search.best_score_)"
   ]
  },
  {
   "cell_type": "markdown",
   "metadata": {},
   "source": [
    "В результате построения модели машинного обучения лучший результат дала линейная регрессия среднее отклонение результатов составляет 22 и не превышает 48, что соответствует техническому заданию"
   ]
  },
  {
   "cell_type": "markdown",
   "metadata": {},
   "source": [
    "## Тестирование"
   ]
  },
  {
   "cell_type": "code",
   "execution_count": 17,
   "metadata": {},
   "outputs": [
    {
     "name": "stdout",
     "output_type": "stream",
     "text": [
      "Root Mean Square Error (RMSE): 34.55249698829419\n"
     ]
    }
   ],
   "source": [
    "y_pred = grid_search.predict(X_test)\n",
    "mse = mean_squared_error(y_test, y_pred)\n",
    "rmse = np.sqrt(mse)\n",
    "print(f\"Root Mean Square Error (RMSE): {rmse}\")"
   ]
  },
  {
   "cell_type": "markdown",
   "metadata": {},
   "source": [
    "На тестовой выборке результаты несколько ухудшились из-за того что разброс данных к концу временного периода значительно увеличивается."
   ]
  }
 ],
 "metadata": {
  "ExecuteTimeLog": [
   {
    "duration": 1293,
    "start_time": "2024-09-15T13:44:09.406Z"
   },
   {
    "duration": 158,
    "start_time": "2024-09-15T13:44:43.753Z"
   },
   {
    "duration": 11,
    "start_time": "2024-09-15T13:45:12.251Z"
   },
   {
    "duration": 16,
    "start_time": "2024-09-15T13:45:42.931Z"
   },
   {
    "duration": 111,
    "start_time": "2024-09-15T13:50:02.301Z"
   },
   {
    "duration": 8,
    "start_time": "2024-09-15T13:51:28.433Z"
   },
   {
    "duration": 10,
    "start_time": "2024-09-15T13:52:37.187Z"
   },
   {
    "duration": 7,
    "start_time": "2024-09-15T13:52:47.380Z"
   },
   {
    "duration": 8,
    "start_time": "2024-09-15T13:53:09.356Z"
   },
   {
    "duration": 44,
    "start_time": "2024-09-15T13:53:18.148Z"
   },
   {
    "duration": 2,
    "start_time": "2024-09-15T13:53:26.157Z"
   },
   {
    "duration": 15,
    "start_time": "2024-09-15T13:53:27.957Z"
   },
   {
    "duration": 3,
    "start_time": "2024-09-15T13:53:33.893Z"
   },
   {
    "duration": 15,
    "start_time": "2024-09-15T13:53:36.413Z"
   },
   {
    "duration": 4,
    "start_time": "2024-09-15T13:53:51.117Z"
   },
   {
    "duration": 8,
    "start_time": "2024-09-15T13:53:53.004Z"
   },
   {
    "duration": 41,
    "start_time": "2024-09-15T13:53:57.838Z"
   },
   {
    "duration": 40,
    "start_time": "2024-09-15T13:54:14.150Z"
   },
   {
    "duration": 4,
    "start_time": "2024-09-15T13:54:16.182Z"
   },
   {
    "duration": 15,
    "start_time": "2024-09-15T13:54:18.022Z"
   },
   {
    "duration": 3,
    "start_time": "2024-09-15T13:54:24.750Z"
   },
   {
    "duration": 16,
    "start_time": "2024-09-15T13:54:26.822Z"
   },
   {
    "duration": 39,
    "start_time": "2024-09-15T13:55:31.377Z"
   },
   {
    "duration": 3,
    "start_time": "2024-09-15T13:55:33.595Z"
   },
   {
    "duration": 15,
    "start_time": "2024-09-15T13:55:35.529Z"
   },
   {
    "duration": 15,
    "start_time": "2024-09-15T13:55:39.832Z"
   },
   {
    "duration": 17,
    "start_time": "2024-09-15T13:55:40.801Z"
   },
   {
    "duration": 3,
    "start_time": "2024-09-15T13:55:44.153Z"
   },
   {
    "duration": 16,
    "start_time": "2024-09-15T13:55:46.217Z"
   },
   {
    "duration": 10,
    "start_time": "2024-09-15T13:58:26.958Z"
   },
   {
    "duration": 9,
    "start_time": "2024-09-15T13:58:36.672Z"
   },
   {
    "duration": 9,
    "start_time": "2024-09-15T13:59:57.140Z"
   },
   {
    "duration": 5,
    "start_time": "2024-09-15T14:00:21.251Z"
   },
   {
    "duration": 15,
    "start_time": "2024-09-15T14:00:23.596Z"
   },
   {
    "duration": 39,
    "start_time": "2024-09-15T14:00:31.036Z"
   },
   {
    "duration": 5,
    "start_time": "2024-09-15T14:00:33.491Z"
   },
   {
    "duration": 15,
    "start_time": "2024-09-15T14:00:35.443Z"
   },
   {
    "duration": 3,
    "start_time": "2024-09-15T14:05:01.821Z"
   },
   {
    "duration": 15,
    "start_time": "2024-09-15T14:05:04.766Z"
   },
   {
    "duration": 4,
    "start_time": "2024-09-15T14:05:31.430Z"
   },
   {
    "duration": 16,
    "start_time": "2024-09-15T14:05:33.710Z"
   },
   {
    "duration": 40,
    "start_time": "2024-09-15T14:05:40.169Z"
   },
   {
    "duration": 15,
    "start_time": "2024-09-15T14:05:43.370Z"
   },
   {
    "duration": 14,
    "start_time": "2024-09-15T14:05:50.942Z"
   },
   {
    "duration": 13,
    "start_time": "2024-09-15T14:06:03.039Z"
   },
   {
    "duration": 4,
    "start_time": "2024-09-15T14:06:35.962Z"
   },
   {
    "duration": 16,
    "start_time": "2024-09-15T14:06:39.017Z"
   },
   {
    "duration": 4,
    "start_time": "2024-09-15T14:06:47.633Z"
   },
   {
    "duration": 15,
    "start_time": "2024-09-15T14:06:49.161Z"
   },
   {
    "duration": 7,
    "start_time": "2024-09-15T14:08:15.443Z"
   },
   {
    "duration": 7,
    "start_time": "2024-09-15T14:08:21.724Z"
   },
   {
    "duration": 13,
    "start_time": "2024-09-15T14:08:47.717Z"
   },
   {
    "duration": 11,
    "start_time": "2024-09-15T14:09:06.520Z"
   },
   {
    "duration": 12,
    "start_time": "2024-09-15T14:09:12.582Z"
   },
   {
    "duration": 10,
    "start_time": "2024-09-15T14:09:18.299Z"
   },
   {
    "duration": 11,
    "start_time": "2024-09-15T14:09:56.111Z"
   },
   {
    "duration": 11,
    "start_time": "2024-09-15T14:09:59.527Z"
   },
   {
    "duration": 10,
    "start_time": "2024-09-15T14:10:06.208Z"
   },
   {
    "duration": 39,
    "start_time": "2024-09-15T14:11:26.859Z"
   },
   {
    "duration": 7,
    "start_time": "2024-09-15T14:11:28.813Z"
   },
   {
    "duration": 7,
    "start_time": "2024-09-15T14:11:32.647Z"
   },
   {
    "duration": 10,
    "start_time": "2024-09-15T14:11:34.675Z"
   },
   {
    "duration": 38,
    "start_time": "2024-09-15T14:11:44.963Z"
   },
   {
    "duration": 10,
    "start_time": "2024-09-15T14:11:47.468Z"
   },
   {
    "duration": 40,
    "start_time": "2024-09-15T14:11:51.092Z"
   },
   {
    "duration": 9,
    "start_time": "2024-09-15T14:11:53.068Z"
   },
   {
    "duration": 14,
    "start_time": "2024-09-15T14:11:56.100Z"
   },
   {
    "duration": 13,
    "start_time": "2024-09-15T14:14:07.656Z"
   },
   {
    "duration": 10,
    "start_time": "2024-09-15T14:14:24.786Z"
   },
   {
    "duration": 12,
    "start_time": "2024-09-15T14:14:35.193Z"
   },
   {
    "duration": 7,
    "start_time": "2024-09-15T14:14:41.642Z"
   },
   {
    "duration": 39,
    "start_time": "2024-09-15T14:15:38.651Z"
   },
   {
    "duration": 4,
    "start_time": "2024-09-15T14:15:40.795Z"
   },
   {
    "duration": 11,
    "start_time": "2024-09-15T14:15:42.812Z"
   },
   {
    "duration": 10,
    "start_time": "2024-09-15T14:15:54.189Z"
   },
   {
    "duration": 39,
    "start_time": "2024-09-15T14:18:56.052Z"
   },
   {
    "duration": 3,
    "start_time": "2024-09-15T14:18:58.337Z"
   },
   {
    "duration": 14,
    "start_time": "2024-09-15T14:19:00.282Z"
   },
   {
    "duration": 10,
    "start_time": "2024-09-15T14:19:04.940Z"
   },
   {
    "duration": 2,
    "start_time": "2024-09-15T14:19:34.621Z"
   },
   {
    "duration": 16,
    "start_time": "2024-09-15T14:19:36.729Z"
   },
   {
    "duration": 9,
    "start_time": "2024-09-15T14:19:39.757Z"
   },
   {
    "duration": 49,
    "start_time": "2024-09-15T14:20:19.125Z"
   },
   {
    "duration": 42,
    "start_time": "2024-09-15T14:20:28.103Z"
   },
   {
    "duration": 3,
    "start_time": "2024-09-15T14:20:30.531Z"
   },
   {
    "duration": 13,
    "start_time": "2024-09-15T14:20:32.678Z"
   },
   {
    "duration": 9,
    "start_time": "2024-09-15T14:20:35.310Z"
   },
   {
    "duration": 45,
    "start_time": "2024-09-15T14:21:19.120Z"
   },
   {
    "duration": 2,
    "start_time": "2024-09-15T14:21:21.413Z"
   },
   {
    "duration": 14,
    "start_time": "2024-09-15T14:21:23.984Z"
   },
   {
    "duration": 11,
    "start_time": "2024-09-15T14:21:26.760Z"
   },
   {
    "duration": 10,
    "start_time": "2024-09-15T14:21:44.836Z"
   },
   {
    "duration": 548,
    "start_time": "2024-09-15T14:23:09.603Z"
   },
   {
    "duration": 657,
    "start_time": "2024-09-15T14:23:49.828Z"
   },
   {
    "duration": 665,
    "start_time": "2024-09-15T14:24:03.789Z"
   },
   {
    "duration": 610,
    "start_time": "2024-09-15T14:24:08.157Z"
   },
   {
    "duration": 10,
    "start_time": "2024-09-15T14:25:42.577Z"
   },
   {
    "duration": 21,
    "start_time": "2024-09-15T14:26:12.196Z"
   },
   {
    "duration": 14,
    "start_time": "2024-09-15T14:26:15.810Z"
   },
   {
    "duration": 9,
    "start_time": "2024-09-15T14:28:04.927Z"
   },
   {
    "duration": 3,
    "start_time": "2024-09-15T14:28:55.773Z"
   },
   {
    "duration": 47,
    "start_time": "2024-09-15T14:28:55.778Z"
   },
   {
    "duration": 3,
    "start_time": "2024-09-15T14:28:55.826Z"
   },
   {
    "duration": 17,
    "start_time": "2024-09-15T14:28:55.830Z"
   },
   {
    "duration": 10,
    "start_time": "2024-09-15T14:28:55.849Z"
   },
   {
    "duration": 610,
    "start_time": "2024-09-15T14:29:07.440Z"
   },
   {
    "duration": 592,
    "start_time": "2024-09-15T14:29:16.057Z"
   },
   {
    "duration": 10,
    "start_time": "2024-09-15T14:29:23.121Z"
   },
   {
    "duration": 9,
    "start_time": "2024-09-15T14:30:14.931Z"
   },
   {
    "duration": 78,
    "start_time": "2024-09-15T14:33:40.890Z"
   },
   {
    "duration": 7,
    "start_time": "2024-09-15T14:33:45.178Z"
   },
   {
    "duration": 9,
    "start_time": "2024-09-15T14:35:00.917Z"
   },
   {
    "duration": 10,
    "start_time": "2024-09-15T14:36:22.639Z"
   },
   {
    "duration": 6,
    "start_time": "2024-09-15T14:37:11.900Z"
   },
   {
    "duration": 1842,
    "start_time": "2024-09-15T14:37:16.026Z"
   },
   {
    "duration": 7,
    "start_time": "2024-09-15T14:37:53.870Z"
   },
   {
    "duration": 1757,
    "start_time": "2024-09-15T14:37:57.700Z"
   },
   {
    "duration": 7,
    "start_time": "2024-09-15T14:38:04.067Z"
   },
   {
    "duration": 1745,
    "start_time": "2024-09-15T14:38:05.931Z"
   },
   {
    "duration": 7,
    "start_time": "2024-09-15T14:41:47.580Z"
   },
   {
    "duration": 1645,
    "start_time": "2024-09-15T14:41:49.403Z"
   },
   {
    "duration": 9,
    "start_time": "2024-09-15T14:42:16.212Z"
   },
   {
    "duration": 1708,
    "start_time": "2024-09-15T14:42:18.076Z"
   },
   {
    "duration": 12,
    "start_time": "2024-09-15T14:44:37.370Z"
   },
   {
    "duration": 1594,
    "start_time": "2024-09-15T14:44:39.185Z"
   },
   {
    "duration": 9,
    "start_time": "2024-09-15T14:45:31.795Z"
   },
   {
    "duration": 8,
    "start_time": "2024-09-15T14:45:47.020Z"
   },
   {
    "duration": 7,
    "start_time": "2024-09-15T14:46:10.932Z"
   },
   {
    "duration": 1728,
    "start_time": "2024-09-15T14:46:13.349Z"
   },
   {
    "duration": 11,
    "start_time": "2024-09-15T14:46:22.733Z"
   },
   {
    "duration": 1548,
    "start_time": "2024-09-15T14:46:24.709Z"
   },
   {
    "duration": 9,
    "start_time": "2024-09-15T14:47:28.832Z"
   },
   {
    "duration": 1685,
    "start_time": "2024-09-15T14:47:30.962Z"
   },
   {
    "duration": 8,
    "start_time": "2024-09-15T14:47:46.003Z"
   },
   {
    "duration": 1650,
    "start_time": "2024-09-15T14:47:48.008Z"
   },
   {
    "duration": 10,
    "start_time": "2024-09-15T14:47:55.242Z"
   },
   {
    "duration": 1630,
    "start_time": "2024-09-15T14:47:56.976Z"
   },
   {
    "duration": 12,
    "start_time": "2024-09-15T14:48:11.977Z"
   },
   {
    "duration": 9,
    "start_time": "2024-09-15T14:48:19.441Z"
   },
   {
    "duration": 8,
    "start_time": "2024-09-15T14:48:59.898Z"
   },
   {
    "duration": 9,
    "start_time": "2024-09-15T14:49:04.584Z"
   },
   {
    "duration": 1698,
    "start_time": "2024-09-15T14:49:06.307Z"
   },
   {
    "duration": 96,
    "start_time": "2024-09-15T14:49:49.860Z"
   },
   {
    "duration": 5,
    "start_time": "2024-09-15T14:50:05.000Z"
   },
   {
    "duration": 11,
    "start_time": "2024-09-15T14:51:11.619Z"
   },
   {
    "duration": 582,
    "start_time": "2024-09-15T14:51:15.839Z"
   },
   {
    "duration": 9,
    "start_time": "2024-09-15T14:51:20.688Z"
   },
   {
    "duration": 1669,
    "start_time": "2024-09-15T14:51:22.976Z"
   },
   {
    "duration": 94,
    "start_time": "2024-09-15T14:51:30.064Z"
   },
   {
    "duration": 5,
    "start_time": "2024-09-15T14:51:32.704Z"
   },
   {
    "duration": 148,
    "start_time": "2024-09-15T14:52:42.938Z"
   },
   {
    "duration": 12,
    "start_time": "2024-09-15T14:53:13.875Z"
   },
   {
    "duration": 146,
    "start_time": "2024-09-15T14:53:47.286Z"
   },
   {
    "duration": 8,
    "start_time": "2024-09-15T14:54:03.317Z"
   },
   {
    "duration": 140,
    "start_time": "2024-09-15T14:54:49.769Z"
   },
   {
    "duration": 158,
    "start_time": "2024-09-15T14:55:24.081Z"
   },
   {
    "duration": 159,
    "start_time": "2024-09-15T14:55:52.178Z"
   },
   {
    "duration": 152,
    "start_time": "2024-09-15T14:56:05.826Z"
   },
   {
    "duration": 164,
    "start_time": "2024-09-15T14:56:50.062Z"
   },
   {
    "duration": 8,
    "start_time": "2024-09-15T14:58:03.398Z"
   },
   {
    "duration": 7,
    "start_time": "2024-09-15T14:58:16.959Z"
   },
   {
    "duration": 3,
    "start_time": "2024-09-15T14:59:25.623Z"
   },
   {
    "duration": 50,
    "start_time": "2024-09-15T14:59:25.627Z"
   },
   {
    "duration": 3,
    "start_time": "2024-09-15T14:59:25.678Z"
   },
   {
    "duration": 16,
    "start_time": "2024-09-15T14:59:25.682Z"
   },
   {
    "duration": 9,
    "start_time": "2024-09-15T14:59:29.809Z"
   },
   {
    "duration": 565,
    "start_time": "2024-09-15T14:59:38.418Z"
   },
   {
    "duration": 5,
    "start_time": "2024-09-15T14:59:53.127Z"
   },
   {
    "duration": 622,
    "start_time": "2024-09-15T14:59:55.161Z"
   },
   {
    "duration": 8,
    "start_time": "2024-09-15T15:00:03.986Z"
   },
   {
    "duration": 4,
    "start_time": "2024-09-15T15:00:06.602Z"
   },
   {
    "duration": 570,
    "start_time": "2024-09-15T15:00:10.290Z"
   },
   {
    "duration": 781,
    "start_time": "2024-09-15T15:03:48.850Z"
   },
   {
    "duration": 759,
    "start_time": "2024-09-15T15:03:55.706Z"
   },
   {
    "duration": 637,
    "start_time": "2024-09-15T15:04:02.555Z"
   },
   {
    "duration": 685,
    "start_time": "2024-09-15T15:04:25.468Z"
   },
   {
    "duration": 744,
    "start_time": "2024-09-15T15:04:33.445Z"
   },
   {
    "duration": 196,
    "start_time": "2024-09-15T15:04:52.636Z"
   },
   {
    "duration": 10,
    "start_time": "2024-09-15T15:10:24.912Z"
   },
   {
    "duration": 114,
    "start_time": "2024-09-15T15:12:04.884Z"
   },
   {
    "duration": 179,
    "start_time": "2024-09-15T15:12:17.002Z"
   },
   {
    "duration": 175,
    "start_time": "2024-09-15T15:12:21.709Z"
   },
   {
    "duration": 158,
    "start_time": "2024-09-15T15:12:27.324Z"
   },
   {
    "duration": 149,
    "start_time": "2024-09-15T15:13:04.029Z"
   },
   {
    "duration": 151,
    "start_time": "2024-09-15T15:13:23.831Z"
   },
   {
    "duration": 9,
    "start_time": "2024-09-15T15:14:05.387Z"
   },
   {
    "duration": 114,
    "start_time": "2024-09-15T15:14:09.368Z"
   },
   {
    "duration": 8,
    "start_time": "2024-09-15T15:21:54.681Z"
   },
   {
    "duration": 210,
    "start_time": "2024-09-15T15:22:01.995Z"
   },
   {
    "duration": 14,
    "start_time": "2024-09-15T15:22:06.322Z"
   },
   {
    "duration": 3,
    "start_time": "2024-09-15T15:22:17.041Z"
   },
   {
    "duration": 5,
    "start_time": "2024-09-15T15:22:20.677Z"
   },
   {
    "duration": 4,
    "start_time": "2024-09-15T15:22:31.131Z"
   },
   {
    "duration": 7,
    "start_time": "2024-09-15T15:22:38.357Z"
   },
   {
    "duration": 4,
    "start_time": "2024-09-15T15:23:07.402Z"
   },
   {
    "duration": 5,
    "start_time": "2024-09-15T15:23:09.438Z"
   },
   {
    "duration": 5,
    "start_time": "2024-09-15T15:24:08.989Z"
   },
   {
    "duration": 4,
    "start_time": "2024-09-15T15:24:12.773Z"
   },
   {
    "duration": 5,
    "start_time": "2024-09-15T15:24:26.494Z"
   },
   {
    "duration": 3,
    "start_time": "2024-09-15T15:25:16.839Z"
   },
   {
    "duration": 3,
    "start_time": "2024-09-15T15:25:18.884Z"
   },
   {
    "duration": 4,
    "start_time": "2024-09-15T15:25:32.809Z"
   },
   {
    "duration": 4,
    "start_time": "2024-09-15T15:27:09.387Z"
   },
   {
    "duration": 5,
    "start_time": "2024-09-15T15:27:14.294Z"
   },
   {
    "duration": 5,
    "start_time": "2024-09-15T15:27:27.795Z"
   },
   {
    "duration": 3,
    "start_time": "2024-09-15T15:27:29.916Z"
   },
   {
    "duration": 8,
    "start_time": "2024-09-15T15:31:45.702Z"
   },
   {
    "duration": 15,
    "start_time": "2024-09-15T15:31:50.816Z"
   },
   {
    "duration": 13,
    "start_time": "2024-09-15T15:32:02.902Z"
   },
   {
    "duration": 14,
    "start_time": "2024-09-15T15:32:16.622Z"
   },
   {
    "duration": 7,
    "start_time": "2024-09-15T15:33:47.626Z"
   },
   {
    "duration": 15,
    "start_time": "2024-09-15T15:33:52.762Z"
   },
   {
    "duration": 13,
    "start_time": "2024-09-15T15:34:37.603Z"
   },
   {
    "duration": 6,
    "start_time": "2024-09-15T15:35:08.316Z"
   },
   {
    "duration": 9,
    "start_time": "2024-09-15T15:35:12.188Z"
   },
   {
    "duration": 14,
    "start_time": "2024-09-15T15:35:19.921Z"
   },
   {
    "duration": 13,
    "start_time": "2024-09-15T15:35:25.775Z"
   },
   {
    "duration": 14,
    "start_time": "2024-09-15T15:35:27.028Z"
   },
   {
    "duration": 5,
    "start_time": "2024-09-15T15:35:35.047Z"
   },
   {
    "duration": 9,
    "start_time": "2024-09-15T15:35:37.605Z"
   },
   {
    "duration": 7,
    "start_time": "2024-09-15T15:35:49.870Z"
   },
   {
    "duration": 5,
    "start_time": "2024-09-15T15:35:51.733Z"
   },
   {
    "duration": 8,
    "start_time": "2024-09-15T15:35:53.581Z"
   },
   {
    "duration": 6,
    "start_time": "2024-09-15T15:36:10.622Z"
   },
   {
    "duration": 37,
    "start_time": "2024-09-15T15:53:19.033Z"
   },
   {
    "duration": 14,
    "start_time": "2024-09-15T15:54:00.698Z"
   },
   {
    "duration": 8,
    "start_time": "2024-09-15T15:54:14.867Z"
   },
   {
    "duration": 10,
    "start_time": "2024-09-15T15:55:18.294Z"
   },
   {
    "duration": 3,
    "start_time": "2024-09-15T15:55:49.775Z"
   },
   {
    "duration": 8,
    "start_time": "2024-09-15T15:55:51.976Z"
   },
   {
    "duration": 4,
    "start_time": "2024-09-15T15:56:19.385Z"
   },
   {
    "duration": 3,
    "start_time": "2024-09-15T15:56:25.216Z"
   },
   {
    "duration": 9,
    "start_time": "2024-09-15T15:56:44.044Z"
   },
   {
    "duration": 3,
    "start_time": "2024-09-15T15:57:15.106Z"
   },
   {
    "duration": 8,
    "start_time": "2024-09-15T15:57:19.570Z"
   },
   {
    "duration": 3,
    "start_time": "2024-09-15T15:58:18.428Z"
   },
   {
    "duration": 234,
    "start_time": "2024-09-15T15:58:39.182Z"
   },
   {
    "duration": 223,
    "start_time": "2024-09-15T15:59:19.542Z"
   },
   {
    "duration": 9,
    "start_time": "2024-09-15T16:04:30.826Z"
   },
   {
    "duration": 3,
    "start_time": "2024-09-15T16:05:52.775Z"
   },
   {
    "duration": 4,
    "start_time": "2024-09-15T16:06:49.095Z"
   },
   {
    "duration": 3,
    "start_time": "2024-09-15T16:08:36.177Z"
   },
   {
    "duration": 1297,
    "start_time": "2024-09-15T16:08:41.130Z"
   },
   {
    "duration": 47,
    "start_time": "2024-09-15T16:08:42.429Z"
   },
   {
    "duration": 17,
    "start_time": "2024-09-15T16:08:42.477Z"
   },
   {
    "duration": 13,
    "start_time": "2024-09-15T16:08:42.495Z"
   },
   {
    "duration": 239,
    "start_time": "2024-09-15T16:08:42.509Z"
   },
   {
    "duration": 107,
    "start_time": "2024-09-15T16:08:42.749Z"
   },
   {
    "duration": 0,
    "start_time": "2024-09-15T16:08:42.858Z"
   },
   {
    "duration": 0,
    "start_time": "2024-09-15T16:08:42.859Z"
   },
   {
    "duration": 0,
    "start_time": "2024-09-15T16:08:42.860Z"
   },
   {
    "duration": 0,
    "start_time": "2024-09-15T16:08:42.861Z"
   },
   {
    "duration": 0,
    "start_time": "2024-09-15T16:08:42.861Z"
   },
   {
    "duration": 0,
    "start_time": "2024-09-15T16:08:42.862Z"
   },
   {
    "duration": 0,
    "start_time": "2024-09-15T16:08:42.863Z"
   },
   {
    "duration": 0,
    "start_time": "2024-09-15T16:08:42.876Z"
   },
   {
    "duration": 1,
    "start_time": "2024-09-15T16:08:42.877Z"
   },
   {
    "duration": 0,
    "start_time": "2024-09-15T16:08:42.879Z"
   },
   {
    "duration": 196,
    "start_time": "2024-09-15T16:10:06.237Z"
   },
   {
    "duration": 1309,
    "start_time": "2024-09-15T16:10:13.596Z"
   },
   {
    "duration": 46,
    "start_time": "2024-09-15T16:10:14.906Z"
   },
   {
    "duration": 18,
    "start_time": "2024-09-15T16:10:14.953Z"
   },
   {
    "duration": 12,
    "start_time": "2024-09-15T16:10:14.972Z"
   },
   {
    "duration": 221,
    "start_time": "2024-09-15T16:10:14.986Z"
   },
   {
    "duration": 5,
    "start_time": "2024-09-15T16:10:15.208Z"
   },
   {
    "duration": 626,
    "start_time": "2024-09-15T16:10:15.214Z"
   },
   {
    "duration": 7,
    "start_time": "2024-09-15T16:10:15.842Z"
   },
   {
    "duration": 4,
    "start_time": "2024-09-15T16:10:15.851Z"
   },
   {
    "duration": 7,
    "start_time": "2024-09-15T16:10:15.856Z"
   },
   {
    "duration": 2,
    "start_time": "2024-09-15T16:10:15.865Z"
   },
   {
    "duration": 7,
    "start_time": "2024-09-15T16:10:15.868Z"
   },
   {
    "duration": 67,
    "start_time": "2024-09-15T16:10:15.877Z"
   },
   {
    "duration": 235,
    "start_time": "2024-09-15T16:10:15.946Z"
   },
   {
    "duration": 3,
    "start_time": "2024-09-15T16:10:16.183Z"
   },
   {
    "duration": 4,
    "start_time": "2024-09-15T16:10:16.187Z"
   },
   {
    "duration": 2074,
    "start_time": "2024-09-15T20:13:20.100Z"
   },
   {
    "duration": 177,
    "start_time": "2024-09-15T20:13:22.176Z"
   },
   {
    "duration": 18,
    "start_time": "2024-09-15T20:13:22.354Z"
   },
   {
    "duration": 13,
    "start_time": "2024-09-15T20:13:22.373Z"
   },
   {
    "duration": 251,
    "start_time": "2024-09-15T20:13:22.388Z"
   },
   {
    "duration": 5,
    "start_time": "2024-09-15T20:13:22.640Z"
   },
   {
    "duration": 654,
    "start_time": "2024-09-15T20:13:22.646Z"
   },
   {
    "duration": 13,
    "start_time": "2024-09-15T20:13:23.307Z"
   },
   {
    "duration": 436,
    "start_time": "2024-09-15T20:13:23.321Z"
   },
   {
    "duration": 1578,
    "start_time": "2024-09-17T17:29:16.010Z"
   },
   {
    "duration": 104,
    "start_time": "2024-09-17T17:29:17.590Z"
   },
   {
    "duration": 22,
    "start_time": "2024-09-17T17:29:17.695Z"
   },
   {
    "duration": 14,
    "start_time": "2024-09-17T17:29:17.718Z"
   },
   {
    "duration": 257,
    "start_time": "2024-09-17T17:29:17.734Z"
   },
   {
    "duration": 5,
    "start_time": "2024-09-17T17:29:17.993Z"
   },
   {
    "duration": 5,
    "start_time": "2024-09-17T17:29:21.150Z"
   },
   {
    "duration": 660,
    "start_time": "2024-09-17T17:29:22.919Z"
   },
   {
    "duration": 721,
    "start_time": "2024-09-17T17:29:32.819Z"
   },
   {
    "duration": 4,
    "start_time": "2024-09-17T17:29:54.072Z"
   },
   {
    "duration": 652,
    "start_time": "2024-09-17T17:29:55.752Z"
   },
   {
    "duration": 9,
    "start_time": "2024-09-17T17:31:35.763Z"
   },
   {
    "duration": 661,
    "start_time": "2024-09-17T17:31:37.595Z"
   },
   {
    "duration": 712,
    "start_time": "2024-09-17T17:31:53.860Z"
   },
   {
    "duration": 788,
    "start_time": "2024-09-17T17:32:31.009Z"
   },
   {
    "duration": 13,
    "start_time": "2024-09-17T17:34:28.418Z"
   },
   {
    "duration": 715,
    "start_time": "2024-09-17T17:34:30.309Z"
   },
   {
    "duration": 26,
    "start_time": "2024-09-17T17:34:51.066Z"
   },
   {
    "duration": 12,
    "start_time": "2024-09-17T17:35:01.604Z"
   },
   {
    "duration": 16,
    "start_time": "2024-09-17T17:35:05.410Z"
   },
   {
    "duration": 17,
    "start_time": "2024-09-17T17:35:25.539Z"
   },
   {
    "duration": 16,
    "start_time": "2024-09-17T17:35:32.530Z"
   },
   {
    "duration": 3,
    "start_time": "2024-09-17T17:35:36.505Z"
   },
   {
    "duration": 78,
    "start_time": "2024-09-17T17:35:36.510Z"
   },
   {
    "duration": 15,
    "start_time": "2024-09-17T17:35:36.589Z"
   },
   {
    "duration": 29,
    "start_time": "2024-09-17T17:35:36.606Z"
   },
   {
    "duration": 251,
    "start_time": "2024-09-17T17:35:36.637Z"
   },
   {
    "duration": 14,
    "start_time": "2024-09-17T17:35:40.172Z"
   },
   {
    "duration": 834,
    "start_time": "2024-09-17T17:35:42.236Z"
   },
   {
    "duration": 11,
    "start_time": "2024-09-17T17:36:27.598Z"
   },
   {
    "duration": 742,
    "start_time": "2024-09-17T17:36:29.445Z"
   },
   {
    "duration": 13,
    "start_time": "2024-09-17T17:36:48.095Z"
   },
   {
    "duration": 724,
    "start_time": "2024-09-17T17:36:50.183Z"
   },
   {
    "duration": 17,
    "start_time": "2024-09-17T17:37:19.898Z"
   },
   {
    "duration": 18,
    "start_time": "2024-09-17T17:37:23.360Z"
   },
   {
    "duration": 18,
    "start_time": "2024-09-17T17:38:20.705Z"
   },
   {
    "duration": 17,
    "start_time": "2024-09-17T17:38:32.762Z"
   },
   {
    "duration": 16,
    "start_time": "2024-09-17T17:38:53.931Z"
   },
   {
    "duration": 15,
    "start_time": "2024-09-17T17:39:01.733Z"
   },
   {
    "duration": 19,
    "start_time": "2024-09-17T17:39:06.783Z"
   },
   {
    "duration": 4,
    "start_time": "2024-09-17T17:39:44.767Z"
   },
   {
    "duration": 70,
    "start_time": "2024-09-17T17:39:44.772Z"
   },
   {
    "duration": 13,
    "start_time": "2024-09-17T17:39:44.843Z"
   },
   {
    "duration": 10,
    "start_time": "2024-09-17T17:39:44.858Z"
   },
   {
    "duration": 241,
    "start_time": "2024-09-17T17:39:44.870Z"
   },
   {
    "duration": 10,
    "start_time": "2024-09-17T17:39:48.414Z"
   },
   {
    "duration": 723,
    "start_time": "2024-09-17T17:39:50.796Z"
   },
   {
    "duration": 15,
    "start_time": "2024-09-17T17:40:04.376Z"
   },
   {
    "duration": 860,
    "start_time": "2024-09-17T17:40:06.152Z"
   },
   {
    "duration": 11,
    "start_time": "2024-09-17T17:41:08.424Z"
   },
   {
    "duration": 732,
    "start_time": "2024-09-17T17:41:10.144Z"
   },
   {
    "duration": 12,
    "start_time": "2024-09-17T17:41:40.593Z"
   },
   {
    "duration": 950,
    "start_time": "2024-09-17T17:41:42.376Z"
   },
   {
    "duration": 4,
    "start_time": "2024-09-17T17:42:27.914Z"
   },
   {
    "duration": 74,
    "start_time": "2024-09-17T17:42:27.920Z"
   },
   {
    "duration": 15,
    "start_time": "2024-09-17T17:42:27.995Z"
   },
   {
    "duration": 13,
    "start_time": "2024-09-17T17:42:28.012Z"
   },
   {
    "duration": 233,
    "start_time": "2024-09-17T17:42:28.028Z"
   },
   {
    "duration": 15,
    "start_time": "2024-09-17T17:42:39.104Z"
   },
   {
    "duration": 1021,
    "start_time": "2024-09-17T17:42:40.955Z"
   },
   {
    "duration": 4,
    "start_time": "2024-09-17T17:43:41.007Z"
   },
   {
    "duration": 63,
    "start_time": "2024-09-17T17:43:41.012Z"
   },
   {
    "duration": 15,
    "start_time": "2024-09-17T17:43:41.077Z"
   },
   {
    "duration": 12,
    "start_time": "2024-09-17T17:43:41.093Z"
   },
   {
    "duration": 237,
    "start_time": "2024-09-17T17:43:41.107Z"
   },
   {
    "duration": 15,
    "start_time": "2024-09-17T17:43:45.673Z"
   },
   {
    "duration": 911,
    "start_time": "2024-09-17T17:43:47.416Z"
   },
   {
    "duration": 5,
    "start_time": "2024-09-17T17:44:26.402Z"
   },
   {
    "duration": 76,
    "start_time": "2024-09-17T17:44:26.410Z"
   },
   {
    "duration": 17,
    "start_time": "2024-09-17T17:44:26.488Z"
   },
   {
    "duration": 37,
    "start_time": "2024-09-17T17:44:26.507Z"
   },
   {
    "duration": 228,
    "start_time": "2024-09-17T17:44:26.546Z"
   },
   {
    "duration": 11,
    "start_time": "2024-09-17T17:44:26.775Z"
   },
   {
    "duration": 907,
    "start_time": "2024-09-17T17:44:28.566Z"
   },
   {
    "duration": 12,
    "start_time": "2024-09-17T17:45:06.977Z"
   },
   {
    "duration": 717,
    "start_time": "2024-09-17T17:45:08.864Z"
   },
   {
    "duration": 3,
    "start_time": "2024-09-17T17:45:29.427Z"
   },
   {
    "duration": 51,
    "start_time": "2024-09-17T17:45:29.433Z"
   },
   {
    "duration": 17,
    "start_time": "2024-09-17T17:45:29.485Z"
   },
   {
    "duration": 14,
    "start_time": "2024-09-17T17:45:29.504Z"
   },
   {
    "duration": 254,
    "start_time": "2024-09-17T17:45:29.520Z"
   },
   {
    "duration": 11,
    "start_time": "2024-09-17T17:45:29.776Z"
   },
   {
    "duration": 691,
    "start_time": "2024-09-17T17:45:31.537Z"
   },
   {
    "duration": 83,
    "start_time": "2024-09-17T18:02:02.109Z"
   },
   {
    "duration": 84,
    "start_time": "2024-09-17T18:09:17.228Z"
   },
   {
    "duration": 5,
    "start_time": "2024-09-17T18:09:20.876Z"
   },
   {
    "duration": 20,
    "start_time": "2024-09-17T18:12:46.596Z"
   },
   {
    "duration": 4,
    "start_time": "2024-09-17T18:13:00.347Z"
   },
   {
    "duration": 16,
    "start_time": "2024-09-17T18:13:02.589Z"
   },
   {
    "duration": 4,
    "start_time": "2024-09-17T18:14:30.545Z"
   },
   {
    "duration": 83,
    "start_time": "2024-09-17T18:14:30.550Z"
   },
   {
    "duration": 17,
    "start_time": "2024-09-17T18:14:30.634Z"
   },
   {
    "duration": 40,
    "start_time": "2024-09-17T18:14:30.653Z"
   },
   {
    "duration": 320,
    "start_time": "2024-09-17T18:14:30.696Z"
   },
   {
    "duration": 12,
    "start_time": "2024-09-17T18:14:31.018Z"
   },
   {
    "duration": 844,
    "start_time": "2024-09-17T18:14:31.031Z"
   },
   {
    "duration": 6,
    "start_time": "2024-09-17T18:14:31.877Z"
   },
   {
    "duration": 4,
    "start_time": "2024-09-17T18:14:34.582Z"
   },
   {
    "duration": 18,
    "start_time": "2024-09-17T18:14:43.198Z"
   },
   {
    "duration": 18,
    "start_time": "2024-09-17T18:14:54.006Z"
   },
   {
    "duration": 17,
    "start_time": "2024-09-17T18:16:13.626Z"
   },
   {
    "duration": 18,
    "start_time": "2024-09-17T18:20:45.067Z"
   },
   {
    "duration": 4,
    "start_time": "2024-09-17T18:23:33.840Z"
   },
   {
    "duration": 66,
    "start_time": "2024-09-17T18:23:33.845Z"
   },
   {
    "duration": 15,
    "start_time": "2024-09-17T18:23:33.913Z"
   },
   {
    "duration": 14,
    "start_time": "2024-09-17T18:23:33.930Z"
   },
   {
    "duration": 240,
    "start_time": "2024-09-17T18:23:33.947Z"
   },
   {
    "duration": 12,
    "start_time": "2024-09-17T18:23:34.189Z"
   },
   {
    "duration": 747,
    "start_time": "2024-09-17T18:23:34.202Z"
   },
   {
    "duration": 18,
    "start_time": "2024-09-17T18:23:40.675Z"
   },
   {
    "duration": 18,
    "start_time": "2024-09-17T18:25:07.333Z"
   },
   {
    "duration": 16,
    "start_time": "2024-09-17T18:25:14.839Z"
   },
   {
    "duration": 2,
    "start_time": "2024-09-17T18:25:49.232Z"
   },
   {
    "duration": 1136,
    "start_time": "2024-09-17T18:26:04.591Z"
   },
   {
    "duration": 23,
    "start_time": "2024-09-17T18:26:19.016Z"
   },
   {
    "duration": 18,
    "start_time": "2024-09-17T18:27:33.204Z"
   },
   {
    "duration": 26,
    "start_time": "2024-09-17T18:28:11.388Z"
   },
   {
    "duration": 4,
    "start_time": "2024-09-17T18:37:39.380Z"
   },
   {
    "duration": 54,
    "start_time": "2024-09-17T18:37:39.386Z"
   },
   {
    "duration": 16,
    "start_time": "2024-09-17T18:37:39.442Z"
   },
   {
    "duration": 14,
    "start_time": "2024-09-17T18:37:39.459Z"
   },
   {
    "duration": 243,
    "start_time": "2024-09-17T18:37:39.475Z"
   },
   {
    "duration": 11,
    "start_time": "2024-09-17T18:37:39.720Z"
   },
   {
    "duration": 753,
    "start_time": "2024-09-17T18:37:39.732Z"
   },
   {
    "duration": 23,
    "start_time": "2024-09-17T18:37:43.345Z"
   },
   {
    "duration": 10,
    "start_time": "2024-09-17T18:38:10.873Z"
   },
   {
    "duration": 4,
    "start_time": "2024-09-17T18:38:29.994Z"
   },
   {
    "duration": 83,
    "start_time": "2024-09-17T18:38:30.001Z"
   },
   {
    "duration": 15,
    "start_time": "2024-09-17T18:38:30.085Z"
   },
   {
    "duration": 44,
    "start_time": "2024-09-17T18:38:30.101Z"
   },
   {
    "duration": 372,
    "start_time": "2024-09-17T18:38:30.147Z"
   },
   {
    "duration": 11,
    "start_time": "2024-09-17T18:38:30.521Z"
   },
   {
    "duration": 778,
    "start_time": "2024-09-17T18:38:30.534Z"
   },
   {
    "duration": 22,
    "start_time": "2024-09-17T18:38:31.314Z"
   },
   {
    "duration": 27,
    "start_time": "2024-09-17T18:38:31.337Z"
   },
   {
    "duration": 378,
    "start_time": "2024-09-17T18:38:31.365Z"
   },
   {
    "duration": 12,
    "start_time": "2024-09-17T18:38:31.745Z"
   },
   {
    "duration": 20,
    "start_time": "2024-09-17T18:38:31.758Z"
   },
   {
    "duration": 17,
    "start_time": "2024-09-17T18:38:31.779Z"
   },
   {
    "duration": 16,
    "start_time": "2024-09-17T18:38:31.798Z"
   },
   {
    "duration": 34,
    "start_time": "2024-09-17T18:38:31.815Z"
   },
   {
    "duration": 224,
    "start_time": "2024-09-17T18:38:31.851Z"
   },
   {
    "duration": 0,
    "start_time": "2024-09-17T18:38:32.077Z"
   },
   {
    "duration": 0,
    "start_time": "2024-09-17T18:38:32.078Z"
   },
   {
    "duration": 1383,
    "start_time": "2024-09-17T18:38:50.415Z"
   },
   {
    "duration": 52,
    "start_time": "2024-09-17T18:38:51.800Z"
   },
   {
    "duration": 20,
    "start_time": "2024-09-17T18:38:51.853Z"
   },
   {
    "duration": 14,
    "start_time": "2024-09-17T18:39:02.651Z"
   },
   {
    "duration": 10,
    "start_time": "2024-09-17T18:39:04.986Z"
   },
   {
    "duration": 12,
    "start_time": "2024-09-17T18:40:13.460Z"
   },
   {
    "duration": 743,
    "start_time": "2024-09-17T18:40:15.700Z"
   },
   {
    "duration": 9,
    "start_time": "2024-09-17T18:40:25.926Z"
   },
   {
    "duration": 26,
    "start_time": "2024-09-17T18:40:32.213Z"
   },
   {
    "duration": 3,
    "start_time": "2024-09-17T18:41:47.345Z"
   },
   {
    "duration": 7,
    "start_time": "2024-09-17T18:41:53.741Z"
   },
   {
    "duration": 10,
    "start_time": "2024-09-17T18:41:57.139Z"
   },
   {
    "duration": 3,
    "start_time": "2024-09-17T18:42:00.680Z"
   },
   {
    "duration": 2,
    "start_time": "2024-09-17T18:42:03.168Z"
   },
   {
    "duration": 3,
    "start_time": "2024-09-17T18:42:05.007Z"
   },
   {
    "duration": 335,
    "start_time": "2024-09-17T18:42:35.410Z"
   },
   {
    "duration": 4,
    "start_time": "2024-09-17T18:42:51.070Z"
   },
   {
    "duration": 53,
    "start_time": "2024-09-17T18:42:51.075Z"
   },
   {
    "duration": 15,
    "start_time": "2024-09-17T18:42:51.129Z"
   },
   {
    "duration": 12,
    "start_time": "2024-09-17T18:42:51.145Z"
   },
   {
    "duration": 316,
    "start_time": "2024-09-17T18:42:51.158Z"
   },
   {
    "duration": 11,
    "start_time": "2024-09-17T18:42:51.475Z"
   },
   {
    "duration": 710,
    "start_time": "2024-09-17T18:42:51.488Z"
   },
   {
    "duration": 24,
    "start_time": "2024-09-17T18:42:52.199Z"
   },
   {
    "duration": 3,
    "start_time": "2024-09-17T18:42:52.224Z"
   },
   {
    "duration": 400,
    "start_time": "2024-09-17T18:42:52.229Z"
   },
   {
    "duration": 6,
    "start_time": "2024-09-17T18:42:52.631Z"
   },
   {
    "duration": 18,
    "start_time": "2024-09-17T18:42:52.639Z"
   },
   {
    "duration": 23,
    "start_time": "2024-09-17T18:42:52.658Z"
   },
   {
    "duration": 5,
    "start_time": "2024-09-17T18:42:52.682Z"
   },
   {
    "duration": 24,
    "start_time": "2024-09-17T18:42:52.689Z"
   },
   {
    "duration": 223,
    "start_time": "2024-09-17T18:42:55.149Z"
   },
   {
    "duration": 4,
    "start_time": "2024-09-17T18:43:46.704Z"
   },
   {
    "duration": 76,
    "start_time": "2024-09-17T18:43:46.710Z"
   },
   {
    "duration": 14,
    "start_time": "2024-09-17T18:43:46.788Z"
   },
   {
    "duration": 13,
    "start_time": "2024-09-17T18:43:46.803Z"
   },
   {
    "duration": 238,
    "start_time": "2024-09-17T18:43:46.818Z"
   },
   {
    "duration": 12,
    "start_time": "2024-09-17T18:43:47.058Z"
   },
   {
    "duration": 725,
    "start_time": "2024-09-17T18:43:47.071Z"
   },
   {
    "duration": 21,
    "start_time": "2024-09-17T18:43:47.798Z"
   },
   {
    "duration": 18,
    "start_time": "2024-09-17T18:43:53.980Z"
   },
   {
    "duration": 6,
    "start_time": "2024-09-17T18:47:21.924Z"
   },
   {
    "duration": 4,
    "start_time": "2024-09-17T18:47:45.539Z"
   },
   {
    "duration": 58,
    "start_time": "2024-09-17T18:47:45.545Z"
   },
   {
    "duration": 18,
    "start_time": "2024-09-17T18:47:45.604Z"
   },
   {
    "duration": 13,
    "start_time": "2024-09-17T18:47:45.624Z"
   },
   {
    "duration": 224,
    "start_time": "2024-09-17T18:47:45.639Z"
   },
   {
    "duration": 11,
    "start_time": "2024-09-17T18:47:45.865Z"
   },
   {
    "duration": 838,
    "start_time": "2024-09-17T18:47:45.877Z"
   },
   {
    "duration": 24,
    "start_time": "2024-09-17T18:47:46.716Z"
   },
   {
    "duration": 18,
    "start_time": "2024-09-17T18:47:46.753Z"
   },
   {
    "duration": 364,
    "start_time": "2024-09-17T18:47:46.772Z"
   },
   {
    "duration": 15,
    "start_time": "2024-09-17T18:47:47.138Z"
   },
   {
    "duration": 21,
    "start_time": "2024-09-17T18:47:47.154Z"
   },
   {
    "duration": 0,
    "start_time": "2024-09-17T18:47:47.177Z"
   },
   {
    "duration": 0,
    "start_time": "2024-09-17T18:47:47.179Z"
   },
   {
    "duration": 0,
    "start_time": "2024-09-17T18:47:47.180Z"
   },
   {
    "duration": 207,
    "start_time": "2024-09-17T18:47:49.378Z"
   },
   {
    "duration": 8,
    "start_time": "2024-09-17T18:49:15.191Z"
   },
   {
    "duration": 5,
    "start_time": "2024-09-17T18:49:22.851Z"
   },
   {
    "duration": 54,
    "start_time": "2024-09-17T18:49:22.858Z"
   },
   {
    "duration": 16,
    "start_time": "2024-09-17T18:49:22.913Z"
   },
   {
    "duration": 15,
    "start_time": "2024-09-17T18:49:22.932Z"
   },
   {
    "duration": 230,
    "start_time": "2024-09-17T18:49:22.950Z"
   },
   {
    "duration": 11,
    "start_time": "2024-09-17T18:49:23.182Z"
   },
   {
    "duration": 708,
    "start_time": "2024-09-17T18:49:23.195Z"
   },
   {
    "duration": 23,
    "start_time": "2024-09-17T18:49:23.905Z"
   },
   {
    "duration": 31,
    "start_time": "2024-09-17T18:49:23.929Z"
   },
   {
    "duration": 306,
    "start_time": "2024-09-17T18:49:23.962Z"
   },
   {
    "duration": 6,
    "start_time": "2024-09-17T18:49:24.270Z"
   },
   {
    "duration": 13,
    "start_time": "2024-09-17T18:49:24.277Z"
   },
   {
    "duration": 4,
    "start_time": "2024-09-17T18:49:24.292Z"
   },
   {
    "duration": 14,
    "start_time": "2024-09-17T18:49:24.298Z"
   },
   {
    "duration": 5,
    "start_time": "2024-09-17T18:49:24.313Z"
   },
   {
    "duration": 351,
    "start_time": "2024-09-17T18:49:29.212Z"
   },
   {
    "duration": 2,
    "start_time": "2024-09-17T18:50:25.450Z"
   },
   {
    "duration": 2295,
    "start_time": "2024-09-17T18:56:52.938Z"
   },
   {
    "duration": 1360,
    "start_time": "2024-09-17T18:57:30.950Z"
   },
   {
    "duration": 1292,
    "start_time": "2024-09-17T18:57:42.707Z"
   },
   {
    "duration": 4,
    "start_time": "2024-09-17T18:58:37.423Z"
   },
   {
    "duration": 63,
    "start_time": "2024-09-17T18:58:37.429Z"
   },
   {
    "duration": 14,
    "start_time": "2024-09-17T18:58:37.494Z"
   },
   {
    "duration": 29,
    "start_time": "2024-09-17T18:58:37.510Z"
   },
   {
    "duration": 223,
    "start_time": "2024-09-17T18:58:37.542Z"
   },
   {
    "duration": 10,
    "start_time": "2024-09-17T18:58:37.767Z"
   },
   {
    "duration": 839,
    "start_time": "2024-09-17T18:58:37.779Z"
   },
   {
    "duration": 3,
    "start_time": "2024-09-17T18:58:38.620Z"
   },
   {
    "duration": 104,
    "start_time": "2024-09-17T18:58:38.624Z"
   },
   {
    "duration": 1915,
    "start_time": "2024-09-17T18:58:47.996Z"
   },
   {
    "duration": 1952,
    "start_time": "2024-09-17T18:59:01.382Z"
   },
   {
    "duration": 2513,
    "start_time": "2024-09-17T18:59:25.425Z"
   },
   {
    "duration": 4436,
    "start_time": "2024-09-17T19:01:11.369Z"
   },
   {
    "duration": 4,
    "start_time": "2024-09-17T19:06:11.283Z"
   },
   {
    "duration": 3,
    "start_time": "2024-09-17T19:06:21.787Z"
   },
   {
    "duration": 5,
    "start_time": "2024-09-17T19:07:30.333Z"
   },
   {
    "duration": 73,
    "start_time": "2024-09-17T19:07:30.340Z"
   },
   {
    "duration": 15,
    "start_time": "2024-09-17T19:07:30.415Z"
   },
   {
    "duration": 23,
    "start_time": "2024-09-17T19:07:30.432Z"
   },
   {
    "duration": 252,
    "start_time": "2024-09-17T19:07:30.457Z"
   },
   {
    "duration": 11,
    "start_time": "2024-09-17T19:07:30.711Z"
   },
   {
    "duration": 855,
    "start_time": "2024-09-17T19:07:30.724Z"
   },
   {
    "duration": 2,
    "start_time": "2024-09-17T19:07:31.581Z"
   },
   {
    "duration": 29,
    "start_time": "2024-09-17T19:07:31.585Z"
   },
   {
    "duration": 3993,
    "start_time": "2024-09-17T19:07:31.616Z"
   },
   {
    "duration": 5,
    "start_time": "2024-09-17T19:07:35.611Z"
   },
   {
    "duration": 55,
    "start_time": "2024-09-17T19:07:35.618Z"
   },
   {
    "duration": 9,
    "start_time": "2024-09-17T19:07:35.675Z"
   },
   {
    "duration": 34,
    "start_time": "2024-09-17T19:07:35.687Z"
   },
   {
    "duration": 26,
    "start_time": "2024-09-17T19:07:35.723Z"
   },
   {
    "duration": 173,
    "start_time": "2024-09-17T19:07:35.751Z"
   },
   {
    "duration": 5,
    "start_time": "2024-09-17T19:07:52.280Z"
   },
   {
    "duration": 10,
    "start_time": "2024-09-17T19:12:16.088Z"
   },
   {
    "duration": 69,
    "start_time": "2024-09-17T19:13:42.070Z"
   },
   {
    "duration": 106,
    "start_time": "2024-09-17T19:13:47.934Z"
   },
   {
    "duration": 144,
    "start_time": "2024-09-17T19:13:54.243Z"
   },
   {
    "duration": 4,
    "start_time": "2024-09-17T19:14:17.612Z"
   },
   {
    "duration": 63,
    "start_time": "2024-09-17T19:14:17.617Z"
   },
   {
    "duration": 16,
    "start_time": "2024-09-17T19:14:17.682Z"
   },
   {
    "duration": 12,
    "start_time": "2024-09-17T19:14:17.700Z"
   },
   {
    "duration": 288,
    "start_time": "2024-09-17T19:14:17.713Z"
   },
   {
    "duration": 16,
    "start_time": "2024-09-17T19:14:18.003Z"
   },
   {
    "duration": 760,
    "start_time": "2024-09-17T19:14:18.021Z"
   },
   {
    "duration": 3,
    "start_time": "2024-09-17T19:14:18.782Z"
   },
   {
    "duration": 115,
    "start_time": "2024-09-17T19:14:18.786Z"
   },
   {
    "duration": 7405,
    "start_time": "2024-09-17T19:14:18.903Z"
   },
   {
    "duration": 15,
    "start_time": "2024-09-17T19:14:26.310Z"
   },
   {
    "duration": 108,
    "start_time": "2024-09-17T19:14:26.327Z"
   },
   {
    "duration": 3,
    "start_time": "2024-09-17T19:14:26.437Z"
   },
   {
    "duration": 13,
    "start_time": "2024-09-17T19:14:26.442Z"
   },
   {
    "duration": 6,
    "start_time": "2024-09-17T19:14:26.456Z"
   },
   {
    "duration": 410,
    "start_time": "2024-09-17T19:14:26.463Z"
   },
   {
    "duration": 4,
    "start_time": "2024-09-17T19:14:36.103Z"
   },
   {
    "duration": 3,
    "start_time": "2024-09-17T19:15:58.887Z"
   },
   {
    "duration": 738,
    "start_time": "2024-09-17T19:16:02.215Z"
   },
   {
    "duration": 5,
    "start_time": "2024-09-17T19:16:06.096Z"
   },
   {
    "duration": 5,
    "start_time": "2024-09-17T19:17:20.314Z"
   },
   {
    "duration": 11,
    "start_time": "2024-09-17T19:17:41.974Z"
   },
   {
    "duration": 3,
    "start_time": "2024-09-17T19:17:47.755Z"
   },
   {
    "duration": 110294,
    "start_time": "2024-09-17T19:17:51.060Z"
   },
   {
    "duration": 10,
    "start_time": "2024-09-17T19:20:22.772Z"
   },
   {
    "duration": 10,
    "start_time": "2024-09-17T19:20:34.057Z"
   },
   {
    "duration": 10,
    "start_time": "2024-09-17T19:20:43.737Z"
   },
   {
    "duration": 4,
    "start_time": "2024-09-17T19:20:49.860Z"
   },
   {
    "duration": 30256,
    "start_time": "2024-09-17T19:20:53.204Z"
   },
   {
    "duration": 110828,
    "start_time": "2024-09-17T19:21:51.028Z"
   },
   {
    "duration": 10,
    "start_time": "2024-09-17T19:23:48.108Z"
   },
   {
    "duration": 1423,
    "start_time": "2024-09-17T19:26:33.676Z"
   },
   {
    "duration": 63,
    "start_time": "2024-09-17T19:26:35.101Z"
   },
   {
    "duration": 20,
    "start_time": "2024-09-17T19:26:35.166Z"
   },
   {
    "duration": 21,
    "start_time": "2024-09-17T19:26:35.188Z"
   },
   {
    "duration": 273,
    "start_time": "2024-09-17T19:26:35.211Z"
   },
   {
    "duration": 14,
    "start_time": "2024-09-17T19:26:35.486Z"
   },
   {
    "duration": 779,
    "start_time": "2024-09-17T19:26:35.501Z"
   },
   {
    "duration": 3,
    "start_time": "2024-09-17T19:26:36.281Z"
   },
   {
    "duration": 204,
    "start_time": "2024-09-17T19:26:36.286Z"
   },
   {
    "duration": 4315,
    "start_time": "2024-09-17T19:26:36.492Z"
   },
   {
    "duration": 18,
    "start_time": "2024-09-17T19:26:40.808Z"
   },
   {
    "duration": 102,
    "start_time": "2024-09-17T19:26:40.828Z"
   },
   {
    "duration": 4,
    "start_time": "2024-09-17T19:26:40.932Z"
   },
   {
    "duration": 18,
    "start_time": "2024-09-17T19:26:40.937Z"
   },
   {
    "duration": 6,
    "start_time": "2024-09-17T19:26:40.957Z"
   },
   {
    "duration": 108589,
    "start_time": "2024-09-17T19:26:40.964Z"
   },
   {
    "duration": 5,
    "start_time": "2024-09-17T19:28:29.555Z"
   },
   {
    "duration": 87,
    "start_time": "2024-09-17T19:28:29.568Z"
   }
  ],
  "kernelspec": {
   "display_name": "Python 3 (ipykernel)",
   "language": "python",
   "name": "python3"
  },
  "language_info": {
   "codemirror_mode": {
    "name": "ipython",
    "version": 3
   },
   "file_extension": ".py",
   "mimetype": "text/x-python",
   "name": "python",
   "nbconvert_exporter": "python",
   "pygments_lexer": "ipython3",
   "version": "3.9.5"
  },
  "toc": {
   "base_numbering": 1,
   "nav_menu": {},
   "number_sections": true,
   "sideBar": true,
   "skip_h1_title": true,
   "title_cell": "Содержание",
   "title_sidebar": "Contents",
   "toc_cell": true,
   "toc_position": {},
   "toc_section_display": true,
   "toc_window_display": true
  }
 },
 "nbformat": 4,
 "nbformat_minor": 2
}
